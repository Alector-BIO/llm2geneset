{
 "cells": [
  {
   "cell_type": "code",
   "execution_count": 122,
   "id": "6c696411-61e5-4685-9783-9340e764ed96",
   "metadata": {},
   "outputs": [],
   "source": [
    "from rouge_score import rouge_scorer\n",
    "import llm2geneset\n",
    "import json\n",
    "import openai\n",
    "import numpy as np\n",
    "import random\n",
    "import pandas as pd\n",
    "\n",
    "aclient = openai.AsyncClient()"
   ]
  },
  {
   "cell_type": "markdown",
   "id": "4bb1cfab-c1ff-4aa1-a23e-a51137250619",
   "metadata": {},
   "source": [
    "# ROUGE metric example"
   ]
  },
  {
   "cell_type": "code",
   "execution_count": 2,
   "id": "d32908f9-a87f-4e16-bcf3-e6154fb7b929",
   "metadata": {},
   "outputs": [],
   "source": [
    "#rouge1 : unigram\n",
    "#rouge2 : bigram\n",
    "#rougeL : longest common subsequence \n",
    "scorer = rouge_scorer.RougeScorer(['rouge1','rouge2', 'rougeL'], use_stemmer=True)\n",
    "scores = scorer.score('The quick brown fox jumps over the lazy dog',\n",
    "                      'The quick brown dog jumps on the log.')"
   ]
  },
  {
   "cell_type": "code",
   "execution_count": 3,
   "id": "571ecd9a-2a2a-4c3f-9709-4fd0cbb2c04f",
   "metadata": {},
   "outputs": [
    {
     "data": {
      "text/plain": [
       "{'rouge1': Score(precision=0.75, recall=0.6666666666666666, fmeasure=0.7058823529411765),\n",
       " 'rouge2': Score(precision=0.2857142857142857, recall=0.25, fmeasure=0.26666666666666666),\n",
       " 'rougeL': Score(precision=0.625, recall=0.5555555555555556, fmeasure=0.5882352941176471)}"
      ]
     },
     "execution_count": 3,
     "metadata": {},
     "output_type": "execute_result"
    }
   ],
   "source": [
    "scores"
   ]
  },
  {
   "cell_type": "code",
   "execution_count": 4,
   "id": "351e065f-6492-4fbe-b051-3dd96139e2cf",
   "metadata": {},
   "outputs": [],
   "source": [
    "lib_names = [\"KEGG_2021_Human\", \n",
    "             \"Reactome_2022\", \n",
    "             \"WikiPathway_2023_Human\"]\n",
    "lib_names = [\"KEGG_2021_Human\"]"
   ]
  },
  {
   "cell_type": "code",
   "execution_count": 127,
   "id": "87defc31-c817-4c09-880f-ad8c28bc065c",
   "metadata": {
    "scrolled": true
   },
   "outputs": [
    {
     "name": "stderr",
     "output_type": "stream",
     "text": [
      "100%|█████████████████████████████████████████████| 1/1 [00:10<00:00, 10.19s/it]\n",
      "100%|█████████████████████████████████████████████| 1/1 [00:17<00:00, 17.11s/it]\n"
     ]
    },
    {
     "name": "stdout",
     "output_type": "stream",
     "text": [
      "Name: Immune Response Regulation and Signaling\n",
      "LLM self-assessed confidence: 0.92\n",
      "\n",
      "The system of interacting proteins provided is heavily involved in the regulation and signaling associated with immune responses. Below is the detailed analysis of how these proteins interact and function within this biological process:\n",
      "\n",
      "1. **Cytokine Signaling and Regulation**:\n",
      "   - *Interleukins and Receptors*: Proteins such as IL2 (and its receptors IL2RA, IL2RB, and IL2RG), IL4 (and IL4R), IL6 (and IL6R and IL6ST), IL18, IL21 (and IL21R), IL23A (and IL23R), IL27RA, and others, mediate various signaling pathways crucial for immune response modulation.\n",
      "   - *Interferons and Receptors*: Proteins like IFNG, IFNB1, and multiple IFNA isoforms (IFNA1, IFNA2, IFNA5, IFNA6, IFNA7, IFNA8, IFNA10, IFNA13, IFNA14, IFNA16, IFNA17, IFNA21) along with their receptors (IFNGR1, IFNGR2) play significant roles in antiviral responses and immune regulation.\n",
      "   - *Tumor Necrosis Factor*: TNF signaling mediated by proteins like MAPK8, MAPK9, MAPK10, MAPK11, MAPK12, MAPK13, and MAPK14 contributes to inflammatory responses.\n",
      "   - *Transforming Growth Factor (TGF)*: TGFBR1, TGFBR2, and TGFB1 are involved in immune modulation and tolerance mechanisms.\n",
      "\n",
      "2. **Transcription Factors and Gene Regulation**:\n",
      "   - *STAT Proteins*: STAT1, STAT3, STAT5A/B, STAT6 are crucial for transducing signals from cytokines to effect transcriptional changes in the nucleus.\n",
      "   - *NF-κB Pathway*: Proteins such as NFKB1, NFKBIA/B/E, NFKBIE, IKBKB/G/E, RELA regulate the transcription of genes involved in immune responses.\n",
      "   - *SMAD Proteins*: SMAD2, SMAD3, SMAD4 act in TGF-beta signaling pathways influencing immune response regulation.\n",
      "\n",
      "3. **Adaptive Immune Response**:\n",
      "   - *T-Cell Receptors and Related Proteins*: CD3D/E/G, CD4, CD247 are essential components of the T-cell receptor complex, initiating signaling cascades crucial for adaptive immunity.\n",
      "   - *Signaling Adapters and Modifiers*: LAT, ZAP70 are involved in T-cell receptor signaling pathways.\n",
      "   - *Transcription Factors Specific to T-cells*: TBX21, GATA3, RORC, NFATC1/2/3, and FOXP3 play critical roles in T-cell differentiation and function.\n",
      "\n",
      "4. **Innate Immune Response**:\n",
      "   - *Pattern Recognition Receptors*: Proteins like DDX58 (RIG-I), ZBP1, AIM2, CGAS, and STING1 are involved in detecting pathogens and initiating innate immune responses.\n",
      "   - *Inflammasome Components*: CASP1, PYCARD (ASC) are crucial for the assembly of the inflammasome and subsequent inflammatory cytokine production.\n",
      "\n",
      "5. **General Immune Modulatory Components**:\n",
      "   - *Heat Shock Proteins*: HSP90AA1 and HSP90AB1 contribute to the folding and stability of numerous proteins involved in immune responses.\n",
      "   - *Chemokines*: CCL4L1, CCL4L2, CCL5, CXCL10 guide the movement of immune cells to sites of infection or inflammation.\n",
      "   - *JAK/STAT Pathway*: JAK1, JAK2, JAK3, TYK2 are key players in cytokine receptor signaling.\n",
      "   - *Regulatory Proteins and Complexes*: Proteins like mTOR, FOXP3, and the calcineurin subunits (PPP3 family) are central in modulating various aspects of immune cell activation and function.\n",
      "\n",
      "6. **Major Histocompatibility Complex (MHC) Proteins**:\n",
      "   - *MHC Class II*: HLA-DQA1/2, HLA-DPA1, HLA-DQB1, HLA-DMA/B, HLA-DRB1/3/4/5, HLA-DOB/A, HLA-DPB1, and HLA-DRA are involved in presenting antigens to T-cells, crucial for initiating adaptive immune responses.\n",
      "\n",
      "7. **Polymerase Complexes Associated with Immune Gene Expression**:\n",
      "   - *RNA Polymerases*: POLR1 (A/C/D), POLR2 (A/E/F/H/K/L), POLR3 (A/B/C/D/E/F/G/H/K) play roles in transcribing genes involved in immune responses.\n",
      "\n",
      "8. **Translational and Post-Translational Modifications**:\n",
      "   - *Protein Kinases and Phosphatases*: MAPK family members (MAPK1, MAPK3, etc.), PRKCQ, and PPP3 (calcineurin A and B subunits) are involved in phosphorylation/dephosphorylation cascades critical for immune signaling.\n",
      "\n",
      "In summary, this system of proteins is integrally involved in orchestrating various aspects of the immune response, through intricate networks of cytokine signaling, transcriptional regulation, antigen presentation, and both innate and adaptive immune mechanisms. The high score reflects the large proportion of these proteins directly participating in immune modulation and signaling pathways.\n"
     ]
    },
    {
     "name": "stderr",
     "output_type": "stream",
     "text": [
      "100%|█████████████████████████████████████████████| 1/1 [00:09<00:00,  9.34s/it]\n",
      "100%|█████████████████████████████████████████████| 1/1 [00:10<00:00, 10.38s/it]\n"
     ]
    },
    {
     "name": "stdout",
     "output_type": "stream",
     "text": [
      "### Name: Immune Response and Signal Transduction\n",
      "### LLM self-assessed confidence: 0.92\n",
      "\n",
      "This system of interacting proteins predominantly operates within immune response pathways and signal transduction mechanisms. The analysis indicates a robust network involving T cell activation, antigen recognition, intracellular signaling, and subsequent gene expression and cellular response.\n",
      "\n",
      "1. **Protein Tyrosine Kinases and Adapters:** Proteins such as LCK, ZAP70, SRC, and LAT play a pivotal role in T cell receptor (TCR) signaling. LCK phosphorylates ITAMs (Immunoreceptor Tyrosine-based Activation Motifs) on the TCR complex, leading to ZAP70 recruitment and activation. LAT serves as an adaptor that organizes signaling complexes necessary for downstream signaling events.\n",
      "\n",
      "2. **Transcription Factors and Signal Propagation:** The transcription factors JUN, FOS, and RELA integrate signals from MAPK and NF-κB pathways, translating extracellular stimuli into gene expression changes that drive cell proliferation, differentiation, and cytokine production. Components such as NFATC1 and NFATC2 underscore the role of calcium signaling in activating transcriptional programs essential for immune cell function.\n",
      "\n",
      "3. **MAP Kinase Pathway:** Institutes like MAPK1, MAPK3, MAP2K1, and MAP2K2 are central to the MAPK/ERK signaling cascade. This cascade relays signals from cell surface receptors to the nucleus, controlling cell fate decisions, including proliferation, differentiation, and stress responses.\n",
      "\n",
      "4. **PI3K/AKT Pathway:** Proteins AKT1, AKT2, AKT3, PIK3CA, PIK3CD, and PIK3R1 belong to the PI3K/AKT signaling pathway, a critical regulator of cell survival, metabolism, and immune cell function. The pathway impacts numerous cellular functions, including growth, proliferation, and survival.\n",
      "\n",
      "5. **Cytokines and Chemokines:** IL6, IL2, TNF, IL18, and CXCL8 are key cytokines and chemokines involved in immune signaling. They mediate intercellular communication, influence immune responses, and recruit immune cells to sites of infection or inflammation.\n",
      "\n",
      "6. **Rho GTPase and Actin Dynamics:** A significant set of proteins, including RAC1, CDC42, ARPC1B, and ARPC5, are involved in the regulation of the actin cytoskeleton. Actin dynamics are crucial for various cellular processes such as migration, adherence, and phagocytosis. This underscores the importance of cytoskeletal remodeling in immune responses.\n",
      "\n",
      "7. **DNA Synthesis and Repair:** Proteins like MCM2-7 and the RFC complex (RFC1-RFC5) are involved in DNA replication and repair mechanisms, which are vital for the proliferation of immune cells during an immune response.\n",
      "\n",
      "In summary, the proteins within this system are significantly involved in immune responses, from the recognition of antigens and activation of immune cells to intracellular signaling leading to gene expression and cellular responses. The coordination between these proteins underscores an integrated network driving immune responses and maintaining cellular homeostasis during immune challenges.\n"
     ]
    },
    {
     "name": "stderr",
     "output_type": "stream",
     "text": [
      "100%|█████████████████████████████████████████████| 1/1 [00:05<00:00,  5.71s/it]\n",
      "100%|█████████████████████████████████████████████| 1/1 [00:07<00:00,  7.80s/it]\n"
     ]
    },
    {
     "name": "stdout",
     "output_type": "stream",
     "text": [
      "Name: Immune response and signal transduction\n",
      "LLM self-assessed confidence: 0.88\n",
      "\n",
      "1. The presence of various interferon proteins, such as IFNA1, IFNA2, IFNA10, IFNA13, and IFNA21, suggests the system's involvement in the immune response. These interferons are pivotal for antiviral defense mechanisms and immune regulation.\n",
      "\n",
      "2. Proteins like TLR4, TLR7, TLR8, and TLR3 (Toll-like receptors) further implicate this system in pathogen recognition and activation of innate immunity. These receptors detect microbial components and initiate innate immune responses through downstream signal transduction pathways, including the activation of pro-inflammatory cytokines like TNF and IL1B.\n",
      "\n",
      "3. Signal transduction pathways are also supported by various MAPK family members (MAPK1, MAPK3, MAPK8, MAPK11, MAPK12, MAPK13, MAPK14) which are heavily involved in transducing extracellular signals to intracellular responses, contributing to cell growth, differentiation, and inflammatory responses.\n",
      "\n",
      "4. JAK1, STAT1, STAT2, and STAT3 proteins point towards the JAK-STAT signaling pathway, which is a crucial mediator of cytokine signaling, influencing both immune response and cell proliferation.\n",
      "\n",
      "5. Complement system proteins (C1QA, C1QB, C1QC, C2, C3, C4A, C4B, C5, C6, C7, C8A, C8B, C8G, C9) indicate a robust role in immune defense by opsonization, cell lysis, and inflammation. These components facilitate pathogen clearance and immune complex processing.\n",
      "\n",
      "6. Integrins (ITGAV, ITGA2B, ITGA3, ITGA5, ITGA6, ITGA8, ITGA9, ITGB1, ITGB3, ITGB4, ITGB5, ITGB6, ITGB7, ITGB8) are involved in cell adhesion, migration, and signaling. They mediate interactions between cells and the extracellular matrix, playing roles in immune cell trafficking and tissue repair mechanisms.\n",
      "\n",
      "7. The involvement of proteins such as IRF3, IRF9, MYD88, MYL2, and RELA (components of the NF-κB pathway) corroborates the central role of this system in mediating immune and inflammatory responses.\n",
      "\n",
      "The identified proteins collectively highlight the immune response mechanisms through cytokine signaling, pathogen recognition, and inflammatory mediators, showcasing a well-integrated system focused predominantly on immune surveillance and signal transduction pathways. \n",
      "\n",
      "\n"
     ]
    },
    {
     "name": "stderr",
     "output_type": "stream",
     "text": [
      "100%|█████████████████████████████████████████████| 1/1 [00:02<00:00,  2.43s/it]\n",
      "100%|█████████████████████████████████████████████| 1/1 [00:06<00:00,  6.64s/it]\n"
     ]
    },
    {
     "name": "stdout",
     "output_type": "stream",
     "text": [
      "Name: Collagen synthesis and modification\n",
      "LLM self-assessed confidence: 0.90\n",
      "\n",
      "The provided set of interacting proteins consists largely of enzymes involved in collagen biosynthesis, modification, and other structural proteins. Collagens, forming a major part of the extracellular matrix (ECM), are critical for tissue integrity and function.\n",
      "\n",
      "1. **Type of Collagens:** Many collagens are included, such as COL1A1, COL1A2, COL2A1, COL4A1, COL4A2, COL5A1, COL5A2, COL6A1, COL6A2, COL7A1, COL8A1, COL8A2, COL9A1, COL9A2, COL10A1, COL11A1, COL11A2, and COL12A1. These proteins are integral to forming the structural framework of tissues.\n",
      "\n",
      "2. **Collagen Processing Enzymes:** Proteins like UGT2A1, UGT2B7, and CES2 are part of the glycosylation and modification machinery, essential for post-translational modifications of collagen, impacting its stability, folding, and function.\n",
      "\n",
      "3. **Cross-linking and Matrix Interactions:** Proteins such as SLC8A1, SLC8A2, and SLC8A3, involved in calcium homeostasis, indirectly influence collagen cross-linking, critical for ECM strength and flexibility. \n",
      "\n",
      "4. **Pathway Coordination:** Enzymes like GSTO1, GSTO2, GSTA1, and GSTA2 (Glutathione S-transferases) which participate in detoxification pathways, work synergistically with collagen synthesis by maintaining cellular redox balance, crucial for effective collagen formation.\n",
      "\n",
      "5. **Degradation and Remodeling:** Participation of protease enzymes like PRSS1, PRSS2, and PRSS3, and matrix metalloproteinases in the system indicates active involvement in ECM remodeling, ensuring tissue repair and turnover.\n",
      "\n",
      "Given the predominant presence of collagen-related proteins, and their associated biosynthetic, modification, and regulatory enzymes, the primary biological process driving this protein system is associated with collagen synthesis and its intricate modification processes required for maintaining the structural integrity and dynamic remodeling of the ECM in various tissues.\n"
     ]
    },
    {
     "name": "stderr",
     "output_type": "stream",
     "text": [
      "100%|█████████████████████████████████████████████| 1/1 [00:03<00:00,  3.09s/it]\n",
      "100%|█████████████████████████████████████████████| 1/1 [00:12<00:00, 12.51s/it]\n"
     ]
    },
    {
     "name": "stdout",
     "output_type": "stream",
     "text": [
      "Name: Nucleotide metabolism and regulation\n",
      "LLM self-assessed confidence: 0.97\n",
      "\n",
      "1. **Adenylate Kinases (AKs)**: AK1, AK2, AK3, AK4, AK5, AK6, AK7, AK8, and AK9 are involved in the regulation of adenine nucleotide compositions, helping maintain the cellular energy homeostasis by catalyzing the interconversion of adenine nucleotides (ATP, ADP, and AMP). This group of enzymes is crucial for proper energy transfer within cells.\n",
      "\n",
      "2. **Phosphodiesterases (PDEs)**: Multiple PDE family members, such as PDE1A, PDE1B, PDE1C, PDE2A, PDE3A, PDE3B, PDE4A, PDE4B, PDE4C, PDE4D, PDE5A, and others, play key roles in cyclic nucleotide metabolism by hydrolyzing cAMP and cGMP, which are important second messengers in numerous signaling pathways. PDE activity helps to regulate intracellular concentrations of these cyclic nucleotides, thereby controlling signal transduction responses.\n",
      "\n",
      "3. **Nucleotidases (NTs)**: Proteins such as NT5C, NT5E, NT5C1A, NT5C2, and others, are involved in the hydrolysis of nucleotides to nucleosides, influencing nucleotide metabolism and cellular nucleotide balance which is crucial for DNA and RNA synthesis and degradation.\n",
      "\n",
      "4. **Nucleoside-diphosphate Kinases (NME/NDPKs)**: The NME family (NME1, NME1-NME2, NME2, NME3, NME4, NME6, and NME7) is involved in the synthesis of nucleoside triphosphates other than ATP through a phosphate transfer mechanism. This family supports a variety of cellular activities including signal transduction, cell proliferation, and differentiation.\n",
      "\n",
      "5. **Deaminases and Phosphorylases**: Proteins like ADA, ADK, PNP, and others play significant roles in purine metabolism, deaminating adenosine to inosine and deoxyadenosine to deoxyinosine, thus contributing to the regulation of intracellular nucleotide pools and proper function of nucleic acids.\n",
      "\n",
      "6. **Glutathione Transferases (GSTs)**: The GST family, including GSTM1, GSTM2, GSTA1, GSTA2, and others, supports cellular detoxification processes through the conjugation of glutathione to a wide array of exogenous and endogenous compounds. This activity indirectly influences nucleotide metabolism by maintaining cellular redox states and protecting nucleotides from oxidative damage.\n",
      "\n",
      "7. **Other Metabolism Enzymes**: Enzymes like IMPDH1, IMPDH2, XDH, and others play roles in purine nucleotide biosynthesis and interconversion. They ensure a steady supply of nucleotides necessary for DNA replication and RNA transcription during cell proliferation and repair processes.\n",
      "\n",
      "To summarize, the interacting proteins predominantly function in the synthesis, interconversion, and degradation of nucleotides, ensuring proper nucleotide balance, energy homeostasis, and signal transduction within cells. They collectively govern crucial aspects of purine and pyrimidine metabolism, influencing cellular growth, proliferation, and response to external stimuli.\n"
     ]
    },
    {
     "name": "stderr",
     "output_type": "stream",
     "text": [
      "100%|█████████████████████████████████████████████| 1/1 [00:05<00:00,  5.67s/it]\n",
      "100%|█████████████████████████████████████████████| 1/1 [00:11<00:00, 11.25s/it]\n"
     ]
    },
    {
     "name": "stdout",
     "output_type": "stream",
     "text": [
      "Name: Cell Motility and Cytoskeletal Reorganization\n",
      "LLM self-assessed confidence: 0.92\n",
      "\n",
      "The provided protein interaction system prominently features proteins involved in cell motility, cytoskeletal reorganization, and integrin-mediated signaling pathways. \n",
      "\n",
      "1. **Integrins and Adhesion**: Proteins such as ITGA5, ITGB1, ITGA3, ITGB2, ITGA6, ITGA7, and ITGB3 are integrins that mediate cell adhesion to the extracellular matrix and are essential for cell migration. Integrins interact with actin cytoskeleton through complex signaling cascades, including focal adhesion kinases (FAKs) like PTK2, and scaffold proteins like PXN (paxillin).\n",
      "\n",
      "2. **Actin Cytoskeleton Dynamics**: Many proteins are involved in actin filament polymerization and depolymerization, critical for pseudopod formation, lamellipodia extension, and cell motility. Actin-related proteins such as ACTN1, ACTB, ACTG1, and ARPC (Actin-Related Protein Complex subunits: ARPC1A, ARPC1B, ARPC2, ARPC3, ARPC4, and ARPC5) coordinate these processes. Profilins (PFN1, PFN2, PFN3, PFN4) and Wiskott-Aldrich Syndrome proteins (WASL, WASF1, WASF2) further regulate actin dynamics.\n",
      "\n",
      "3. **Signaling Proteins and Kinases**: Various kinases regulate actin cytoskeleton dynamics, contributing to signal transduction for cell motility. This includes PAK family kinases (PAK1, PAK2, PAK3, PAK4, PAK5, PAK6), which phosphorylate and activate downstream effectors, and MAP kinases (MAPK1, MAPK3, MAPK8, MAPK9, MAPK10, MAPK11, MAPK12, MAPK13, MAPK14) involved in stress response and cellular reorganization.\n",
      "\n",
      "4. **Rho GTPases and Their Regulators**: Critical regulators of the actin cytoskeleton are Rho GTPases (RAC1, RAC2, RAC3, RHOA) and their regulatory GEFs (Guanine Nucleotide Exchange Factors) like VAV1, VAV2, ARHGEF7, ARHGEF12, and GAPs (GTPase-activating proteins) like ARHGAP35. These proteins modulate actin cytoskeleton rearrangement during cell movement.\n",
      "\n",
      "5. **Cytoskeletal Crosslinking and Force Generation**: Myosin light chains (MYL7, MYL10, MYL12A, MYL12B) and heavy chains (MYH9, MYH10, MYH11, MYH14) work alongside ROCK kinases (ROCK1, ROCK2) to generate contractile forces necessary for cell movement.\n",
      "\n",
      "6. **Growth Factors and Receptors**: Fibroblast growth factors (FGF1, FGF2, FGF4, FGF7, FGF9, FGF10, FGF18, FGF21, FGF23) and their receptors (FGFR1, FGFR2, FGFR3, FGFR4) are prominent in the regulation of cell migration and growth. Platelet-derived growth factors (PDGFA, PDGFB, PDGFC, PDGFD) and their receptors (PDGFRA, PDGFRB) play a role in chemotaxis and cell survival during migration.\n",
      "\n",
      "In summary, this protein system integrates signals from the external environment through integrins and growth factor receptors, orchestrates actin cytoskeleton dynamics, and coordinates cellular contractile machinery to facilitate cell motility. The integration of these processes underscores the primary role of this protein network in cell motility and cytoskeletal reorganization.\n"
     ]
    },
    {
     "name": "stderr",
     "output_type": "stream",
     "text": [
      "100%|█████████████████████████████████████████████| 1/1 [00:04<00:00,  4.84s/it]\n",
      "100%|█████████████████████████████████████████████| 1/1 [00:09<00:00,  9.27s/it]\n"
     ]
    },
    {
     "name": "stdout",
     "output_type": "stream",
     "text": [
      "Name: Inflammatory Signaling and Immune Response Regulation\n",
      "LLM self-assessed confidence: 0.80\n",
      "\n",
      "Analysis:\n",
      "\n",
      "The given protein set comprises several diverse components that collectively play critical roles in inflammatory signaling, immune response regulation, and cellular dynamics.\n",
      "\n",
      "1. **Cytokines and Receptors**: \n",
      "   - **IL1B, IL6, IL10, IL12A, IL12B, IL18, TNF, IFNG**: These proteins are key cytokines and interleukins involved in the regulation of immune responses. They stimulate inflammatory pathways and modulate the activities of various immune cells.\n",
      "   - **FAS, FASLG**: These proteins mediate apoptosis via the extrinsic pathway, contributing to the regulation of immune responses and the elimination of infected or cancerous cells.\n",
      "  \n",
      "2. **Signaling Proteins and Kinases**: \n",
      "   - **MYD88, PRKACA, PRKACB, PRKACG, PRKCB, PRKCA, PRKCG**: These proteins are involved in various signaling pathways, including the activation of inflammatory genes and the regulation of immune cell function.\n",
      "   - **GNAS, GNAQ**: These are G-protein subunits that play roles in signal transduction, particularly through the cyclic AMP (cAMP) and phosphoinositide signaling pathways.\n",
      "\n",
      "3. **Receptors and Adhesion Molecules**: \n",
      "   - **VCAM1, ICAM1, SELE**: These proteins facilitate cell adhesion, particularly of leukocytes to endothelial cells, a critical step in the inflammatory response.\n",
      "   - **AVP, AVPR2**: Involved in water homeostasis and also linked to the regulation of vascular tonus and blood pressure during inflammatory responses.\n",
      "\n",
      "4. **Transport Proteins and Cytoskeleton Dynamics**: \n",
      "   - **DYNC1LI1, DYNC1I2, DYNC1I1, DYNC1LI2, DYNC2LI1, DYNC2H1, DYNLL1, DYNLL2**: These dynein chain proteins are essential for proper intracellular transport and positioning of vesicles and organelles, which is crucial for immune cell function and trafficking.\n",
      "   - **NSF, VAMP2, RAB5A, RAB5B, RAB5C, RAB11A, RAB11B**: Proteins involved in vesicle docking, fusion, and transport; important for the secretion of immune mediators and endocytosis.\n",
      "\n",
      "5. **Transcription Factors**: \n",
      "   - **CREB1, CREB3, CREB3L1, CREB3L2, CREB3L3, CREB3L4, CREB5**: These proteins are members of the CREB family of transcription factors, which regulate the expression of genes involved in cellular responses to inflammatory stimuli.\n",
      "\n",
      "Summary:\n",
      "\n",
      "The proteins in this system represent a cohesive network primarily engaged in inflammatory signaling and immune response regulation. Critical interactions among cytokines, signaling proteins, receptors, and transcription factors drive the cellular and organismal responses to inflammation and immunity. The integration of transport and cytoskeletal dynamics ensures efficient intracellular and intercellular communication and the proper execution of immune functions. The majority of these proteins play direct roles in these interconnected biological processes, underscoring the primary focus on inflammation and immune regulation.\n"
     ]
    },
    {
     "name": "stderr",
     "output_type": "stream",
     "text": [
      "100%|█████████████████████████████████████████████| 1/1 [00:07<00:00,  7.62s/it]\n",
      "100%|█████████████████████████████████████████████| 1/1 [00:06<00:00,  6.86s/it]\n"
     ]
    },
    {
     "name": "stdout",
     "output_type": "stream",
     "text": [
      "Name: Signal Transduction and Cellular Stress Response\n",
      "LLM self-assessed confidence: 0.91\n",
      "\n",
      "In the provided system, the predominant biological processes revolve around signal transduction pathways and cellular responses to external stimuli and stress.\n",
      "\n",
      "1. **Signal Transduction**: The system involves multiple growth factors and receptor tyrosine kinases (RTKs), such as FGF family members (FGF1, FGF2, FGF19), and their receptors (FGFR1, FGFR2, FGFR3, FGFR4). These proteins are crucial for transmitting signals from the cell surface to the interior, triggering various cellular responses such as proliferation, differentiation, and survival. Additionally, proteins like VEGFA, VEGFB, and their receptors (VEGFR1, VEGFR2) play central roles in vascular endothelial growth signaling. The presence of integrins (ITGA2, ITGA5, ITGB1, ITGB3) further supports cell adhesion, migration, and integration of extracellular signals into intracellular signaling pathways.\n",
      "\n",
      "2. **Cellular Stress Response**: Proteins such as ATF4 and its related factors are involved in responding to cellular stress, particularly in the context of the unfolded protein response (UPR) and oxidative stress. HSP90AA1 and HSP90AB1 are key chaperones that manage protein folding and protect cells from stress-induced damage. The presence of mTOR and associated proteins (MLST8, RPTOR) indicates a role in nutrient and energy sensing, integrating stress signals to regulate cell growth and metabolism.\n",
      "\n",
      "3. **Interplay in Apoptosis and Cell Survival**: The system includes members that govern apoptosis and cell survival, such as BCL2, BCL2L1, and CASP9. The balance between pro-survival signals (e.g., BCL2) and pro-apoptotic signals (e.g., CASP9) is essential for maintaining cellular homeostasis under stress conditions.\n",
      "\n",
      "4. **Cytokine Signaling**: Cytokines (IL6, IL7) and their receptors indicate involvement in immune signaling pathways. The system includes proteins like NFKB1, RELA which are components of the NF-κB pathway, a critical regulator of inflammation and immune response. \n",
      "\n",
      "5. **Growth and Metabolic Regulation**: Insulin and Insulin-like Growth Factor (IGF1) pathways, represented by proteins like INS, IGF1, and their receptors (IGF1R), highlight roles in regulating cellular growth, glucose metabolism, and anabolic processes. PDPK1 and AKT kinases further support the role of this system in integrating metabolic signals and controlling cell growth and survival.\n",
      "\n",
      "In summary, this system of proteins functions primarily in signal transduction processes and cellular responses to external stressors, integrating growth factor signaling, metabolic regulation, immune response, and apoptotic pathways to maintain cellular and organismal homeostasis.\n"
     ]
    },
    {
     "name": "stderr",
     "output_type": "stream",
     "text": [
      "100%|█████████████████████████████████████████████| 1/1 [00:03<00:00,  3.47s/it]\n",
      "100%|█████████████████████████████████████████████| 1/1 [00:07<00:00,  7.22s/it]\n"
     ]
    },
    {
     "name": "stdout",
     "output_type": "stream",
     "text": [
      "Name: DNA Repair and Immune Response Regulation\n",
      "LLM self-assessed confidence: 0.90\n",
      "\n",
      "1. **DNA Repair**: This system includes several major players in nucleotide excision repair (NER) and other DNA repair pathways. Proteins like ERCC2, GTF2H3, ERCC5, ERCC3, and ERCC1 are components of the transcription factor IIH (TFIIH) complex, essential for NER. Other relevant proteins such as XPA and DDB1 are crucial for damage recognition and repair process coordination, indicating a strong emphasis on maintaining genomic stability.\n",
      "\n",
      "2. **DNA Replication and Synthesis**: Proteins like POLD1, POLE, RFC1, RFC2, RFC4, PCNA, and LIG1 are central to DNA replication. They function in synthesizing new DNA strands, ensuring that DNA is accurately copied and maintained. This integration is critical for cell cycle progression and genomic fidelity.\n",
      "\n",
      "3. **Immune Response Regulation**: Several proteins in this system, particularly those involving HLA classes (e.g., HLA-DPB1, HLA-DQB1, HLA-DRB1, and related molecules), are part of the major histocompatibility complex (MHC) class II. These are essential for antigen presentation to T cells, a cornerstone of adaptive immunity. Furthermore, cytokines and their receptors such as IL1A, IL1B, IL4, IL10, IL12A, and IFNG, as well as signaling molecules like TLR4, TRAF6, and MYD88, suggest a robust network for coordinating innate and adaptive immune responses.\n",
      "\n",
      "4. **Signal Transduction and Gene Expression**: Proteins involved in signal transduction pathways, including NF-κB signaling (NFKBIA, RELA), MAPK pathways (MAPK11, MAPK13, MAP3K7), and transcription factors (JUN, FOS, ELK1), play significant roles in mediating various cellular responses, including those to stress, cytokines, and pathogen-associated molecular patterns.\n",
      "\n",
      "5. **Functional Interconnections**: The noted proteins participate in overlapping pathways of immune signaling, DNA damage response, and repair. For example, NF-κB signaling is linked to both immune responses and cellular stress responses, including DNA damage. This intertwining ensures a coordinated response to maintain cellular integrity and defend against environmental insults.\n",
      "\n",
      "Overall, the integration of these protein functions underscores a significant contribution to both DNA repair mechanisms and the regulation of immune responses, ensuring genomic integrity while modulating immune activities.\n",
      "\n"
     ]
    },
    {
     "name": "stderr",
     "output_type": "stream",
     "text": [
      "100%|█████████████████████████████████████████████| 1/1 [00:06<00:00,  6.17s/it]\n",
      "100%|█████████████████████████████████████████████| 1/1 [00:09<00:00,  9.55s/it]"
     ]
    },
    {
     "name": "stdout",
     "output_type": "stream",
     "text": [
      "Name: Metabolic and xenobiotic processing\n",
      "LLM self-assessed confidence: 0.85\n",
      "\n",
      "1. The proteins in this system are primarily involved in various aspects of metabolism, including lipid, carbohydrate, amino acid, and retinoid metabolism. For example, HADHA and HADHB participate in fatty acid beta-oxidation, enabling the breakdown and utilization of fatty acids. \n",
      "\n",
      "2. Proteins such as LDHA, LDHB, and LDHC are involved in lactate metabolism, catalyzing the interconversion of lactate and pyruvate within the glycolytic cycle, which is crucial for cellular energy production under anaerobic conditions. \n",
      "\n",
      "3. Enzymes such as ADH1A, ADH1B, and ADH1C are responsible for the oxidation of alcohols to aldehydes, which is part of the detoxification process. Similarly, aldehyde dehydrogenases like ALDH1A1 and ALDH1A2 further convert these aldehydes into carboxylic acids, aiding in their excretion.\n",
      "\n",
      "4. The large number of cytochrome P450 enzymes (e.g., CYP1A1, CYP2C9, CYP3A4) signify their collective role in the oxidative metabolism of xenobiotics, including the detoxification of drugs and environmental chemicals. These enzymes introduce oxygen into hydrophobic substrates, rendering them more soluble and easier to excrete.\n",
      "\n",
      "5. UDP-glucuronosyltransferase (UGT) family members, such as UGT1A4, UGT2B10, and others, function to conjugate glucuronic acid to lipophilic compounds, facilitating their solubility and excretion. This process is vital for the proper handling of endogenous metabolites and xenobiotics.\n",
      "\n",
      "6. Proteins like ACAT1 and ACAT2 are involved in the biosynthesis and catabolism of cholesterol and other sterols, which are important for maintaining cellular membrane integrity and synthesizing steroid hormones.\n",
      "\n",
      "7. Enzymes involved in the conversion of acyl-CoA derivatives, such as ACSS1, ACSS2, and ACSS3, play a critical role in fatty acid metabolism by providing substrates for the tricarboxylic acid cycle or for the synthesis of complex lipids.\n",
      "\n",
      "In summary, the prominent biological process performed by this system of interacting proteins is the integration and regulation of diverse metabolic pathways, which collectively facilitate the processing of nutrients and the detoxification of xenobiotics. The presence of multiple enzymes involved in metabolic processes substantiates this functional characterization.\n",
      "\n",
      "Given the coherence and specialized roles of these proteins in metabolic and detoxification processes, I assign a high confidence score to this categorization.\n",
      "\n",
      "\n"
     ]
    },
    {
     "name": "stderr",
     "output_type": "stream",
     "text": [
      "\n"
     ]
    }
   ],
   "source": [
    "model = \"gpt-4o-2024-05-13\"\n",
    "\n",
    "df_output=pd.DataFrame()\n",
    "\n",
    "for lib_name in lib_names:\n",
    "    with open(\"libs_human/\" + model + \"/\" + lib_name + \".json\") as f:\n",
    "        gen_res = json.load(f)\n",
    "        descr_cleaned = gen_res['descr_cleaned']\n",
    "        curated_genesets = gen_res[\"curated_genesets\"]\n",
    "        lib_size = len(descr_cleaned)\n",
    "        \n",
    "        for i in range(10):\n",
    "            # randomly choose 2 gene sets from library\n",
    "            rand_choices = random.sample(range(lib_size), 2)\n",
    "            gt_name = [descr_cleaned[rand_choices[0]], descr_cleaned[rand_choices[1]]]\n",
    "            # combine and shuffle the genes from 2 gene sets\n",
    "            genes = [curated_genesets[rand_choices[0]], curated_genesets[rand_choices[1]]]\n",
    "            genes_combine = set()\n",
    "            for g in genes:\n",
    "                genes_combine.update(set(g))  \n",
    "            genes_combine = list(genes_combine)\n",
    "            random.shuffle(genes_combine)\n",
    "            genes_queries = [[\", \".join(genes_combine)]]\n",
    "            \n",
    "            # use llm2geneset to generate high confidence gene set names\n",
    "            llm2geneset_res = await llm2geneset.get_pathways_from_genes(aclient, \n",
    "                                                                        genes_queries, \n",
    "                                                                        model=\"gpt-4o\", \n",
    "                                                                        n_retry=3, \n",
    "                                                                        use_sysmsg=False)\n",
    "            llm2geneset_names = np.array(llm2geneset_res[0]['parsed_pathways'])[np.array(llm2geneset_res[0]['conf'])=='high']\n",
    "    \n",
    "            # use GSAI to generate geneset name\n",
    "            gsai_res = await llm2geneset.gsai(aclient, genes_queries, model=\"gpt-4o\", n_retry=1)\n",
    "            gsai_name = gsai_res[0]['name']\n",
    "    \n",
    "            gsai_scores=[]\n",
    "            llm2geneset_scores=[]\n",
    "\n",
    "            for ref in gt_name:\n",
    "                gsai_scores.append(scorer.score(ref, gsai_name)['rouge1'].fmeasure)\n",
    "                scores = []\n",
    "                for pred in llm2geneset_names:\n",
    "                    scores.append(scorer.score(ref, pred)['rouge1'].fmeasure)\n",
    "                llm2geneset_scores.append(np.max(scores))\n",
    "\n",
    "            output={\"library\":[lib_name],\n",
    "                    \"gt_name_1\":[gt_name[0]],\n",
    "                    \"gt_name_2\":[gt_name[1]],\n",
    "                    \"gsai_ROUGE1_1\":[gsai_scores[0]],\n",
    "                    \"gsai_ROUGE1_2\":[gsai_scores[1]],\n",
    "                    \"llm2geneset_ROUGE1_1\":[llm2geneset_scores[0]],\n",
    "                    \"llm2geneset_ROUGE1_2\":[llm2geneset_scores[1]]} \n",
    "            df_output = pd.concat([df_output, pd.DataFrame(output)], ignore_index=True)"
   ]
  },
  {
   "cell_type": "code",
   "execution_count": 128,
   "id": "8b5a9780-806c-480f-abc6-3b3323eedcaa",
   "metadata": {},
   "outputs": [
    {
     "data": {
      "text/html": [
       "<div>\n",
       "<style scoped>\n",
       "    .dataframe tbody tr th:only-of-type {\n",
       "        vertical-align: middle;\n",
       "    }\n",
       "\n",
       "    .dataframe tbody tr th {\n",
       "        vertical-align: top;\n",
       "    }\n",
       "\n",
       "    .dataframe thead th {\n",
       "        text-align: right;\n",
       "    }\n",
       "</style>\n",
       "<table border=\"1\" class=\"dataframe\">\n",
       "  <thead>\n",
       "    <tr style=\"text-align: right;\">\n",
       "      <th></th>\n",
       "      <th>library</th>\n",
       "      <th>gt_name_1</th>\n",
       "      <th>gt_name_2</th>\n",
       "      <th>gsai_ROUGE1_1</th>\n",
       "      <th>gsai_ROUGE1_2</th>\n",
       "      <th>llm2geneset_ROUGE1_1</th>\n",
       "      <th>llm2geneset_ROUGE1_2</th>\n",
       "    </tr>\n",
       "  </thead>\n",
       "  <tbody>\n",
       "    <tr>\n",
       "      <th>0</th>\n",
       "      <td>KEGG_2021_Human</td>\n",
       "      <td>Th17 cell differentiation</td>\n",
       "      <td>Cytosolic DNA-sensing pathway</td>\n",
       "      <td>0.000000</td>\n",
       "      <td>0.000000</td>\n",
       "      <td>0.250000</td>\n",
       "      <td>0.285714</td>\n",
       "    </tr>\n",
       "    <tr>\n",
       "      <th>1</th>\n",
       "      <td>KEGG_2021_Human</td>\n",
       "      <td>DNA replication</td>\n",
       "      <td>Yersinia infection</td>\n",
       "      <td>0.000000</td>\n",
       "      <td>0.000000</td>\n",
       "      <td>1.000000</td>\n",
       "      <td>0.000000</td>\n",
       "    </tr>\n",
       "    <tr>\n",
       "      <th>2</th>\n",
       "      <td>KEGG_2021_Human</td>\n",
       "      <td>Coronavirus disease</td>\n",
       "      <td>Hypertrophic cardiomyopathy</td>\n",
       "      <td>0.000000</td>\n",
       "      <td>0.000000</td>\n",
       "      <td>0.000000</td>\n",
       "      <td>0.000000</td>\n",
       "    </tr>\n",
       "    <tr>\n",
       "      <th>3</th>\n",
       "      <td>KEGG_2021_Human</td>\n",
       "      <td>Protein digestion and absorption</td>\n",
       "      <td>Drug metabolism</td>\n",
       "      <td>0.250000</td>\n",
       "      <td>0.000000</td>\n",
       "      <td>0.222222</td>\n",
       "      <td>0.500000</td>\n",
       "    </tr>\n",
       "    <tr>\n",
       "      <th>4</th>\n",
       "      <td>KEGG_2021_Human</td>\n",
       "      <td>Purine metabolism</td>\n",
       "      <td>Glutathione metabolism</td>\n",
       "      <td>0.333333</td>\n",
       "      <td>0.333333</td>\n",
       "      <td>1.000000</td>\n",
       "      <td>1.000000</td>\n",
       "    </tr>\n",
       "    <tr>\n",
       "      <th>5</th>\n",
       "      <td>KEGG_2021_Human</td>\n",
       "      <td>RIG-I-like receptor signaling pathway</td>\n",
       "      <td>Regulation of actin cytoskeleton</td>\n",
       "      <td>0.000000</td>\n",
       "      <td>0.000000</td>\n",
       "      <td>0.545455</td>\n",
       "      <td>1.000000</td>\n",
       "    </tr>\n",
       "    <tr>\n",
       "      <th>6</th>\n",
       "      <td>KEGG_2021_Human</td>\n",
       "      <td>Vasopressin-regulated water reabsorption</td>\n",
       "      <td>African trypanosomiasis</td>\n",
       "      <td>0.200000</td>\n",
       "      <td>0.000000</td>\n",
       "      <td>0.000000</td>\n",
       "      <td>0.000000</td>\n",
       "    </tr>\n",
       "    <tr>\n",
       "      <th>7</th>\n",
       "      <td>KEGG_2021_Human</td>\n",
       "      <td>PI3K-Akt signaling pathway</td>\n",
       "      <td>Ubiquinone and other terpenoid-quinone biosynt...</td>\n",
       "      <td>0.200000</td>\n",
       "      <td>0.166667</td>\n",
       "      <td>1.000000</td>\n",
       "      <td>0.000000</td>\n",
       "    </tr>\n",
       "    <tr>\n",
       "      <th>8</th>\n",
       "      <td>KEGG_2021_Human</td>\n",
       "      <td>Nucleotide excision repair</td>\n",
       "      <td>Leishmaniasis</td>\n",
       "      <td>0.222222</td>\n",
       "      <td>0.000000</td>\n",
       "      <td>0.400000</td>\n",
       "      <td>0.000000</td>\n",
       "    </tr>\n",
       "    <tr>\n",
       "      <th>9</th>\n",
       "      <td>KEGG_2021_Human</td>\n",
       "      <td>Retinol metabolism</td>\n",
       "      <td>Propanoate metabolism</td>\n",
       "      <td>0.333333</td>\n",
       "      <td>0.333333</td>\n",
       "      <td>0.500000</td>\n",
       "      <td>0.500000</td>\n",
       "    </tr>\n",
       "  </tbody>\n",
       "</table>\n",
       "</div>"
      ],
      "text/plain": [
       "           library                                 gt_name_1  \\\n",
       "0  KEGG_2021_Human                 Th17 cell differentiation   \n",
       "1  KEGG_2021_Human                           DNA replication   \n",
       "2  KEGG_2021_Human                       Coronavirus disease   \n",
       "3  KEGG_2021_Human          Protein digestion and absorption   \n",
       "4  KEGG_2021_Human                         Purine metabolism   \n",
       "5  KEGG_2021_Human     RIG-I-like receptor signaling pathway   \n",
       "6  KEGG_2021_Human  Vasopressin-regulated water reabsorption   \n",
       "7  KEGG_2021_Human                PI3K-Akt signaling pathway   \n",
       "8  KEGG_2021_Human                Nucleotide excision repair   \n",
       "9  KEGG_2021_Human                        Retinol metabolism   \n",
       "\n",
       "                                           gt_name_2  gsai_ROUGE1_1  \\\n",
       "0                      Cytosolic DNA-sensing pathway       0.000000   \n",
       "1                                 Yersinia infection       0.000000   \n",
       "2                        Hypertrophic cardiomyopathy       0.000000   \n",
       "3                                    Drug metabolism       0.250000   \n",
       "4                             Glutathione metabolism       0.333333   \n",
       "5                   Regulation of actin cytoskeleton       0.000000   \n",
       "6                            African trypanosomiasis       0.200000   \n",
       "7  Ubiquinone and other terpenoid-quinone biosynt...       0.200000   \n",
       "8                                      Leishmaniasis       0.222222   \n",
       "9                              Propanoate metabolism       0.333333   \n",
       "\n",
       "   gsai_ROUGE1_2  llm2geneset_ROUGE1_1  llm2geneset_ROUGE1_2  \n",
       "0       0.000000              0.250000              0.285714  \n",
       "1       0.000000              1.000000              0.000000  \n",
       "2       0.000000              0.000000              0.000000  \n",
       "3       0.000000              0.222222              0.500000  \n",
       "4       0.333333              1.000000              1.000000  \n",
       "5       0.000000              0.545455              1.000000  \n",
       "6       0.000000              0.000000              0.000000  \n",
       "7       0.166667              1.000000              0.000000  \n",
       "8       0.000000              0.400000              0.000000  \n",
       "9       0.333333              0.500000              0.500000  "
      ]
     },
     "execution_count": 128,
     "metadata": {},
     "output_type": "execute_result"
    }
   ],
   "source": [
    "df_output"
   ]
  },
  {
   "cell_type": "code",
   "execution_count": null,
   "id": "3a802309-2a7e-49db-bbcb-36825c09dcfa",
   "metadata": {},
   "outputs": [],
   "source": []
  }
 ],
 "metadata": {
  "kernelspec": {
   "display_name": "Python 3 (ipykernel)",
   "language": "python",
   "name": "python3"
  },
  "language_info": {
   "codemirror_mode": {
    "name": "ipython",
    "version": 3
   },
   "file_extension": ".py",
   "mimetype": "text/x-python",
   "name": "python",
   "nbconvert_exporter": "python",
   "pygments_lexer": "ipython3",
   "version": "3.12.4"
  }
 },
 "nbformat": 4,
 "nbformat_minor": 5
}
