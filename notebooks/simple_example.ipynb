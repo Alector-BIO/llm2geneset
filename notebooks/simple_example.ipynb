{
 "cells": [
  {
   "cell_type": "markdown",
   "id": "393c1233-5d52-40d2-bbfe-4531b78bfef5",
   "metadata": {},
   "source": [
    "Load the appropriate packages and connection to OpenAI"
   ]
  },
  {
   "cell_type": "code",
   "execution_count": 1,
   "id": "a98af462-d9ea-4a01-a210-0621a606c416",
   "metadata": {},
   "outputs": [],
   "source": [
    "import openai\n",
    "import llm2geneset\n",
    "\n",
    "aclient = openai.AsyncClient()"
   ]
  },
  {
   "cell_type": "markdown",
   "id": "009d737c-5d08-426d-ae26-573f62601b2c",
   "metadata": {},
   "source": [
    "`get_genes()` will allow you to map from a natural language description to a set of genes."
   ]
  },
  {
   "cell_type": "code",
   "execution_count": 2,
   "id": "e024ffe7-963b-4327-8c22-d384a447e1cc",
   "metadata": {},
   "outputs": [
    {
     "name": "stderr",
     "output_type": "stream",
     "text": [
      "100%|██████████████████████████████████████████████████████████████████████████████████████████████████████████████████████████████| 1/1 [00:03<00:00,  3.01s/it]\n"
     ]
    }
   ],
   "source": [
    "genes = await llm2geneset.get_genes(aclient, \"Antigen presentation\")"
   ]
  },
  {
   "cell_type": "markdown",
   "id": "097c7417-15bf-4c6d-84b8-0597e1517d66",
   "metadata": {},
   "source": [
    "These genes should look familiar."
   ]
  },
  {
   "cell_type": "code",
   "execution_count": 3,
   "id": "24de57cd-0983-44f4-8946-5e5b49fb5b7c",
   "metadata": {},
   "outputs": [
    {
     "data": {
      "text/plain": [
       "'HLA-A,HLA-B,HLA-C,HLA-DRA,HLA-DRB1,HLA-DRB3,HLA-DRB4,HLA-DRB5,HLA-DPA1,HLA-DPB1,HLA-DQA1,HLA-DQB1,HLA-DMA,HLA-DMB,TAP1,TAP2,CIITA,PSMB8,PSMB9,B2M,CD74'"
      ]
     },
     "execution_count": 3,
     "metadata": {},
     "output_type": "execute_result"
    }
   ],
   "source": [
    "','.join(genes['parsed_genes'])"
   ]
  },
  {
   "cell_type": "markdown",
   "id": "c2f558d0-1ebe-4a65-9510-76f193576e88",
   "metadata": {},
   "source": [
    "Now lets use `gs_proposal()` to map back to the original gene set."
   ]
  },
  {
   "cell_type": "code",
   "execution_count": 4,
   "id": "edc7a101-38b2-4406-bb9e-28d75c8d6acf",
   "metadata": {},
   "outputs": [
    {
     "name": "stderr",
     "output_type": "stream",
     "text": [
      "100%|██████████████████████████████████████████████████████████████████████████████████████████████████████████████████████████████| 1/1 [00:19<00:00, 19.96s/it]\n"
     ]
    },
    {
     "data": {
      "text/html": [
       "<div>\n",
       "<style scoped>\n",
       "    .dataframe tbody tr th:only-of-type {\n",
       "        vertical-align: middle;\n",
       "    }\n",
       "\n",
       "    .dataframe tbody tr th {\n",
       "        vertical-align: top;\n",
       "    }\n",
       "\n",
       "    .dataframe thead th {\n",
       "        text-align: right;\n",
       "    }\n",
       "</style>\n",
       "<table border=\"1\" class=\"dataframe\">\n",
       "  <thead>\n",
       "    <tr style=\"text-align: right;\">\n",
       "      <th></th>\n",
       "      <th>set_descr</th>\n",
       "      <th>generatio</th>\n",
       "      <th>bgratio</th>\n",
       "      <th>richFactor</th>\n",
       "      <th>foldEnrich</th>\n",
       "      <th>p_val</th>\n",
       "      <th>p_adj</th>\n",
       "      <th>intersection</th>\n",
       "      <th>set_genes</th>\n",
       "      <th>ngenes</th>\n",
       "      <th>nset</th>\n",
       "      <th>ninter</th>\n",
       "      <th>in_toks</th>\n",
       "      <th>out_toks</th>\n",
       "    </tr>\n",
       "  </thead>\n",
       "  <tbody>\n",
       "    <tr>\n",
       "      <th>0</th>\n",
       "      <td>Antigen processing and presentation</td>\n",
       "      <td>0.714286</td>\n",
       "      <td>0.001411</td>\n",
       "      <td>0.535714</td>\n",
       "      <td>506.275510</td>\n",
       "      <td>9.265552e-41</td>\n",
       "      <td>4.632776e-40</td>\n",
       "      <td>HLA-DPB1,HLA-DRB1,HLA-DRB5,HLA-DMA,CD74,HLA-DM...</td>\n",
       "      <td>CALR,CANX,HLA-A,HLA-DQB1,CTSL,HLA-C,IFI30,HLA-...</td>\n",
       "      <td>21</td>\n",
       "      <td>28</td>\n",
       "      <td>15</td>\n",
       "      <td>158</td>\n",
       "      <td>405</td>\n",
       "    </tr>\n",
       "    <tr>\n",
       "      <th>1</th>\n",
       "      <td>MHC class I protein complex</td>\n",
       "      <td>0.380952</td>\n",
       "      <td>0.000907</td>\n",
       "      <td>0.444444</td>\n",
       "      <td>420.021164</td>\n",
       "      <td>1.497943e-20</td>\n",
       "      <td>3.744858e-20</td>\n",
       "      <td>HLA-A,PSMB8,B2M,HLA-B,TAP1,PSMB9,TAP2,HLA-C</td>\n",
       "      <td>CALR,NLRC5,CANX,PDIA3,ERAP2,HLA-A,TAPBPR,B2M,P...</td>\n",
       "      <td>21</td>\n",
       "      <td>18</td>\n",
       "      <td>8</td>\n",
       "      <td>160</td>\n",
       "      <td>185</td>\n",
       "    </tr>\n",
       "    <tr>\n",
       "      <th>2</th>\n",
       "      <td>Transport and processing of MHC class I-peptid...</td>\n",
       "      <td>0.190476</td>\n",
       "      <td>0.000705</td>\n",
       "      <td>0.285714</td>\n",
       "      <td>270.013605</td>\n",
       "      <td>9.247132e-10</td>\n",
       "      <td>1.541189e-09</td>\n",
       "      <td>TAP2,TAP1,PSMB8,PSMB9</td>\n",
       "      <td>CALR,NLRC5,MPL,CANX,PDIA3,ERAP2,PSMB8,RFX5,TAP...</td>\n",
       "      <td>21</td>\n",
       "      <td>14</td>\n",
       "      <td>4</td>\n",
       "      <td>170</td>\n",
       "      <td>185</td>\n",
       "    </tr>\n",
       "    <tr>\n",
       "      <th>3</th>\n",
       "      <td>Proteasome-mediated peptide degradation</td>\n",
       "      <td>0.095238</td>\n",
       "      <td>0.002318</td>\n",
       "      <td>0.043478</td>\n",
       "      <td>41.089027</td>\n",
       "      <td>1.075430e-03</td>\n",
       "      <td>1.344287e-03</td>\n",
       "      <td>PSMB8,PSMB9</td>\n",
       "      <td>PSMB4,PA28A,PA28B,PSMA2,PSMA1,PSMB2,PSMC6,PSMD...</td>\n",
       "      <td>21</td>\n",
       "      <td>46</td>\n",
       "      <td>2</td>\n",
       "      <td>160</td>\n",
       "      <td>419</td>\n",
       "    </tr>\n",
       "    <tr>\n",
       "      <th>4</th>\n",
       "      <td>Regulation of immune response</td>\n",
       "      <td>0.000000</td>\n",
       "      <td>0.002066</td>\n",
       "      <td>0.000000</td>\n",
       "      <td>0.000000</td>\n",
       "      <td>1.000000e+00</td>\n",
       "      <td>1.000000e+00</td>\n",
       "      <td></td>\n",
       "      <td>PIK3CB,BTK,IRF1,IFNG,CD40,SYK,MAPK1,MAPK3,FOS,...</td>\n",
       "      <td>21</td>\n",
       "      <td>41</td>\n",
       "      <td>0</td>\n",
       "      <td>158</td>\n",
       "      <td>527</td>\n",
       "    </tr>\n",
       "  </tbody>\n",
       "</table>\n",
       "</div>"
      ],
      "text/plain": [
       "                                           set_descr  generatio   bgratio  \\\n",
       "0                Antigen processing and presentation   0.714286  0.001411   \n",
       "1                        MHC class I protein complex   0.380952  0.000907   \n",
       "2  Transport and processing of MHC class I-peptid...   0.190476  0.000705   \n",
       "3            Proteasome-mediated peptide degradation   0.095238  0.002318   \n",
       "4                      Regulation of immune response   0.000000  0.002066   \n",
       "\n",
       "   richFactor  foldEnrich         p_val         p_adj  \\\n",
       "0    0.535714  506.275510  9.265552e-41  4.632776e-40   \n",
       "1    0.444444  420.021164  1.497943e-20  3.744858e-20   \n",
       "2    0.285714  270.013605  9.247132e-10  1.541189e-09   \n",
       "3    0.043478   41.089027  1.075430e-03  1.344287e-03   \n",
       "4    0.000000    0.000000  1.000000e+00  1.000000e+00   \n",
       "\n",
       "                                        intersection  \\\n",
       "0  HLA-DPB1,HLA-DRB1,HLA-DRB5,HLA-DMA,CD74,HLA-DM...   \n",
       "1        HLA-A,PSMB8,B2M,HLA-B,TAP1,PSMB9,TAP2,HLA-C   \n",
       "2                              TAP2,TAP1,PSMB8,PSMB9   \n",
       "3                                        PSMB8,PSMB9   \n",
       "4                                                      \n",
       "\n",
       "                                           set_genes  ngenes  nset  ninter  \\\n",
       "0  CALR,CANX,HLA-A,HLA-DQB1,CTSL,HLA-C,IFI30,HLA-...      21    28      15   \n",
       "1  CALR,NLRC5,CANX,PDIA3,ERAP2,HLA-A,TAPBPR,B2M,P...      21    18       8   \n",
       "2  CALR,NLRC5,MPL,CANX,PDIA3,ERAP2,PSMB8,RFX5,TAP...      21    14       4   \n",
       "3  PSMB4,PA28A,PA28B,PSMA2,PSMA1,PSMB2,PSMC6,PSMD...      21    46       2   \n",
       "4  PIK3CB,BTK,IRF1,IFNG,CD40,SYK,MAPK1,MAPK3,FOS,...      21    41       0   \n",
       "\n",
       "   in_toks  out_toks  \n",
       "0      158       405  \n",
       "1      160       185  \n",
       "2      170       185  \n",
       "3      160       419  \n",
       "4      158       527  "
      ]
     },
     "execution_count": 4,
     "metadata": {},
     "output_type": "execute_result"
    }
   ],
   "source": [
    "res = await llm2geneset.gs_proposal(aclient,genes['parsed_genes'])\n",
    "res['ora_results']"
   ]
  }
 ],
 "metadata": {
  "kernelspec": {
   "display_name": "Python 3 (ipykernel)",
   "language": "python",
   "name": "python3"
  },
  "language_info": {
   "codemirror_mode": {
    "name": "ipython",
    "version": 3
   },
   "file_extension": ".py",
   "mimetype": "text/x-python",
   "name": "python",
   "nbconvert_exporter": "python",
   "pygments_lexer": "ipython3",
   "version": "3.12.3"
  }
 },
 "nbformat": 4,
 "nbformat_minor": 5
}
