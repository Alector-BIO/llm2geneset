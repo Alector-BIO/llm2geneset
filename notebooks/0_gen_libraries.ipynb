{
 "cells": [
  {
   "cell_type": "code",
   "execution_count": 1,
   "id": "5afdec6e-35f4-4052-82f5-9248d3e5a8e4",
   "metadata": {
    "scrolled": true
   },
   "outputs": [],
   "source": [
    "import openai\n",
    "from pathlib import Path\n",
    "import json\n",
    "import llm2geneset"
   ]
  },
  {
   "cell_type": "code",
   "execution_count": 2,
   "id": "63a1f072-52a0-40a8-971a-56f883cddaa6",
   "metadata": {},
   "outputs": [],
   "source": [
    "import re\n",
    "\n",
    "def clean_elements(array):\n",
    "    cleaned_array = []\n",
    "    for element in array:\n",
    "        # Use regular expression to remove (GO:xxx) substring,  R-HSA-xxx substrings, and WPxxx substrings\n",
    "        cleaned_element = re.sub(r'\\s*\\(GO:\\d+\\)\\s*|\\s*R-HSA-\\d+\\s*|\\s*WP\\d+\\s*', '', element)\n",
    "        cleaned_array.append(cleaned_element)\n",
    "    return cleaned_array"
   ]
  },
  {
   "cell_type": "code",
   "execution_count": 3,
   "id": "1f204121-25b6-4f3f-94f1-58299a95a42b",
   "metadata": {},
   "outputs": [],
   "source": [
    "lib_names = [\"KEGG_2021_Human\", \n",
    "             \"Reactome_2022\", \"WikiPathway_2023_Human\"]\n",
    "lib_names = [\"KEGG_2021_Human\"]"
   ]
  },
  {
   "cell_type": "markdown",
   "id": "d0493182-5e23-439a-b65e-f5ff9f2ae359",
   "metadata": {},
   "source": [
    "Export enrichr libraries as JSON."
   ]
  },
  {
   "cell_type": "code",
   "execution_count": 4,
   "id": "dd1ce28d-112b-42ea-a0f3-2197d32d0cbf",
   "metadata": {},
   "outputs": [
    {
     "name": "stdout",
     "output_type": "stream",
     "text": [
      "320\n"
     ]
    }
   ],
   "source": [
    "for lib_name in lib_names:\n",
    "    (descr, genes) = llm2geneset.read_gmt(\"libs_human/gmt/\" + lib_name + \".txt\")\n",
    "    print(len(descr))"
   ]
  },
  {
   "cell_type": "code",
   "execution_count": 17,
   "id": "a690cfce-1248-4d52-82a4-7be12b82d339",
   "metadata": {
    "scrolled": true
   },
   "outputs": [
    {
     "name": "stderr",
     "output_type": "stream",
     "text": [
      "100%|██████████████████████████████████████████████████████████████████████████████████████████████████████████████████████████████| 320/320 [00:30<00:00, 10.45it/s]\n"
     ]
    }
   ],
   "source": [
    "aclient = openai.AsyncClient()\n",
    "models = [\"gpt-3.5-turbo-0125\"]#, \"gpt-4o-2024-05-13\"]\n",
    "for model in models:\n",
    "    for lib_name in lib_names:\n",
    "        (descr, genes) = llm2geneset.read_gmt(\"libs_human/gmt/\" + lib_name + \".txt\")\n",
    "        descr_cleaned = clean_elements(descr)\n",
    "        llm_genes = await llm2geneset.get_genes(aclient, descr_cleaned, modelg=model)\n",
    "        ai_lib_json = Path(\"libs_human/\" + model + \"/\" + lib_name + '.json')\n",
    "        if not ai_lib_json.is_file():\n",
    "            ai_lib = dict(zip(descr_cleaned, llm_genes))\n",
    "            json.dump(ai_lib, open(str(ai_lib_json), 'w'), indent=4)\n",
    "            #ai_lib = await llm2geneset.get_genes(aclient, descr, modelg=model)"
   ]
  }
 ],
 "metadata": {
  "kernelspec": {
   "display_name": "Python 3 (ipykernel)",
   "language": "python",
   "name": "python3"
  },
  "language_info": {
   "codemirror_mode": {
    "name": "ipython",
    "version": 3
   },
   "file_extension": ".py",
   "mimetype": "text/x-python",
   "name": "python",
   "nbconvert_exporter": "python",
   "pygments_lexer": "ipython3",
   "version": "3.12.3"
  }
 },
 "nbformat": 4,
 "nbformat_minor": 5
}
