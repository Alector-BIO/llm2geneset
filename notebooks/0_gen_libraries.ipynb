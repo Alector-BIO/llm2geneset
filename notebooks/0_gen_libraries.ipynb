{
 "cells": [
  {
   "cell_type": "code",
   "execution_count": 1,
   "id": "5afdec6e-35f4-4052-82f5-9248d3e5a8e4",
   "metadata": {
    "scrolled": true
   },
   "outputs": [],
   "source": [
    "import openai\n",
    "from pathlib import Path\n",
    "import json\n",
    "import llm2geneset\n",
    "import time\n",
    "import pandas as pd"
   ]
  },
  {
   "cell_type": "code",
   "execution_count": 2,
   "id": "63a1f072-52a0-40a8-971a-56f883cddaa6",
   "metadata": {},
   "outputs": [],
   "source": [
    "import re\n",
    "\n",
    "def clean_elements(array):\n",
    "    cleaned_array = []\n",
    "    for element in array:\n",
    "        # Use regular expression to remove (GO:xxx) substring,  R-HSA-xxx substrings, and WPxxx substrings\n",
    "        cleaned_element = re.sub(r'\\s*\\(GO:\\d+\\)\\s*|\\s*R-HSA-\\d+\\s*|\\s*WP\\d+\\s*', '', element)\n",
    "        cleaned_array.append(cleaned_element)\n",
    "    return cleaned_array"
   ]
  },
  {
   "cell_type": "code",
   "execution_count": 3,
   "id": "1f204121-25b6-4f3f-94f1-58299a95a42b",
   "metadata": {},
   "outputs": [],
   "source": [
    "lib_names = [\"KEGG_2021_Human\", \n",
    "             \"Reactome_2022\", \n",
    "             \"WikiPathway_2023_Human\", \n",
    "             \"GO_Biological_Process_2023\",\n",
    "             \"GO_Molecular_Function_2023\",\n",
    "             \"GO_Cellular_Component_2023\"]\n",
    "#lib_names = [\"KEGG_2021_Human\", \n",
    "#             \"Reactome_2022\", \n",
    "#             \"WikiPathway_2023_Human\"]"
   ]
  },
  {
   "cell_type": "markdown",
   "id": "d0493182-5e23-439a-b65e-f5ff9f2ae359",
   "metadata": {},
   "source": [
    "Export enrichr libraries as JSON."
   ]
  },
  {
   "cell_type": "code",
   "execution_count": 10,
   "id": "dd1ce28d-112b-42ea-a0f3-2197d32d0cbf",
   "metadata": {},
   "outputs": [],
   "source": [
    "geneset_sz = []\n",
    "for lib_name in lib_names:\n",
    "    (descr, genes) = llm2geneset.read_gmt(\"libs_human/gmt/\" + lib_name + \".txt\")\n",
    "    x = [{\"lib_name\": lib_name, \"descr\": d, \"num_genes\": len(g)} for (d,g) in zip(descr,genes)]\n",
    "    geneset_sz.extend(x)\n",
    "df = pd.DataFrame(geneset_sz)\n",
    "df.to_csv(\"geneset_sz.tsv\",sep=\"\\t\",index=None)"
   ]
  },
  {
   "cell_type": "code",
   "execution_count": null,
   "id": "89b8a4a8-a989-4d0a-9e57-9a6aceaeb6ea",
   "metadata": {},
   "outputs": [],
   "source": []
  },
  {
   "cell_type": "code",
   "execution_count": 14,
   "id": "d207dd23-305b-4b4e-b6b4-b8c3bab8212a",
   "metadata": {},
   "outputs": [],
   "source": [
    "hgnc_symbols = pd.read_csv(\"hgnc_symbols.txt\",header=None)"
   ]
  },
  {
   "cell_type": "code",
   "execution_count": 11,
   "id": "a690cfce-1248-4d52-82a4-7be12b82d339",
   "metadata": {
    "scrolled": true
   },
   "outputs": [
    {
     "name": "stderr",
     "output_type": "stream",
     "text": [
      " 15%|█████████████████▊                                                                                                      | 802/5407 [00:07<00:30, 151.21it/s]"
     ]
    },
    {
     "name": "stdout",
     "output_type": "stream",
     "text": [
      "retrying\n",
      "List all the known genes directly and indirectly involved in the following biological process or pathway: Positive Regulation Of NIK/NF-kappaB Signaling. Use the following JSON schema:\n",
      "```json\n",
      "{\n",
      "    \"type\": \"array\",\n",
      "    \"items\": {\n",
      "        \"type\": \"object\",\n",
      "        \"properties\": {\n",
      "            \"gene\": {\n",
      "                \"type\": \"string\",\n",
      "            },\n",
      "        },\n",
      "        \"required\": [\"gene\"]\n",
      "    }\n",
      "}\n",
      "```\n",
      "The field `gene` is a gene involved in the biological process or pathway: Positive Regulation Of NIK/NF-kappaB Signaling. Use the HUGO Gene Nomenclature Committee (HGNC) gene abbreviations. Place the output in a JSON code block. Do not add any comments in the JSON code block.\n",
      "\n"
     ]
    },
    {
     "name": "stderr",
     "output_type": "stream",
     "text": [
      " 39%|██████████████████████████████████████████████▌                                                                        | 2117/5407 [00:16<00:19, 168.17it/s]"
     ]
    },
    {
     "name": "stdout",
     "output_type": "stream",
     "text": [
      "retrying\n",
      "List all the known genes directly and indirectly involved in the following biological process or pathway: Contact Inhibition. Use the following JSON schema:\n",
      "```json\n",
      "{\n",
      "    \"type\": \"array\",\n",
      "    \"items\": {\n",
      "        \"type\": \"object\",\n",
      "        \"properties\": {\n",
      "            \"gene\": {\n",
      "                \"type\": \"string\",\n",
      "            },\n",
      "        },\n",
      "        \"required\": [\"gene\"]\n",
      "    }\n",
      "}\n",
      "```\n",
      "The field `gene` is a gene involved in the biological process or pathway: Contact Inhibition. Use the HUGO Gene Nomenclature Committee (HGNC) gene abbreviations. Place the output in a JSON code block. Do not add any comments in the JSON code block.\n",
      "\n"
     ]
    },
    {
     "name": "stderr",
     "output_type": "stream",
     "text": [
      "100%|███████████████████████████████████████████████████████████████████████████████████████████████████████████████████████▉| 5406/5407 [01:00<00:02,  2.98s/it]"
     ]
    },
    {
     "name": "stdout",
     "output_type": "stream",
     "text": [
      "retrying\n",
      "List all the known genes directly and indirectly involved in the following biological process or pathway: Positive Regulation Of Neurotransmitter Secretion. Use the following JSON schema:\n",
      "```json\n",
      "{\n",
      "    \"type\": \"array\",\n",
      "    \"items\": {\n",
      "        \"type\": \"object\",\n",
      "        \"properties\": {\n",
      "            \"gene\": {\n",
      "                \"type\": \"string\",\n",
      "            },\n",
      "        },\n",
      "        \"required\": [\"gene\"]\n",
      "    }\n",
      "}\n",
      "```\n",
      "The field `gene` is a gene involved in the biological process or pathway: Positive Regulation Of Neurotransmitter Secretion. Use the HUGO Gene Nomenclature Committee (HGNC) gene abbreviations. Place the output in a JSON code block. Do not add any comments in the JSON code block.\n",
      "\n"
     ]
    },
    {
     "name": "stderr",
     "output_type": "stream",
     "text": [
      "100%|████████████████████████████████████████████████████████████████████████████████████████████████████████████████████████| 5407/5407 [01:36<00:00, 56.07it/s]\n",
      "100%|██████████████████████████████████████████████████████████████████████████████████████████████████████████████████████████| 474/474 [00:15<00:00, 31.04it/s]\n",
      " 12%|██████████████▊                                                                                                         | 668/5407 [00:10<00:42, 111.81it/s]"
     ]
    },
    {
     "name": "stdout",
     "output_type": "stream",
     "text": [
      "retrying\n",
      "List all the known genes directly and indirectly involved in the following biological process or pathway: Peroxisomal Membrane Transport. Use the following JSON schema:\n",
      "```json\n",
      "{\n",
      "    \"type\": \"array\",\n",
      "    \"items\": {\n",
      "        \"type\": \"object\",\n",
      "        \"properties\": {\n",
      "            \"gene\": {\n",
      "                \"type\": \"string\",\n",
      "            },\n",
      "        },\n",
      "        \"required\": [\"gene\"]\n",
      "    }\n",
      "}\n",
      "```\n",
      "The field `gene` is a gene involved in the biological process or pathway: Peroxisomal Membrane Transport. Use the HUGO Gene Nomenclature Committee (HGNC) gene abbreviations. Place the output in a JSON code block. Do not add any comments in the JSON code block.\n",
      "\n"
     ]
    },
    {
     "name": "stderr",
     "output_type": "stream",
     "text": [
      " 46%|███████████████████████████████████████████████████████▏                                                               | 2510/5407 [00:23<00:20, 142.01it/s]"
     ]
    },
    {
     "name": "stdout",
     "output_type": "stream",
     "text": [
      "retrying\n",
      "List all the known genes directly and indirectly involved in the following biological process or pathway: Positive Regulation Of Cysteine-Type Endopeptidase Activity Involved In Apoptotic Signaling Pathway. Use the following JSON schema:\n",
      "```json\n",
      "{\n",
      "    \"type\": \"array\",\n",
      "    \"items\": {\n",
      "        \"type\": \"object\",\n",
      "        \"properties\": {\n",
      "            \"gene\": {\n",
      "                \"type\": \"string\",\n",
      "            },\n",
      "        },\n",
      "        \"required\": [\"gene\"]\n",
      "    }\n",
      "}\n",
      "```\n",
      "The field `gene` is a gene involved in the biological process or pathway: Positive Regulation Of Cysteine-Type Endopeptidase Activity Involved In Apoptotic Signaling Pathway. Use the HUGO Gene Nomenclature Committee (HGNC) gene abbreviations. Place the output in a JSON code block. Do not add any comments in the JSON code block.\n",
      "\n"
     ]
    },
    {
     "name": "stderr",
     "output_type": "stream",
     "text": [
      " 87%|███████████████████████████████████████████████████████████████████████████████████████████████████████▌               | 4708/5407 [00:38<00:04, 142.06it/s]"
     ]
    },
    {
     "name": "stdout",
     "output_type": "stream",
     "text": [
      "retrying\n",
      "List all the known genes directly and indirectly involved in the following biological process or pathway: Membrane Fusion. Use the following JSON schema:\n",
      "```json\n",
      "{\n",
      "    \"type\": \"array\",\n",
      "    \"items\": {\n",
      "        \"type\": \"object\",\n",
      "        \"properties\": {\n",
      "            \"gene\": {\n",
      "                \"type\": \"string\",\n",
      "            },\n",
      "        },\n",
      "        \"required\": [\"gene\"]\n",
      "    }\n",
      "}\n",
      "```\n",
      "The field `gene` is a gene involved in the biological process or pathway: Membrane Fusion. Use the HUGO Gene Nomenclature Committee (HGNC) gene abbreviations. Place the output in a JSON code block. Do not add any comments in the JSON code block.\n",
      "\n"
     ]
    },
    {
     "name": "stderr",
     "output_type": "stream",
     "text": [
      "100%|████████████████████████████████████████████████████████████████████████████████████████████████████████████████████████| 5407/5407 [01:14<00:00, 72.90it/s]\n",
      "100%|██████████████████████████████████████████████████████████████████████████████████████████████████████████████████████████| 474/474 [00:30<00:00, 15.55it/s]\n"
     ]
    }
   ],
   "source": [
    "aclient = openai.AsyncClient()\n",
    "models = [\"gpt-3.5-turbo-0125\", \"gpt-4o-2024-05-13\"]\n",
    "for model in models:\n",
    "    for lib_name in lib_names:\n",
    "        (descr, genes) = llm2geneset.read_gmt(\"libs_human/gmt/\" + lib_name + \".txt\")\n",
    "        # Generate cleaned version of gene set description w/o identifiers.\n",
    "        descr_cleaned = clean_elements(descr)\n",
    "        \n",
    "        # Generate genes, and keep track of time it takes (seconds).\n",
    "        start_time = time.time()\n",
    "        llm_genes = await llm2geneset.get_genes(aclient, descr_cleaned, model=model)\n",
    "        end_time = time.time()\n",
    "        gen_time = end_time - start_time\n",
    "        gen_res = {}\n",
    "\n",
    "        # Assemble and save generation results.\n",
    "        gen_res[\"lib_name\"] = lib_name\n",
    "        gen_res[\"model\"] = model\n",
    "        gen_res[\"gen_time\"] = gen_time\n",
    "        gen_res[\"descr\"] = descr\n",
    "        gen_res[\"descr_cleaned\"] = descr_cleaned\n",
    "        gen_res[\"curated_genesets\"] = genes\n",
    "        gen_res[\"llm_genesets\"] = llm_genes\n",
    "\n",
    "        with open('libs_human/' + model + '/' + lib_name + '.json', 'w') as json_file:\n",
    "            json.dump(gen_res, json_file, indent=4)\n",
    "        \n"
   ]
  }
 ],
 "metadata": {
  "kernelspec": {
   "display_name": "Python 3 (ipykernel)",
   "language": "python",
   "name": "python3"
  },
  "language_info": {
   "codemirror_mode": {
    "name": "ipython",
    "version": 3
   },
   "file_extension": ".py",
   "mimetype": "text/x-python",
   "name": "python",
   "nbconvert_exporter": "python",
   "pygments_lexer": "ipython3",
   "version": "3.12.3"
  }
 },
 "nbformat": 4,
 "nbformat_minor": 5
}
