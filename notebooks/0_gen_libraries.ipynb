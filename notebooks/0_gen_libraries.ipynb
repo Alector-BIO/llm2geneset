{
 "cells": [
  {
   "cell_type": "markdown",
   "id": "1769cdd8-4558-4373-9cc4-1b7aaeac0b4c",
   "metadata": {},
   "source": [
    "# Caution: This notebook uses the OpenAI API. Token costs can add up quickly."
   ]
  },
  {
   "cell_type": "code",
   "execution_count": 26,
   "id": "5afdec6e-35f4-4052-82f5-9248d3e5a8e4",
   "metadata": {
    "scrolled": true
   },
   "outputs": [],
   "source": [
    "import openai\n",
    "from pathlib import Path\n",
    "import json\n",
    "import llm2geneset\n",
    "import time\n",
    "import pandas as pd"
   ]
  },
  {
   "cell_type": "code",
   "execution_count": 27,
   "id": "63a1f072-52a0-40a8-971a-56f883cddaa6",
   "metadata": {},
   "outputs": [],
   "source": [
    "import re\n",
    "\n",
    "def clean_elements(array):\n",
    "    \"\"\"Use regular expression to remove (GO:xxx) substring,  R-HSA-xxx substrings, and WPxxx substrings\"\"\"\n",
    "    cleaned_array = []\n",
    "    for element in array:\n",
    "        cleaned_element = re.sub(r'\\s*\\(GO:\\d+\\)\\s*|\\s*R-HSA-\\d+\\s*|\\s*WP\\d+\\s*', '', element)\n",
    "        cleaned_array.append(cleaned_element)\n",
    "    return cleaned_array"
   ]
  },
  {
   "cell_type": "code",
   "execution_count": 28,
   "id": "1f204121-25b6-4f3f-94f1-58299a95a42b",
   "metadata": {},
   "outputs": [],
   "source": [
    "lib_names = [\"KEGG_2021_Human\", \n",
    "             \"Reactome_2022\", \n",
    "             \"WikiPathway_2023_Human\", \n",
    "             \"GO_Biological_Process_2023\",\n",
    "             \"GO_Molecular_Function_2023\",\n",
    "             \"GO_Cellular_Component_2023\"]\n",
    "lib_names = [\"KEGG_2021_Human\", \n",
    "             \"Reactome_2022\", \n",
    "             \"WikiPathway_2023_Human\"]"
   ]
  },
  {
   "cell_type": "code",
   "execution_count": null,
   "id": "a690cfce-1248-4d52-82a4-7be12b82d339",
   "metadata": {
    "scrolled": true
   },
   "outputs": [],
   "source": [
    "aclient = openai.AsyncClient()\n",
    "models = [\"gpt-3.5-turbo-0125\", \"gpt-4o-2024-05-13\"]\n",
    "for model in models:\n",
    "    for lib_name in lib_names:\n",
    "        (descr, genes) = llm2geneset.read_gmt(\"libs_human/gmt/\" + lib_name + \".txt\")\n",
    "        # Generate cleaned version of gene set description w/o identifiers.\n",
    "        descr_cleaned = clean_elements(descr)\n",
    "        \n",
    "        # Generate genes sets with a system message with role prompt.\n",
    "        start_time1 = time.time()\n",
    "        llm_genes_role = await llm2geneset.get_genes(aclient,\n",
    "                                                     descr_cleaned,\n",
    "                                                     model=model,\n",
    "                                                     prompt_type='basic',\n",
    "                                                     use_sysmsg=True)\n",
    "        end_time1 = time.time()\n",
    "        gen_time_role = end_time1 - start_time1\n",
    "\n",
    "        # Generate gene sets without role prompt.\n",
    "        start_time2 = time.time()\n",
    "        llm_genes_norole = await llm2geneset.get_genes(aclient,\n",
    "                                                       descr_cleaned,\n",
    "                                                       model=model)\n",
    "        end_time2 = time.time()\n",
    "        gen_time_norole = end_time2 - start_time2\n",
    "\n",
    "        # Generate gene sets with reasoning.\n",
    "        start_time3 = time.time()\n",
    "        llm_genes_reason = await llm2geneset.get_genes(aclient,\n",
    "                                                       descr_cleaned,\n",
    "                                                       model=model, \n",
    "                                                       prompt_type='reason')\n",
    "        end_time3 = time.time()\n",
    "        gen_time_reasoning = end_time3 - start_time3\n",
    "\n",
    "        # Generate gene sets with confidence.\n",
    "        start_time4 = time.time()\n",
    "        llm_genes_conf = await llm2geneset.get_genes(aclient,\n",
    "                                                     descr_cleaned,\n",
    "                                                     model=model, \n",
    "                                                     prompt_type='conf')\n",
    "        end_time4 = time.time()\n",
    "        gen_time_conf = end_time4 - start_time4\n",
    "\n",
    "\n",
    "        # Assemble and save generation results.\n",
    "        gen_res = {}\n",
    "        gen_res[\"lib_name\"] = lib_name\n",
    "        gen_res[\"model\"] = model\n",
    "        gen_res[\"descr\"] = descr\n",
    "        gen_res[\"descr_cleaned\"] = descr_cleaned \n",
    "        gen_res[\"gen_time_role\"] = gen_time_role\n",
    "        gen_res[\"gen_time_norole\"] = gen_time_norole\n",
    "        gen_res[\"gen_time_reasoning\"] = gen_time_reasoning\n",
    "        gen_res[\"gen_time_conf\"] = gen_time_conf\n",
    "        gen_res[\"curated_genesets\"] = genes\n",
    "        gen_res[\"llm_genes_role\"] = llm_genes_role\n",
    "        gen_res[\"llm_genes_norole\"] = llm_genes_norole\n",
    "        gen_res[\"llm_genes_reason\"] = llm_genes_reason\n",
    "        gen_res[\"llm_genes_conf\"] = llm_genes_conf\n",
    "    \n",
    "        with open('libs_human/' + model + '/' + lib_name + '.json', 'w') as json_file:\n",
    "            json.dump(gen_res, json_file, indent=4)"
   ]
  },
  {
   "cell_type": "code",
   "execution_count": 12,
   "id": "9084cc22-0c91-45c9-a5ab-0e9f7c6f9c8d",
   "metadata": {
    "collapsed": true,
    "jupyter": {
     "outputs_hidden": true
    }
   },
   "outputs": [
    {
     "name": "stderr",
     "output_type": "stream",
     "text": [
      " 15%|██████████████████▎                                                                                                        | 271/1818 [00:05<00:16, 94.38it/s]"
     ]
    },
    {
     "name": "stdout",
     "output_type": "stream",
     "text": [
      "retrying\n",
      "No code blocks found\n",
      "List all the known genes directly and indirectly involved in the following biological process or cellular component \"\"\"Signaling By ERBB2 TMD/JMD Mutants\"\"\". Use the following JSON schema:\n",
      "```json\n",
      "{\n",
      "    \"type\": \"array\",\n",
      "    \"items\": {\n",
      "        \"type\": \"object\",\n",
      "        \"properties\": {\n",
      "            \"gene\": {\n",
      "                \"type\": \"string\",\n",
      "            }\n",
      "        },\n",
      "        \"required\": [\"gene\"]\n",
      "    }\n",
      "}\n",
      "```\n",
      "The field `gene` is a gene involved in the following biological process or cellular component: \"\"\"Signaling By ERBB2 TMD/JMD Mutants\"\"\". Use the HUGO Gene Nomenclature Committee (HGNC) gene abbreviations. Place the output in a JSON code block. Do not add any comments in the JSON code block.\n",
      "\n",
      "```json\n",
      "[\n",
      "    {\n",
      "        \"gene\": \"ERBB2\"\n",
      "    },\n",
      "    {\n",
      "        \"gene\": \"EGFR\"\n",
      "    },\n",
      "    {\n",
      "        \"gene\": \"GRB2\"\n",
      "    },\n",
      "    {\n",
      "        \"gene\": \"SHC1\"\n",
      "    },\n",
      "    {\n",
      "        \"gene\": \"PIK3CA\"\n",
      "    },\n",
      "    {\n",
      "        \"gene\": \"PTK2\"\n",
      "    },\n",
      "    {\n",
      "        \"gene\": \"SRC\"\n",
      "    },\n",
      "    {\n",
      "        \"gene\": \"MAPK1\"\n",
      "    },\n",
      "    {\n",
      "        \"gene\": \"MAPK3\"\n",
      "    },\n",
      "    {\n",
      "        \"gene\": \"GAB1\"\n",
      "    },\n",
      "    {\n",
      "        \"gene\": \"AKT1\"\n",
      "    },\n",
      "    {\n",
      "        \"gene\": \"AKT2\"\n",
      "    },\n",
      "    {\n",
      "        \"gene\": \"AKT3\"\n",
      "    },\n",
      "    {\n",
      "        \"gene\": \"STAT3\"\n",
      "    },\n",
      "    {\n",
      "        \"gene\": \"PLC\n"
     ]
    },
    {
     "name": "stderr",
     "output_type": "stream",
     "text": [
      " 26%|███████████████████████████████▎                                                                                          | 467/1818 [00:07<00:10, 128.47it/s]"
     ]
    },
    {
     "name": "stdout",
     "output_type": "stream",
     "text": [
      "retrying\n",
      "No code blocks found\n",
      "List all the known genes directly and indirectly involved in the following biological process or cellular component \"\"\"Signaling By PDGFR In Disease\"\"\". Use the following JSON schema:\n",
      "```json\n",
      "{\n",
      "    \"type\": \"array\",\n",
      "    \"items\": {\n",
      "        \"type\": \"object\",\n",
      "        \"properties\": {\n",
      "            \"gene\": {\n",
      "                \"type\": \"string\",\n",
      "            }\n",
      "        },\n",
      "        \"required\": [\"gene\"]\n",
      "    }\n",
      "}\n",
      "```\n",
      "The field `gene` is a gene involved in the following biological process or cellular component: \"\"\"Signaling By PDGFR In Disease\"\"\". Use the HUGO Gene Nomenclature Committee (HGNC) gene abbreviations. Place the output in a JSON code block. Do not add any comments in the JSON code block.\n",
      "\n",
      "```json\n",
      "[\n",
      "    {\"gene\": \"PDGFRA\"},\n",
      "    {\"gene\": \"PDGFRB\"},\n",
      "    {\"gene\": \"PIK3CA\"},\n",
      "    {\"gene\": \"PIK3R1\"},\n",
      "    {\"gene\": \"PTEN\"},\n",
      "    {\"gene\": \"AKT1\"},\n",
      "    {\"gene\": \"AKT2\"},\n",
      "    {\"gene\": \"AKT3\"},\n",
      "    {\"gene\": \"MTOR\"},\n",
      "    {\"gene\": \"MAPK1\"},\n",
      "    {\"gene\": \"MAPK3\"},\n",
      "    {\"gene\": \"RAF1\"},\n",
      "    {\"gene\": \"BRAF\"},\n",
      "    {\"gene\": \"KRAS\"},\n",
      "    {\"gene\": \"HRAS\"},\n",
      "    {\"gene\": \"NRAS\"},\n",
      "    {\"gene\": \"SHC1\"},\n",
      "    {\"gene\": \"GRB2\"},\n",
      "    {\"gene\": \"SOS1\"},\n",
      "    {\"gene\": \"STAT1\"},\n",
      "    {\"gene\": \"STAT3\"},\n",
      "    {\"gene\": \"STAT5A\"},\n",
      "    {\"gene\": \"STAT5B\"},\n",
      "    {\"gene\": \"PLC\n"
     ]
    },
    {
     "name": "stderr",
     "output_type": "stream",
     "text": [
      " 51%|█████████████████████████████████████████████████████████████▋                                                            | 919/1818 [00:10<00:05, 162.20it/s]"
     ]
    },
    {
     "name": "stdout",
     "output_type": "stream",
     "text": [
      "retrying\n",
      "No code blocks found\n",
      "List all the known genes directly and indirectly involved in the following biological process or cellular component \"\"\"Potential Therapeutics For SARS\"\"\". Use the following JSON schema:\n",
      "```json\n",
      "{\n",
      "    \"type\": \"array\",\n",
      "    \"items\": {\n",
      "        \"type\": \"object\",\n",
      "        \"properties\": {\n",
      "            \"gene\": {\n",
      "                \"type\": \"string\",\n",
      "            }\n",
      "        },\n",
      "        \"required\": [\"gene\"]\n",
      "    }\n",
      "}\n",
      "```\n",
      "The field `gene` is a gene involved in the following biological process or cellular component: \"\"\"Potential Therapeutics For SARS\"\"\". Use the HUGO Gene Nomenclature Committee (HGNC) gene abbreviations. Place the output in a JSON code block. Do not add any comments in the JSON code block.\n",
      "\n",
      "```json\n",
      "[\n",
      "    {\n",
      "        \"gene\": \"ACE2\"\n",
      "    },\n",
      "    {\n",
      "        \"gene\": \"TMPRSS2\"\n",
      "    },\n",
      "    {\n",
      "        \"gene\": \"DPP4\"\n",
      "    },\n",
      "    {\n",
      "        \"gene\": \"AGT\"\n",
      "    },\n",
      "    {\n",
      "        \"gene\": \"IFITM3\"\n",
      "    },\n",
      "    {\n",
      "        \"gene\": \"ADAM17\"\n",
      "    },\n",
      "    {\n",
      "        \"gene\": \"TMEM16F\"\n",
      "    },\n",
      "    {\n",
      "        \"gene\": \"CTS\n"
     ]
    },
    {
     "name": "stderr",
     "output_type": "stream",
     "text": [
      "100%|██████████████████████████████████████████████████████████████████████████████████████████████████████████████████████████| 1818/1818 [00:55<00:00, 32.48it/s]\n",
      "100%|██████████████████████████████████████████████████████████████████████████████████████████████████████████████████████████| 1818/1818 [00:37<00:00, 49.06it/s]\n",
      " 64%|████████████████████████████████████████████████████████████████████████████▊                                            | 1155/1818 [00:11<00:05, 121.49it/s]"
     ]
    },
    {
     "name": "stdout",
     "output_type": "stream",
     "text": [
      "retrying\n",
      "No code blocks found\n",
      "List all the known genes directly and indirectly involved in the following biological process or cellular component \"\"\"SARS-CoV Infections\"\"\". Use the following JSON schema:\n",
      "```json\n",
      "{\n",
      "    \"type\": \"array\",\n",
      "    \"items\": {\n",
      "        \"type\": \"object\",\n",
      "        \"properties\": {\n",
      "            \"gene\": {\n",
      "                \"type\": \"string\",\n",
      "            }\n",
      "        },\n",
      "        \"required\": [\"gene\"]\n",
      "    }\n",
      "}\n",
      "```\n",
      "The field `gene` is a gene involved in the following biological process or cellular component: \"\"\"SARS-CoV Infections\"\"\". Use the HUGO Gene Nomenclature Committee (HGNC) gene abbreviations. Place the output in a JSON code block. Do not add any comments in the JSON code block.\n",
      "\n",
      "```json\n",
      "[\n",
      "    {\n",
      "        \"gene\": \"ACE2\"\n",
      "    },\n",
      "    {\n",
      "        \"gene\": \"TMPRSS2\"\n",
      "    },\n",
      "    {\n",
      "        \"gene\": \"DPP4\"\n",
      "    },\n",
      "    {\n",
      "        \"gene\": \"CTS\n"
     ]
    },
    {
     "name": "stderr",
     "output_type": "stream",
     "text": [
      " 71%|██████████████████████████████████████████████████████████████████████████████████████▍                                  | 1298/1818 [00:12<00:03, 170.90it/s]"
     ]
    },
    {
     "name": "stdout",
     "output_type": "stream",
     "text": [
      "retrying\n",
      "string indices must be integers, not 'str'\n",
      "List all the known genes directly and indirectly involved in the following biological process or cellular component \"\"\"HIV Life Cycle\"\"\". Use the following JSON schema:\n",
      "```json\n",
      "{\n",
      "    \"type\": \"array\",\n",
      "    \"items\": {\n",
      "        \"type\": \"object\",\n",
      "        \"properties\": {\n",
      "            \"gene\": {\n",
      "                \"type\": \"string\",\n",
      "            }\n",
      "        },\n",
      "        \"required\": [\"gene\"]\n",
      "    }\n",
      "}\n",
      "```\n",
      "The field `gene` is a gene involved in the following biological process or cellular component: \"\"\"HIV Life Cycle\"\"\". Use the HUGO Gene Nomenclature Committee (HGNC) gene abbreviations. Place the output in a JSON code block. Do not add any comments in the JSON code block.\n",
      "\n",
      "```json\n",
      "[\n",
      "    { \"gene\": \"CD4\" },\n",
      "    { \"gene\": \"CCR5\" },\n",
      "    { \"gene\": \"CXCR4\" },\n",
      "    { \"gene\": \"FURIN\" },\n",
      "    { \"gene\": \"APOBEC3G\" },\n",
      "    { \"gene\": \"APOBEC3H\" },\n",
      "    { \"gene\": \"EIF2AK2\" },\n",
      "    { \"gene\": \"TRIM5\" },\n",
      "    { \"gene\": \"SAMHD1\" },\n",
      "    { \"gene\": \"MOV10\" },\n",
      "    { \"gene\": \"SERINC3\" },\n",
      "    { \"gene\": \"SERINC5\" },\n",
      "    { \"gene\": \"PPIA\" },\n",
      "    { \"gene\": \"PSIP1\" },\n",
      "    { \"gene\": \"LEDGF\" },\n",
      "    { \"gene\": \"NUP153\" },\n",
      "    { \"gene\": \"NUP62\" },\n",
      "    { \"gene\": \"KPNA2\" },\n",
      "    { \"gene\": \"TNPO3\" },\n",
      "    { \"gene\": \"ZNRD1\" },\n",
      "    { \"gene\": \"BST2\" },\n",
      "    { \"gene\": \"CXCL12\" },\n",
      "    { \"gene\": \"TNF\" },\n",
      "    { \"gene\": \"IFNB1\" },\n",
      "    { \"gene\": \"MX1\" },\n",
      "    { \"gene\": \"OAS1\" },\n",
      "    { \"gene\": \"OAS2\" },\n",
      "    { \"gene\": \"OAS3\" },\n",
      "    { \"gene\": \"RSAD2\" },\n",
      "    { \"gene\": \"TARDBP\" },\n",
      "    { \"gene\": \"IL2\" },\n",
      "    { \"gene\": \"TP53\" },\n",
      "    { \"gene\": \"STAT1\" },\n",
      "    { \"gene\": \"STAT2\" },\n",
      "    { \"gene\": \"STAT3\" },\n",
      "    { \"gene\": \"STAT5A\" },\n",
      "    { \"gene\": \"STAT5B\" },\n",
      "    { \"gene\": \"IFITM1\" },\n",
      "    { \"gene\": \"IFITM2\" },\n",
      "    { \"gene\": \"IFITM3\" },\n",
      "    { \"gene\": \"TNFSF10\" },\n",
      "    { \"gene\": \"TNP03\" },\n",
      "    { \"gene\": \"RANBP2\" },\n",
      "    { \"gene\": \"MLH1\" },\n",
      "    { \"gene\": \"PRKDC\" },\n",
      "    \"BRCA1\",\n",
      "    \"XRCC5\",\n",
      "    \"XRCC6\",\n",
      "    \"GSK3B\",\n",
      "    \"SIRT1\",\n",
      "    \"NFKB1\",\n",
      "    \"RELA\",\n",
      "    \"HSP90AA1\",\n",
      "    \"HSPD1\",\n",
      "    \"HSPA1A\",\n",
      "    \"HSPA5\",\n",
      "    \"HSPA8\",\n",
      "    { \"gene\": \"PRMT6\" },\n",
      "    { \"gene\": \"DHFR\" },\n",
      "    { \"gene\": \"IL7\" },\n",
      "    { \"gene\": \"IL15\" },\n",
      "    { \"gene\": \"CYP3A4\" },\n",
      "    { \"gene\": \"CYPA\" },\n",
      "    { \"gene\": \"PTPN6\" }\n",
      "]\n",
      "```\n"
     ]
    },
    {
     "name": "stderr",
     "output_type": "stream",
     "text": [
      " 76%|████████████████████████████████████████████████████████████████████████████████████████████▏                            | 1385/1818 [00:13<00:03, 142.95it/s]"
     ]
    },
    {
     "name": "stdout",
     "output_type": "stream",
     "text": [
      "retrying\n",
      "list indices must be integers or slices, not str\n",
      "List all the known genes directly and indirectly involved in the following biological process or cellular component \"\"\"FGFR3b Ligand Binding And Activation\"\"\". Use the following JSON schema:\n",
      "```json\n",
      "{\n",
      "    \"type\": \"array\",\n",
      "    \"items\": {\n",
      "        \"type\": \"object\",\n",
      "        \"properties\": {\n",
      "            \"gene\": {\n",
      "                \"type\": \"string\",\n",
      "            }\n",
      "        },\n",
      "        \"required\": [\"gene\"]\n",
      "    }\n",
      "}\n",
      "```\n",
      "The field `gene` is a gene involved in the following biological process or cellular component: \"\"\"FGFR3b Ligand Binding And Activation\"\"\". Use the HUGO Gene Nomenclature Committee (HGNC) gene abbreviations. Place the output in a JSON code block. Do not add any comments in the JSON code block.\n",
      "\n",
      "```json\n",
      "[\n",
      "    {\"gene\": \"FGFR3\"},\n",
      "    {\"gene\": \"FGF1\"},\n",
      "    {\"gene\": \"FGF2\"},\n",
      "    {\"gene\": \"FGF3\"},\n",
      "    {\"gene\": \"FGF4\"},\n",
      "    {\"gene\": \"FGF5\"},\n",
      "    {\"gene\": \"FGF6\"},\n",
      "    {\"gene\": \"FGF7\"},  // Also known as KGFR\n",
      "    {\"gene\": \"FGF8\"},\n",
      "    {\"gene\": \"FGF9\"},\n",
      "    {\"gene\": \"FGF10\"},\n",
      "    {\"gene\": \"FGF16\"},\n",
      "    {\"gene\": \"FGF18\"},\n",
      "    {\"gene\": \"FGF20\"},\n",
      "    {\"gene\": \"FGF21\"},\n",
      "    {\"gene\": \"FGF22\"},\n",
      "    {\"gene\": \"FGF23\"},\n",
      "    {\"gene\": \"HS6ST1\"},\n",
      "    {\"gene\": \"HS6ST2\"},\n",
      "    {\"gene\": \"HS6ST3\"},\n",
      "    {\"gene\": \"HS2ST1\"},\n",
      "    {\"gene\": \"HSPG2\"},\n",
      "    {\"gene\": \"PDPK1\"},\n",
      "    {\"gene\": \"GRB2\"},\n",
      "    {\"gene\": \"SHC1\"},\n",
      "    {\"gene\": \"GAB1\"},\n",
      "    {\"gene\": \"SRC\"},\n",
      "    {\"gene\": \"PIK3CA\"},\n",
      "    {\"gene\": \"PIK3CB\"},\n",
      "    {\"gene\": \"PIK3CD\"},\n",
      "    {\"gene\": \"PIK3CG\"},\n",
      "    {\"gene\": \"PIK3R1\"},\n",
      "    {\"gene\": \"PIK3R2\"},\n",
      "    {\"gene\": \"PIK3R3\"},\n",
      "    {\"gene\": \"SOS1\"},\n",
      "    {\"gene\": \"RASGRF1\"},\n",
      "    {\"gene\": \"HRAS\"},\n",
      "    {\"gene\": \"KRAS\"},\n",
      "    {\"gene\": \"NRAS\"},\n",
      "    {\"gene\": \"RAF1\"},\n",
      "    {\"gene\": \"BRAF\"},\n",
      "    {\"gene\": \"MAP2K1\"},\n",
      "    {\"gene\": \"MAP2K2\"},\n",
      "    {\"gene\": \"MAPK1\"},\n",
      "    {\"gene\": \"MAPK3\"},\n",
      "    {\"gene\": \"PLCG1\"},\n",
      "    {\"gene\": \"PLCG2\"},\n",
      "    {\"gene\": \"STAT1\"},\n",
      "    {\"gene\": \"STAT3\"}\n",
      "]\n",
      "```\n"
     ]
    },
    {
     "name": "stderr",
     "output_type": "stream",
     "text": [
      "100%|██████████████████████████████████████████████████████████████████████████████████████████████████████████████████████████| 1818/1818 [00:59<00:00, 30.61it/s]\n",
      " 73%|███████████████████████████████████████████████████████████████████████████████████████▊                                 | 1320/1818 [00:12<00:03, 156.61it/s]"
     ]
    },
    {
     "name": "stdout",
     "output_type": "stream",
     "text": [
      "retrying\n",
      "No code blocks found\n",
      "List all the known genes directly and indirectly involved in the following biological process or cellular component \"\"\"Activation Of TRKA Receptors\"\"\". Use the following JSON schema:\n",
      "```json\n",
      "{\n",
      "    \"type\": \"array\",\n",
      "    \"items\": {\n",
      "        \"type\": \"object\",\n",
      "        \"properties\": {\n",
      "            \"gene\": {\n",
      "                \"type\": \"string\",\n",
      "            }\n",
      "        },\n",
      "        \"required\": [\"gene\"]\n",
      "    }\n",
      "}\n",
      "```\n",
      "The field `gene` is a gene involved in the following biological process or cellular component: \"\"\"Activation Of TRKA Receptors\"\"\". Use the HUGO Gene Nomenclature Committee (HGNC) gene abbreviations. Place the output in a JSON code block. Do not add any comments in the JSON code block.\n",
      "\n",
      "```json\n",
      "[\n",
      "    {\n",
      "        \"gene\": \"NTRK1\"\n",
      "    },\n",
      "    {\n",
      "        \"gene\": \"NGF\"\n",
      "    },\n",
      "    {\n",
      "        \"gene\": \"SHC1\"\n",
      "    },\n",
      "    {\n",
      "        \"gene\": \"GRB2\"\n",
      "    },\n",
      "    {\n",
      "        \"gene\": \"SOS1\"\n",
      "    },\n",
      "    {\n",
      "        \"gene\": \"PIK3R1\"\n",
      "    },\n",
      "    {\n",
      "        \"gene\": \"PIK3CA\"\n",
      "    },\n",
      "    {\n",
      "        \"gene\": \"PLC\n"
     ]
    },
    {
     "name": "stderr",
     "output_type": "stream",
     "text": [
      "100%|██████████████████████████████████████████████████████████████████████████████████████████████████████████████████████████| 1818/1818 [00:51<00:00, 35.05it/s]\n"
     ]
    }
   ],
   "source": [
    "# Generate gene sets for ensembling.\n",
    "aclient = openai.AsyncClient()\n",
    "models = [\"gpt-3.5-turbo-0125\", \"gpt-4o-2024-05-13\"]\n",
    "for model in models:\n",
    "    for lib_name in lib_names:\n",
    "        with open(\"libs_human/\" + model + \"/\" + lib_name + \".json\") as f:\n",
    "            gen_res = json.load(f)\n",
    "\n",
    "        for i in range(4):\n",
    "            start_time = time.time()\n",
    "            gen_res[\"llm_ensemble_\" + str(i)] = await llm2geneset.get_genes(aclient,\n",
    "                                                                            gen_res[\"descr_cleaned\"],\n",
    "                                                                            model=model)\n",
    "            end_time = time.time()\n",
    "            gen_res[\"gen_time_ensemble_\" + str(i)] = end_time - start_time\n",
    "\n",
    "        with open('libs_human/' + model + '/' + lib_name + '.json', 'w') as json_file:\n",
    "            json.dump(gen_res, json_file, indent=4)"
   ]
  },
  {
   "cell_type": "code",
   "execution_count": 34,
   "id": "82bcc58a-3239-4598-aebe-51fe63189b27",
   "metadata": {},
   "outputs": [
    {
     "data": {
      "text/plain": [
       "['Reactome_2022', 'WikiPathway_2023_Human']"
      ]
     },
     "execution_count": 34,
     "metadata": {},
     "output_type": "execute_result"
    }
   ],
   "source": [
    "lib_names"
   ]
  },
  {
   "cell_type": "code",
   "execution_count": null,
   "id": "e71abd13-70f0-4f9c-b718-efd94c4ce4a3",
   "metadata": {
    "scrolled": true
   },
   "outputs": [
    {
     "name": "stdout",
     "output_type": "stream",
     "text": [
      "gpt-3.5-turbo-0125\n",
      "Reactome_2022\n"
     ]
    },
    {
     "name": "stderr",
     "output_type": "stream",
     "text": [
      " 20%|███████▉                                | 363/1818 [03:01<11:55,  2.03it/s]"
     ]
    },
    {
     "name": "stdout",
     "output_type": "stream",
     "text": [
      "Attempt 0 failed with error: Server disconnected\n"
     ]
    },
    {
     "name": "stderr",
     "output_type": "stream",
     "text": [
      "100%|███████████████████████████████████████| 1818/1818 [15:10<00:00,  2.00it/s]\n",
      " 37%|██████████████▌                         | 664/1818 [05:32<09:17,  2.07it/s]"
     ]
    },
    {
     "name": "stdout",
     "output_type": "stream",
     "text": [
      "Attempt 0 failed with error: Server disconnected\n"
     ]
    },
    {
     "name": "stderr",
     "output_type": "stream",
     "text": [
      "100%|███████████████████████████████████████| 1818/1818 [15:10<00:00,  2.00it/s]\n",
      " 89%|██████████████████████████████████    | 1627/1818 [00:13<00:01, 139.00it/s]"
     ]
    },
    {
     "name": "stdout",
     "output_type": "stream",
     "text": [
      "retrying\n",
      "string indices must be integers, not 'str'\n",
      " Stress is a stimulus or a succession of stimuli tending to disrupt the homeostasis of an organism. An organism is consisting of a multitude of cells that singly undergo the effects of external factors that disturb or upset their homeostatic regulation. Stimuli acting as potential stressors are numerous, and include physical agents (ionizing radiation), non-physiological oxygen levels (hypoxia, hyperoxia) and chemotherapeutics. Lastly, also senescence, a physiological process occurring in all organisms, can be considered as a potential stressor. The cell response to multiple oxidative stresses involves mitochondria, since these organelles represent the major source of Reactive Oxygen Species (ROS) that drive the occurrence of pathological conditions and ageing by activating specific signalling pathways. Nevertheless, under physiological conditions the cells are able to exert an antioxidant response which, controlling ROS/Reactive Nitrogen Species (RNS) homeostasis, is involved in mediating cell differentiation, proliferation and migration. Thus, this review focuses the attention to the role played by mitochondria in the physiological and non-physiological signalling responses of eukaryotic cells to some oxidative stresses, in order to identify potential therapeutic targets to counteract oxidative stress effects and mitochondrial-related pathologies.\n",
      "You are an expert that wrote the above abstract on the biological process or cellular component \"\"\"Cellular Responses To Stimuli\"\"\". List all the known genes directly and indirectly involved in \"\"\"Cellular Responses To Stimuli\"\"\". Use the following JSON schema:\n",
      "```json\n",
      "{\n",
      "    \"type\": \"array\",\n",
      "    \"items\": {\n",
      "        \"type\": \"object\",\n",
      "        \"properties\": {\n",
      "            \"gene\": {\n",
      "                \"type\": \"string\",\n",
      "            }\n",
      "        },\n",
      "        \"required\": [\"gene\"]\n",
      "    }\n",
      "}\n",
      "```\n",
      "The field `gene` is a gene involved in the following biological process or cellular component: \"\"\"Cellular Responses To Stimuli\"\"\". Use the HUGO Gene Nomenclature Committee (HGNC) gene abbreviations. Place the output in a JSON code block. Do not add any comments in the JSON code block.\n",
      "\n",
      "```json\n",
      "{\n",
      "    \"genes\": [\n",
      "        {\"gene\": \"NFE2L2\"},\n",
      "        {\"gene\": \"MT-ND1\"},\n",
      "        {\"gene\": \"MT-ND2\"},\n",
      "        {\"gene\": \"MT-CO3\"},\n",
      "        {\"gene\": \"MT-CYB\"},\n",
      "        {\"gene\": \"SOD1\"},\n",
      "        {\"gene\": \"CAT\"}\n",
      "    ]\n",
      "}\n",
      "```\n"
     ]
    },
    {
     "name": "stderr",
     "output_type": "stream",
     "text": [
      "100%|███████████████████████████████████████| 1818/1818 [00:35<00:00, 51.65it/s]\n"
     ]
    },
    {
     "name": "stdout",
     "output_type": "stream",
     "text": [
      "gpt-3.5-turbo-0125\n",
      "WikiPathway_2023_Human\n"
     ]
    },
    {
     "name": "stderr",
     "output_type": "stream",
     "text": [
      "  6%|██▎                                       | 45/801 [00:22<05:44,  2.19it/s]"
     ]
    },
    {
     "name": "stdout",
     "output_type": "stream",
     "text": [
      "Attempt 0 failed with error: Server disconnected\n"
     ]
    },
    {
     "name": "stderr",
     "output_type": "stream",
     "text": [
      "100%|█████████████████████████████████████████| 801/801 [06:41<00:00,  2.00it/s]\n",
      "100%|█████████████████████████████████████████| 801/801 [06:41<00:00,  2.00it/s]\n",
      "100%|█████████████████████████████████████████| 801/801 [00:32<00:00, 24.30it/s]\n"
     ]
    },
    {
     "name": "stdout",
     "output_type": "stream",
     "text": [
      "gpt-4o-2024-05-13\n",
      "Reactome_2022\n"
     ]
    },
    {
     "name": "stderr",
     "output_type": "stream",
     "text": [
      " 24%|█████████▋                              | 438/1818 [03:39<12:02,  1.91it/s]"
     ]
    },
    {
     "name": "stdout",
     "output_type": "stream",
     "text": [
      "Attempt 0 failed with error: Server disconnected\n"
     ]
    },
    {
     "name": "stderr",
     "output_type": "stream",
     "text": [
      " 82%|████████████████████████████████       | 1492/1818 [12:27<02:35,  2.10it/s]"
     ]
    }
   ],
   "source": [
    "# Generate gene sets using RAG.\n",
    "aclient = openai.AsyncClient()\n",
    "models = [\"gpt-3.5-turbo-0125\", \"gpt-4o-2024-05-13\"]\n",
    "for model in models:    \n",
    "    for lib_name in lib_names:\n",
    "        print(model)\n",
    "        print(lib_name)\n",
    "        with open(\"libs_human/\" + model + \"/\" + lib_name + \".json\") as f:\n",
    "            gen_res = json.load(f)\n",
    "        descr_cleaned = gen_res[\"descr_cleaned\"]\n",
    "\n",
    "\n",
    "        start_time = time.time()\n",
    "        pmids = await llm2geneset.esearch_async(descr_cleaned, \"pubmed\", 1)\n",
    "        pmids_cleaned = []\n",
    "        for i in pmids:\n",
    "            if len(i)>0:\n",
    "                pmids_cleaned.append(i[0])\n",
    "            else:\n",
    "                pmids_cleaned.append(\"\")\n",
    "\n",
    "\n",
    "        abstracts = await llm2geneset.efetch_pubmed_async([[i] for i in pmids_cleaned])\n",
    "        context = []\n",
    "        for x in abstracts:\n",
    "            if len(x) > 0:\n",
    "                context.append(x[0]['abstract'])\n",
    "            else:\n",
    "                context.append(\"\")\n",
    "        \n",
    "        \n",
    "        llm_single_relevant_abstract = await llm2geneset.get_genes_context(aclient,\n",
    "                                                                          context,\n",
    "                                                                          descr_cleaned, \n",
    "                                                                          model = model)\n",
    "        llm_genes_rag = [i['parsed_genes'] for i in llm_single_relevant_abstract]\n",
    "        end_time = time.time()\n",
    "        gen_time_rag = end_time - start_time\n",
    "\n",
    "        gen_res[\"gen_time_rag\"] = gen_time_rag\n",
    "        gen_res[\"llm_genes_rag\"] = llm_genes_rag\n",
    "        \n",
    "        with open('libs_human/' + model + '/' + lib_name + '.json', 'w') as json_file:\n",
    "            json.dump(gen_res, json_file, indent=4)"
   ]
  },
  {
   "cell_type": "code",
   "execution_count": null,
   "id": "1c3effaf-cac8-44e5-bcd7-a04f70c8b6eb",
   "metadata": {},
   "outputs": [],
   "source": []
  }
 ],
 "metadata": {
  "kernelspec": {
   "display_name": "Python 3 (ipykernel)",
   "language": "python",
   "name": "python3"
  },
  "language_info": {
   "codemirror_mode": {
    "name": "ipython",
    "version": 3
   },
   "file_extension": ".py",
   "mimetype": "text/x-python",
   "name": "python",
   "nbconvert_exporter": "python",
   "pygments_lexer": "ipython3",
   "version": "3.12.4"
  }
 },
 "nbformat": 4,
 "nbformat_minor": 5
}
