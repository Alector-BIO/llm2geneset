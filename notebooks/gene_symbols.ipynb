{
 "cells": [
  {
   "cell_type": "markdown",
   "id": "860d6b74-e094-4735-bede-b4408eefd9c9",
   "metadata": {},
   "source": [
    "# Standard Gene Symbols\n",
    "Uses biomaRt to get standard gene symbols from Ensembl.\n",
    "\n",
    "This runs in the `benchmark_env` conda environment."
   ]
  },
  {
   "cell_type": "code",
   "execution_count": 1,
   "id": "2a1ceed9-7a66-4e35-b379-0871477b3751",
   "metadata": {},
   "outputs": [
    {
     "name": "stderr",
     "output_type": "stream",
     "text": [
      "── \u001b[1mAttaching core tidyverse packages\u001b[22m ─────────────────────────────────────────────────────────────────────────────────────────────────────────── tidyverse 2.0.0 ──\n",
      "\u001b[32m✔\u001b[39m \u001b[34mdplyr    \u001b[39m 1.1.4     \u001b[32m✔\u001b[39m \u001b[34mreadr    \u001b[39m 2.1.5\n",
      "\u001b[32m✔\u001b[39m \u001b[34mforcats  \u001b[39m 1.0.0     \u001b[32m✔\u001b[39m \u001b[34mstringr  \u001b[39m 1.5.1\n",
      "\u001b[32m✔\u001b[39m \u001b[34mggplot2  \u001b[39m 3.5.1     \u001b[32m✔\u001b[39m \u001b[34mtibble   \u001b[39m 3.2.1\n",
      "\u001b[32m✔\u001b[39m \u001b[34mlubridate\u001b[39m 1.9.3     \u001b[32m✔\u001b[39m \u001b[34mtidyr    \u001b[39m 1.3.1\n",
      "\u001b[32m✔\u001b[39m \u001b[34mpurrr    \u001b[39m 1.0.2     \n",
      "── \u001b[1mConflicts\u001b[22m ───────────────────────────────────────────────────────────────────────────────────────────────────────────────────────────── tidyverse_conflicts() ──\n",
      "\u001b[31m✖\u001b[39m \u001b[34mdplyr\u001b[39m::\u001b[32mfilter()\u001b[39m masks \u001b[34mstats\u001b[39m::filter()\n",
      "\u001b[31m✖\u001b[39m \u001b[34mdplyr\u001b[39m::\u001b[32mlag()\u001b[39m    masks \u001b[34mstats\u001b[39m::lag()\n",
      "\u001b[31m✖\u001b[39m \u001b[34mdplyr\u001b[39m::\u001b[32mselect()\u001b[39m masks \u001b[34mbiomaRt\u001b[39m::select()\n",
      "\u001b[36mℹ\u001b[39m Use the conflicted package (\u001b[3m\u001b[34m<http://conflicted.r-lib.org/>\u001b[39m\u001b[23m) to force all conflicts to become errors\n"
     ]
    }
   ],
   "source": [
    "library(biomaRt)\n",
    "library(tidyverse)"
   ]
  },
  {
   "cell_type": "code",
   "execution_count": 13,
   "id": "c7a201f2-1648-4ef8-8ae0-320c25120de7",
   "metadata": {},
   "outputs": [],
   "source": [
    "ensembl <- useMart(\"ensembl\", dataset = \"hsapiens_gene_ensembl\")\n",
    "attributes <- listAttributes(ensembl)$name\n",
    "genes <- getBM(attributes = c('ensembl_gene_id', 'gene_biotype', 'hgnc_symbol'), mart = ensembl)"
   ]
  },
  {
   "cell_type": "code",
   "execution_count": 14,
   "id": "87db818d-a712-4bea-aa56-624e4bb7df8d",
   "metadata": {},
   "outputs": [],
   "source": [
    "genes <- genes |> dplyr::filter(hgnc_symbol != \"\") |> dplyr::select(hgnc_symbol)"
   ]
  },
  {
   "cell_type": "code",
   "execution_count": 15,
   "id": "2c357b9b-9faa-40ee-86b8-6a39c7a74033",
   "metadata": {},
   "outputs": [],
   "source": [
    "cat(unique(genes$hgnc_symbol), sep=\"\\n\", file=\"hgnc_symbols.txt\")"
   ]
  }
 ],
 "metadata": {
  "kernelspec": {
   "display_name": "R",
   "language": "R",
   "name": "ir"
  },
  "language_info": {
   "codemirror_mode": "r",
   "file_extension": ".r",
   "mimetype": "text/x-r-source",
   "name": "R",
   "pygments_lexer": "r",
   "version": "4.3.3"
  }
 },
 "nbformat": 4,
 "nbformat_minor": 5
}
