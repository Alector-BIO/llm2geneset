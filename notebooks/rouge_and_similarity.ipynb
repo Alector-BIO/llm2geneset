{
 "cells": [
  {
   "cell_type": "code",
   "execution_count": 1,
   "id": "879f75de-d6f3-4b4d-90ea-9bd25db641bc",
   "metadata": {},
   "outputs": [],
   "source": [
    "import openai\n",
    "from pathlib import Path\n",
    "import json\n",
    "import llm2geneset\n",
    "import time\n",
    "import pandas as pd"
   ]
  },
  {
   "cell_type": "code",
   "execution_count": 2,
   "id": "0012b591-f165-456a-8bff-12eea1cbf34e",
   "metadata": {},
   "outputs": [],
   "source": [
    "# Generate gene sets using RAG.\n",
    "aclient = openai.AsyncClient()\n",
    "models = [\"gpt-3.5-turbo-0125\"]\n",
    "lib_names = [\"WikiPathway_2023_Human\"]#, \n",
    "            # \"Reactome_2022\", \n",
    "     #        \"WikiPathway_2023_Human\"]\n",
    "\n",
    "for model in models:    \n",
    "    for lib_name in lib_names:\n",
    "        with open(\"libs_human/\" + model + \"/\" + lib_name + \".json\") as f:\n",
    "            gen_res = json.load(f)\n",
    "        \n",
    "        test_sets = gen_res[\"curated_genesets\"][:5]\n",
    "        test_descr = gen_res[\"descr_cleaned\"][:5]\n",
    "        \n",
    "        #res_gsai = await llm2geneset.gsai(aclient,test_sets, model=\"gpt-4o\")"
   ]
  },
  {
   "cell_type": "code",
   "execution_count": 3,
   "id": "89313711-3104-47f6-ac09-0a06ac0a9053",
   "metadata": {},
   "outputs": [
    {
     "name": "stderr",
     "output_type": "stream",
     "text": [
      "100%|█████████████████████████████████████████████████████████████████████████████████████████████████████████████████████████████| 5/5 [00:16<00:00,  3.20s/it]\n"
     ]
    }
   ],
   "source": [
    "res = await llm2geneset.gs_proposal(aclient, test_sets, model='gpt-3.5-turbo')"
   ]
  },
  {
   "cell_type": "code",
   "execution_count": 5,
   "id": "acbed0e9-9818-4cdc-9afd-2a15a1b6f517",
   "metadata": {},
   "outputs": [
    {
     "name": "stdout",
     "output_type": "stream",
     "text": [
      "['Glutathione Metabolism', 'Alanine And Aspartate Metabolism', 'Translation Factors', 'Electron Transport Chain OXPHOS System In Mitochondria', 'GPCRs Other']\n"
     ]
    },
    {
     "data": {
      "text/plain": [
       "[[('Glutathione metabolism', 6.978629538210533e-26),\n",
       "  ('Oxidative stress response', 3.897265538162452e-05),\n",
       "  ('Detoxification', 5.7094578921790476e-05),\n",
       "  ('Pentose phosphate pathway', 0.009543830086742748)],\n",
       " [('Urea cycle', 5.026693560685718e-06),\n",
       "  ('Glutamate metabolism', 1.4184069535072626e-08),\n",
       "  ('Alanine metabolism', 2.207288074376485e-05),\n",
       "  ('Aspartate metabolism', 0.006035136712999557)],\n",
       " [('Translation', 9.317821851947818e-05),\n",
       "  ('Protein synthesis', 7.577169033923266e-29),\n",
       "  ('Regulation of translation', 3.590821222886102e-55),\n",
       "  ('Ribosome biogenesis', 1.0)],\n",
       " [('Electron transport chain', 2.177281205492984e-17),\n",
       "  ('Oxidative phosphorylation', 8.217974236978821e-38),\n",
       "  ('Cellular respiration', 0.000133168924229943),\n",
       "  ('Mitochondrial ATP synthesis', 2.0641012329502894e-18)],\n",
       " [('G protein-coupled receptor signaling pathway', 0.0003167898180095216),\n",
       "  ('Neurotransmitter receptor activity', 1.0),\n",
       "  ('Signal transduction', 1.0),\n",
       "  ('Regulation of hormonal secretion', 0.030300565823174308)]]"
      ]
     },
     "execution_count": 5,
     "metadata": {},
     "output_type": "execute_result"
    }
   ],
   "source": [
    "print(test_descr)\n",
    "res"
   ]
  },
  {
   "cell_type": "code",
   "execution_count": 72,
   "id": "9c6b4c28-94a0-430f-ae86-06575be9cea1",
   "metadata": {},
   "outputs": [
    {
     "name": "stderr",
     "output_type": "stream",
     "text": [
      "100%|██████████████████████████████████████████████████████████████████████████████████████████████████████████████████████████████████| 2/2 [00:13<00:00,  6.64s/it]\n"
     ]
    }
   ],
   "source": [
    "res = await llm2geneset.gs_proposal(aclient, test_sets[:2], model=\"gpt-4o\")"
   ]
  },
  {
   "cell_type": "code",
   "execution_count": 9,
   "id": "48889e81-dfde-4f9d-b394-d7a04ebd6b51",
   "metadata": {},
   "outputs": [
    {
     "name": "stderr",
     "output_type": "stream",
     "text": [
      "100%|████████████████████████████████████████████████████████████████████████████████████████████████████████████████████████████████| 3/3 [00:09<00:00,  3.13s/it]\n"
     ]
    }
   ],
   "source": [
    "testing = await llm2geneset.get_genes(aclient, res[0]) "
   ]
  },
  {
   "cell_type": "code",
   "execution_count": 37,
   "id": "6b60f7be-2d0b-419a-b044-5ef9d485f99a",
   "metadata": {},
   "outputs": [
    {
     "name": "stdout",
     "output_type": "stream",
     "text": [
      "['ABC Transporters', 'Lipid transport', 'Multidrug resistance']\n",
      "['ABCA2', 'ABCC4', 'ABCG8', 'ABCA3', 'ABCC5', 'ABCC2', 'ABCA1', 'ABCC3', 'ABCA6', 'ABCC8', 'ABCA7', 'ABCC9', 'ABCA4', 'ABCC6', 'ABCA5', 'TAP2', 'ABCA8', 'TAP1', 'ABCA9', 'ABCA10', 'ABCB10', 'ABCA12', 'ABCB11', 'ABCC10', 'ABCG1', 'ABCG4', 'ABCC1', 'ABCG5', 'ABCG2', 'CFTR', 'ABCB4', 'ABCB1', 'ABCD3', 'ABCD4', 'ABCB7', 'ABCB8', 'ABCB5', 'ABCB6', 'ABCB9', 'ABCA13', 'ABCC11', 'ABCC12', 'DEFB1', 'ABCD1', 'ABCD2']\n"
     ]
    },
    {
     "data": {
      "text/plain": [
       "9"
      ]
     },
     "execution_count": 37,
     "metadata": {},
     "output_type": "execute_result"
    }
   ],
   "source": [
    "print(res[0])\n",
    "print(test_sets[0])\n",
    "len(set(test_sets[0]).intersection(testing[2][\"parsed_genes\"]))"
   ]
  }
 ],
 "metadata": {
  "kernelspec": {
   "display_name": "Python 3 (ipykernel)",
   "language": "python",
   "name": "python3"
  },
  "language_info": {
   "codemirror_mode": {
    "name": "ipython",
    "version": 3
   },
   "file_extension": ".py",
   "mimetype": "text/x-python",
   "name": "python",
   "nbconvert_exporter": "python",
   "pygments_lexer": "ipython3",
   "version": "3.12.3"
  }
 },
 "nbformat": 4,
 "nbformat_minor": 5
}
