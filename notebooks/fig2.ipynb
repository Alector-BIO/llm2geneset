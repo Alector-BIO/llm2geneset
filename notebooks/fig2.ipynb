{
 "cells": [
  {
   "cell_type": "code",
   "execution_count": 1,
   "id": "6cdda31c-ed72-48d4-a3cc-61c8cac4a10b",
   "metadata": {},
   "outputs": [
    {
     "name": "stderr",
     "output_type": "stream",
     "text": [
      "── \u001b[1mAttaching core tidyverse packages\u001b[22m ─────────────────────────────────────────────────────────────────────────────────────────────────── tidyverse 2.0.0 ──\n",
      "\u001b[32m✔\u001b[39m \u001b[34mdplyr    \u001b[39m 1.1.4     \u001b[32m✔\u001b[39m \u001b[34mreadr    \u001b[39m 2.1.5\n",
      "\u001b[32m✔\u001b[39m \u001b[34mforcats  \u001b[39m 1.0.0     \u001b[32m✔\u001b[39m \u001b[34mstringr  \u001b[39m 1.5.1\n",
      "\u001b[32m✔\u001b[39m \u001b[34mggplot2  \u001b[39m 3.5.1     \u001b[32m✔\u001b[39m \u001b[34mtibble   \u001b[39m 3.2.1\n",
      "\u001b[32m✔\u001b[39m \u001b[34mlubridate\u001b[39m 1.9.3     \u001b[32m✔\u001b[39m \u001b[34mtidyr    \u001b[39m 1.3.1\n",
      "\u001b[32m✔\u001b[39m \u001b[34mpurrr    \u001b[39m 1.0.2     \n",
      "── \u001b[1mConflicts\u001b[22m ───────────────────────────────────────────────────────────────────────────────────────────────────────────────────── tidyverse_conflicts() ──\n",
      "\u001b[31m✖\u001b[39m \u001b[34mdplyr\u001b[39m::\u001b[32mfilter()\u001b[39m masks \u001b[34mstats\u001b[39m::filter()\n",
      "\u001b[31m✖\u001b[39m \u001b[34mdplyr\u001b[39m::\u001b[32mlag()\u001b[39m    masks \u001b[34mstats\u001b[39m::lag()\n",
      "\u001b[36mℹ\u001b[39m Use the conflicted package (\u001b[3m\u001b[34m<http://conflicted.r-lib.org/>\u001b[39m\u001b[23m) to force all conflicts to become errors\n"
     ]
    }
   ],
   "source": [
    "library(tidyverse)\n",
    "library(ggplot2)\n",
    "library(ggridges)"
   ]
  },
  {
   "cell_type": "code",
   "execution_count": 2,
   "id": "a5a4de1e-63b5-47e0-8576-b1dd36ddbe4f",
   "metadata": {},
   "outputs": [
    {
     "ename": "ERROR",
     "evalue": "Error in eval(expr, envir, enclos): object 'geneset_sz' not found\n",
     "output_type": "error",
     "traceback": [
      "Error in eval(expr, envir, enclos): object 'geneset_sz' not found\nTraceback:\n",
      "1. ggplot(geneset_sz, aes(x = lib_name, y = num_genes, fill = lib_name))"
     ]
    }
   ],
   "source": [
    "p <- ggplot(geneset_sz, aes(x = lib_name, y = num_genes, fill = lib_name)) +\n",
    "  geom_boxplot(outlier.shape = NA, alpha = 0.5) +  # Add a boxplot, outlier.shape = NA hides the outliers\n",
    "  geom_jitter(width = 0.2, alpha = 0.1, aes(color = lib_name)) +  # Add jittered points to show individual data points\n",
    "  stat_summary(fun = median, geom = \"text\", aes(label = round(..y.., 1)), vjust = -0.5, color = \"black\", size = 4) +  # Add median values\n",
    "  scale_y_log10() +  # Use a logarithmic scale for the y-axis\n",
    "  xlab(\"Library Name\") +\n",
    "  ylab(\"Number of Genes in Gene Set (log10 scale)\") +\n",
    "  theme_minimal(base_size = 15) +\n",
    "  theme(\n",
    "    panel.grid.major = element_blank(),\n",
    "    panel.grid.minor = element_blank(),\n",
    "    panel.background = element_blank(),\n",
    "    plot.background = element_blank(),\n",
    "    panel.border = element_blank(),\n",
    "    axis.line = element_line(),\n",
    "    axis.text.x = element_text(angle = 45, hjust = 1),\n",
    "    axis.title.x = element_text(face = \"bold\", size = 14),\n",
    "    axis.title.y = element_text(face = \"bold\", size = 14),\n",
    "    legend.position = \"none\",\n",
    "    strip.text = element_text(face = \"bold\", size = 12),\n",
    "    plot.margin = margin(1, 1, 1, 1, \"cm\")  # Top, right, bottom, left margins\n",
    "  )\n",
    "p"
   ]
  },
  {
   "cell_type": "code",
   "execution_count": null,
   "id": "440262cb-ada9-499a-8ec6-53a2dc89b722",
   "metadata": {},
   "outputs": [],
   "source": [
    "ggsave(\"figures/3_boxplot_number_of_genes_per_lib.pdf\", plot = p, device = \"pdf\", width = 8, height = 8, dpi = 300)"
   ]
  },
  {
   "cell_type": "code",
   "execution_count": null,
   "id": "62c317ea-02bf-41a8-b548-7821bdb09c37",
   "metadata": {},
   "outputs": [],
   "source": [
    "df <- readr::read_tsv(\"genes_overlap.tsv\")"
   ]
  },
  {
   "cell_type": "code",
   "execution_count": null,
   "id": "7d2d5529-a7ce-4a8b-8997-62108dd99223",
   "metadata": {},
   "outputs": [],
   "source": [
    "head(df)"
   ]
  },
  {
   "cell_type": "code",
   "execution_count": null,
   "id": "c100a8d6-09fa-42a3-b798-f27adf729f47",
   "metadata": {},
   "outputs": [],
   "source": [
    "# Compute the percentage of \"descr\" that has \"p_val_adj\" < 0.01 for each \"database\" and \"model\"\n",
    "percentage_df <- df %>%\n",
    "  filter(gene_set == \"llm_genes_role\") %>%\n",
    "  group_by(database, model) %>%\n",
    "  summarise(percentage = sum(p_val_adj < 0.01) / n() * 100)"
   ]
  },
  {
   "cell_type": "code",
   "execution_count": null,
   "id": "577f2b27-35b0-42ee-86bd-c1d2ea238b03",
   "metadata": {},
   "outputs": [],
   "source": [
    "# Create the bar plot\n",
    "p <- ggplot(percentage_df, aes(x = database, y = percentage, fill = model)) +\n",
    "  geom_bar(stat = \"identity\", position = position_dodge(width = 0.9)) +\n",
    "  scale_y_continuous(breaks = seq(0, 100, by = 10), limits = c(0, 100))+\n",
    "  labs(\n",
    "       x = \"Database\",\n",
    "       y = \"Percentage\",\n",
    "      fill = \"Model\") +\n",
    "  theme_minimal(base_size = 15) +\n",
    "  theme(\n",
    "    panel.grid.major = element_blank(),\n",
    "    panel.grid.minor = element_blank(),\n",
    "    panel.background = element_blank(),\n",
    "    plot.background = element_blank(),\n",
    "    panel.border = element_blank(),\n",
    "    axis.line = element_line(),\n",
    "    axis.text.x = element_text(angle = 45, hjust = 1),\n",
    "    axis.title.x = element_text(face = \"bold\", size = 14),\n",
    "    axis.title.y = element_text(face = \"bold\", size = 14),\n",
    "    strip.text = element_text(face = \"bold\", size = 12),\n",
    "    legend.position = \"bottom\",\n",
    "    plot.margin = margin(1, 1, 1, 1, \"cm\")  # Top, right, bottom, left margins\n",
    "  )\n",
    "p"
   ]
  },
  {
   "cell_type": "code",
   "execution_count": null,
   "id": "82bd3b0b-eff0-44bc-9557-f7db9ab74ce3",
   "metadata": {},
   "outputs": [],
   "source": [
    "ggsave(\"figures/4_percent_sig_compare_models.pdf\", plot = p, device = \"pdf\", width = 10, height = 8, dpi = 300)"
   ]
  },
  {
   "cell_type": "code",
   "execution_count": null,
   "id": "28f13213-7b80-4425-b9a6-e4fa16d3baab",
   "metadata": {},
   "outputs": [],
   "source": [
    "# Read the data\n",
    "df <- read.csv('genes_overlap.tsv', sep='\\t')\n",
    "\n",
    "# Define p-value thresholds\n",
    "p_value_thres <- c(0.001, 0.01, 0.1, 0.5)\n",
    "df_res <- data.frame()\n",
    "\n",
    "# Loop through each threshold\n",
    "for (thres in p_value_thres) {\n",
    "    \n",
    "    df_thres <- df %>%\n",
    "        filter(p_val < thres) %>%\n",
    "        group_by(database, model) %>%\n",
    "        summarise(gene_set = n()) %>%\n",
    "        ungroup() %>%\n",
    "        mutate(thres = thres)\n",
    "    \n",
    "    df_res <- bind_rows(df_res, df_thres)\n",
    "}\n",
    "\n",
    "# Plotting\n",
    " p <- ggplot(df_res, aes(x = factor(thres), y = gene_set, fill = model)) +\n",
    "    geom_bar(stat = \"identity\", position = \"dodge\") +\n",
    "    labs(\n",
    "         x = \"Threshold\",\n",
    "         y = \"Number of Significant Gene Sets\") +\n",
    "  theme_minimal(base_size = 15) +\n",
    "  theme(\n",
    "    panel.grid.major = element_blank(),\n",
    "    panel.grid.minor = element_blank(),\n",
    "    panel.background = element_blank(),\n",
    "    plot.background = element_blank(),\n",
    "    panel.border = element_blank(),\n",
    "    axis.line = element_line(),\n",
    "    axis.title.x = element_text(face = \"bold\", size = 14),\n",
    "    axis.title.y = element_text(face = \"bold\", size = 14),\n",
    "    strip.text = element_text(face = \"bold\", size = 12),\n",
    "    legend.position = \"bottom\",\n",
    "    plot.margin = margin(1, 1, 1, 1, \"cm\")  # Top, right, bottom, left margins\n",
    "  )\n",
    "\n",
    "p"
   ]
  },
  {
   "cell_type": "code",
   "execution_count": null,
   "id": "3e05fb16-902d-46b8-af24-850fb717b92a",
   "metadata": {},
   "outputs": [],
   "source": [
    "ggsave(\"figures/number_of_significant_gene_sets_by_different_pval_threshold.pdf\", plot = p, device = \"pdf\",width = 8, height = 8, dpi = 300)"
   ]
  },
  {
   "cell_type": "code",
   "execution_count": null,
   "id": "04a21e08-c13f-4827-bf15-8fb07bc42b50",
   "metadata": {},
   "outputs": [],
   "source": [
    "df <- read.csv('genes_overlap.tsv', sep='\\t')"
   ]
  },
  {
   "cell_type": "code",
   "execution_count": null,
   "id": "37177846-ea1a-43d6-8858-b4b32a4b496b",
   "metadata": {},
   "outputs": [],
   "source": [
    "head(df)"
   ]
  },
  {
   "cell_type": "code",
   "execution_count": null,
   "id": "aa97e11e-1872-4fcd-9b93-cace77c9adf5",
   "metadata": {
    "scrolled": true
   },
   "outputs": [],
   "source": [
    "# Compute the percentage of \"descr\" that has more than 1 try\n",
    "percentage_df <- df %>%\n",
    "  filter(gene_set == \"llm_genes_role\") %>%\n",
    "  group_by(database, model) %>%\n",
    "  summarise(percentage = sum(ntries > 1)/n()*100,\n",
    "           count = sum(ntries > 1), .groups = 'drop')"
   ]
  },
  {
   "cell_type": "code",
   "execution_count": null,
   "id": "95131518-b744-404e-966f-e6c3b216d9b2",
   "metadata": {},
   "outputs": [],
   "source": [
    "percentage_df"
   ]
  },
  {
   "cell_type": "code",
   "execution_count": null,
   "id": "13d3387d-90c3-4697-a0b9-64794f11d9ca",
   "metadata": {
    "scrolled": true
   },
   "outputs": [],
   "source": [
    "# Create the bar plot\n",
    "p <- ggplot(percentage_df, aes(x = database, y = percentage, fill = model)) +\n",
    "  geom_bar(stat = \"identity\", position = position_dodge(width = 0.9)) +\n",
    "  #scale_y_continuous(breaks = seq(0, 10, by = 1), limits = c(0, 1))+\n",
    "  labs(\n",
    "       x = \"Database\",\n",
    "       y = \"Percentage of n_tries > 1\",\n",
    "      fill = \"Model\") +\n",
    "  theme_minimal(base_size = 15) +\n",
    "  theme(\n",
    "    panel.grid.major = element_blank(),\n",
    "    panel.grid.minor = element_blank(),\n",
    "    panel.background = element_blank(),\n",
    "    plot.background = element_blank(),\n",
    "    panel.border = element_blank(),\n",
    "    axis.line = element_line(),\n",
    "    axis.text.x = element_text(angle = 45, hjust = 1),\n",
    "    axis.title.x = element_text(face = \"bold\", size = 14),\n",
    "    axis.title.y = element_text(face = \"bold\", size = 14),\n",
    "    strip.text = element_text(face = \"bold\", size = 12),\n",
    "    legend.position = \"bottom\",\n",
    "    plot.margin = margin(1, 1, 1, 1, \"cm\")  # Top, right, bottom, left margins\n",
    "  )\n",
    "p"
   ]
  },
  {
   "cell_type": "code",
   "execution_count": null,
   "id": "98473f19-48d4-43b5-a53b-9ae2097b0cda",
   "metadata": {},
   "outputs": [],
   "source": [
    "ggsave(\"figures/n_tries.pdf\", plot = p, device = \"pdf\",width = 8, height = 8, dpi = 300)"
   ]
  },
  {
   "cell_type": "code",
   "execution_count": null,
   "id": "4eb75a9b-b7ec-4b7b-a606-4d52244db8d6",
   "metadata": {},
   "outputs": [],
   "source": [
    "df <- read.csv('genes_overlap.tsv', sep='\\t')\n",
    "head(df)"
   ]
  },
  {
   "cell_type": "code",
   "execution_count": null,
   "id": "33219153-7909-427d-92e7-5a1dfb20d634",
   "metadata": {},
   "outputs": [],
   "source": [
    "unique(df$gene_set)"
   ]
  },
  {
   "cell_type": "code",
   "execution_count": null,
   "id": "3bd24db6-5a0b-4ad1-ab40-cee494d97233",
   "metadata": {},
   "outputs": [],
   "source": [
    "plot_df <- df %>%\n",
    "  filter(gene_set %in% c('llm_genes_norole', 'llm_genes_conf_high', 'llm_ensembled' ))\n",
    "\n"
   ]
  },
  {
   "cell_type": "code",
   "execution_count": null,
   "id": "1036cb7f-7718-4b8f-900a-ba9e9c2ff602",
   "metadata": {},
   "outputs": [],
   "source": [
    "# plot the number of duplixated genes in each database\n",
    "p <- ggplot(plot_df, aes(x = database, y = nllm, fill = gene_set)) +\n",
    "  geom_boxplot(outlier.shape = NA, alpha = 0.5) +  # Add a boxplot, outlier.shape = NA hides the outliers\n",
    "  scale_y_log10() +  # Use a logarithmic scale for the y-axis\n",
    "  xlab(\"Library Name\") +\n",
    "  ylab(\"LLM Gene Set Size (log10 scale)\") +\n",
    "  theme_minimal(base_size = 15) +\n",
    "  theme(\n",
    "    panel.grid.major = element_blank(),\n",
    "    panel.grid.minor = element_blank(),\n",
    "    panel.background = element_blank(),\n",
    "    plot.background = element_blank(),\n",
    "    panel.border = element_blank(),\n",
    "    axis.line = element_line(),\n",
    "    axis.text.x = element_text(angle = 45, hjust = 1),\n",
    "    axis.title.x = element_text(face = \"bold\", size = 14),\n",
    "    axis.title.y = element_text(face = \"bold\", size = 14),\n",
    "    legend.position = \"bottom\",\n",
    "    strip.text = element_text(face = \"bold\", size = 12),\n",
    "    plot.margin = margin(1, 1, 1, 1, \"cm\")  # Top, right, bottom, left margins\n",
    "  )\n",
    "p"
   ]
  },
  {
   "cell_type": "code",
   "execution_count": null,
   "id": "48c412b8-1100-45fe-ad55-57ec1ce521d1",
   "metadata": {},
   "outputs": [],
   "source": [
    "ggsave(\"figures/llm_geneset_size.pdf\", plot = p, device = \"pdf\",width = 8, height = 8, dpi = 300)"
   ]
  },
  {
   "cell_type": "code",
   "execution_count": null,
   "id": "2da4eae9-06ee-485c-9701-06ef5e1afef0",
   "metadata": {},
   "outputs": [],
   "source": [
    "df <- read.csv('tok_use.tsv', sep='\\t')\n",
    "head(df)"
   ]
  },
  {
   "cell_type": "code",
   "execution_count": null,
   "id": "2f989f0e-b2a7-451e-8083-182c11c1d093",
   "metadata": {},
   "outputs": [],
   "source": [
    "df <- df %>%\n",
    "  mutate(total_toks = in_toks + out_toks)"
   ]
  },
  {
   "cell_type": "code",
   "execution_count": null,
   "id": "3b98188d-260a-4ce1-bdbd-bcf0051f4865",
   "metadata": {},
   "outputs": [],
   "source": [
    "plot_df <- df %>%\n",
    "  filter(gene_set %in% c('llm_genes_reason', 'llm_genes_conf_high', 'llm_ensembled', 'llm_genes_norole'))\n"
   ]
  },
  {
   "cell_type": "code",
   "execution_count": null,
   "id": "71d84172-736f-4927-9d37-14f0b19e8f5d",
   "metadata": {},
   "outputs": [],
   "source": [
    "plot_df"
   ]
  },
  {
   "cell_type": "code",
   "execution_count": null,
   "id": "9f70fb02-733b-41e5-ab64-a2fe4a299669",
   "metadata": {},
   "outputs": [],
   "source": [
    "# Create the faceted bar plot\n",
    "p <- ggplot(plot_df, aes(x = lib_name, y = total_toks, fill = gene_set)) +\n",
    "  geom_bar(stat = \"identity\", position = position_dodge(width = 0.9)) +\n",
    "  scale_y_continuous() +\n",
    "  labs(\n",
    "    x = \"Database\",\n",
    "    y = \"Total Token Usage\",\n",
    "    fill = \"Model\"\n",
    "  ) +\n",
    "  facet_wrap(~ model) +  # Facet by gene_set and allow different y-scales for each facet\n",
    "  theme_minimal(base_size = 15) +\n",
    "  theme(\n",
    "    panel.grid.major = element_blank(),\n",
    "    panel.grid.minor = element_blank(),\n",
    "    panel.background = element_blank(),\n",
    "    plot.background = element_blank(),\n",
    "    panel.border = element_blank(),\n",
    "    axis.line = element_line(),\n",
    "    axis.text.x = element_text(angle = 45, hjust = 1),\n",
    "    axis.title.x = element_text(face = \"bold\", size = 14),\n",
    "    axis.title.y = element_text(face = \"bold\", size = 14),\n",
    "    strip.text = element_text(face = \"bold\", size = 12),\n",
    "    legend.position = \"bottom\",\n",
    "    plot.margin = margin(1, 1, 1, 1, \"cm\")  # Top, right, bottom, left margins\n",
    "  )\n",
    "\n",
    "p\n"
   ]
  },
  {
   "cell_type": "code",
   "execution_count": null,
   "id": "a687f49c-c78e-4b42-b32b-acfd71c0bb1e",
   "metadata": {},
   "outputs": [],
   "source": [
    "ggsave(\"figures/ntoken_by_method.pdf\", plot = p, device = \"pdf\",width = 9, height = 6, dpi = 300)"
   ]
  },
  {
   "cell_type": "code",
   "execution_count": null,
   "id": "c048e584-a603-43f5-a82c-50f49c7c8b75",
   "metadata": {},
   "outputs": [],
   "source": [
    "# gpt-3.5-turbo-0125 $0.50 / 1M input tokens\n",
    "# gpt-4o-2024-05-13 $$5.00 / 1M input tokens"
   ]
  },
  {
   "cell_type": "code",
   "execution_count": null,
   "id": "4d2f7424-c624-4981-b2aa-0cb19d3161bd",
   "metadata": {},
   "outputs": [],
   "source": [
    "df <- read.csv('tok_use.tsv', sep='\\t')\n",
    "df <- df %>%\n",
    "  mutate(total_toks = in_toks + out_toks)\n",
    "plot_df <- df %>%\n",
    "  filter(gene_set %in% c('llm_genes_role', 'llm_genes_norole', 'llm_genes_conf_high', 'llm_ensembled')) %>%\n",
    "  mutate(cost = case_when(\n",
    "    model == \"gpt-3.5-turbo-0125\" ~ total_toks * 0.5 / 1e6,\n",
    "    model == \"gpt-4o-2024-05-13\" ~ total_toks * 5 / 1e6\n",
    "  ))\n"
   ]
  },
  {
   "cell_type": "code",
   "execution_count": null,
   "id": "8bc96670-2f60-4e2d-b627-99950162d46b",
   "metadata": {},
   "outputs": [],
   "source": [
    "plot_df"
   ]
  },
  {
   "cell_type": "code",
   "execution_count": null,
   "id": "c2db9faf-91bf-46c8-9f4e-ae224b10f226",
   "metadata": {},
   "outputs": [],
   "source": [
    "# Create the faceted bar plot\n",
    "p <- ggplot(plot_df, aes(x = lib_name, y = cost, fill = model)) +\n",
    "  geom_bar(stat = \"identity\", position = position_dodge(width = 0.9)) +\n",
    "  scale_y_continuous() +\n",
    "  labs(\n",
    "    x = \"Database\",\n",
    "    y = \"Cost (in dollars)\",\n",
    "    fill = \"Model\"\n",
    "  ) +\n",
    "  facet_wrap(~ gene_set) +  # Facet by gene_set and allow different y-scales for each facet\n",
    "  theme_minimal(base_size = 15) +\n",
    "  theme(\n",
    "    panel.grid.major = element_blank(),\n",
    "    panel.grid.minor = element_blank(),\n",
    "    panel.background = element_blank(),\n",
    "    plot.background = element_blank(),\n",
    "    panel.border = element_blank(),\n",
    "    axis.line = element_line(),\n",
    "    axis.text.x = element_text(angle = 45, hjust = 1),\n",
    "    axis.title.x = element_text(face = \"bold\", size = 14),\n",
    "    axis.title.y = element_text(face = \"bold\", size = 14),\n",
    "    strip.text = element_text(face = \"bold\", size = 12),\n",
    "    legend.position = \"bottom\",\n",
    "    plot.margin = margin(1, 1, 1, 1, \"cm\")  # Top, right, bottom, left margins\n",
    "  )\n",
    "\n",
    "print(p)"
   ]
  },
  {
   "cell_type": "code",
   "execution_count": null,
   "id": "73fb56b9-6fb1-43d3-813d-0b45cec0e88a",
   "metadata": {},
   "outputs": [],
   "source": [
    "ggsave(\"figures/cost_by_method.pdf\", plot = p, device = \"pdf\",width = 8, height = 8, dpi = 300)"
   ]
  },
  {
   "cell_type": "code",
   "execution_count": 3,
   "id": "3dc99097-0676-469e-b813-306e5e643cbe",
   "metadata": {},
   "outputs": [
    {
     "name": "stderr",
     "output_type": "stream",
     "text": [
      "\u001b[1mRows: \u001b[22m\u001b[34m44085\u001b[39m \u001b[1mColumns: \u001b[22m\u001b[34m17\u001b[39m\n",
      "\u001b[36m──\u001b[39m \u001b[1mColumn specification\u001b[22m \u001b[36m───────────────────────────────────────────────────────────────────────────────────────────────────────────────────────────────────\u001b[39m\n",
      "\u001b[1mDelimiter:\u001b[22m \"\\t\"\n",
      "\u001b[31mchr\u001b[39m  (5): database, model, gene_set, descr, descr_cleaned\n",
      "\u001b[32mdbl\u001b[39m (12): ncurated, nllm, ninter, generatio, bgratio, richFactor, foldEnrich...\n",
      "\n",
      "\u001b[36mℹ\u001b[39m Use `spec()` to retrieve the full column specification for this data.\n",
      "\u001b[36mℹ\u001b[39m Specify the column types or set `show_col_types = FALSE` to quiet this message.\n"
     ]
    }
   ],
   "source": [
    "df <- readr::read_tsv(\"outputs/genes_overlap.tsv\")\n",
    "\n",
    "\n",
    "expts_sel <- c('llm_genes_norole', 'llm_genes_reason', 'llm_genes_conf_high', 'llm_ensembled')\n",
    "df <- df %>% filter(gene_set %in% expts_sel)\n",
    "\n",
    "# Step 1: Update model names\n",
    "df <- df %>%\n",
    "  mutate(model = case_when(\n",
    "    model == \"gpt-4o-mini-2024-07-18\" ~ \"GPT-4o mini\",\n",
    "    model == \"gpt-3.5-turbo-0125\" ~ \"GPT-3.5\",\n",
    "    model == \"gpt-4o-2024-08-06\" ~ \"GPT-4o\",\n",
    "    TRUE ~ model  # Leave other values unchanged\n",
    "  ))\n",
    "\n",
    "# Step 2: Update database names\n",
    "df <- df %>%\n",
    "  mutate(database = case_when(\n",
    "    database == \"KEGG_2021_Human\" ~ \"KEGG\",\n",
    "    database == \"Reactome_2022\" ~ \"Reactome\",\n",
    "    database == \"WikiPathway_2023_Human\" ~ \"WikiPathways\",\n",
    "    TRUE ~ database  # Leave other values unchanged\n",
    "  ))\n",
    "\n",
    "# Step 3: Set the order of the 'model' factor\n",
    "df <- df %>%\n",
    "  mutate(model = factor(model, levels = c(\"GPT-3.5\", \"GPT-4o mini\", \"GPT-4o\")))\n"
   ]
  },
  {
   "cell_type": "code",
   "execution_count": 4,
   "id": "cf223d54-1c4e-4e6f-a750-a7e824e2f2ce",
   "metadata": {},
   "outputs": [],
   "source": [
    "df <- df %>%\n",
    "  mutate(gene_set = case_when(\n",
    "    gene_set == \"llm_genes_norole\" ~ \"Default\",\n",
    "    gene_set == \"llm_genes_reason\" ~ \"Reasoning\",\n",
    "    gene_set == \"llm_genes_conf_high\" ~ \"Confidence\",\n",
    "    gene_set == \"llm_ensembled\" ~ \"Ensembled\",\n",
    "    TRUE ~ gene_set  # Keep other values unchanged\n",
    "  ))\n",
    "\n",
    "df <- df %>%\n",
    "  mutate(gene_set = factor(gene_set, levels = c(\"Default\", \"Reasoning\", \"Confidence\", \"Ensembled\")))\n"
   ]
  },
  {
   "cell_type": "code",
   "execution_count": 5,
   "id": "834693e5-89c6-4593-abe1-cf6587904ade",
   "metadata": {},
   "outputs": [
    {
     "name": "stderr",
     "output_type": "stream",
     "text": [
      "\u001b[1m\u001b[22m`summarise()` has grouped output by 'database', 'model'. You can override using the `.groups` argument.\n"
     ]
    },
    {
     "data": {
      "image/png": "[encoded data removed]",
      "text/plain": [
       "plot without title"
      ]
     },
     "metadata": {
      "image/png": {
       "height": 420,
       "width": 420
      }
     },
     "output_type": "display_data"
    }
   ],
   "source": [
    "# Step 1: Group by 'database', 'model', and 'gene_set', and calculate the fraction of rows where p_val_adj < 0.01\n",
    "df_fraction <- df %>%\n",
    "  group_by(database, model, gene_set) %>%\n",
    "  summarize(fraction_p_val_adj_lt_001 = mean(p_val_adj < 0.01, na.rm = TRUE)) %>%\n",
    "  ungroup()\n",
    "\n",
    "# Step 2: Create a bar plot grouped by 'database' and filled by 'gene_set', faceted by 'model' across rows\n",
    "p <- ggplot(df_fraction, aes(x = database, y = fraction_p_val_adj_lt_001, fill = gene_set)) +\n",
    "  geom_bar(stat = \"identity\", position = \"dodge\") +  # Create a grouped bar plot\n",
    "  geom_text(aes(label = round(fraction_p_val_adj_lt_001, 2)),   # Add the fraction values rounded to 2 decimal places\n",
    "            position = position_dodge(width = 0.9), vjust = -0.5) +  # Adjust the label position\n",
    "  facet_grid(model ~ .) +  # Facet the plot by 'model' across rows\n",
    "  scale_y_continuous(limits = c(0, 1)) +  # Set the y-axis to range from 0 to 1\n",
    "  labs(x = \"Database\", y = \"Fraction of Gene Sets\", fill = \"Prompt Type\") +  # Update axis and legend labels\n",
    "  theme_minimal() +  # Use a minimal theme\n",
    "  theme(axis.text.x = element_text(angle = 45, hjust = 1)) \n",
    "p"
   ]
  },
  {
   "cell_type": "code",
   "execution_count": 6,
   "id": "cfe1ad1c-e127-4928-baff-b60e5259fd7a",
   "metadata": {},
   "outputs": [
    {
     "name": "stderr",
     "output_type": "stream",
     "text": [
      "\u001b[1m\u001b[22mSaving 7 x 7 in image\n"
     ]
    }
   ],
   "source": [
    "ggsave(p, file=\"figures/fig2B.pdf\")"
   ]
  }
 ],
 "metadata": {
  "kernelspec": {
   "display_name": "R",
   "language": "R",
   "name": "ir"
  },
  "language_info": {
   "codemirror_mode": "r",
   "file_extension": ".r",
   "mimetype": "text/x-r-source",
   "name": "R",
   "pygments_lexer": "r",
   "version": "4.3.3"
  }
 },
 "nbformat": 4,
 "nbformat_minor": 5
}
