{
 "cells": [
  {
   "cell_type": "markdown",
   "id": "47114f97-449b-432c-b170-c0eb8a0b32bd",
   "metadata": {},
   "source": [
    "Small notebook to output the sizes of each gene set."
   ]
  },
  {
   "cell_type": "code",
   "execution_count": 2,
   "id": "d54b1aa7-fdec-4b77-9c35-7ce50e8d4f11",
   "metadata": {},
   "outputs": [],
   "source": [
    "import llm2geneset\n",
    "import pandas as pd"
   ]
  },
  {
   "cell_type": "code",
   "execution_count": 8,
   "id": "1a6a6670-7ee7-460c-8592-960d40ec99f2",
   "metadata": {},
   "outputs": [],
   "source": [
    "lib_names = [\"KEGG_2021_Human\", \n",
    "             \"Reactome_2022\", \n",
    "             \"WikiPathway_2023_Human\", \"GO_Biological_Process_2023_sample1000\"]"
   ]
  },
  {
   "cell_type": "code",
   "execution_count": 9,
   "id": "40b30b32-857b-4e8c-9bf7-e5b61b349c15",
   "metadata": {},
   "outputs": [
    {
     "name": "stdout",
     "output_type": "stream",
     "text": [
      "320\n",
      "1818\n",
      "801\n",
      "1000\n"
     ]
    }
   ],
   "source": [
    "# Generate table for some basic stats on gene set libraries used.\n",
    "geneset_sz = []\n",
    "for lib_name in lib_names:\n",
    "    gmt = llm2geneset.read_gmt(\"libs_human/gmt/\" + lib_name + \".txt\")\n",
    "    (descr, genes) = (gmt[\"descr\"], gmt[\"genes\"])\n",
    "    x = [{\"lib_name\": lib_name, \"descr\": d, \"num_genes\": len(g)} for (d,g) in zip(descr,genes)]\n",
    "    print(len(genes))\n",
    "    geneset_sz.extend(x)\n",
    "df = pd.DataFrame(geneset_sz)\n",
    "df.to_csv(\"outputs/geneset_sz.tsv\",sep=\"\\t\",index=None)"
   ]
  },
  {
   "cell_type": "code",
   "execution_count": 10,
   "id": "363ee162-33f1-455f-87ff-7462c18885d4",
   "metadata": {},
   "outputs": [
    {
     "data": {
      "text/html": [
       "<div>\n",
       "<style scoped>\n",
       "    .dataframe tbody tr th:only-of-type {\n",
       "        vertical-align: middle;\n",
       "    }\n",
       "\n",
       "    .dataframe tbody tr th {\n",
       "        vertical-align: top;\n",
       "    }\n",
       "\n",
       "    .dataframe thead th {\n",
       "        text-align: right;\n",
       "    }\n",
       "</style>\n",
       "<table border=\"1\" class=\"dataframe\">\n",
       "  <thead>\n",
       "    <tr style=\"text-align: right;\">\n",
       "      <th></th>\n",
       "      <th>lib_name</th>\n",
       "      <th>descr</th>\n",
       "      <th>num_genes</th>\n",
       "    </tr>\n",
       "  </thead>\n",
       "  <tbody>\n",
       "    <tr>\n",
       "      <th>0</th>\n",
       "      <td>KEGG_2021_Human</td>\n",
       "      <td>ABC transporters</td>\n",
       "      <td>45</td>\n",
       "    </tr>\n",
       "    <tr>\n",
       "      <th>1</th>\n",
       "      <td>KEGG_2021_Human</td>\n",
       "      <td>AGE-RAGE signaling pathway in diabetic complic...</td>\n",
       "      <td>100</td>\n",
       "    </tr>\n",
       "    <tr>\n",
       "      <th>2</th>\n",
       "      <td>KEGG_2021_Human</td>\n",
       "      <td>AMPK signaling pathway</td>\n",
       "      <td>120</td>\n",
       "    </tr>\n",
       "    <tr>\n",
       "      <th>3</th>\n",
       "      <td>KEGG_2021_Human</td>\n",
       "      <td>Acute myeloid leukemia</td>\n",
       "      <td>67</td>\n",
       "    </tr>\n",
       "    <tr>\n",
       "      <th>4</th>\n",
       "      <td>KEGG_2021_Human</td>\n",
       "      <td>Adherens junction</td>\n",
       "      <td>71</td>\n",
       "    </tr>\n",
       "    <tr>\n",
       "      <th>...</th>\n",
       "      <td>...</td>\n",
       "      <td>...</td>\n",
       "      <td>...</td>\n",
       "    </tr>\n",
       "    <tr>\n",
       "      <th>3934</th>\n",
       "      <td>GO_Biological_Process_2023_sample1000</td>\n",
       "      <td>Regulation Of Response To Biotic Stimulus (GO:...</td>\n",
       "      <td>31</td>\n",
       "    </tr>\n",
       "    <tr>\n",
       "      <th>3935</th>\n",
       "      <td>GO_Biological_Process_2023_sample1000</td>\n",
       "      <td>Cellular Response To Catecholamine Stimulus (G...</td>\n",
       "      <td>19</td>\n",
       "    </tr>\n",
       "    <tr>\n",
       "      <th>3936</th>\n",
       "      <td>GO_Biological_Process_2023_sample1000</td>\n",
       "      <td>Positive Regulation Of Natural Killer Cell Cyt...</td>\n",
       "      <td>6</td>\n",
       "    </tr>\n",
       "    <tr>\n",
       "      <th>3937</th>\n",
       "      <td>GO_Biological_Process_2023_sample1000</td>\n",
       "      <td>Negative Regulation Of Cardiac Muscle Hypertro...</td>\n",
       "      <td>12</td>\n",
       "    </tr>\n",
       "    <tr>\n",
       "      <th>3938</th>\n",
       "      <td>GO_Biological_Process_2023_sample1000</td>\n",
       "      <td>Negative Regulation Of T-helper Cell Different...</td>\n",
       "      <td>10</td>\n",
       "    </tr>\n",
       "  </tbody>\n",
       "</table>\n",
       "<p>3939 rows × 3 columns</p>\n",
       "</div>"
      ],
      "text/plain": [
       "                                   lib_name  \\\n",
       "0                           KEGG_2021_Human   \n",
       "1                           KEGG_2021_Human   \n",
       "2                           KEGG_2021_Human   \n",
       "3                           KEGG_2021_Human   \n",
       "4                           KEGG_2021_Human   \n",
       "...                                     ...   \n",
       "3934  GO_Biological_Process_2023_sample1000   \n",
       "3935  GO_Biological_Process_2023_sample1000   \n",
       "3936  GO_Biological_Process_2023_sample1000   \n",
       "3937  GO_Biological_Process_2023_sample1000   \n",
       "3938  GO_Biological_Process_2023_sample1000   \n",
       "\n",
       "                                                  descr  num_genes  \n",
       "0                                      ABC transporters         45  \n",
       "1     AGE-RAGE signaling pathway in diabetic complic...        100  \n",
       "2                                AMPK signaling pathway        120  \n",
       "3                                Acute myeloid leukemia         67  \n",
       "4                                     Adherens junction         71  \n",
       "...                                                 ...        ...  \n",
       "3934  Regulation Of Response To Biotic Stimulus (GO:...         31  \n",
       "3935  Cellular Response To Catecholamine Stimulus (G...         19  \n",
       "3936  Positive Regulation Of Natural Killer Cell Cyt...          6  \n",
       "3937  Negative Regulation Of Cardiac Muscle Hypertro...         12  \n",
       "3938  Negative Regulation Of T-helper Cell Different...         10  \n",
       "\n",
       "[3939 rows x 3 columns]"
      ]
     },
     "execution_count": 10,
     "metadata": {},
     "output_type": "execute_result"
    }
   ],
   "source": [
    "df"
   ]
  }
 ],
 "metadata": {
  "kernelspec": {
   "display_name": "Python 3 (ipykernel)",
   "language": "python",
   "name": "python3"
  },
  "language_info": {
   "codemirror_mode": {
    "name": "ipython",
    "version": 3
   },
   "file_extension": ".py",
   "mimetype": "text/x-python",
   "name": "python",
   "nbconvert_exporter": "python",
   "pygments_lexer": "ipython3",
   "version": "3.12.7"
  }
 },
 "nbformat": 4,
 "nbformat_minor": 5
}
