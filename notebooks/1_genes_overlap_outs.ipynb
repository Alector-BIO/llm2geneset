{
 "cells": [
  {
   "cell_type": "code",
   "execution_count": 1,
   "id": "a3bdfc68-6fa0-4db3-9981-1b52e9a2575b",
   "metadata": {},
   "outputs": [],
   "source": [
    "import pandas as pd\n",
    "import json\n",
    "from scipy.stats import hypergeom\n",
    "from statsmodels.stats.multitest import multipletests\n",
    "import llm2geneset"
   ]
  },
  {
   "cell_type": "code",
   "execution_count": 2,
   "id": "0a96f268-8c39-4cc0-b364-17a528cc3a2c",
   "metadata": {},
   "outputs": [],
   "source": [
    "lib_names = [\"KEGG_2021_Human\", \n",
    "             \"Reactome_2022\", \n",
    "             \"WikiPathway_2023_Human\", \n",
    "             \"GO_Biological_Process_2023\",\n",
    "             \"GO_Molecular_Function_2023\",\n",
    "             \"GO_Cellular_Component_2023\"]"
   ]
  },
  {
   "cell_type": "code",
   "execution_count": 10,
   "id": "f1e9f2db-05c4-408b-a63d-307c7a5d69ce",
   "metadata": {},
   "outputs": [],
   "source": [
    "hgcn_symbols = pd.read_csv(\"hgnc_symbols.txt\", sep=\"\\t\", header=None)[0].tolist()\n",
    "hgcn_symbols = set(hgcn_symbols)"
   ]
  },
  {
   "cell_type": "code",
   "execution_count": 11,
   "id": "4c9456a6-10f8-4be0-b2d6-985a70ef070a",
   "metadata": {
    "scrolled": true
   },
   "outputs": [
    {
     "name": "stdout",
     "output_type": "stream",
     "text": [
      "KEGG_2021_Human\n",
      "0.89375\n",
      "0.93125\n",
      "Reactome_2022\n",
      "0.6523652365236524\n",
      "0.8124312431243125\n",
      "WikiPathway_2023_Human\n",
      "0.714107365792759\n",
      "0.8426966292134831\n",
      "GO_Biological_Process_2023\n",
      "0.2942481967819493\n",
      "0.41538746069909377\n",
      "GO_Molecular_Function_2023\n",
      "0.5135135135135135\n",
      "0.6782911944202267\n",
      "GO_Cellular_Component_2023\n",
      "0.5759493670886076\n",
      "0.7362869198312236\n"
     ]
    }
   ],
   "source": [
    "# Calculate Jaccard coefficient (intersection over union)\n",
    "def calculate_iou(setA, setB):\n",
    "    # Calculate the intersection of two sets\n",
    "    intersection = setA.intersection(setB)\n",
    "    # Calculate the union of two sets\n",
    "    union = setA.union(setB)\n",
    "    # Calculate the Intersection over Union\n",
    "    iou = len(intersection) / len(union)\n",
    "    return iou\n",
    "\n",
    "database_res = []\n",
    "\n",
    "models = [\"gpt-3.5-turbo-0125\", \"gpt-4o-2024-05-13\"]\n",
    "\n",
    "for lib_name in lib_names:    \n",
    "    print(lib_name)\n",
    "    for model in models:\n",
    "        with open(\"libs_human/\" + model + \"/\" + lib_name + \".json\") as f:\n",
    "            gen_res = json.load(f)\n",
    "            \n",
    "        \n",
    "        iou_output = []\n",
    "        for idx in range(len(gen_res[\"descr\"])):\n",
    "            curated_genes = gen_res[\"curated_genesets\"][idx]\n",
    "            parsed_llm_genes = gen_res[\"llm_genesets\"][idx]['parsed_genes']\n",
    "            llm_genes = list(set(parsed_llm_genes)) # make sure unique genes are selected\n",
    "            intersection = set(llm_genes).intersection(set(curated_genes))\n",
    "            p_val = hypergeom.sf(len(intersection)-1,\n",
    "                                 19846-len(curated_genes), \n",
    "                                 len(curated_genes), \n",
    "                                 len(llm_genes))\n",
    "            generatio = None\n",
    "            if len(llm_genes) > 0:\n",
    "                generatio = float(len(intersection))/len(llm_genes)\n",
    "            \n",
    "            x = {\n",
    "                'database': lib_name,\n",
    "                'model' : model,\n",
    "                'descr': gen_res[\"descr_cleaned\"][idx],\n",
    "                'ncurated': len(curated_genes),\n",
    "                'nllm': len(llm_genes),\n",
    "                'ninter': len(intersection),\n",
    "                'ndup': len(parsed_llm_genes) - len(llm_genes),\n",
    "                'generatio': generatio,\n",
    "                'bgratio': float(len(curated_genes))/19846,\n",
    "                'p_val': p_val\n",
    "            }\n",
    "            iou_output.append(x)\n",
    "    \n",
    "        df = pd.DataFrame(iou_output)\n",
    "        # Adjust p-values using the Benjamini-Hochberg (FDR) method\n",
    "        _, pvals_corrected, _, _ = multipletests(df['p_val'], method='bonferroni')\n",
    "        df['p_val_adj'] = pvals_corrected\n",
    "        print(df[df['p_val_adj'] < 0.01].shape[0] / df.shape[0])\n",
    "        database_res.append(df)    \n",
    "        "
   ]
  },
  {
   "cell_type": "code",
   "execution_count": 12,
   "id": "d7b8fb92-563d-459e-8223-7043a929ba87",
   "metadata": {},
   "outputs": [],
   "source": [
    "df = pd.concat(database_res, ignore_index=True)"
   ]
  },
  {
   "cell_type": "code",
   "execution_count": 13,
   "id": "b30360af-34f6-4332-af2b-1c49866ce033",
   "metadata": {},
   "outputs": [],
   "source": [
    "df.to_csv(\"genes_overlap.tsv\",sep=\"\\t\",index=None)"
   ]
  }
 ],
 "metadata": {
  "kernelspec": {
   "display_name": "Python 3 (ipykernel)",
   "language": "python",
   "name": "python3"
  },
  "language_info": {
   "codemirror_mode": {
    "name": "ipython",
    "version": 3
   },
   "file_extension": ".py",
   "mimetype": "text/x-python",
   "name": "python",
   "nbconvert_exporter": "python",
   "pygments_lexer": "ipython3",
   "version": "3.12.3"
  }
 },
 "nbformat": 4,
 "nbformat_minor": 5
}
