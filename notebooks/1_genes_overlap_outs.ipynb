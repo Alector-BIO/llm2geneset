{
 "cells": [
  {
   "cell_type": "code",
   "execution_count": 6,
   "id": "a3bdfc68-6fa0-4db3-9981-1b52e9a2575b",
   "metadata": {},
   "outputs": [],
   "source": [
    "import pandas as pd\n",
    "import json\n",
    "from scipy.stats import hypergeom\n",
    "from statsmodels.stats.multitest import multipletests\n",
    "import llm2geneset"
   ]
  },
  {
   "cell_type": "code",
   "execution_count": 7,
   "id": "0a96f268-8c39-4cc0-b364-17a528cc3a2c",
   "metadata": {},
   "outputs": [],
   "source": [
    "lib_names = [\"KEGG_2021_Human\", \n",
    "             \"Reactome_2022\", \n",
    "             \"WikiPathway_2023_Human\", \n",
    "             \"GO_Biological_Process_2023\",\n",
    "             \"GO_Molecular_Function_2023\",\n",
    "             \"GO_Cellular_Component_2023\"]\n",
    "models = [\"gpt-3.5-turbo-0125\", \"gpt-4o-2024-05-13\"]"
   ]
  },
  {
   "cell_type": "code",
   "execution_count": 8,
   "id": "ebadd5cb-0de7-4a45-a92a-38021199d57c",
   "metadata": {},
   "outputs": [],
   "source": [
    "# Output table with generation times.\n",
    "gen_time_table = []\n",
    "for lib_name in lib_names:    \n",
    "    for model in models:\n",
    "        with open(\"libs_human/\" + model + \"/\" + lib_name + \".json\") as f:\n",
    "            gen_res = json.load(f)\n",
    "        gen_time_table.append({\"lib_name\": lib_name, \n",
    "         \"model\": model,\n",
    "         \"gen_time\": gen_res[\"gen_time\"]\n",
    "        })\n",
    "pd.DataFrame(gen_time_table).to_csv(\"gen_time.tsv\",sep=\"\\t\",index=None)"
   ]
  },
  {
   "cell_type": "code",
   "execution_count": 9,
   "id": "f1e9f2db-05c4-408b-a63d-307c7a5d69ce",
   "metadata": {},
   "outputs": [],
   "source": [
    "hgcn_symbols = pd.read_csv(\"hgnc_symbols.txt\", sep=\"\\t\", header=None)[0].tolist()\n",
    "hgcn_symbols = set(hgcn_symbols)"
   ]
  },
  {
   "cell_type": "code",
   "execution_count": 35,
   "id": "4c9456a6-10f8-4be0-b2d6-985a70ef070a",
   "metadata": {
    "scrolled": true
   },
   "outputs": [
    {
     "name": "stdout",
     "output_type": "stream",
     "text": [
      "KEGG_2021_Human\n",
      "0.8875\n",
      "0.95\n",
      "Reactome_2022\n",
      "0.6705170517051705\n",
      "0.8113311331133113\n",
      "WikiPathway_2023_Human\n",
      "0.7228464419475655\n",
      "0.8426966292134831\n",
      "GO_Biological_Process_2023\n",
      "0.287220270020344\n",
      "0.40909931570186797\n",
      "GO_Molecular_Function_2023\n",
      "0.5370531822144725\n",
      "0.6617262423714037\n",
      "GO_Cellular_Component_2023\n",
      "0.5864978902953587\n",
      "0.6877637130801688\n"
     ]
    }
   ],
   "source": [
    "# Calculate Jaccard coefficient (intersection over union)\n",
    "def calculate_iou(setA, setB):\n",
    "    # Calculate the intersection of two sets\n",
    "    intersection = setA.intersection(setB)\n",
    "    # Calculate the union of two sets\n",
    "    union = setA.union(setB)\n",
    "    # Calculate the Intersection over Union\n",
    "    iou = len(intersection) / len(union)\n",
    "    return iou\n",
    "\n",
    "database_res = []\n",
    "tok_use = []\n",
    "\n",
    "for lib_name in lib_names:    \n",
    "    print(lib_name)\n",
    "    for model in models:\n",
    "        with open(\"libs_human/\" + model + \"/\" + lib_name + \".json\") as f:\n",
    "            gen_res = json.load(f)\n",
    "            \n",
    "        \n",
    "        iou_output = []\n",
    "        in_toks = 0\n",
    "        out_toks = 0\n",
    "        for idx in range(len(gen_res[\"descr\"])):\n",
    "            curated_genes = gen_res[\"curated_genesets\"][idx]\n",
    "            parsed_llm_genes = gen_res[\"llm_genesets\"][idx]['parsed_genes']\n",
    "            \n",
    "            in_toks += gen_res[\"llm_genes_norole\"][idx]['in_toks']\n",
    "            out_toks += gen_res[\"llm_genes_norole\"][idx]['out_toks']\n",
    "\n",
    "            non_hgcn = len(set(parsed_llm_genes) - hgcn_symbols)\n",
    "\n",
    "            llm_genes = list(set(parsed_llm_genes)) # make sure unique genes are selected\n",
    "            #llm_genes = list(set(parsed_llm_genes).intersection(hgcn_symbols)) # make sure unique genes are selected\n",
    "\n",
    "            \n",
    "            intersection = set(llm_genes).intersection(set(curated_genes))\n",
    "            p_val = hypergeom.sf(len(intersection)-1,\n",
    "                                 19846-len(curated_genes), \n",
    "                                 len(curated_genes), \n",
    "                                 len(llm_genes))\n",
    "            generatio = None\n",
    "            if len(llm_genes) > 0:\n",
    "                generatio = float(len(intersection))/len(llm_genes)\n",
    "            \n",
    "            x = {\n",
    "                'database': lib_name,\n",
    "                'model' : model,\n",
    "                'descr': gen_res[\"descr_cleaned\"][idx],\n",
    "                'ncurated': len(curated_genes),\n",
    "                'nllm': len(llm_genes),\n",
    "                'ninter': len(intersection),\n",
    "                'generatio': generatio,\n",
    "                'bgratio': float(len(curated_genes))/19846,\n",
    "                'non_hgcn': non_hgcn,\n",
    "                'ndup': len(parsed_llm_genes) - len(llm_genes),\n",
    "                'p_val': p_val\n",
    "            }\n",
    "            iou_output.append(x)\n",
    "\n",
    "        tok_use.append({\"lib_name\": lib_name, \"model\": model, \"in_toks\": in_toks, \"out_toks\" : out_toks})\n",
    "        df = pd.DataFrame(iou_output)\n",
    "        # Adjust p-values using the Benjamini-Hochberg (FDR) method\n",
    "        _, pvals_corrected, _, _ = multipletests(df['p_val'], method='bonferroni')\n",
    "        df['p_val_adj'] = pvals_corrected\n",
    "        print(df[df['p_val_adj'] < 0.01].shape[0] / df.shape[0])\n",
    "        database_res.append(df)    \n",
    "        "
   ]
  },
  {
   "cell_type": "code",
   "execution_count": 51,
   "id": "b2f32b7c-58d4-49d8-a324-c7f3195e50e4",
   "metadata": {},
   "outputs": [
    {
     "name": "stdout",
     "output_type": "stream",
     "text": [
      "3.276396\n",
      "51.766705\n"
     ]
    }
   ],
   "source": [
    "df_tok = pd.DataFrame(tok_use)\n",
    "df.to_csv(\"tok_use.tsv\", sep=\"\\t\", index=None)\n",
    "\n",
    "\n",
    "cost_gpt35 = df_tok[df_tok[\"model\"] == \"gpt-3.5-turbo-0125\"].in_toks.sum() / 1e6 * 0.5 + df_tok[df_tok[\"model\"] == \"gpt-3.5-turbo-0125\"].out_toks.sum() / 1e6 * 1.5\n",
    "cost_gpt4o = df_tok[df_tok[\"model\"] == \"gpt-4o-2024-05-13\"].in_toks.sum() / 1e6 * 5 + df_tok[df_tok[\"model\"] == \"gpt-4o-2024-05-13\"].out_toks.sum() / 1e6 * 15\n",
    "print(cost_gpt35)\n",
    "print(cost_gpt4o)"
   ]
  },
  {
   "cell_type": "code",
   "execution_count": 39,
   "id": "d7b8fb92-563d-459e-8223-7043a929ba87",
   "metadata": {},
   "outputs": [
    {
     "ename": "TypeError",
     "evalue": "DataFrame.sort_values() got an unexpected keyword argument 'index'",
     "output_type": "error",
     "traceback": [
      "\u001b[0;31m---------------------------------------------------------------------------\u001b[0m",
      "\u001b[0;31mTypeError\u001b[0m                                 Traceback (most recent call last)",
      "Cell \u001b[0;32mIn[39], line 2\u001b[0m\n\u001b[1;32m      1\u001b[0m df \u001b[38;5;241m=\u001b[39m pd\u001b[38;5;241m.\u001b[39mconcat(database_res, ignore_index\u001b[38;5;241m=\u001b[39m\u001b[38;5;28;01mTrue\u001b[39;00m)\n\u001b[0;32m----> 2\u001b[0m \u001b[43mdf\u001b[49m\u001b[43m[\u001b[49m\u001b[43mdf\u001b[49m\u001b[43m[\u001b[49m\u001b[38;5;124;43m\"\u001b[39;49m\u001b[38;5;124;43mp_val\u001b[39;49m\u001b[38;5;124;43m\"\u001b[39;49m\u001b[43m]\u001b[49m\u001b[43m \u001b[49m\u001b[38;5;241;43m<\u001b[39;49m\u001b[43m \u001b[49m\u001b[38;5;241;43m1e-15\u001b[39;49m\u001b[43m]\u001b[49m\u001b[38;5;241;43m.\u001b[39;49m\u001b[43msort_values\u001b[49m\u001b[43m(\u001b[49m\u001b[38;5;124;43m\"\u001b[39;49m\u001b[38;5;124;43mp_val\u001b[39;49m\u001b[38;5;124;43m\"\u001b[39;49m\u001b[43m,\u001b[49m\u001b[43m \u001b[49m\u001b[43mindex\u001b[49m\u001b[38;5;241;43m=\u001b[39;49m\u001b[38;5;28;43;01mNone\u001b[39;49;00m\u001b[43m)\u001b[49m\n",
      "\u001b[0;31mTypeError\u001b[0m: DataFrame.sort_values() got an unexpected keyword argument 'index'"
     ]
    }
   ],
   "source": [
    "df = pd.concat(database_res, ignore_index=True)\n",
    "df[df[\"p_val\"] < 1e-15].sort_values(\"p_val\")"
   ]
  },
  {
   "cell_type": "code",
   "execution_count": 29,
   "id": "b30360af-34f6-4332-af2b-1c49866ce033",
   "metadata": {},
   "outputs": [],
   "source": [
    "df.to_csv(\"genes_overlap.tsv\",sep=\"\\t\",index=None)"
   ]
  }
 ],
 "metadata": {
  "kernelspec": {
   "display_name": "Python 3 (ipykernel)",
   "language": "python",
   "name": "python3"
  },
  "language_info": {
   "codemirror_mode": {
    "name": "ipython",
    "version": 3
   },
   "file_extension": ".py",
   "mimetype": "text/x-python",
   "name": "python",
   "nbconvert_exporter": "python",
   "pygments_lexer": "ipython3",
   "version": "3.12.3"
  }
 },
 "nbformat": 4,
 "nbformat_minor": 5
}
