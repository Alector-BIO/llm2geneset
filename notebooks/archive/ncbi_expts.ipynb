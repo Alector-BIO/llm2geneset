{
 "cells": [
  {
   "cell_type": "code",
   "execution_count": 1,
   "id": "8859db1d-047b-4ff6-bbfe-f4e5a473c1fd",
   "metadata": {},
   "outputs": [],
   "source": [
    "import llm2geneset\n",
    "import json\n",
    "import time\n",
    "import openai"
   ]
  },
  {
   "cell_type": "code",
   "execution_count": 2,
   "id": "a4417a3f-d460-4266-9cdd-bae0ee0c6be3",
   "metadata": {},
   "outputs": [],
   "source": [
    "models = [\"gpt-3.5-turbo-0125\", \"gpt-4o-2024-05-13\"]\n",
    "models = [\"gpt-3.5-turbo-0125\"]\n",
    "lib_names = [\"KEGG_2021_Human\", \n",
    "             \"Reactome_2022\", \n",
    "             \"WikiPathway_2023_Human\"]\n",
    "lib_names = [\"WikiPathway_2023_Human\"]"
   ]
  },
  {
   "cell_type": "code",
   "execution_count": 3,
   "id": "c9cabe61-2c98-4f90-a303-388724af5cfa",
   "metadata": {},
   "outputs": [
    {
     "name": "stderr",
     "output_type": "stream",
     "text": [
      "  2%|██▏                                                                                                                            | 14/801 [00:02<02:09,  6.06it/s]\n"
     ]
    },
    {
     "ename": "CancelledError",
     "evalue": "",
     "output_type": "error",
     "traceback": [
      "\u001b[0;31m---------------------------------------------------------------------------\u001b[0m",
      "\u001b[0;31mCancelledError\u001b[0m                            Traceback (most recent call last)",
      "Cell \u001b[0;32mIn[3], line 6\u001b[0m\n\u001b[1;32m      4\u001b[0m     gen_res \u001b[38;5;241m=\u001b[39m json\u001b[38;5;241m.\u001b[39mload(f)\n\u001b[1;32m      5\u001b[0m start_time \u001b[38;5;241m=\u001b[39m time\u001b[38;5;241m.\u001b[39mtime()\n\u001b[0;32m----> 6\u001b[0m pmids \u001b[38;5;241m=\u001b[39m \u001b[38;5;28;01mawait\u001b[39;00m llm2geneset\u001b[38;5;241m.\u001b[39mesearch_async(gen_res[\u001b[38;5;124m\"\u001b[39m\u001b[38;5;124mdescr_cleaned\u001b[39m\u001b[38;5;124m\"\u001b[39m], \u001b[38;5;124m\"\u001b[39m\u001b[38;5;124mpubmed\u001b[39m\u001b[38;5;124m\"\u001b[39m, \u001b[38;5;241m1\u001b[39m)\n\u001b[1;32m      7\u001b[0m abstracts \u001b[38;5;241m=\u001b[39m \u001b[38;5;28;01mawait\u001b[39;00m llm2geneset\u001b[38;5;241m.\u001b[39mefetch_pubmed_async(pmids)\n\u001b[1;32m      8\u001b[0m end_time \u001b[38;5;241m=\u001b[39m time\u001b[38;5;241m.\u001b[39mtime()\n",
      "File \u001b[0;32m~/llm2geneset/src/llm2geneset/eutils.py:69\u001b[0m, in \u001b[0;36mesearch_async\u001b[0;34m(queries, db, retmax)\u001b[0m\n\u001b[1;32m     67\u001b[0m \u001b[38;5;28;01masync\u001b[39;00m \u001b[38;5;28;01mwith\u001b[39;00m aiohttp\u001b[38;5;241m.\u001b[39mClientSession() \u001b[38;5;28;01mas\u001b[39;00m sess:\n\u001b[1;32m     68\u001b[0m     tasks \u001b[38;5;241m=\u001b[39m [esearch(sess, q) \u001b[38;5;28;01mfor\u001b[39;00m q \u001b[38;5;129;01min\u001b[39;00m queries]\n\u001b[0;32m---> 69\u001b[0m     \u001b[38;5;28;01mreturn\u001b[39;00m \u001b[38;5;28;01mawait\u001b[39;00m tqdm\u001b[38;5;241m.\u001b[39masyncio\u001b[38;5;241m.\u001b[39mtqdm\u001b[38;5;241m.\u001b[39mgather(\u001b[38;5;241m*\u001b[39mtasks)\n",
      "File \u001b[0;32m~/micromamba/envs/llm2geneset/lib/python3.12/site-packages/tqdm/asyncio.py:79\u001b[0m, in \u001b[0;36mtqdm_asyncio.gather\u001b[0;34m(cls, loop, timeout, total, *fs, **tqdm_kwargs)\u001b[0m\n\u001b[1;32m     76\u001b[0m     \u001b[38;5;28;01mreturn\u001b[39;00m i, \u001b[38;5;28;01mawait\u001b[39;00m f\n\u001b[1;32m     78\u001b[0m ifs \u001b[38;5;241m=\u001b[39m [wrap_awaitable(i, f) \u001b[38;5;28;01mfor\u001b[39;00m i, f \u001b[38;5;129;01min\u001b[39;00m \u001b[38;5;28menumerate\u001b[39m(fs)]\n\u001b[0;32m---> 79\u001b[0m res \u001b[38;5;241m=\u001b[39m [\u001b[38;5;28;01mawait\u001b[39;00m f \u001b[38;5;28;01mfor\u001b[39;00m f \u001b[38;5;129;01min\u001b[39;00m \u001b[38;5;28mcls\u001b[39m\u001b[38;5;241m.\u001b[39mas_completed(ifs, loop\u001b[38;5;241m=\u001b[39mloop, timeout\u001b[38;5;241m=\u001b[39mtimeout,\n\u001b[1;32m     80\u001b[0m                                          total\u001b[38;5;241m=\u001b[39mtotal, \u001b[38;5;241m*\u001b[39m\u001b[38;5;241m*\u001b[39mtqdm_kwargs)]\n\u001b[1;32m     81\u001b[0m \u001b[38;5;28;01mreturn\u001b[39;00m [i \u001b[38;5;28;01mfor\u001b[39;00m _, i \u001b[38;5;129;01min\u001b[39;00m \u001b[38;5;28msorted\u001b[39m(res)]\n",
      "File \u001b[0;32m~/micromamba/envs/llm2geneset/lib/python3.12/asyncio/tasks.py:627\u001b[0m, in \u001b[0;36mas_completed.<locals>._wait_for_one\u001b[0;34m()\u001b[0m\n\u001b[1;32m    626\u001b[0m \u001b[38;5;28;01masync\u001b[39;00m \u001b[38;5;28;01mdef\u001b[39;00m \u001b[38;5;21m_wait_for_one\u001b[39m():\n\u001b[0;32m--> 627\u001b[0m     f \u001b[38;5;241m=\u001b[39m \u001b[38;5;28;01mawait\u001b[39;00m done\u001b[38;5;241m.\u001b[39mget()\n\u001b[1;32m    628\u001b[0m     \u001b[38;5;28;01mif\u001b[39;00m f \u001b[38;5;129;01mis\u001b[39;00m \u001b[38;5;28;01mNone\u001b[39;00m:\n\u001b[1;32m    629\u001b[0m         \u001b[38;5;66;03m# Dummy value from _on_timeout().\u001b[39;00m\n\u001b[1;32m    630\u001b[0m         \u001b[38;5;28;01mraise\u001b[39;00m exceptions\u001b[38;5;241m.\u001b[39mTimeoutError\n",
      "File \u001b[0;32m~/micromamba/envs/llm2geneset/lib/python3.12/asyncio/queues.py:158\u001b[0m, in \u001b[0;36mQueue.get\u001b[0;34m(self)\u001b[0m\n\u001b[1;32m    156\u001b[0m \u001b[38;5;28mself\u001b[39m\u001b[38;5;241m.\u001b[39m_getters\u001b[38;5;241m.\u001b[39mappend(getter)\n\u001b[1;32m    157\u001b[0m \u001b[38;5;28;01mtry\u001b[39;00m:\n\u001b[0;32m--> 158\u001b[0m     \u001b[38;5;28;01mawait\u001b[39;00m getter\n\u001b[1;32m    159\u001b[0m \u001b[38;5;28;01mexcept\u001b[39;00m:\n\u001b[1;32m    160\u001b[0m     getter\u001b[38;5;241m.\u001b[39mcancel()  \u001b[38;5;66;03m# Just in case getter is not done yet.\u001b[39;00m\n",
      "\u001b[0;31mCancelledError\u001b[0m: "
     ]
    }
   ],
   "source": [
    "\n",
    "for model in models:\n",
    "    for lib_name in lib_names:\n",
    "        with open(\"libs_human/\" + model + \"/\" + lib_name + \".json\") as f:\n",
    "            gen_res = json.load(f)\n",
    "        start_time = time.time()\n",
    "        pmids = await llm2geneset.esearch_async(gen_res[\"descr_cleaned\"], \"pubmed\", 1)\n",
    "        abstracts = await llm2geneset.efetch_pubmed_async(pmids)\n",
    "        end_time = time.time()\n",
    "        gen_res[\"single_relevant_abstract\"] = abstracts\n",
    "        gen_res[\"single_relevant_abstract_searchtime\"] = end_time - start_time\n",
    "        with open('libs_human/' + model + '/' + lib_name + '.json', 'w') as json_file:\n",
    "            json.dump(gen_res, json_file, indent=4)\n"
   ]
  },
  {
   "cell_type": "code",
   "execution_count": 32,
   "id": "eeaca21c-48e0-4e9b-89f2-9209372eed78",
   "metadata": {},
   "outputs": [
    {
     "name": "stderr",
     "output_type": "stream",
     "text": [
      "  4%|████▉                                                                                                                          | 31/801 [00:03<00:39, 19.66it/s]"
     ]
    },
    {
     "name": "stdout",
     "output_type": "stream",
     "text": [
      "retrying\n",
      "No code blocks found\n",
      "List all the known genes directly and indirectly involved in the following biological process or cellular component \"\"\"Soluble ACE2 Mediated Cell Entry Of SARS CoV 2\"\"\". Use the following JSON schema:\n",
      "```json\n",
      "{\n",
      "    \"type\": \"array\",\n",
      "    \"items\": {\n",
      "        \"type\": \"object\",\n",
      "        \"properties\": {\n",
      "            \"gene\": {\n",
      "                \"type\": \"string\",\n",
      "            }\n",
      "        },\n",
      "        \"required\": [\"gene\"]\n",
      "    }\n",
      "}\n",
      "```\n",
      "The field `gene` is a gene involved in the following biological process or cellular component: \"\"\"Soluble ACE2 Mediated Cell Entry Of SARS CoV 2\"\"\". Use the HUGO Gene Nomenclature Committee (HGNC) gene abbreviations. Place the output in a JSON code block. Do not add any comments in the JSON code block.\n",
      "\n",
      "```json\n",
      "[\n",
      "    {\n",
      "        \"gene\": \"ACE2\"\n",
      "    },\n",
      "    {\n",
      "        \"gene\": \"TMPRSS2\"\n",
      "    },\n",
      "    {\n",
      "        \"gene\": \"DPP4\"\n",
      "    },\n",
      "    {\n",
      "        \"gene\": \"FURIN\"\n",
      "    },\n",
      "    {\n",
      "        \"gene\": \"ADAM17\"\n",
      "    },\n",
      "    {\n",
      "        \"gene\": \"B2M\"\n",
      "    },\n",
      "    {\n",
      "        \"gene\": \"CTS\n"
     ]
    },
    {
     "name": "stderr",
     "output_type": "stream",
     "text": [
      "100%|██████████████████████████████████████████████████████████████████████████████████████████████████████████████████████████████| 801/801 [00:46<00:00, 17.18it/s]\n"
     ]
    }
   ],
   "source": [
    "# Generate gene sets for ensembling.\n",
    "aclient = openai.AsyncClient()\n",
    "for model in models:\n",
    "    for lib_name in lib_names:\n",
    "        with open(\"libs_human/\" + model + \"/\" + lib_name + \".json\") as f:\n",
    "            gen_res = json.load(f)\n",
    "            \n",
    "        context = []\n",
    "        for x in gen_res['single_relevant_abstract']:\n",
    "            if len(x) > 0:\n",
    "                context.append(x[0]['abstract'])\n",
    "            else:\n",
    "                context.append(\"\")\n",
    "\n",
    "        \n",
    "        gen_res[\"llm_single_relevant_abstract\"] = await llm2geneset.get_genes_context(aclient,\n",
    "                                                                                      context,\n",
    "                                                                                      gen_res[\"descr_cleaned\"], \n",
    "                                                                                      model=model)\n",
    "        \n",
    "        with open('libs_human/' + model + '/' + lib_name + '.json', 'w') as json_file:\n",
    "            json.dump(gen_res, json_file, indent=4)"
   ]
  }
 ],
 "metadata": {
  "kernelspec": {
   "display_name": "Python 3 (ipykernel)",
   "language": "python",
   "name": "python3"
  },
  "language_info": {
   "codemirror_mode": {
    "name": "ipython",
    "version": 3
   },
   "file_extension": ".py",
   "mimetype": "text/x-python",
   "name": "python",
   "nbconvert_exporter": "python",
   "pygments_lexer": "ipython3",
   "version": "3.12.3"
  }
 },
 "nbformat": 4,
 "nbformat_minor": 5
}
