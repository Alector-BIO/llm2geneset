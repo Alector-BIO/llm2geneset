{
 "cells": [
  {
   "cell_type": "code",
   "execution_count": 1,
   "id": "da1df2d2-d136-4667-baf8-fd4e7212914e",
   "metadata": {
    "scrolled": true
   },
   "outputs": [
    {
     "name": "stderr",
     "output_type": "stream",
     "text": [
      "Loading required package: AnnotationDbi\n",
      "\n",
      "Loading required package: stats4\n",
      "\n",
      "Loading required package: BiocGenerics\n",
      "\n",
      "\n",
      "Attaching package: ‘BiocGenerics’\n",
      "\n",
      "\n",
      "The following objects are masked from ‘package:stats’:\n",
      "\n",
      "    IQR, mad, sd, var, xtabs\n",
      "\n",
      "\n",
      "The following objects are masked from ‘package:base’:\n",
      "\n",
      "    anyDuplicated, aperm, append, as.data.frame, basename, cbind,\n",
      "    colnames, dirname, do.call, duplicated, eval, evalq, Filter, Find,\n",
      "    get, grep, grepl, intersect, is.unsorted, lapply, Map, mapply,\n",
      "    match, mget, order, paste, pmax, pmax.int, pmin, pmin.int,\n",
      "    Position, rank, rbind, Reduce, rownames, sapply, setdiff, sort,\n",
      "    table, tapply, union, unique, unsplit, which.max, which.min\n",
      "\n",
      "\n",
      "Loading required package: Biobase\n",
      "\n",
      "Welcome to Bioconductor\n",
      "\n",
      "    Vignettes contain introductory material; view with\n",
      "    'browseVignettes()'. To cite Bioconductor, see\n",
      "    'citation(\"Biobase\")', and for packages 'citation(\"pkgname\")'.\n",
      "\n",
      "\n",
      "Loading required package: IRanges\n",
      "\n",
      "Loading required package: S4Vectors\n",
      "\n",
      "\n",
      "Attaching package: ‘S4Vectors’\n",
      "\n",
      "\n",
      "The following object is masked from ‘package:utils’:\n",
      "\n",
      "    findMatches\n",
      "\n",
      "\n",
      "The following objects are masked from ‘package:base’:\n",
      "\n",
      "    expand.grid, I, unname\n",
      "\n",
      "\n",
      "\n",
      "\n"
     ]
    }
   ],
   "source": [
    "library(GO.db)\n",
    "library(AnnotationDbi)"
   ]
  },
  {
   "cell_type": "code",
   "execution_count": 77,
   "id": "9f10b85b-765c-4ee8-b2cf-b01d2d2fc226",
   "metadata": {},
   "outputs": [
    {
     "data": {
      "text/plain": [
       "MFPARENTS map for GO (object of class \"AnnDbBimap\")"
      ]
     },
     "metadata": {},
     "output_type": "display_data"
    }
   ],
   "source": [
    "GO.db::GOMFPARENTS"
   ]
  },
  {
   "cell_type": "code",
   "execution_count": 87,
   "id": "4590fc0c-6526-43e2-b5f1-c1aa1f7b07c7",
   "metadata": {},
   "outputs": [
    {
     "name": "stdout",
     "output_type": "stream",
     "text": [
      "The depth of GO term GO:0008150 is 1 \n"
     ]
    }
   ],
   "source": [
    "# Function to calculate the depth of a GO term\n",
    "get_go_depth <- function(go_id,parent_type) {\n",
    "  term <- go_id\n",
    "  depth <- 0\n",
    "  \n",
    "  while (!is.na(term) && length(term) > 0) {\n",
    "    parents <- AnnotationDbi::mget(term, parent_type, ifnotfound = NA)\n",
    "    \n",
    "    # Check if parents is NULL or empty\n",
    "    if (is.null(parents) || length(parents) == 0 || all(is.na(parents))) {\n",
    "      break\n",
    "    }\n",
    "    \n",
    "    parents <- unlist(parents)\n",
    "    term <- parents[1]  # Assuming single inheritance for simplicity\n",
    "    depth <- depth + 1\n",
    "  }\n",
    "  \n",
    "  return(depth)\n",
    "}\n",
    "\n",
    "\n",
    "\n",
    "# Example usage\n",
    "go_id <- \"GO:0008150\"  # Replace with the GO term of interest\n",
    "depth <- get_go_depth(go_id, parent_type = GO.db::GOBPPARENTS)\n",
    "cat(\"The depth of GO term\", go_id, \"is\", depth, \"\\n\")"
   ]
  },
  {
   "cell_type": "code",
   "execution_count": 79,
   "id": "a0e81359-cf37-48e0-9545-f2d696414aeb",
   "metadata": {},
   "outputs": [],
   "source": [
    "go_depth<- function(go_terms,parent_type = GO.db::GOBPPARENTS) {\n",
    "    go_ids <- regmatches(go_terms, regexpr(\"GO:\\\\d+\", go_terms))\n",
    "    depths <- numeric(length(go_ids))\n",
    "    for (i in seq_along(go_ids)) {\n",
    "      depths[i] <- get_go_depth(go_ids[i],parent_type)\n",
    "    }\n",
    "    df_depth <- data.frame(term = go_terms, go_id = go_ids, go_depth = depths)\n",
    "    return (df_depth)\n",
    "} "
   ]
  },
  {
   "cell_type": "code",
   "execution_count": 65,
   "id": "46183c0d-8bed-495b-93a4-660ab1e8adce",
   "metadata": {},
   "outputs": [],
   "source": [
    "go_bp=readr::read_tsv('libs_human/gmt/GO_Biological_Process_2023.txt', col_names= FALSE)\n",
    "df_depth<-go_depth(go_bp$X1,parent_type = GO.db::GOBPPARENTS)"
   ]
  },
  {
   "cell_type": "code",
   "execution_count": 61,
   "id": "cb86e9cb-d067-4969-8183-b99a02c7b61f",
   "metadata": {},
   "outputs": [
    {
     "data": {
      "text/html": [
       "<table class=\"dataframe\">\n",
       "<caption>A data.frame: 6 × 3</caption>\n",
       "<thead>\n",
       "\t<tr><th></th><th scope=col>term</th><th scope=col>go_id</th><th scope=col>go_depth</th></tr>\n",
       "\t<tr><th></th><th scope=col>&lt;chr&gt;</th><th scope=col>&lt;chr&gt;</th><th scope=col>&lt;dbl&gt;</th></tr>\n",
       "</thead>\n",
       "<tbody>\n",
       "\t<tr><th scope=row>1</th><td>'De Novo' AMP Biosynthetic Process (GO:0044208)                     </td><td>GO:0044208</td><td>12</td></tr>\n",
       "\t<tr><th scope=row>2</th><td>'De Novo' Post-Translational Protein Folding (GO:0051084)           </td><td>GO:0051084</td><td> 5</td></tr>\n",
       "\t<tr><th scope=row>3</th><td>2-Oxoglutarate Metabolic Process (GO:0006103)                       </td><td>GO:0006103</td><td> 8</td></tr>\n",
       "\t<tr><th scope=row>4</th><td>3'-UTR-mediated mRNA Destabilization (GO:0061158)                   </td><td>GO:0061158</td><td> 9</td></tr>\n",
       "\t<tr><th scope=row>5</th><td>3'-UTR-mediated mRNA Stabilization (GO:0070935)                     </td><td>GO:0070935</td><td>10</td></tr>\n",
       "\t<tr><th scope=row>6</th><td>3'-Phosphoadenosine 5'-Phosphosulfate Metabolic Process (GO:0050427)</td><td>GO:0050427</td><td> 5</td></tr>\n",
       "</tbody>\n",
       "</table>\n"
      ],
      "text/latex": [
       "A data.frame: 6 × 3\n",
       "\\begin{tabular}{r|lll}\n",
       "  & term & go\\_id & go\\_depth\\\\\n",
       "  & <chr> & <chr> & <dbl>\\\\\n",
       "\\hline\n",
       "\t1 & 'De Novo' AMP Biosynthetic Process (GO:0044208)                      & GO:0044208 & 12\\\\\n",
       "\t2 & 'De Novo' Post-Translational Protein Folding (GO:0051084)            & GO:0051084 &  5\\\\\n",
       "\t3 & 2-Oxoglutarate Metabolic Process (GO:0006103)                        & GO:0006103 &  8\\\\\n",
       "\t4 & 3'-UTR-mediated mRNA Destabilization (GO:0061158)                    & GO:0061158 &  9\\\\\n",
       "\t5 & 3'-UTR-mediated mRNA Stabilization (GO:0070935)                      & GO:0070935 & 10\\\\\n",
       "\t6 & 3'-Phosphoadenosine 5'-Phosphosulfate Metabolic Process (GO:0050427) & GO:0050427 &  5\\\\\n",
       "\\end{tabular}\n"
      ],
      "text/markdown": [
       "\n",
       "A data.frame: 6 × 3\n",
       "\n",
       "| <!--/--> | term &lt;chr&gt; | go_id &lt;chr&gt; | go_depth &lt;dbl&gt; |\n",
       "|---|---|---|---|\n",
       "| 1 | 'De Novo' AMP Biosynthetic Process (GO:0044208)                      | GO:0044208 | 12 |\n",
       "| 2 | 'De Novo' Post-Translational Protein Folding (GO:0051084)            | GO:0051084 |  5 |\n",
       "| 3 | 2-Oxoglutarate Metabolic Process (GO:0006103)                        | GO:0006103 |  8 |\n",
       "| 4 | 3'-UTR-mediated mRNA Destabilization (GO:0061158)                    | GO:0061158 |  9 |\n",
       "| 5 | 3'-UTR-mediated mRNA Stabilization (GO:0070935)                      | GO:0070935 | 10 |\n",
       "| 6 | 3'-Phosphoadenosine 5'-Phosphosulfate Metabolic Process (GO:0050427) | GO:0050427 |  5 |\n",
       "\n"
      ],
      "text/plain": [
       "  term                                                                \n",
       "1 'De Novo' AMP Biosynthetic Process (GO:0044208)                     \n",
       "2 'De Novo' Post-Translational Protein Folding (GO:0051084)           \n",
       "3 2-Oxoglutarate Metabolic Process (GO:0006103)                       \n",
       "4 3'-UTR-mediated mRNA Destabilization (GO:0061158)                   \n",
       "5 3'-UTR-mediated mRNA Stabilization (GO:0070935)                     \n",
       "6 3'-Phosphoadenosine 5'-Phosphosulfate Metabolic Process (GO:0050427)\n",
       "  go_id      go_depth\n",
       "1 GO:0044208 12      \n",
       "2 GO:0051084  5      \n",
       "3 GO:0006103  8      \n",
       "4 GO:0061158  9      \n",
       "5 GO:0070935 10      \n",
       "6 GO:0050427  5      "
      ]
     },
     "metadata": {},
     "output_type": "display_data"
    }
   ],
   "source": [
    "head(df_depth)"
   ]
  },
  {
   "cell_type": "code",
   "execution_count": 62,
   "id": "393e50a6-e7f4-4605-b44c-53678785ccbb",
   "metadata": {},
   "outputs": [],
   "source": [
    "write.table(df_depth, file = \"libs_human/go_depth/GO_Biological_Process_2023.txt\", sep = \"\\t\", quote = FALSE, row.names = FALSE)"
   ]
  },
  {
   "cell_type": "code",
   "execution_count": 80,
   "id": "e5fcb930-c0f6-4815-b5fa-9f955b9410e4",
   "metadata": {},
   "outputs": [
    {
     "name": "stderr",
     "output_type": "stream",
     "text": [
      "Warning message:\n",
      "“\u001b[1m\u001b[22mOne or more parsing issues, call `problems()` on your data frame for details,\n",
      "e.g.:\n",
      "  dat <- vroom(...)\n",
      "  problems(dat)”\n",
      "\u001b[1mRows: \u001b[22m\u001b[34m474\u001b[39m \u001b[1mColumns: \u001b[22m\u001b[34m10\u001b[39m\n",
      "\u001b[36m──\u001b[39m \u001b[1mColumn specification\u001b[22m \u001b[36m────────────────────────────────────────────────────────\u001b[39m\n",
      "\u001b[1mDelimiter:\u001b[22m \"\\t\"\n",
      "\u001b[31mchr\u001b[39m (9): X1, X3, X4, X5, X6, X7, X8, X9, X10\n",
      "\u001b[33mlgl\u001b[39m (1): X2\n",
      "\n",
      "\u001b[36mℹ\u001b[39m Use `spec()` to retrieve the full column specification for this data.\n",
      "\u001b[36mℹ\u001b[39m Specify the column types or set `show_col_types = FALSE` to quiet this message.\n"
     ]
    }
   ],
   "source": [
    "go_cc=readr::read_tsv('libs_human/gmt/GO_Cellular_Component_2023.txt', col_names= FALSE)\n",
    "df_depth<-go_depth(go_cc$X1,parent_type = GO.db::GOCCPARENTS)"
   ]
  },
  {
   "cell_type": "code",
   "execution_count": 81,
   "id": "0e1fb649-098c-4605-a256-abd17802e0fd",
   "metadata": {
    "scrolled": true
   },
   "outputs": [
    {
     "data": {
      "text/html": [
       "<table class=\"dataframe\">\n",
       "<caption>A data.frame: 6 × 3</caption>\n",
       "<thead>\n",
       "\t<tr><th></th><th scope=col>term</th><th scope=col>go_id</th><th scope=col>go_depth</th></tr>\n",
       "\t<tr><th></th><th scope=col>&lt;chr&gt;</th><th scope=col>&lt;chr&gt;</th><th scope=col>&lt;dbl&gt;</th></tr>\n",
       "</thead>\n",
       "<tbody>\n",
       "\t<tr><th scope=row>1</th><td>9+0 Non-Motile Cilium (GO:0097731)          </td><td>GO:0097731</td><td>7</td></tr>\n",
       "\t<tr><th scope=row>2</th><td>9+2 Motile Cilium (GO:0097729)              </td><td>GO:0097729</td><td>7</td></tr>\n",
       "\t<tr><th scope=row>3</th><td>90S Preribosome (GO:0030686)                </td><td>GO:0030686</td><td>5</td></tr>\n",
       "\t<tr><th scope=row>4</th><td>AMPA Glutamate Receptor Complex (GO:0032281)</td><td>GO:0032281</td><td>8</td></tr>\n",
       "\t<tr><th scope=row>5</th><td>AP-1 Adaptor Complex (GO:0030121)           </td><td>GO:0030121</td><td>7</td></tr>\n",
       "\t<tr><th scope=row>6</th><td>AP-2 Adaptor Complex (GO:0030122)           </td><td>GO:0030122</td><td>9</td></tr>\n",
       "</tbody>\n",
       "</table>\n"
      ],
      "text/latex": [
       "A data.frame: 6 × 3\n",
       "\\begin{tabular}{r|lll}\n",
       "  & term & go\\_id & go\\_depth\\\\\n",
       "  & <chr> & <chr> & <dbl>\\\\\n",
       "\\hline\n",
       "\t1 & 9+0 Non-Motile Cilium (GO:0097731)           & GO:0097731 & 7\\\\\n",
       "\t2 & 9+2 Motile Cilium (GO:0097729)               & GO:0097729 & 7\\\\\n",
       "\t3 & 90S Preribosome (GO:0030686)                 & GO:0030686 & 5\\\\\n",
       "\t4 & AMPA Glutamate Receptor Complex (GO:0032281) & GO:0032281 & 8\\\\\n",
       "\t5 & AP-1 Adaptor Complex (GO:0030121)            & GO:0030121 & 7\\\\\n",
       "\t6 & AP-2 Adaptor Complex (GO:0030122)            & GO:0030122 & 9\\\\\n",
       "\\end{tabular}\n"
      ],
      "text/markdown": [
       "\n",
       "A data.frame: 6 × 3\n",
       "\n",
       "| <!--/--> | term &lt;chr&gt; | go_id &lt;chr&gt; | go_depth &lt;dbl&gt; |\n",
       "|---|---|---|---|\n",
       "| 1 | 9+0 Non-Motile Cilium (GO:0097731)           | GO:0097731 | 7 |\n",
       "| 2 | 9+2 Motile Cilium (GO:0097729)               | GO:0097729 | 7 |\n",
       "| 3 | 90S Preribosome (GO:0030686)                 | GO:0030686 | 5 |\n",
       "| 4 | AMPA Glutamate Receptor Complex (GO:0032281) | GO:0032281 | 8 |\n",
       "| 5 | AP-1 Adaptor Complex (GO:0030121)            | GO:0030121 | 7 |\n",
       "| 6 | AP-2 Adaptor Complex (GO:0030122)            | GO:0030122 | 9 |\n",
       "\n"
      ],
      "text/plain": [
       "  term                                         go_id      go_depth\n",
       "1 9+0 Non-Motile Cilium (GO:0097731)           GO:0097731 7       \n",
       "2 9+2 Motile Cilium (GO:0097729)               GO:0097729 7       \n",
       "3 90S Preribosome (GO:0030686)                 GO:0030686 5       \n",
       "4 AMPA Glutamate Receptor Complex (GO:0032281) GO:0032281 8       \n",
       "5 AP-1 Adaptor Complex (GO:0030121)            GO:0030121 7       \n",
       "6 AP-2 Adaptor Complex (GO:0030122)            GO:0030122 9       "
      ]
     },
     "metadata": {},
     "output_type": "display_data"
    }
   ],
   "source": [
    "head(df_depth)"
   ]
  },
  {
   "cell_type": "code",
   "execution_count": 82,
   "id": "71134e2d-978b-4715-927d-9c3d0250a4b0",
   "metadata": {},
   "outputs": [],
   "source": [
    "write.table(df_depth, file = \"libs_human/go_depth/GO_Cellular_Component_2023.txt\", sep = \"\\t\", quote = FALSE, row.names = FALSE)"
   ]
  },
  {
   "cell_type": "code",
   "execution_count": 83,
   "id": "e09178f8-b88b-445d-b254-9697830fa399",
   "metadata": {},
   "outputs": [
    {
     "name": "stderr",
     "output_type": "stream",
     "text": [
      "Warning message:\n",
      "“\u001b[1m\u001b[22mOne or more parsing issues, call `problems()` on your data frame for details,\n",
      "e.g.:\n",
      "  dat <- vroom(...)\n",
      "  problems(dat)”\n",
      "\u001b[1mRows: \u001b[22m\u001b[34m1147\u001b[39m \u001b[1mColumns: \u001b[22m\u001b[34m21\u001b[39m\n",
      "\u001b[36m──\u001b[39m \u001b[1mColumn specification\u001b[22m \u001b[36m────────────────────────────────────────────────────────\u001b[39m\n",
      "\u001b[1mDelimiter:\u001b[22m \"\\t\"\n",
      "\u001b[31mchr\u001b[39m (20): X1, X3, X4, X5, X6, X7, X8, X9, X10, X11, X12, X13, X14, X15, X16,...\n",
      "\u001b[33mlgl\u001b[39m  (1): X2\n",
      "\n",
      "\u001b[36mℹ\u001b[39m Use `spec()` to retrieve the full column specification for this data.\n",
      "\u001b[36mℹ\u001b[39m Specify the column types or set `show_col_types = FALSE` to quiet this message.\n"
     ]
    }
   ],
   "source": [
    "go_mf=readr::read_tsv('libs_human/gmt/GO_Molecular_Function_2023.txt', col_names= FALSE)\n",
    "df_depth<-go_depth(go_mf$X1,parent_type = GO.db::GOMFPARENTS)"
   ]
  },
  {
   "cell_type": "code",
   "execution_count": 84,
   "id": "ae101007-bbdf-4589-bb6b-d45b3f7b0b9a",
   "metadata": {},
   "outputs": [
    {
     "data": {
      "text/html": [
       "<table class=\"dataframe\">\n",
       "<caption>A data.frame: 6 × 3</caption>\n",
       "<thead>\n",
       "\t<tr><th></th><th scope=col>term</th><th scope=col>go_id</th><th scope=col>go_depth</th></tr>\n",
       "\t<tr><th></th><th scope=col>&lt;chr&gt;</th><th scope=col>&lt;chr&gt;</th><th scope=col>&lt;dbl&gt;</th></tr>\n",
       "</thead>\n",
       "<tbody>\n",
       "\t<tr><th scope=row>1</th><td>1-Acylglycerol-3-Phosphate O-acyltransferase Activity (GO:0003841)  </td><td>GO:0003841</td><td>8</td></tr>\n",
       "\t<tr><th scope=row>2</th><td>1-Acylglycerophosphocholine O-acyltransferase Activity (GO:0047184) </td><td>GO:0047184</td><td>7</td></tr>\n",
       "\t<tr><th scope=row>3</th><td>1-Alkyl-2-Acetylglycerophosphocholine Esterase Activity (GO:0003847)</td><td>GO:0003847</td><td>6</td></tr>\n",
       "\t<tr><th scope=row>4</th><td>1-Phosphatidylinositol Binding (GO:0005545)                         </td><td>GO:0005545</td><td>6</td></tr>\n",
       "\t<tr><th scope=row>5</th><td>1-Phosphatidylinositol-3-Kinase Activity (GO:0016303)               </td><td>GO:0016303</td><td>8</td></tr>\n",
       "\t<tr><th scope=row>6</th><td>1-Phosphatidylinositol-3-Kinase Regulator Activity (GO:0046935)     </td><td>GO:0046935</td><td>5</td></tr>\n",
       "</tbody>\n",
       "</table>\n"
      ],
      "text/latex": [
       "A data.frame: 6 × 3\n",
       "\\begin{tabular}{r|lll}\n",
       "  & term & go\\_id & go\\_depth\\\\\n",
       "  & <chr> & <chr> & <dbl>\\\\\n",
       "\\hline\n",
       "\t1 & 1-Acylglycerol-3-Phosphate O-acyltransferase Activity (GO:0003841)   & GO:0003841 & 8\\\\\n",
       "\t2 & 1-Acylglycerophosphocholine O-acyltransferase Activity (GO:0047184)  & GO:0047184 & 7\\\\\n",
       "\t3 & 1-Alkyl-2-Acetylglycerophosphocholine Esterase Activity (GO:0003847) & GO:0003847 & 6\\\\\n",
       "\t4 & 1-Phosphatidylinositol Binding (GO:0005545)                          & GO:0005545 & 6\\\\\n",
       "\t5 & 1-Phosphatidylinositol-3-Kinase Activity (GO:0016303)                & GO:0016303 & 8\\\\\n",
       "\t6 & 1-Phosphatidylinositol-3-Kinase Regulator Activity (GO:0046935)      & GO:0046935 & 5\\\\\n",
       "\\end{tabular}\n"
      ],
      "text/markdown": [
       "\n",
       "A data.frame: 6 × 3\n",
       "\n",
       "| <!--/--> | term &lt;chr&gt; | go_id &lt;chr&gt; | go_depth &lt;dbl&gt; |\n",
       "|---|---|---|---|\n",
       "| 1 | 1-Acylglycerol-3-Phosphate O-acyltransferase Activity (GO:0003841)   | GO:0003841 | 8 |\n",
       "| 2 | 1-Acylglycerophosphocholine O-acyltransferase Activity (GO:0047184)  | GO:0047184 | 7 |\n",
       "| 3 | 1-Alkyl-2-Acetylglycerophosphocholine Esterase Activity (GO:0003847) | GO:0003847 | 6 |\n",
       "| 4 | 1-Phosphatidylinositol Binding (GO:0005545)                          | GO:0005545 | 6 |\n",
       "| 5 | 1-Phosphatidylinositol-3-Kinase Activity (GO:0016303)                | GO:0016303 | 8 |\n",
       "| 6 | 1-Phosphatidylinositol-3-Kinase Regulator Activity (GO:0046935)      | GO:0046935 | 5 |\n",
       "\n"
      ],
      "text/plain": [
       "  term                                                                \n",
       "1 1-Acylglycerol-3-Phosphate O-acyltransferase Activity (GO:0003841)  \n",
       "2 1-Acylglycerophosphocholine O-acyltransferase Activity (GO:0047184) \n",
       "3 1-Alkyl-2-Acetylglycerophosphocholine Esterase Activity (GO:0003847)\n",
       "4 1-Phosphatidylinositol Binding (GO:0005545)                         \n",
       "5 1-Phosphatidylinositol-3-Kinase Activity (GO:0016303)               \n",
       "6 1-Phosphatidylinositol-3-Kinase Regulator Activity (GO:0046935)     \n",
       "  go_id      go_depth\n",
       "1 GO:0003841 8       \n",
       "2 GO:0047184 7       \n",
       "3 GO:0003847 6       \n",
       "4 GO:0005545 6       \n",
       "5 GO:0016303 8       \n",
       "6 GO:0046935 5       "
      ]
     },
     "metadata": {},
     "output_type": "display_data"
    }
   ],
   "source": [
    "head(df_depth)"
   ]
  },
  {
   "cell_type": "code",
   "execution_count": 85,
   "id": "23e9cc23-0b3c-4909-875d-001d27c9cf66",
   "metadata": {},
   "outputs": [],
   "source": [
    "write.table(df_depth, file = \"libs_human/go_depth/GO_Molecular_Function_2023.txt\", sep = \"\\t\", quote = FALSE, row.names = FALSE)"
   ]
  },
  {
   "cell_type": "code",
   "execution_count": null,
   "id": "6e8d2b34-f68f-4d32-8111-d1f2953723ea",
   "metadata": {},
   "outputs": [],
   "source": []
  }
 ],
 "metadata": {
  "kernelspec": {
   "display_name": "R",
   "language": "R",
   "name": "ir"
  },
  "language_info": {
   "codemirror_mode": "r",
   "file_extension": ".r",
   "mimetype": "text/x-r-source",
   "name": "R",
   "pygments_lexer": "r",
   "version": "4.3.3"
  }
 },
 "nbformat": 4,
 "nbformat_minor": 5
}
