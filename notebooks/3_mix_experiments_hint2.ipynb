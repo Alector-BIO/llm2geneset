{
 "cells": [
  {
   "cell_type": "code",
   "execution_count": 1,
   "id": "2c98f95b-0e84-4d53-8f8b-22c5268ffde0",
   "metadata": {},
   "outputs": [],
   "source": [
    "import openai\n",
    "from pathlib import Path\n",
    "import json\n",
    "import llm2geneset\n",
    "import pandas as pd\n",
    "import random\n",
    "from itertools import combinations\n",
    "from rouge_score import rouge_scorer\n",
    "import numpy as np\n",
    "from statsmodels.stats.multitest import multipletests\n",
    "\n",
    "aclient = openai.AsyncClient()\n",
    "client = openai.Client()"
   ]
  },
  {
   "cell_type": "code",
   "execution_count": 2,
   "id": "58bc8391-44b8-415e-87a0-869c8534fba5",
   "metadata": {},
   "outputs": [],
   "source": [
    "scorer = rouge_scorer.RougeScorer(['rouge1','rouge2'], use_stemmer=True)"
   ]
  },
  {
   "cell_type": "code",
   "execution_count": 3,
   "id": "57e47773-bbac-4819-9857-fa2753f91297",
   "metadata": {},
   "outputs": [],
   "source": [
    "def sample_pairs(integer_list, num_pairs):\n",
    "    possible_pairs = [(a, b) for a, b in combinations(integer_list, 2)]\n",
    "    sampled_pairs = random.sample(possible_pairs, min(num_pairs, len(possible_pairs)))\n",
    "    return sampled_pairs"
   ]
  },
  {
   "cell_type": "code",
   "execution_count": 4,
   "id": "1e4b30ce-ec94-4cfe-ba54-e6df772d8bee",
   "metadata": {},
   "outputs": [],
   "source": [
    "file_names = [\n",
    "    \"gsai_vs_llm2geneset_outputs_KEGG_2021_Human.tsv\",\n",
    "    \"gsai_vs_llm2geneset_outputs_Reactome_2022.tsv\",\n",
    "    \"gsai_vs_llm2geneset_outputs_WikiPathway_2023_Human.tsv\"\n",
    "]\n",
    "\n",
    "dfs = [pd.read_csv(\"outputs/\" + file, sep='\\t') for file in file_names]\n",
    "combined = pd.concat(dfs, ignore_index=True)\n",
    "gsai_out = combined[combined[\"method\"] == \"GSAI\"]\n",
    "llm2geneset_out = combined[combined[\"method\"] == \"llm2geneset\"]"
   ]
  },
  {
   "cell_type": "code",
   "execution_count": 5,
   "id": "c26fcddb-e45f-459c-994c-cfe973d320b0",
   "metadata": {
    "scrolled": true
   },
   "outputs": [
    {
     "name": "stdout",
     "output_type": "stream",
     "text": [
      "gpt-4o-mini-2024-07-18\n",
      "KEGG_2021_Human\n"
     ]
    },
    {
     "name": "stderr",
     "output_type": "stream",
     "text": [
      "100%|█████████████████████████████████████████████████████████████████████████████████████████████████████████████████████████████████████████| 50/50 [00:12<00:00,  3.91it/s]\n"
     ]
    },
    {
     "name": "stdout",
     "output_type": "stream",
     "text": [
      "Reactome_2022\n"
     ]
    },
    {
     "name": "stderr",
     "output_type": "stream",
     "text": [
      "100%|█████████████████████████████████████████████████████████████████████████████████████████████████████████████████████████████████████████| 50/50 [00:13<00:00,  3.63it/s]\n"
     ]
    },
    {
     "name": "stdout",
     "output_type": "stream",
     "text": [
      "WikiPathway_2023_Human\n"
     ]
    },
    {
     "name": "stderr",
     "output_type": "stream",
     "text": [
      "100%|█████████████████████████████████████████████████████████████████████████████████████████████████████████████████████████████████████████| 50/50 [00:11<00:00,  4.33it/s]\n"
     ]
    },
    {
     "name": "stdout",
     "output_type": "stream",
     "text": [
      "gpt-3.5-turbo-0125\n",
      "KEGG_2021_Human\n"
     ]
    },
    {
     "name": "stderr",
     "output_type": "stream",
     "text": [
      "100%|█████████████████████████████████████████████████████████████████████████████████████████████████████████████████████████████████████████| 50/50 [00:07<00:00,  6.55it/s]\n"
     ]
    },
    {
     "name": "stdout",
     "output_type": "stream",
     "text": [
      "Reactome_2022\n"
     ]
    },
    {
     "name": "stderr",
     "output_type": "stream",
     "text": [
      "100%|█████████████████████████████████████████████████████████████████████████████████████████████████████████████████████████████████████████| 50/50 [00:06<00:00,  7.63it/s]\n"
     ]
    },
    {
     "name": "stdout",
     "output_type": "stream",
     "text": [
      "WikiPathway_2023_Human\n"
     ]
    },
    {
     "name": "stderr",
     "output_type": "stream",
     "text": [
      "100%|█████████████████████████████████████████████████████████████████████████████████████████████████████████████████████████████████████████| 50/50 [00:06<00:00,  7.58it/s]\n"
     ]
    },
    {
     "name": "stdout",
     "output_type": "stream",
     "text": [
      "gpt-4o-2024-08-06\n",
      "KEGG_2021_Human\n"
     ]
    },
    {
     "name": "stderr",
     "output_type": "stream",
     "text": [
      "100%|█████████████████████████████████████████████████████████████████████████████████████████████████████████████████████████████████████████| 50/50 [00:09<00:00,  5.27it/s]\n"
     ]
    },
    {
     "name": "stdout",
     "output_type": "stream",
     "text": [
      "Reactome_2022\n"
     ]
    },
    {
     "name": "stderr",
     "output_type": "stream",
     "text": [
      "100%|█████████████████████████████████████████████████████████████████████████████████████████████████████████████████████████████████████████| 50/50 [00:10<00:00,  4.72it/s]\n"
     ]
    },
    {
     "name": "stdout",
     "output_type": "stream",
     "text": [
      "WikiPathway_2023_Human\n"
     ]
    },
    {
     "name": "stderr",
     "output_type": "stream",
     "text": [
      " 30%|█████████████████████████████████████████                                                                                                | 15/50 [00:06<00:05,  6.78it/s]"
     ]
    },
    {
     "name": "stdout",
     "output_type": "stream",
     "text": [
      "retrying\n",
      "conf is none\n",
      "Write a critical analysis of the biological processes performed by this system of interacting proteins.\n",
      "There are 2 distinct biological processes performed by this system of interacting proteins.\n",
      "\n",
      "Base your analysis on prior knowledge available in your training data.  After completing your analysis, propose a brief and\n",
      "detailed name for the most prominent biological process performed by the system.\n",
      "\n",
      "After completing your analysis, please also assign a confidence score to the process name you selected.  This score should\n",
      "follow the name in parentheses and range from 0.00 to 1.00. A score of 0.00 indicates the lowest confidence, while 1.00 reflects\n",
      "the highest confidence. This score helps gauge how accurately the chosen name represents the functions and activities within\n",
      "the system of interacting proteins. When determining your score, consider the proportion of genes in the protein system that\n",
      "participate in the identified biological process. For instance, if you select \"Ribosome biogenesis\" as the process name but\n",
      "only a few genes in the system contribute to this process, the score should be lower compared to a scenario where a majority\n",
      "of the genes are involved in \"Ribosome biogenesis\".\n",
      "\n",
      "Put your chosen name at the top of the analysis as 'Name: <name>'.\n",
      "Put your confidence in a new line after the name as ‘LLM self-assessed confidence: <confidence score>’\n",
      "\n",
      "Be concise, do not use unnecessary words.\n",
      "Be factual, do not editorialize.\n",
      "Be specific, avoid overly general statements such as 'the proteins are involved in various cellular processes'.\n",
      "Avoid listing facts about individual proteins. Instead, try to group proteins with similar functions and discuss their interplay,\n",
      "synergistic or antagonistic effects and functional integration within the system. Also avoid choosing generic process names such\n",
      "as 'Cellular Signaling and Regulation'.  If you cannot identify a prominent biological process for the proteins in the system, I\n",
      "want you to communicate this in you analysis and name the process: \"System of unrelated proteins\". Provide a score of 0.00 for\n",
      "a \"System of unrelated proteins\".\n",
      "\n",
      "To help you in your work, I am providing an example system of interacting proteins and the corresponding example analysis output.\n",
      "\n",
      "The example system of interacting proteins is:\n",
      "PDX1, SLC2A2, NKX6-1, GLP1, GCG.\n",
      "\n",
      "The example analysis output is:\n",
      "Name: Pancreatic development and glucose homeostasis\n",
      "LLM self-assessed confidence: 0.96\n",
      "\n",
      "1. PDX1 is a homeodomain transcription factor involved in the specification of the early pancreatic epithelium and\n",
      "its subsequent differentiation. It activates the transcription of several genes including insulin, somatostatin, glucokinase\n",
      "and glucose transporter type 2. It is essential for maintenance of the normal hormone-producing phenotype in the\n",
      "pancreatic beta-cell. In pancreatic acinar cells, forms a complex with PBX1b and MEIS2b and mediates the activation\n",
      "of the ELA1 enhancer.\n",
      "\n",
      "2. NKX6-1 is also a transcription factor involved in the development of pancreatic beta-cells during the secondary transition.\n",
      "Together with NKX2-2 and IRX3, controls the generation of motor neurons in the neural tube and belongs to the neural progenitor\n",
      "factors induced by Sonic Hedgehog (SHH) signals.\n",
      "\n",
      "3.GCG and GLP1, respectively glucagon and glucagon-like peptide 1, are involved in glucose metabolism and homeostasis.\n",
      "GCG raises blood glucose levels by promoting gluconeogenesis and is the counter regulatory hormone of Insulin.\n",
      "GLP1 is a potent stimulator of Glucose-Induced Insulin Secretion (GSIS). Plays roles in gastric motility and\n",
      "suppresses blood glucagon levels. Promotes growth of the intestinal epithelium and pancreatic islet mass both by islet\n",
      "neogenesis and islet cell proliferation.\n",
      "\n",
      "4. SLC2A2, also known as GLUT2, is a facilitative hexose transporter. In hepatocytes, it mediates bi-directional\n",
      "transport of glucose accross the plasma membranes, while in the pancreatic beta-cell, it is the main transporter responsible\n",
      "for glucose uptake and part of the cell's glucose-sensing mechanism. It is involved in glucose transport in the small intestine\n",
      "and kidney too.\n",
      "\n",
      "To summarize, the genes in this set are involved in the specification, differentiation, growth and functionality of the pancreas,\n",
      "with a particular emphasis on the pancreatic beta-cell. Particularly, the architecture of the pancreatic islet ensures proper\n",
      "glucose sensing and homeostasis via a number of different hormones and receptors that can elicit both synergistic and antagonistic\n",
      "effects in the pancreas itself and other peripheral tissues.\n",
      "\n",
      "\n",
      "Here are the interacting proteins:\n",
      "\n",
      "Proteins: ALDH18A1, GAB2, FYN, CREB1, EPRS1, SMS, RPS6KA1, HIBADH, RAC1, BLNK, LARS2, LCK, BCL6, IKBKB, CRK, PPM1L, VAV2, DLST, PIP5K1C, PLCG2, FH, MAP2K2, HRAS, CTH, PLCG1, INPP5D, NCK1, LAT2, TH, ARG1, TPH1, ALDH7A1, GOT2, MAX, MAP2K6, JUN, CDC42, PIP5K1B, ACLY, ARG2, BTK, CD81, DDC, OTC, GCLM, MDH2, SH3BP2, ACSS1, CHUK, ODC1, CS, GPT2, BHMT, HIBCH, HMGCS2, RAF1, ADH7, PDK4, CARD11, RARS1, HADH, CBS, GSK3B, DBH, ASS1, MARS2, ACADM, BLK, PKM, MYC, PDHA1, ELK1, AKT1, MAPK1, EHHADH, ETS1, ATF2, MCCC1, IKBKG, ADH4, PDPK1, GLUD1, GSK3A, MAPK8, PIK3R1, CPS1, G6PC2, ALDH1A1, NFATC3, PTPRC, GOT1, MAP3K7, WARS1, SDS, MMUT, RAC2, ACAA1, CAD, RELA, PIK3AP1, VARS1, PRKCD, LYN, KLF11, MAP2K1, DLD, RASGRP3, MALT1, PIK3CG, MAPK9, GRB2, CD79B, MDH1, GTF2I, CD22, HDC, PTPN18, BRAF, NFATC2, MAP4K1, PCK1, RAPGEF1, SRM, GSS, HAL, ADH5, IDH1, DAPP1, PIK3R2, FOXO1, PYCR1, NFKBIA, SYK, CAMK2A, BCL10, ADH1C, PDHX, PRKCB, CD79A, BCAT1, PNMT, GLUL, TEC, ASNS, FAH, GLS, MPST, CD19, HMGCL, AOC3, MAPK14, TPO, REL, SUCLG1, PTPN11, GAB1, FARSB, PC, AUH, OAT, TDO2, MAOA, PTPN6, CR2, LDHA, CRKL, CBL, NFKB1, ACO2, SDHA, IARS1, SOS1, TAT, OGDH, GSR, HNMT, SHC1, HCLS1, FTCD, PIP5K1A, MAPK4, VAV1, P4HA2\n",
      "\n",
      "**Name:** Immunoreceptor Signaling and Cellular Differentiation  \n",
      "**LLM self-assessed confidence:** 0.80\n",
      "\n",
      "This system of interacting proteins primarily supports processes related to immunoreceptor signaling and cellular differentiation, particularly pertinent to lymphocytes. Proteins such as BLK, SYK, and LYN are kinases that interact with immunoreceptors to trigger downstream signaling cascades. BLNK and LAT2 act as adapters, facilitating the assembly of signaling complexes after receptor activation. This complex network often culminates in the activation of transcription factors like CREB1, JUN, and NFATC2, which modulate gene expression to drive cellular responses and differentiation.\n",
      "\n",
      "Additionally, proteins like GAB2, CRK, and VAV2 contribute to signal transduction by promoting actin cytoskeleton remodeling, crucial for cell adhesion, migration, and cytokine release. These pathways synergize with the PI3K/AKT signaling modules involving proteins such as AKT1 and PIK3R1, which regulate cell survival and proliferation.\n",
      "\n",
      "Simultaneously, the system is involved in metabolic enzyme activity (e.g., ARG1, GCLM, ASS1) that supports rapid cell growth and proliferation, underlying the metabolic reprogramming necessary during immune responses.\n",
      "\n",
      "Overall, the major component of these interactions is associated with immune cell signaling and differentiation processes. The high representation of kinases, transcription factors, and adaptors involved in immune signaling pathways indicates the prominence of this biological process in the system.\n"
     ]
    },
    {
     "name": "stderr",
     "output_type": "stream",
     "text": [
      " 54%|█████████████████████████████████████████████████████████████████████████▉                                                               | 27/50 [00:07<00:01, 14.76it/s]"
     ]
    },
    {
     "name": "stdout",
     "output_type": "stream",
     "text": [
      "retrying\n",
      "conf is none\n",
      "Write a critical analysis of the biological processes performed by this system of interacting proteins.\n",
      "There are 2 distinct biological processes performed by this system of interacting proteins.\n",
      "\n",
      "Base your analysis on prior knowledge available in your training data.  After completing your analysis, propose a brief and\n",
      "detailed name for the most prominent biological process performed by the system.\n",
      "\n",
      "After completing your analysis, please also assign a confidence score to the process name you selected.  This score should\n",
      "follow the name in parentheses and range from 0.00 to 1.00. A score of 0.00 indicates the lowest confidence, while 1.00 reflects\n",
      "the highest confidence. This score helps gauge how accurately the chosen name represents the functions and activities within\n",
      "the system of interacting proteins. When determining your score, consider the proportion of genes in the protein system that\n",
      "participate in the identified biological process. For instance, if you select \"Ribosome biogenesis\" as the process name but\n",
      "only a few genes in the system contribute to this process, the score should be lower compared to a scenario where a majority\n",
      "of the genes are involved in \"Ribosome biogenesis\".\n",
      "\n",
      "Put your chosen name at the top of the analysis as 'Name: <name>'.\n",
      "Put your confidence in a new line after the name as ‘LLM self-assessed confidence: <confidence score>’\n",
      "\n",
      "Be concise, do not use unnecessary words.\n",
      "Be factual, do not editorialize.\n",
      "Be specific, avoid overly general statements such as 'the proteins are involved in various cellular processes'.\n",
      "Avoid listing facts about individual proteins. Instead, try to group proteins with similar functions and discuss their interplay,\n",
      "synergistic or antagonistic effects and functional integration within the system. Also avoid choosing generic process names such\n",
      "as 'Cellular Signaling and Regulation'.  If you cannot identify a prominent biological process for the proteins in the system, I\n",
      "want you to communicate this in you analysis and name the process: \"System of unrelated proteins\". Provide a score of 0.00 for\n",
      "a \"System of unrelated proteins\".\n",
      "\n",
      "To help you in your work, I am providing an example system of interacting proteins and the corresponding example analysis output.\n",
      "\n",
      "The example system of interacting proteins is:\n",
      "PDX1, SLC2A2, NKX6-1, GLP1, GCG.\n",
      "\n",
      "The example analysis output is:\n",
      "Name: Pancreatic development and glucose homeostasis\n",
      "LLM self-assessed confidence: 0.96\n",
      "\n",
      "1. PDX1 is a homeodomain transcription factor involved in the specification of the early pancreatic epithelium and\n",
      "its subsequent differentiation. It activates the transcription of several genes including insulin, somatostatin, glucokinase\n",
      "and glucose transporter type 2. It is essential for maintenance of the normal hormone-producing phenotype in the\n",
      "pancreatic beta-cell. In pancreatic acinar cells, forms a complex with PBX1b and MEIS2b and mediates the activation\n",
      "of the ELA1 enhancer.\n",
      "\n",
      "2. NKX6-1 is also a transcription factor involved in the development of pancreatic beta-cells during the secondary transition.\n",
      "Together with NKX2-2 and IRX3, controls the generation of motor neurons in the neural tube and belongs to the neural progenitor\n",
      "factors induced by Sonic Hedgehog (SHH) signals.\n",
      "\n",
      "3.GCG and GLP1, respectively glucagon and glucagon-like peptide 1, are involved in glucose metabolism and homeostasis.\n",
      "GCG raises blood glucose levels by promoting gluconeogenesis and is the counter regulatory hormone of Insulin.\n",
      "GLP1 is a potent stimulator of Glucose-Induced Insulin Secretion (GSIS). Plays roles in gastric motility and\n",
      "suppresses blood glucagon levels. Promotes growth of the intestinal epithelium and pancreatic islet mass both by islet\n",
      "neogenesis and islet cell proliferation.\n",
      "\n",
      "4. SLC2A2, also known as GLUT2, is a facilitative hexose transporter. In hepatocytes, it mediates bi-directional\n",
      "transport of glucose accross the plasma membranes, while in the pancreatic beta-cell, it is the main transporter responsible\n",
      "for glucose uptake and part of the cell's glucose-sensing mechanism. It is involved in glucose transport in the small intestine\n",
      "and kidney too.\n",
      "\n",
      "To summarize, the genes in this set are involved in the specification, differentiation, growth and functionality of the pancreas,\n",
      "with a particular emphasis on the pancreatic beta-cell. Particularly, the architecture of the pancreatic islet ensures proper\n",
      "glucose sensing and homeostasis via a number of different hormones and receptors that can elicit both synergistic and antagonistic\n",
      "effects in the pancreas itself and other peripheral tissues.\n",
      "\n",
      "\n",
      "Here are the interacting proteins:\n",
      "\n",
      "Proteins: RPS6KA5, RBL1, TRADD, FOXO1, MIXL1, MAX, MAP2K6, DAXX, NCOR1, CISD1, BMP4, CREB1, STAT3, E2F4, MEF2D, SP1, SMIM40, MAPK14, NR3C1, CEBPD, LPIN1, SOCS3, WNT1, FOXC2, IL6ST, MAP3K5, GADD45A, GDF10, RAC1, AHR, PPARA, RIPK1, RB1, MKNK1, HMGN1, GRB2, ASIP, NDN, STAT1, ZMPSTE24, MYC, RXRA, TRIB3, RASGRF1, MAP3K9, NRIP1, ELK1, MEF2A, LMNA, STAT5B, NR2F1, PRLR, NAMPT, AGPAT2, PPARG, BMP3, SREBF1, ADIPOQ, HSPB1, ATF2, KLF7, CYP26B1, HIF1A, MBNL1, RARA, MEF2D, KLF5, SLC2A4, DDIT3, SPOCK1, NR1H3, KLF6, TWIST1, HNF1A, MAPKAPK5, RBL2, GADD45B, CELF1, SHC1, BMP2, NCOR2, EBF1, GTF3A, SFRP4, IRS4, MEF2B, TGFBR1, TGFB1, PLIN2, FRZB, SOCS1, CFD, PTGIS, CDC42, GATA2, ID3, IGF1, DDIT3, MAPKAPK2, UCP1, HRAS, PCK1, IL6, BORCS8-MEF2B, WNT10B, E2F1, RORA, SMAD3, STAT1, PPARGC1A, KLF15, MEF2C, CEBPA, PCK2, LPIN2, AGT, DLK1, PNPLA3, IRS1, GH1, MAP3K1, NCOA1, PLA2G4A, GATA3, TGFB2, WNT5B, STAT2, MAP2K4, CYP26A1, LPIN3, LIPE, BMP1, CNTFR, CEBPB, SCD, GATA4, LIFR, TRAF2, STAT6, EGR2, RETN, CTNNB1, HMGA1, DVL1, CREB1, EPAS1, CDKN1A, BSCL2, RXRG, LIF, PPARD, LPL, LEP, SERPINE1, MIF, INS, MAP3K7, TNF, PLIN1, OSM, NCOA2, FZD1, FAS, IRS2, STAT5A, WWTR1\n",
      "\n",
      "**Name:** Adipogenesis and Lipid Metabolism Regulation  \n",
      "**LLM self-assessed confidence:** 0.94\n",
      "\n",
      "This system of interacting proteins is prominently involved in adipogenesis and lipid metabolism, integrating multiple signaling pathways that regulate these processes. Several members, including PPARG, CEBPA, CEBPB, and CEBPD, are well-known transcription factors that play a critical role in the differentiation of preadipocytes into adipocytes, marking the process of adipogenesis. Additionally, PPARG interacts synergistically with coactivators like RXRA and NR2F1, driving lipid accumulation and regulation of genes responsible for lipid metabolism.\n",
      "\n",
      "Proteins such as LPIN1, LPIN2, and LPIN3 further highlight the system's involvement in lipid metabolism through their role in triglyceride biosynthesis. Furthermore, the network includes signaling molecules and pathways, such as those mediated by STAT5A, STAT5B, and IL6, that integrate external hormonal signals significant in the modulation of adipocyte functionality and lipid homeostasis.\n",
      "\n",
      "The presence of insulin signaling components, IRS1, IRS2, and INS, indicates that the system is heavily integrated into the regulation of glucose and lipid metabolism, particularly under the influence of insulin, establishing a direct connection to energy storage regulation. Furthermore, proteins like GATA2 and GATA3 may influence adipocyte differentiation, while components in the canonical Wnt pathway, such as WNT1 and CTNNB1, are known to inhibit adipogenesis, demonstrating a complex regulatory balance within the system.\n",
      "\n",
      "Overall, the interaction of these proteins suggests a tightly regulated network primarily dedicated to fat cell differentiation and lipid metabolism, which also incorporates signals for energy balance, reflecting its critical role in maintaining metabolic homeostasis.\n"
     ]
    },
    {
     "name": "stderr",
     "output_type": "stream",
     "text": [
      "100%|█████████████████████████████████████████████████████████████████████████████████████████████████████████████████████████████████████████| 50/50 [00:14<00:00,  3.39it/s]\n"
     ]
    }
   ],
   "source": [
    "lib_names = [\"KEGG_2021_Human\", \n",
    "             \"Reactome_2022\", \n",
    "             \"WikiPathway_2023_Human\"]\n",
    "models = [\"gpt-4o-mini-2024-07-18\", \"gpt-3.5-turbo-0125\", \"gpt-4o-2024-08-06\"]\n",
    "random.seed(30)\n",
    "output = []\n",
    "for model in models:\n",
    "    print(model)\n",
    "    for lib_name in lib_names:\n",
    "        print(lib_name)\n",
    "        with open(\"libs_human/\" + model + \"/\" + lib_name + \".json\") as f:\n",
    "            gen_res = json.load(f)\n",
    "\n",
    "        # Limit to gene sets easily identified alone.\n",
    "        gsai_cur = gsai_out[(gsai_out[\"model\"] == model) & (gsai_out[\"library\"] == lib_name)]\n",
    "        gsai_cur = gsai_cur[gsai_cur[\"csim\"] >= 0.7]\n",
    "        llm2geneset_cur = llm2geneset_out[(llm2geneset_out[\"model\"] == model) & (llm2geneset_out[\"library\"] == lib_name)]\n",
    "        llm2geneset_cur = llm2geneset_cur[llm2geneset_cur[\"csim\"] >= 0.7]\n",
    "        llm2geneset_gt = set(llm2geneset_cur[\"gt_name\"].to_list())\n",
    "        gsai_gt = set(gsai_cur[\"gt_name\"].to_list())\n",
    "        selected = gsai_gt.intersection(llm2geneset_gt)\n",
    "\n",
    "        # Extract selected gene sets.\n",
    "        sel_idx = [i for i, descr in enumerate(gen_res[\"descr\"]) if descr in selected]\n",
    "        descr_sel = [ gen_res[\"descr\"][i] for i in sel_idx ]\n",
    "        descr_cleaned_sel = [ gen_res[\"descr_cleaned\"][i] for i in sel_idx ]\n",
    "        curated_sel = [ gen_res[\"curated_genesets\"][i] for i in sel_idx ]\n",
    "\n",
    "        # Construct pairs.\n",
    "        pairs = sample_pairs(range(len(descr_sel)), 50)\n",
    "        test_descr = []\n",
    "        test_descr_cleaned = []\n",
    "        test_genes = []\n",
    "        for p in pairs:\n",
    "            merged_genes = curated_sel[p[0]] + curated_sel[p[1]]\n",
    "            test_genes.append(merged_genes)\n",
    "            random.shuffle(merged_genes)\n",
    "            test_descr.append(descr_sel[p[0]] + \", \" + descr_sel[p[1]])\n",
    "            test_descr_cleaned.append(descr_cleaned_sel[p[0]] + \", \" + descr_cleaned_sel[p[1]])\n",
    "\n",
    "        # Embed ground truth descriptions.\n",
    "        gt_emb = llm2geneset.get_embeddings(client, test_descr_cleaned)\n",
    "        \n",
    "        # use GSAI to generate geneset name and embed\n",
    "        gsai_res = await llm2geneset.gsai_bench(aclient, test_genes, model=model, n_retry=3, prompt_file=\"gsai_prompt2.txt\")\n",
    "        gsai_name = [i['name'] for i in gsai_res]\n",
    "        gsai_name_emb = llm2geneset.get_embeddings(client, gsai_name)\n",
    "\n",
    "        # Evaluate GSAI results.\n",
    "        for idx in range(len(test_descr)):\n",
    "            scores = scorer.score(test_descr_cleaned[idx], gsai_name[idx])\n",
    "            gsai_rouge1= scores['rouge1'].recall\n",
    "            gsai_rouge2= scores['rouge2'].recall\n",
    "            gsai_csim = np.dot(gt_emb[idx],gsai_name_emb[idx])\n",
    "        \n",
    "            x={\"model\":model,\n",
    "               \"library\":lib_name,\n",
    "               \"gt_name\":test_descr[idx],\n",
    "               \"gt_name_clean\":test_descr_cleaned[idx],\n",
    "               \"name\":gsai_name[idx],\n",
    "               \"ROUGE1\":gsai_rouge1,\n",
    "               \"ROUGE2\":gsai_rouge2,   \n",
    "               \"csim\":gsai_csim,\n",
    "               \"method\":\"GSAI_2hint\"}    \n",
    "            \n",
    "            output.append(x)\n",
    "\n",
    " "
   ]
  },
  {
   "cell_type": "code",
   "execution_count": 6,
   "id": "8eb56a9a-172d-440c-8354-663c85198943",
   "metadata": {},
   "outputs": [],
   "source": [
    "df = pd.DataFrame(output)"
   ]
  },
  {
   "cell_type": "code",
   "execution_count": 7,
   "id": "53bbd968-558d-45fd-ad60-88eca3aa1b89",
   "metadata": {},
   "outputs": [
    {
     "data": {
      "text/html": [
       "<div>\n",
       "<style scoped>\n",
       "    .dataframe tbody tr th:only-of-type {\n",
       "        vertical-align: middle;\n",
       "    }\n",
       "\n",
       "    .dataframe tbody tr th {\n",
       "        vertical-align: top;\n",
       "    }\n",
       "\n",
       "    .dataframe thead th {\n",
       "        text-align: right;\n",
       "    }\n",
       "</style>\n",
       "<table border=\"1\" class=\"dataframe\">\n",
       "  <thead>\n",
       "    <tr style=\"text-align: right;\">\n",
       "      <th></th>\n",
       "      <th>model</th>\n",
       "      <th>library</th>\n",
       "      <th>gt_name</th>\n",
       "      <th>gt_name_clean</th>\n",
       "      <th>name</th>\n",
       "      <th>ROUGE1</th>\n",
       "      <th>ROUGE2</th>\n",
       "      <th>csim</th>\n",
       "      <th>method</th>\n",
       "    </tr>\n",
       "  </thead>\n",
       "  <tbody>\n",
       "    <tr>\n",
       "      <th>0</th>\n",
       "      <td>gpt-4o-mini-2024-07-18</td>\n",
       "      <td>KEGG_2021_Human</td>\n",
       "      <td>Glycolysis / Gluconeogenesis, Wnt signaling pa...</td>\n",
       "      <td>Glycolysis / Gluconeogenesis, Wnt signaling pa...</td>\n",
       "      <td>Wnt signaling pathway modulation and cellular ...</td>\n",
       "      <td>0.600000</td>\n",
       "      <td>0.5</td>\n",
       "      <td>0.577511</td>\n",
       "      <td>GSAI</td>\n",
       "    </tr>\n",
       "    <tr>\n",
       "      <th>1</th>\n",
       "      <td>gpt-4o-mini-2024-07-18</td>\n",
       "      <td>KEGG_2021_Human</td>\n",
       "      <td>Amino sugar and nucleotide sugar metabolism, U...</td>\n",
       "      <td>Amino sugar and nucleotide sugar metabolism, U...</td>\n",
       "      <td>Ubiquitin-Proteasome System Regulation and Cel...</td>\n",
       "      <td>0.222222</td>\n",
       "      <td>0.0</td>\n",
       "      <td>0.480704</td>\n",
       "      <td>GSAI</td>\n",
       "    </tr>\n",
       "    <tr>\n",
       "      <th>2</th>\n",
       "      <td>gpt-4o-mini-2024-07-18</td>\n",
       "      <td>KEGG_2021_Human</td>\n",
       "      <td>Fatty acid elongation, Pentose phosphate pathway</td>\n",
       "      <td>Fatty acid elongation, Pentose phosphate pathway</td>\n",
       "      <td>Fatty Acid Metabolism and Lipid Biosynthesis</td>\n",
       "      <td>0.333333</td>\n",
       "      <td>0.2</td>\n",
       "      <td>0.644241</td>\n",
       "      <td>GSAI</td>\n",
       "    </tr>\n",
       "    <tr>\n",
       "      <th>3</th>\n",
       "      <td>gpt-4o-mini-2024-07-18</td>\n",
       "      <td>KEGG_2021_Human</td>\n",
       "      <td>Glycerophospholipid metabolism, Phosphatidylin...</td>\n",
       "      <td>Glycerophospholipid metabolism, Phosphatidylin...</td>\n",
       "      <td>Phosphoinositide signaling and lipid metabolism</td>\n",
       "      <td>0.400000</td>\n",
       "      <td>0.0</td>\n",
       "      <td>0.758728</td>\n",
       "      <td>GSAI</td>\n",
       "    </tr>\n",
       "    <tr>\n",
       "      <th>4</th>\n",
       "      <td>gpt-4o-mini-2024-07-18</td>\n",
       "      <td>KEGG_2021_Human</td>\n",
       "      <td>B cell receptor signaling pathway, Oxidative p...</td>\n",
       "      <td>B cell receptor signaling pathway, Oxidative p...</td>\n",
       "      <td>Mitochondrial Bioenergetics and Cellular Signa...</td>\n",
       "      <td>0.142857</td>\n",
       "      <td>0.0</td>\n",
       "      <td>0.526477</td>\n",
       "      <td>GSAI</td>\n",
       "    </tr>\n",
       "  </tbody>\n",
       "</table>\n",
       "</div>"
      ],
      "text/plain": [
       "                    model          library  \\\n",
       "0  gpt-4o-mini-2024-07-18  KEGG_2021_Human   \n",
       "1  gpt-4o-mini-2024-07-18  KEGG_2021_Human   \n",
       "2  gpt-4o-mini-2024-07-18  KEGG_2021_Human   \n",
       "3  gpt-4o-mini-2024-07-18  KEGG_2021_Human   \n",
       "4  gpt-4o-mini-2024-07-18  KEGG_2021_Human   \n",
       "\n",
       "                                             gt_name  \\\n",
       "0  Glycolysis / Gluconeogenesis, Wnt signaling pa...   \n",
       "1  Amino sugar and nucleotide sugar metabolism, U...   \n",
       "2   Fatty acid elongation, Pentose phosphate pathway   \n",
       "3  Glycerophospholipid metabolism, Phosphatidylin...   \n",
       "4  B cell receptor signaling pathway, Oxidative p...   \n",
       "\n",
       "                                       gt_name_clean  \\\n",
       "0  Glycolysis / Gluconeogenesis, Wnt signaling pa...   \n",
       "1  Amino sugar and nucleotide sugar metabolism, U...   \n",
       "2   Fatty acid elongation, Pentose phosphate pathway   \n",
       "3  Glycerophospholipid metabolism, Phosphatidylin...   \n",
       "4  B cell receptor signaling pathway, Oxidative p...   \n",
       "\n",
       "                                                name    ROUGE1  ROUGE2  \\\n",
       "0  Wnt signaling pathway modulation and cellular ...  0.600000     0.5   \n",
       "1  Ubiquitin-Proteasome System Regulation and Cel...  0.222222     0.0   \n",
       "2     Fatty Acid Metabolism and Lipid Biosynthesis    0.333333     0.2   \n",
       "3  Phosphoinositide signaling and lipid metabolism    0.400000     0.0   \n",
       "4  Mitochondrial Bioenergetics and Cellular Signa...  0.142857     0.0   \n",
       "\n",
       "       csim method  \n",
       "0  0.577511   GSAI  \n",
       "1  0.480704   GSAI  \n",
       "2  0.644241   GSAI  \n",
       "3  0.758728   GSAI  \n",
       "4  0.526477   GSAI  "
      ]
     },
     "execution_count": 7,
     "metadata": {},
     "output_type": "execute_result"
    }
   ],
   "source": [
    "df.head()"
   ]
  },
  {
   "cell_type": "code",
   "execution_count": 8,
   "id": "dde6bdd4-0400-4177-940d-5cac1c5b9795",
   "metadata": {},
   "outputs": [],
   "source": [
    "df.to_csv('outputs/prompt2_mix_genesets_output.tsv', sep=\"\\t\", index=False)"
   ]
  }
 ],
 "metadata": {
  "kernelspec": {
   "display_name": "Python 3 (ipykernel)",
   "language": "python",
   "name": "python3"
  },
  "language_info": {
   "codemirror_mode": {
    "name": "ipython",
    "version": 3
   },
   "file_extension": ".py",
   "mimetype": "text/x-python",
   "name": "python",
   "nbconvert_exporter": "python",
   "pygments_lexer": "ipython3",
   "version": "3.12.7"
  }
 },
 "nbformat": 4,
 "nbformat_minor": 5
}
