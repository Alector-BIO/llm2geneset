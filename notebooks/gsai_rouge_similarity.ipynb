{
 "cells": [
  {
   "cell_type": "code",
   "execution_count": 1,
   "id": "b07067db-e045-4fac-8778-7c19a7122f8b",
   "metadata": {},
   "outputs": [],
   "source": [
    "import openai\n",
    "from pathlib import Path\n",
    "import json\n",
    "import llm2geneset\n",
    "import time\n",
    "import pandas as pd\n",
    "from rouge_score import rouge_scorer\n",
    "from sklearn.metrics.pairwise import cosine_similarity\n",
    "aclient = openai.AsyncClient()\n",
    "client = openai.Client()"
   ]
  },
  {
   "cell_type": "code",
   "execution_count": 2,
   "id": "9fafb923-b560-44de-94ee-b2cf6f9b737d",
   "metadata": {},
   "outputs": [],
   "source": [
    "scorer = rouge_scorer.RougeScorer(['rouge1','rouge2', 'rougeL'], use_stemmer=True)\n"
   ]
  },
  {
   "cell_type": "code",
   "execution_count": 3,
   "id": "bbd7fbda-c5b8-4990-ad5f-9d7954181be3",
   "metadata": {},
   "outputs": [
    {
     "data": {
      "text/plain": [
       "{'rouge1': Score(precision=0.4, recall=1.0, fmeasure=0.5714285714285715),\n",
       " 'rouge2': Score(precision=0.25, recall=1.0, fmeasure=0.4),\n",
       " 'rougeL': Score(precision=0.4, recall=1.0, fmeasure=0.5714285714285715)}"
      ]
     },
     "execution_count": 3,
     "metadata": {},
     "output_type": "execute_result"
    }
   ],
   "source": [
    "ref='Glutathione Metabolism'\n",
    "name = 'Glutathione metabolism and antioxidant defense'\n",
    "scorer.score(ref, name)"
   ]
  },
  {
   "cell_type": "code",
   "execution_count": 11,
   "id": "b60b4006-c31c-47d1-a58f-3803760437aa",
   "metadata": {},
   "outputs": [
    {
     "name": "stdout",
     "output_type": "stream",
     "text": [
      "WikiPathway_2023_Human\n"
     ]
    },
    {
     "name": "stderr",
     "output_type": "stream",
     "text": [
      "100%|███████████████████████████████████████████| 801/801 [00:38<00:00, 20.86it/s]\n"
     ]
    },
    {
     "name": "stdout",
     "output_type": "stream",
     "text": [
      "failed:  ERK Pathway In Huntington 39 S Disease\n",
      "gsai_name:  None\n",
      "failed:  Embryonic Stem Cell Pluripotency Pathways\n",
      "gsai_name:  None\n",
      "failed:  NRP1 Triggered Signaling Pathways In Pancreatic Cancer\n",
      "gsai_name:  None\n",
      "Reactome_2022\n"
     ]
    },
    {
     "name": "stderr",
     "output_type": "stream",
     "text": [
      "100%|█████████████████████████████████████████| 1818/1818 [00:52<00:00, 34.90it/s]\n"
     ]
    },
    {
     "name": "stdout",
     "output_type": "stream",
     "text": [
      "failed:  Aberrant Regulation Of Mitotic G1/S Transition In Cancer Due To RB1 Defects\n",
      "gsai_name:  None\n",
      "failed:  Downregulation Of SMAD2/3:SMAD4 Transcriptional Activity\n",
      "gsai_name:  None\n",
      "failed:  Metabolism Of Amino Acids And Derivatives\n",
      "gsai_name:  None\n",
      "WikiPathway_2023_Human\n"
     ]
    },
    {
     "name": "stderr",
     "output_type": "stream",
     "text": [
      "100%|███████████████████████████████████████████| 801/801 [00:28<00:00, 28.20it/s]\n"
     ]
    },
    {
     "name": "stdout",
     "output_type": "stream",
     "text": [
      "failed:  Glycosphingolipid Metabolism\n",
      "gsai_name:  None\n"
     ]
    }
   ],
   "source": [
    "models = [\"gpt-3.5-turbo-0125\"]\n",
    "lib_names = [\"WikiPathway_2023_Human\",\n",
    "           \"Reactome_2022\", \n",
    "          \"WikiPathway_2023_Human\"]\n",
    "\n",
    "\n",
    "ouput = []\n",
    "for model in models:    \n",
    "    for lib_name in lib_names:\n",
    "        print(lib_name)\n",
    "        with open(\"libs_human/\" + model + \"/\" + lib_name + \".json\") as f:\n",
    "            gen_res = json.load(f)\n",
    "        \n",
    "        test_sets = gen_res[\"curated_genesets\"]\n",
    "        test_descr = gen_res[\"descr_cleaned\"]\n",
    "        gt_embs = llm2geneset.get_embeddings(client, test_descr)\n",
    "\n",
    "        # use GSAI to generate geneset name\n",
    "        gsai_res = await llm2geneset.gsai(aclient, test_sets, model=\"gpt-4o\", n_retry=1)\n",
    "        gsai_names = [i['name'] for i in gsai_res]\n",
    "        gsai_name_embs = llm2geneset.get_embeddings(client, gsai_names)\n",
    "    \n",
    "\n",
    "        for i, ref in enumerate(test_descr):\n",
    "            try:\n",
    "                gt_emb = [gt_embs[i]]\n",
    "                gsai_name = gsai_names[i]\n",
    "                gsai_name_emb = [gsai_name_embs[i]]\n",
    "                scores = scorer.score(ref, gsai_name)\n",
    "                gsai_rouge1= scores['rouge1'].recall\n",
    "                gsai_rouge2= scores['rouge2'].recall\n",
    "                gsai_rougeL= scores['rougeL'].fmeasure      \n",
    "                gsai_csim = cosine_similarity(gt_emb,gsai_name_emb).squeeze()\n",
    "                \n",
    "                x={\"library\":lib_name,\n",
    "                   \"gt_name\":ref,\n",
    "                   \"gsai_name\":gsai_name,\n",
    "                   \"gsai_ROUGE1\":gsai_rouge1,\n",
    "                   \"gsai_ROUGE2\":gsai_rouge2,   \n",
    "                   \"gsai_ROUGEL\":gsai_rougeL,                  \n",
    "                   \"gsai_csim\":gsai_csim}    \n",
    "    \n",
    "                ouput.append(x)\n",
    "            except:\n",
    "                print(\"failed: \", ref)\n",
    "                print(\"gsai_name: \", gsai_name)\n",
    "                x={\"library\":lib_name,\n",
    "                   \"gt_name\":ref,\n",
    "                   \"gsai_name\":None,\n",
    "                   \"gsai_ROUGE1\":None,\n",
    "                   \"gsai_ROUGE2\":None,   \n",
    "                   \"gsai_ROUGEL\":None,                  \n",
    "                   \"gsai_csim\":None}    \n",
    "    \n",
    "                ouput.append(x)\n",
    "        \n"
   ]
  },
  {
   "cell_type": "code",
   "execution_count": 12,
   "id": "80a59f36-45c5-47e9-88a1-249795c63d7d",
   "metadata": {},
   "outputs": [],
   "source": [
    "df = pd.DataFrame(ouput)\n",
    "df.to_csv(\"gsai_outputs.tsv\", sep=\"\\t\", index=False)"
   ]
  },
  {
   "cell_type": "code",
   "execution_count": 13,
   "id": "5ff890bd-7cd7-416f-9ca4-a8293aebfc19",
   "metadata": {},
   "outputs": [
    {
     "data": {
      "text/html": [
       "<div>\n",
       "<style scoped>\n",
       "    .dataframe tbody tr th:only-of-type {\n",
       "        vertical-align: middle;\n",
       "    }\n",
       "\n",
       "    .dataframe tbody tr th {\n",
       "        vertical-align: top;\n",
       "    }\n",
       "\n",
       "    .dataframe thead th {\n",
       "        text-align: right;\n",
       "    }\n",
       "</style>\n",
       "<table border=\"1\" class=\"dataframe\">\n",
       "  <thead>\n",
       "    <tr style=\"text-align: right;\">\n",
       "      <th></th>\n",
       "      <th>library</th>\n",
       "      <th>gt_name</th>\n",
       "      <th>gsai_name</th>\n",
       "      <th>gsai_ROUGE1</th>\n",
       "      <th>gsai_ROUGE2</th>\n",
       "      <th>gsai_ROUGEL</th>\n",
       "      <th>gsai_csim</th>\n",
       "    </tr>\n",
       "  </thead>\n",
       "  <tbody>\n",
       "    <tr>\n",
       "      <th>0</th>\n",
       "      <td>WikiPathway_2023_Human</td>\n",
       "      <td>Glutathione Metabolism</td>\n",
       "      <td>Glutathione metabolism and antioxidant defense</td>\n",
       "      <td>1.000000</td>\n",
       "      <td>1.000000</td>\n",
       "      <td>0.571429</td>\n",
       "      <td>0.8613841252902132</td>\n",
       "    </tr>\n",
       "    <tr>\n",
       "      <th>1</th>\n",
       "      <td>WikiPathway_2023_Human</td>\n",
       "      <td>Alanine And Aspartate Metabolism</td>\n",
       "      <td>Amino Acid and Neurotransmitter Metabolism</td>\n",
       "      <td>0.500000</td>\n",
       "      <td>0.000000</td>\n",
       "      <td>0.444444</td>\n",
       "      <td>0.5751021054296209</td>\n",
       "    </tr>\n",
       "    <tr>\n",
       "      <th>2</th>\n",
       "      <td>WikiPathway_2023_Human</td>\n",
       "      <td>Translation Factors</td>\n",
       "      <td>Protein synthesis regulation and initiation</td>\n",
       "      <td>0.000000</td>\n",
       "      <td>0.000000</td>\n",
       "      <td>0.000000</td>\n",
       "      <td>0.4349091501098792</td>\n",
       "    </tr>\n",
       "    <tr>\n",
       "      <th>3</th>\n",
       "      <td>WikiPathway_2023_Human</td>\n",
       "      <td>Electron Transport Chain OXPHOS System In Mito...</td>\n",
       "      <td>Mitochondrial Electron Transport Chain and Oxi...</td>\n",
       "      <td>0.428571</td>\n",
       "      <td>0.333333</td>\n",
       "      <td>0.428571</td>\n",
       "      <td>0.7197051650328561</td>\n",
       "    </tr>\n",
       "    <tr>\n",
       "      <th>4</th>\n",
       "      <td>WikiPathway_2023_Human</td>\n",
       "      <td>GPCRs Other</td>\n",
       "      <td>G-protein coupled receptor (GPCR) signaling an...</td>\n",
       "      <td>0.500000</td>\n",
       "      <td>0.000000</td>\n",
       "      <td>0.181818</td>\n",
       "      <td>0.6483530566924421</td>\n",
       "    </tr>\n",
       "  </tbody>\n",
       "</table>\n",
       "</div>"
      ],
      "text/plain": [
       "                  library                                            gt_name  \\\n",
       "0  WikiPathway_2023_Human                             Glutathione Metabolism   \n",
       "1  WikiPathway_2023_Human                   Alanine And Aspartate Metabolism   \n",
       "2  WikiPathway_2023_Human                                Translation Factors   \n",
       "3  WikiPathway_2023_Human  Electron Transport Chain OXPHOS System In Mito...   \n",
       "4  WikiPathway_2023_Human                                        GPCRs Other   \n",
       "\n",
       "                                           gsai_name  gsai_ROUGE1  \\\n",
       "0     Glutathione metabolism and antioxidant defense     1.000000   \n",
       "1         Amino Acid and Neurotransmitter Metabolism     0.500000   \n",
       "2        Protein synthesis regulation and initiation     0.000000   \n",
       "3  Mitochondrial Electron Transport Chain and Oxi...     0.428571   \n",
       "4  G-protein coupled receptor (GPCR) signaling an...     0.500000   \n",
       "\n",
       "   gsai_ROUGE2  gsai_ROUGEL           gsai_csim  \n",
       "0     1.000000     0.571429  0.8613841252902132  \n",
       "1     0.000000     0.444444  0.5751021054296209  \n",
       "2     0.000000     0.000000  0.4349091501098792  \n",
       "3     0.333333     0.428571  0.7197051650328561  \n",
       "4     0.000000     0.181818  0.6483530566924421  "
      ]
     },
     "execution_count": 13,
     "metadata": {},
     "output_type": "execute_result"
    }
   ],
   "source": [
    "df.head()"
   ]
  },
  {
   "cell_type": "code",
   "execution_count": null,
   "id": "69c7d52b-872f-4087-93f5-3b42eb4e0c05",
   "metadata": {},
   "outputs": [],
   "source": []
  }
 ],
 "metadata": {
  "kernelspec": {
   "display_name": "Python 3 (ipykernel)",
   "language": "python",
   "name": "python3"
  },
  "language_info": {
   "codemirror_mode": {
    "name": "ipython",
    "version": 3
   },
   "file_extension": ".py",
   "mimetype": "text/x-python",
   "name": "python",
   "nbconvert_exporter": "python",
   "pygments_lexer": "ipython3",
   "version": "3.12.4"
  }
 },
 "nbformat": 4,
 "nbformat_minor": 5
}
