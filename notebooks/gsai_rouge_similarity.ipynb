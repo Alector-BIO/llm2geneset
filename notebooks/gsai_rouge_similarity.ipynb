{
 "cells": [
  {
   "cell_type": "code",
   "execution_count": 1,
   "id": "b07067db-e045-4fac-8778-7c19a7122f8b",
   "metadata": {},
   "outputs": [],
   "source": [
    "import openai\n",
    "from pathlib import Path\n",
    "import json\n",
    "import llm2geneset\n",
    "import time\n",
    "import pandas as pd\n",
    "from rouge_score import rouge_scorer\n",
    "from sklearn.metrics.pairwise import cosine_similarity\n",
    "aclient = openai.AsyncClient()\n",
    "client = openai.Client()"
   ]
  },
  {
   "cell_type": "code",
   "execution_count": 2,
   "id": "9fafb923-b560-44de-94ee-b2cf6f9b737d",
   "metadata": {},
   "outputs": [],
   "source": [
    "scorer = rouge_scorer.RougeScorer(['rouge1','rouge2', 'rougeL'], use_stemmer=True)\n"
   ]
  },
  {
   "cell_type": "code",
   "execution_count": 3,
   "id": "bbd7fbda-c5b8-4990-ad5f-9d7954181be3",
   "metadata": {},
   "outputs": [
    {
     "data": {
      "text/plain": [
       "{'rouge1': Score(precision=0.4, recall=1.0, fmeasure=0.5714285714285715),\n",
       " 'rouge2': Score(precision=0.25, recall=1.0, fmeasure=0.4),\n",
       " 'rougeL': Score(precision=0.4, recall=1.0, fmeasure=0.5714285714285715)}"
      ]
     },
     "execution_count": 3,
     "metadata": {},
     "output_type": "execute_result"
    }
   ],
   "source": [
    "ref='Glutathione Metabolism'\n",
    "name = 'Glutathione metabolism and antioxidant defense'\n",
    "scorer.score(ref, name)"
   ]
  },
  {
   "cell_type": "code",
   "execution_count": 5,
   "id": "b60b4006-c31c-47d1-a58f-3803760437aa",
   "metadata": {},
   "outputs": [
    {
     "name": "stdout",
     "output_type": "stream",
     "text": [
      "KEGG_2021_Human\n"
     ]
    },
    {
     "name": "stderr",
     "output_type": "stream",
     "text": [
      "100%|███████████████████████████████████████████| 320/320 [00:08<00:00, 36.30it/s]\n"
     ]
    },
    {
     "name": "stdout",
     "output_type": "stream",
     "text": [
      "Reactome_2022\n"
     ]
    },
    {
     "name": "stderr",
     "output_type": "stream",
     "text": [
      "100%|█████████████████████████████████████████| 1818/1818 [00:21<00:00, 83.16it/s]\n"
     ]
    },
    {
     "name": "stdout",
     "output_type": "stream",
     "text": [
      "WikiPathway_2023_Human\n"
     ]
    },
    {
     "name": "stderr",
     "output_type": "stream",
     "text": [
      "100%|███████████████████████████████████████████| 801/801 [00:14<00:00, 56.97it/s]\n"
     ]
    },
    {
     "name": "stdout",
     "output_type": "stream",
     "text": [
      "KEGG_2021_Human\n"
     ]
    },
    {
     "name": "stderr",
     "output_type": "stream",
     "text": [
      "100%|███████████████████████████████████████████| 320/320 [00:24<00:00, 12.94it/s]\n"
     ]
    },
    {
     "name": "stdout",
     "output_type": "stream",
     "text": [
      "Reactome_2022\n"
     ]
    },
    {
     "name": "stderr",
     "output_type": "stream",
     "text": [
      "100%|█████████████████████████████████████████| 1818/1818 [00:50<00:00, 36.29it/s]\n"
     ]
    },
    {
     "name": "stdout",
     "output_type": "stream",
     "text": [
      "error! Ref name:  Nucleotide Catabolism  gsai name:  None\n",
      "WikiPathway_2023_Human\n"
     ]
    },
    {
     "name": "stderr",
     "output_type": "stream",
     "text": [
      "100%|███████████████████████████████████████████| 801/801 [00:34<00:00, 23.41it/s]\n"
     ]
    }
   ],
   "source": [
    "models = [\"gpt-3.5-turbo-0125\",\"gpt-4o-2024-05-13\"]\n",
    "lib_names = [\"KEGG_2021_Human\",\n",
    "             \"Reactome_2022\", \n",
    "             \"WikiPathway_2023_Human\"]\n",
    "\n",
    "ouput = []\n",
    "for model in models:    \n",
    "    for lib_name in lib_names:\n",
    "        print(lib_name)\n",
    "        with open(\"libs_human/\" + model + \"/\" + lib_name + \".json\") as f:\n",
    "            gen_res = json.load(f)\n",
    "        \n",
    "        test_sets = gen_res[\"curated_genesets\"]\n",
    "        test_descr = gen_res[\"descr_cleaned\"]\n",
    "        gt_embs = llm2geneset.get_embeddings(client, test_descr)\n",
    "\n",
    "        # use GSAI to generate geneset name\n",
    "        gsai_res = await llm2geneset.gsai(aclient, test_sets, model=model, n_retry=1)\n",
    "        gsai_names = [i['name'] for i in gsai_res]\n",
    "        gsai_name_embs = llm2geneset.get_embeddings(client, gsai_names)\n",
    "    \n",
    "\n",
    "        for i, ref in enumerate(test_descr):\n",
    "            try:\n",
    "                gt_emb = [gt_embs[i]]\n",
    "                gsai_name = gsai_names[i]\n",
    "                gsai_name_emb = [gsai_name_embs[i]]\n",
    "                scores = scorer.score(ref, gsai_name)\n",
    "                gsai_rouge1= scores['rouge1'].recall\n",
    "                gsai_rouge2= scores['rouge2'].recall\n",
    "                gsai_rougeL= scores['rougeL'].fmeasure      \n",
    "                gsai_csim = cosine_similarity(gt_emb,gsai_name_emb).squeeze()\n",
    "                    \n",
    "                x={\"model\":model,\n",
    "                   \"library\":lib_name,\n",
    "                   \"gt_name\":ref,\n",
    "                   \"gsai_name\":gsai_name,\n",
    "                   \"gsai_ROUGE1\":gsai_rouge1,\n",
    "                   \"gsai_ROUGE2\":gsai_rouge2,   \n",
    "                   \"gsai_ROUGEL\":gsai_rougeL,                  \n",
    "                   \"gsai_csim\":gsai_csim}    \n",
    "            except:\n",
    "                # occasionally gsai will fail to output a gene set name\n",
    "                print(\"error! Ref name: \", ref, \" gsai name: \",gsai_name)\n",
    "                x={\"model\":model,\n",
    "                   \"library\":lib_name,\n",
    "                   \"gt_name\":ref,\n",
    "                   \"gsai_name\":gsai_name,\n",
    "                   \"gsai_ROUGE1\":None,\n",
    "                   \"gsai_ROUGE2\":None,   \n",
    "                   \"gsai_ROUGEL\":None,                  \n",
    "                   \"gsai_csim\":None}    \n",
    "        \n",
    "            ouput.append(x)"
   ]
  },
  {
   "cell_type": "code",
   "execution_count": 6,
   "id": "80a59f36-45c5-47e9-88a1-249795c63d7d",
   "metadata": {},
   "outputs": [],
   "source": [
    "df = pd.DataFrame(ouput)\n",
    "df.to_csv(\"gsai_outputs.tsv\", sep=\"\\t\", index=False)"
   ]
  },
  {
   "cell_type": "code",
   "execution_count": 7,
   "id": "5ff890bd-7cd7-416f-9ca4-a8293aebfc19",
   "metadata": {},
   "outputs": [
    {
     "data": {
      "text/html": [
       "<div>\n",
       "<style scoped>\n",
       "    .dataframe tbody tr th:only-of-type {\n",
       "        vertical-align: middle;\n",
       "    }\n",
       "\n",
       "    .dataframe tbody tr th {\n",
       "        vertical-align: top;\n",
       "    }\n",
       "\n",
       "    .dataframe thead th {\n",
       "        text-align: right;\n",
       "    }\n",
       "</style>\n",
       "<table border=\"1\" class=\"dataframe\">\n",
       "  <thead>\n",
       "    <tr style=\"text-align: right;\">\n",
       "      <th></th>\n",
       "      <th>model</th>\n",
       "      <th>library</th>\n",
       "      <th>gt_name</th>\n",
       "      <th>gsai_name</th>\n",
       "      <th>gsai_ROUGE1</th>\n",
       "      <th>gsai_ROUGE2</th>\n",
       "      <th>gsai_ROUGEL</th>\n",
       "      <th>gsai_csim</th>\n",
       "    </tr>\n",
       "  </thead>\n",
       "  <tbody>\n",
       "    <tr>\n",
       "      <th>0</th>\n",
       "      <td>gpt-3.5-turbo-0125</td>\n",
       "      <td>KEGG_2021_Human</td>\n",
       "      <td>ABC transporters</td>\n",
       "      <td>ABC Transporter-Mediated Cellular Efflux and D...</td>\n",
       "      <td>1.000000</td>\n",
       "      <td>1.0</td>\n",
       "      <td>0.400000</td>\n",
       "      <td>0.6801285554874819</td>\n",
       "    </tr>\n",
       "    <tr>\n",
       "      <th>1</th>\n",
       "      <td>gpt-3.5-turbo-0125</td>\n",
       "      <td>KEGG_2021_Human</td>\n",
       "      <td>AGE-RAGE signaling pathway in diabetic complic...</td>\n",
       "      <td>Cellular stress response and inflammatory sign...</td>\n",
       "      <td>0.142857</td>\n",
       "      <td>0.0</td>\n",
       "      <td>0.153846</td>\n",
       "      <td>0.43955028334246293</td>\n",
       "    </tr>\n",
       "    <tr>\n",
       "      <th>2</th>\n",
       "      <td>gpt-3.5-turbo-0125</td>\n",
       "      <td>KEGG_2021_Human</td>\n",
       "      <td>AMPK signaling pathway</td>\n",
       "      <td>Glucose metabolism and insulin signaling</td>\n",
       "      <td>0.333333</td>\n",
       "      <td>0.0</td>\n",
       "      <td>0.250000</td>\n",
       "      <td>0.5212444397848753</td>\n",
       "    </tr>\n",
       "    <tr>\n",
       "      <th>3</th>\n",
       "      <td>gpt-3.5-turbo-0125</td>\n",
       "      <td>KEGG_2021_Human</td>\n",
       "      <td>Acute myeloid leukemia</td>\n",
       "      <td>Cell Signaling and Transcriptional Regulation ...</td>\n",
       "      <td>0.000000</td>\n",
       "      <td>0.0</td>\n",
       "      <td>0.000000</td>\n",
       "      <td>0.2596153226759489</td>\n",
       "    </tr>\n",
       "    <tr>\n",
       "      <th>4</th>\n",
       "      <td>gpt-3.5-turbo-0125</td>\n",
       "      <td>KEGG_2021_Human</td>\n",
       "      <td>Adherens junction</td>\n",
       "      <td>Regulation of Cell Adhesion and Signaling Path...</td>\n",
       "      <td>0.000000</td>\n",
       "      <td>0.0</td>\n",
       "      <td>0.000000</td>\n",
       "      <td>0.4732685736420919</td>\n",
       "    </tr>\n",
       "  </tbody>\n",
       "</table>\n",
       "</div>"
      ],
      "text/plain": [
       "                model          library  \\\n",
       "0  gpt-3.5-turbo-0125  KEGG_2021_Human   \n",
       "1  gpt-3.5-turbo-0125  KEGG_2021_Human   \n",
       "2  gpt-3.5-turbo-0125  KEGG_2021_Human   \n",
       "3  gpt-3.5-turbo-0125  KEGG_2021_Human   \n",
       "4  gpt-3.5-turbo-0125  KEGG_2021_Human   \n",
       "\n",
       "                                             gt_name  \\\n",
       "0                                   ABC transporters   \n",
       "1  AGE-RAGE signaling pathway in diabetic complic...   \n",
       "2                             AMPK signaling pathway   \n",
       "3                             Acute myeloid leukemia   \n",
       "4                                  Adherens junction   \n",
       "\n",
       "                                           gsai_name  gsai_ROUGE1  \\\n",
       "0  ABC Transporter-Mediated Cellular Efflux and D...     1.000000   \n",
       "1  Cellular stress response and inflammatory sign...     0.142857   \n",
       "2           Glucose metabolism and insulin signaling     0.333333   \n",
       "3  Cell Signaling and Transcriptional Regulation ...     0.000000   \n",
       "4  Regulation of Cell Adhesion and Signaling Path...     0.000000   \n",
       "\n",
       "   gsai_ROUGE2  gsai_ROUGEL            gsai_csim  \n",
       "0          1.0     0.400000   0.6801285554874819  \n",
       "1          0.0     0.153846  0.43955028334246293  \n",
       "2          0.0     0.250000   0.5212444397848753  \n",
       "3          0.0     0.000000   0.2596153226759489  \n",
       "4          0.0     0.000000   0.4732685736420919  "
      ]
     },
     "execution_count": 7,
     "metadata": {},
     "output_type": "execute_result"
    }
   ],
   "source": [
    "df.head()"
   ]
  },
  {
   "cell_type": "code",
   "execution_count": null,
   "id": "69c7d52b-872f-4087-93f5-3b42eb4e0c05",
   "metadata": {},
   "outputs": [],
   "source": []
  }
 ],
 "metadata": {
  "kernelspec": {
   "display_name": "Python 3 (ipykernel)",
   "language": "python",
   "name": "python3"
  },
  "language_info": {
   "codemirror_mode": {
    "name": "ipython",
    "version": 3
   },
   "file_extension": ".py",
   "mimetype": "text/x-python",
   "name": "python",
   "nbconvert_exporter": "python",
   "pygments_lexer": "ipython3",
   "version": "3.12.4"
  }
 },
 "nbformat": 4,
 "nbformat_minor": 5
}
