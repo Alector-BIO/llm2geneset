{
 "cells": [
  {
   "cell_type": "code",
   "execution_count": 1,
   "id": "2c98f95b-0e84-4d53-8f8b-22c5268ffde0",
   "metadata": {},
   "outputs": [],
   "source": [
    "import openai\n",
    "from pathlib import Path\n",
    "import json\n",
    "import llm2geneset\n",
    "import pandas as pd\n",
    "import random\n",
    "from itertools import combinations\n",
    "from rouge_score import rouge_scorer\n",
    "import numpy as np\n",
    "from sklearn.metrics.pairwise import cosine_similarity\n",
    "from statsmodels.stats.multitest import multipletests\n",
    "\n",
    "aclient = openai.AsyncClient()\n",
    "client = openai.Client()"
   ]
  },
  {
   "cell_type": "code",
   "execution_count": 2,
   "id": "58bc8391-44b8-415e-87a0-869c8534fba5",
   "metadata": {},
   "outputs": [],
   "source": [
    "scorer = rouge_scorer.RougeScorer(['rouge1','rouge2', 'rougeL'], use_stemmer=True)"
   ]
  },
  {
   "cell_type": "code",
   "execution_count": 3,
   "id": "57e47773-bbac-4819-9857-fa2753f91297",
   "metadata": {},
   "outputs": [],
   "source": [
    "def sample_pairs(integer_list, num_pairs):\n",
    "    possible_pairs = [(a, b) for a, b in combinations(integer_list, 2)]\n",
    "    sampled_pairs = random.sample(possible_pairs, min(num_pairs, len(possible_pairs)))\n",
    "    return sampled_pairs"
   ]
  },
  {
   "cell_type": "code",
   "execution_count": 5,
   "id": "0db7aca7-d695-4369-a102-0f4550d545c2",
   "metadata": {},
   "outputs": [],
   "source": [
    "gsai_out = pd.read_csv(\"gsai_outputs.tsv\", sep=\"\\t\")\n",
    "llm2geneset_out = pd.read_csv(\"llm2geneset_outputs.tsv\", sep=\"\\t\")"
   ]
  },
  {
   "cell_type": "code",
   "execution_count": 6,
   "id": "c26fcddb-e45f-459c-994c-cfe973d320b0",
   "metadata": {},
   "outputs": [
    {
     "name": "stdout",
     "output_type": "stream",
     "text": [
      "WikiPathway_2023_Human\n"
     ]
    },
    {
     "name": "stderr",
     "output_type": "stream",
     "text": [
      "100%|████████████████████████████████████████████████████████████████████████████████████████████████████████████████████████████████| 25/25 [00:04<00:00,  5.89it/s]\n",
      "100%|████████████████████████████████████████████████████████████████████████████████████████████████████████████████████████████████| 25/25 [00:08<00:00,  3.01it/s]\n"
     ]
    }
   ],
   "source": [
    "models = [\"gpt-3.5-turbo-0125\",\"gpt-4o-2024-05-13\"]\n",
    "lib_names = [\"KEGG_2021_Human\",\n",
    "             \"Reactome_2022\", \n",
    "             \"WikiPathway_2023_Human\"]\n",
    "models = [\"gpt-3.5-turbo-0125\"]\n",
    "lib_names = [\"WikiPathway_2023_Human\"]\n",
    "random.seed(30)\n",
    "output = []\n",
    "for model in models:    \n",
    "    for lib_name in lib_names:\n",
    "        print(lib_name)\n",
    "        with open(\"libs_human/\" + model + \"/\" + lib_name + \".json\") as f:\n",
    "            gen_res = json.load(f)\n",
    "\n",
    "        # Limit to gene sets easily identified alone.\n",
    "        gsai_cur = gsai_out[(gsai_out[\"model\"] == model) & (gsai_out[\"library\"] == lib_name)]\n",
    "        gsai_cur = gsai_cur[gsai_cur[\"gsai_ROUGE1\"] >= 1]\n",
    "        llm2geneset_cur = llm2geneset_out[(llm2geneset_out[\"model\"] == model) & (llm2geneset_out[\"library\"] == lib_name)]\n",
    "        llm2geneset_cur = llm2geneset_cur[llm2geneset_cur[\"llm2geneset_ROUGE1\"] >= 1]\n",
    "        llm2geneset_gt = set(llm2geneset_cur[\"gt_name\"].to_list())\n",
    "        gsai_gt = set(gsai_cur[\"gt_name\"].to_list())\n",
    "        selected = gsai_gt.intersection(llm2geneset_gt)\n",
    "\n",
    "        # Extract selected gene sets.\n",
    "        sel_idx = [i for i, descr in enumerate(gen_res[\"descr_cleaned\"]) if descr in selected]\n",
    "        descr_sel = [ gen_res[\"descr_cleaned\"][i] for i in sel_idx ]\n",
    "        curated_sel = [ gen_res[\"curated_genesets\"][i] for i in sel_idx ]\n",
    "\n",
    "        # Construct pairs.\n",
    "        pairs = sample_pairs(range(len(descr_sel)), 25)\n",
    "        test_descr = []\n",
    "        test_genes = []\n",
    "        for p in pairs:\n",
    "            merged_sel = descr_sel[p[0]] + \", \" + descr_sel[p[1]]\n",
    "            merged_genes = curated_sel[p[0]] + curated_sel[p[1]]\n",
    "            random.shuffle(merged_genes)\n",
    "            test_descr.append(merged_sel)\n",
    "            test_genes.append(merged_genes)\n",
    "\n",
    "        # Embed ground truth descriptions.\n",
    "        gt_emb = llm2geneset.get_embeddings(client, test_descr)\n",
    "        \n",
    "        # use GSAI to generate geneset name and embed\n",
    "        gsai_res = await llm2geneset.gsai(aclient, test_genes, model=model, n_retry=3)\n",
    "        gsai_name = [i['name'] for i in gsai_res]\n",
    "        gsai_name_emb = llm2geneset.get_embeddings(client, gsai_name)\n",
    "\n",
    "        # Evaluate GSAI results.\n",
    "        for idx in range(len(test_descr)):\n",
    "            scores = scorer.score(test_descr[idx], gsai_name[idx])\n",
    "            gsai_rouge1= scores['rouge1'].recall\n",
    "            gsai_rouge2= scores['rouge2'].recall\n",
    "            gsai_rougeL= scores['rougeL'].recall      \n",
    "            gsai_csim = np.dot(gt_emb[idx],gsai_name_emb[idx])\n",
    "        \n",
    "            x={\"model\":model,\n",
    "               \"library\":lib_name,\n",
    "               \"gt_name\":test_descr[idx],\n",
    "               \"name\":gsai_name[idx],\n",
    "               \"ROUGE1\":gsai_rouge1,\n",
    "               \"ROUGE2\":gsai_rouge2,   \n",
    "               \"ROUGEL\":gsai_rougeL,                  \n",
    "               \"csim\":gsai_csim,\n",
    "               \"method\":\"GSAI\"}    \n",
    "            \n",
    "            output.append(x)\n",
    "\n",
    "        # use LLM2geneset to generate geneset name and embed\n",
    "        llm2geneset_res = await llm2geneset.gs_proposal(aclient, test_genes, model=model, n_retry=3)\n",
    "        llm2geneset_name = []\n",
    "        for idx in range(len(test_descr)):\n",
    "            names = [gene_set[0] for gene_set in llm2geneset_res[idx]]\n",
    "            pvals=[gene_set[1] for gene_set in llm2geneset_res[idx]]\n",
    "            _, pvals_corrected, _, _ = multipletests(pvals, method='bonferroni')\n",
    "            cur_name = \", \".join([n for n, p in zip(names, list(pvals_corrected)) if p < 0.01])\n",
    "            llm2geneset_name.append(cur_name)\n",
    "\n",
    "        llm2geneset_name_emb = llm2geneset.get_embeddings(client, llm2geneset_name)\n",
    "        \n",
    "        for idx in range(len(test_descr)):\n",
    "            # evaluate llm2geneset proposed gene set name\n",
    "            scores = scorer.score(test_descr[idx], llm2geneset_name[idx])\n",
    "            llm2geneset_rouge1= scores['rouge1'].recall\n",
    "            llm2geneset_rouge2= scores['rouge2'].recall\n",
    "            llm2geneset_rougeL= scores['rougeL'].recall      \n",
    "            llm2geneset_csim = np.dot(gt_emb[idx],llm2geneset_name_emb[idx])\n",
    "\n",
    "            x={\"model\":model,\n",
    "               \"library\":lib_name,\n",
    "               \"gt_name\":test_descr[idx],\n",
    "               \"name\":llm2geneset_name[idx],\n",
    "               \"ROUGE1\":llm2geneset_rouge1,\n",
    "               \"ROUGE2\":llm2geneset_rouge2,   \n",
    "               \"ROUGEL\":llm2geneset_rougeL,                  \n",
    "               \"csim\":llm2geneset_csim,\n",
    "               \"method\":\"LLM2geneset\"}    \n",
    "        \n",
    "            output.append(x)"
   ]
  },
  {
   "cell_type": "code",
   "execution_count": 9,
   "id": "8eb56a9a-172d-440c-8354-663c85198943",
   "metadata": {},
   "outputs": [],
   "source": [
    "df = pd.DataFrame(output)"
   ]
  },
  {
   "cell_type": "code",
   "execution_count": 10,
   "id": "dde6bdd4-0400-4177-940d-5cac1c5b9795",
   "metadata": {},
   "outputs": [],
   "source": [
    "df.to_csv('mix_genesets_outputs.tsv', sep=\"\\t\", index=False)"
   ]
  }
 ],
 "metadata": {
  "kernelspec": {
   "display_name": "Python 3 (ipykernel)",
   "language": "python",
   "name": "python3"
  },
  "language_info": {
   "codemirror_mode": {
    "name": "ipython",
    "version": 3
   },
   "file_extension": ".py",
   "mimetype": "text/x-python",
   "name": "python",
   "nbconvert_exporter": "python",
   "pygments_lexer": "ipython3",
   "version": "3.12.3"
  }
 },
 "nbformat": 4,
 "nbformat_minor": 5
}
