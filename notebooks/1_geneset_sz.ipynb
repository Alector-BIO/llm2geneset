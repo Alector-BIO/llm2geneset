{
 "cells": [
  {
   "cell_type": "code",
   "execution_count": 1,
   "id": "d54b1aa7-fdec-4b77-9c35-7ce50e8d4f11",
   "metadata": {},
   "outputs": [],
   "source": [
    "import llm2geneset\n",
    "import pandas as pd"
   ]
  },
  {
   "cell_type": "code",
   "execution_count": 2,
   "id": "1a6a6670-7ee7-460c-8592-960d40ec99f2",
   "metadata": {},
   "outputs": [],
   "source": [
    "lib_names = [\"KEGG_2021_Human\", \n",
    "             \"Reactome_2022\", \n",
    "             \"WikiPathway_2023_Human\", \n",
    "             \"GO_Biological_Process_2023\",\n",
    "             \"GO_Molecular_Function_2023\",\n",
    "             \"GO_Cellular_Component_2023\"]\n",
    "lib_names = [\"KEGG_2021_Human\", \n",
    "             \"Reactome_2022\", \n",
    "             \"WikiPathway_2023_Human\"]"
   ]
  },
  {
   "cell_type": "code",
   "execution_count": 3,
   "id": "40b30b32-857b-4e8c-9bf7-e5b61b349c15",
   "metadata": {},
   "outputs": [
    {
     "name": "stdout",
     "output_type": "stream",
     "text": [
      "320\n",
      "1818\n",
      "801\n"
     ]
    }
   ],
   "source": [
    "# Generate table for some basic stats on gene set libraries used.\n",
    "geneset_sz = []\n",
    "for lib_name in lib_names:\n",
    "    (descr, genes) = llm2geneset.read_gmt(\"libs_human/gmt/\" + lib_name + \".txt\")\n",
    "    x = [{\"lib_name\": lib_name, \"descr\": d, \"num_genes\": len(g)} for (d,g) in zip(descr,genes)]\n",
    "    print(len(genes))\n",
    "    geneset_sz.extend(x)\n",
    "df = pd.DataFrame(geneset_sz)\n",
    "df.to_csv(\"geneset_sz.tsv\",sep=\"\\t\",index=None)"
   ]
  },
  {
   "cell_type": "code",
   "execution_count": 4,
   "id": "363ee162-33f1-455f-87ff-7462c18885d4",
   "metadata": {},
   "outputs": [
    {
     "data": {
      "text/html": [
       "<div>\n",
       "<style scoped>\n",
       "    .dataframe tbody tr th:only-of-type {\n",
       "        vertical-align: middle;\n",
       "    }\n",
       "\n",
       "    .dataframe tbody tr th {\n",
       "        vertical-align: top;\n",
       "    }\n",
       "\n",
       "    .dataframe thead th {\n",
       "        text-align: right;\n",
       "    }\n",
       "</style>\n",
       "<table border=\"1\" class=\"dataframe\">\n",
       "  <thead>\n",
       "    <tr style=\"text-align: right;\">\n",
       "      <th></th>\n",
       "      <th>lib_name</th>\n",
       "      <th>descr</th>\n",
       "      <th>num_genes</th>\n",
       "    </tr>\n",
       "  </thead>\n",
       "  <tbody>\n",
       "    <tr>\n",
       "      <th>0</th>\n",
       "      <td>KEGG_2021_Human</td>\n",
       "      <td>ABC transporters</td>\n",
       "      <td>45</td>\n",
       "    </tr>\n",
       "    <tr>\n",
       "      <th>1</th>\n",
       "      <td>KEGG_2021_Human</td>\n",
       "      <td>AGE-RAGE signaling pathway in diabetic complic...</td>\n",
       "      <td>100</td>\n",
       "    </tr>\n",
       "    <tr>\n",
       "      <th>2</th>\n",
       "      <td>KEGG_2021_Human</td>\n",
       "      <td>AMPK signaling pathway</td>\n",
       "      <td>120</td>\n",
       "    </tr>\n",
       "    <tr>\n",
       "      <th>3</th>\n",
       "      <td>KEGG_2021_Human</td>\n",
       "      <td>Acute myeloid leukemia</td>\n",
       "      <td>67</td>\n",
       "    </tr>\n",
       "    <tr>\n",
       "      <th>4</th>\n",
       "      <td>KEGG_2021_Human</td>\n",
       "      <td>Adherens junction</td>\n",
       "      <td>71</td>\n",
       "    </tr>\n",
       "    <tr>\n",
       "      <th>...</th>\n",
       "      <td>...</td>\n",
       "      <td>...</td>\n",
       "      <td>...</td>\n",
       "    </tr>\n",
       "    <tr>\n",
       "      <th>2934</th>\n",
       "      <td>WikiPathway_2023_Human</td>\n",
       "      <td>Serotonin Receptor 4 6 7 And NR3C Signaling WP734</td>\n",
       "      <td>19</td>\n",
       "    </tr>\n",
       "    <tr>\n",
       "      <th>2935</th>\n",
       "      <td>WikiPathway_2023_Human</td>\n",
       "      <td>Toll Like Receptor Signaling Pathway WP75</td>\n",
       "      <td>102</td>\n",
       "    </tr>\n",
       "    <tr>\n",
       "      <th>2936</th>\n",
       "      <td>WikiPathway_2023_Human</td>\n",
       "      <td>TCA Cycle Aka Krebs Or Citric Acid Cycle WP78</td>\n",
       "      <td>18</td>\n",
       "    </tr>\n",
       "    <tr>\n",
       "      <th>2937</th>\n",
       "      <td>WikiPathway_2023_Human</td>\n",
       "      <td>Nucleotide GPCRs WP80</td>\n",
       "      <td>11</td>\n",
       "    </tr>\n",
       "    <tr>\n",
       "      <th>2938</th>\n",
       "      <td>WikiPathway_2023_Human</td>\n",
       "      <td>Prostaglandin Synthesis And Regulation WP98</td>\n",
       "      <td>45</td>\n",
       "    </tr>\n",
       "  </tbody>\n",
       "</table>\n",
       "<p>2939 rows × 3 columns</p>\n",
       "</div>"
      ],
      "text/plain": [
       "                    lib_name  \\\n",
       "0            KEGG_2021_Human   \n",
       "1            KEGG_2021_Human   \n",
       "2            KEGG_2021_Human   \n",
       "3            KEGG_2021_Human   \n",
       "4            KEGG_2021_Human   \n",
       "...                      ...   \n",
       "2934  WikiPathway_2023_Human   \n",
       "2935  WikiPathway_2023_Human   \n",
       "2936  WikiPathway_2023_Human   \n",
       "2937  WikiPathway_2023_Human   \n",
       "2938  WikiPathway_2023_Human   \n",
       "\n",
       "                                                  descr  num_genes  \n",
       "0                                      ABC transporters         45  \n",
       "1     AGE-RAGE signaling pathway in diabetic complic...        100  \n",
       "2                                AMPK signaling pathway        120  \n",
       "3                                Acute myeloid leukemia         67  \n",
       "4                                     Adherens junction         71  \n",
       "...                                                 ...        ...  \n",
       "2934  Serotonin Receptor 4 6 7 And NR3C Signaling WP734         19  \n",
       "2935          Toll Like Receptor Signaling Pathway WP75        102  \n",
       "2936      TCA Cycle Aka Krebs Or Citric Acid Cycle WP78         18  \n",
       "2937                              Nucleotide GPCRs WP80         11  \n",
       "2938        Prostaglandin Synthesis And Regulation WP98         45  \n",
       "\n",
       "[2939 rows x 3 columns]"
      ]
     },
     "execution_count": 4,
     "metadata": {},
     "output_type": "execute_result"
    }
   ],
   "source": [
    "df"
   ]
  }
 ],
 "metadata": {
  "kernelspec": {
   "display_name": "Python 3 (ipykernel)",
   "language": "python",
   "name": "python3"
  },
  "language_info": {
   "codemirror_mode": {
    "name": "ipython",
    "version": 3
   },
   "file_extension": ".py",
   "mimetype": "text/x-python",
   "name": "python",
   "nbconvert_exporter": "python",
   "pygments_lexer": "ipython3",
   "version": "3.12.3"
  }
 },
 "nbformat": 4,
 "nbformat_minor": 5
}
