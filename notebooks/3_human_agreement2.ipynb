{
 "cells": [
  {
   "cell_type": "code",
   "execution_count": 1,
   "metadata": {},
   "outputs": [],
   "source": [
    "import llm2geneset\n",
    "import openai\n",
    "import pandas as pd\n",
    "from scipy.stats import hypergeom\n",
    "from statsmodels.stats.multitest import multipletests\n",
    "import re\n",
    "import numpy as np\n",
    "client = openai.Client()"
   ]
  },
  {
   "cell_type": "code",
   "execution_count": 2,
   "metadata": {},
   "outputs": [],
   "source": [
    "def load(gmt_file):\n",
    "    \"\"\"Load GMT files and generate embeddings for gene set descriptions.\"\"\"\n",
    "    gmt = llm2geneset.read_gmt(gmt_file)\n",
    "    def clean_elements(array):\n",
    "        \"\"\"Use regular expression to remove (GO:xxx) substring,  \n",
    "        R-HSA-xxx substrings, and WPxxx substrings\"\"\"\n",
    "        cleaned_array = []\n",
    "        for element in array:\n",
    "            cleaned_element = re.sub(r'\\s*\\(GO:\\d+\\)\\s*|\\s*R-HSA-\\d+\\s*|\\s*WP\\d+\\s*', '', element)\n",
    "            cleaned_array.append(cleaned_element)\n",
    "        return cleaned_array\n",
    "    gmt[\"descr_cleaned\"] = clean_elements(gmt[\"descr\"]) \n",
    "    gmtemb = llm2geneset.get_embeddings(client, gmt[\"descr_cleaned\"])\n",
    "    return (gmt, gmtemb)"
   ]
  },
  {
   "cell_type": "code",
   "execution_count": 3,
   "metadata": {},
   "outputs": [],
   "source": [
    "# Get GO reference.\n",
    "go, goemb = load(\"libs_human/gmt/GO_Biological_Process_2023.txt\")"
   ]
  },
  {
   "cell_type": "code",
   "execution_count": 4,
   "metadata": {},
   "outputs": [],
   "source": [
    "# Load query gene sets and embeddings.\n",
    "wiki, wikiemb = load(\"libs_human/gmt/Reactome_2022.txt\")\n",
    "kegg, keggemb = load(\"libs_human/gmt/KEGG_2021_Human.txt\")\n",
    "react, reactemb = load(\"libs_human/gmt/Reactome_2022.txt\")"
   ]
  },
  {
   "cell_type": "code",
   "execution_count": 13,
   "metadata": {},
   "outputs": [],
   "source": [
    "\n",
    "def eval_geneset(iou_output, descr_llm, descr_go, descr_go_genes, query, queryemb):\n",
    "    # Convert embedding lists to matricies.\n",
    "    matrix1 = np.vstack(queryemb)  # Shape (m, d), where m is the number of vectors\n",
    "    matrix2 = np.vstack(goemb)  # Shape (n, d), where n is the number of vectors\n",
    "\n",
    "    # Compute pairwise dot products using matrix multiplication\n",
    "    A = matrix1 @ matrix2.T  # Shape (m, n)\n",
    "\n",
    "    # Which column has highest dot product. \n",
    "    max_cols = np.argmax(A, axis=1)\n",
    "    max_values = A[np.arange(A.shape[0]), max_cols]\n",
    "    mask = max_values > 0.7 \n",
    "\n",
    "    # Filter to rows where > 0.7\n",
    "    f_cols = max_cols[mask].tolist()   # column indices of max\n",
    "    f_vals = max_values[mask]     # corresponding max values\n",
    "    f_rows = np.where(mask)[0].tolist()   # (optional) which row indices\n",
    "\n",
    "    for row, col in zip(f_rows, f_cols):\n",
    "        #print(f\"Value {A[row, col]:.2f} at index ({row}, {col})\")\n",
    "        #print(query[\"descr_cleaned\"][row], go[\"descr_cleaned\"][col])\n",
    "        #print(wikipathway[\"genes\"][row])\n",
    "        #print(go[\"genes\"][col])\n",
    "        curated_genes = go[\"genes\"][col]\n",
    "        parsed_llm_genes = query[\"genes\"][row]\n",
    "        \n",
    "        # Save descriptions used in query gene sets for LLM eval\n",
    "        descr_llm.append(query[\"descr_cleaned\"][row])\n",
    "        descr_go.append(go[\"descr_cleaned\"][col])\n",
    "        # Save reference genes for LLM eval.\n",
    "        descr_go_genes.append(go[\"genes\"][col])\n",
    "\n",
    "        llm_genes = list(set(parsed_llm_genes)) # make sure unique genes are selected\n",
    "\n",
    "        intersection = set(llm_genes).intersection(set(curated_genes))\n",
    "        p_val = hypergeom.sf(len(intersection)-1,\n",
    "                                19846, \n",
    "                                len(curated_genes), \n",
    "                                len(llm_genes))\n",
    "        \n",
    "        # generatio == recall \n",
    "        generatio = float(len(intersection)) / len(set(curated_genes))                                                                                                 \n",
    "        bgratio = float(len(set(llm_genes))) / 19846                                                                                                    \n",
    "                                                                                                                                                            \n",
    "        richFactor = None                                                                                                                                      \n",
    "        foldEnrich = None                                                                                                                                      \n",
    "        if len(llm_genes) > 0:   \n",
    "            # richFactor == precision                                                                                                                              \n",
    "            richFactor = float(len(intersection)) / len(set(llm_genes))                                                                                        \n",
    "            foldEnrich = generatio / bgratio                                                                                                                   \n",
    "\n",
    "        \n",
    "        x = {\n",
    "            \"model\": \"human\",\n",
    "            \"query\": query[\"descr_cleaned\"][row],\n",
    "            \"go\": go[\"descr_cleaned\"][col],\n",
    "            'ncurated': len(curated_genes),\n",
    "            'nllm': len(llm_genes),\n",
    "            'ninter': len(intersection),\n",
    "            'generatio': generatio,\n",
    "            'bgratio': bgratio,\n",
    "            'richFactor': richFactor,\n",
    "            'foldEnrich': foldEnrich,\n",
    "            'jaccard': float(len(intersection)) / len(set(curated_genes).union(set(llm_genes))),\n",
    "            'p_val': p_val\n",
    "        }\n",
    "        iou_output.append(x)\n",
    "\n",
    "iou_output = []\n",
    "descr_llm = []\n",
    "descr_go = []\n",
    "descr_go_genes = []\n",
    "test_llm = []\n",
    "\n",
    "eval_geneset(iou_output, descr_llm, descr_go, descr_go_genes, kegg, keggemb)\n",
    "eval_geneset(iou_output, descr_llm, descr_go, descr_go_genes, react, reactemb)\n",
    "eval_geneset(iou_output, descr_llm, descr_go, descr_go_genes, react, reactemb)\n"
   ]
  },
  {
   "cell_type": "code",
   "execution_count": 9,
   "metadata": {},
   "outputs": [
    {
     "name": "stderr",
     "output_type": "stream",
     "text": [
      " 35%|██████████████████████████████████████████████▍                                                                                       | 491/1418 [00:29<00:43, 21.53it/s]"
     ]
    }
   ],
   "source": [
    "aclient = openai.AsyncClient()\n",
    "models = [\"gpt-4o-mini-2024-07-18\", \"gpt-3.5-turbo-0125\", \"gpt-4o-2024-08-06\"]\n",
    "\n",
    "for model in models:\n",
    "    descr_llm_genes = await llm2geneset.get_genes_bench(aclient,descr_llm,model=model,prompt_type='basic',use_sysmsg=True)\n",
    "    for idx in range(len(descr_llm)):\n",
    "        curated_genes = descr_go_genes[idx]\n",
    "        parsed_llm_genes = descr_llm_genes[idx]['parsed_genes']\n",
    "        llm_genes = list(set(parsed_llm_genes)) # make sure unique genes are selected\n",
    "\n",
    "        intersection = set(llm_genes).intersection(set(curated_genes))\n",
    "        union = set(llm_genes).union(set(curated_genes))\n",
    "        jaccard_similarity = len(intersection) / len(union) if len(union) > 0 else 0\n",
    "        p_val = hypergeom.sf(len(intersection)-1,\n",
    "                                19846, \n",
    "                                len(curated_genes), \n",
    "                                len(llm_genes))\n",
    "\n",
    "        # generatio == recall \n",
    "        generatio = float(len(intersection)) / len(set(curated_genes))                                                                                                 \n",
    "        bgratio = float(len(set(llm_genes))) / 19846                                                                                                    \n",
    "                                                                                                                                                            \n",
    "        richFactor = None                                                                                                                                      \n",
    "        foldEnrich = None                                                                                                                                      \n",
    "        if len(llm_genes) > 0:   \n",
    "            # richFactor == precision                                                                                                                              \n",
    "            richFactor = float(len(intersection)) / len(set(llm_genes))                                                                                        \n",
    "            foldEnrich = generatio / bgratio                                                                                                                   \n",
    "    \n",
    "        x = {\n",
    "            \"model\": model,\n",
    "            \"query\": descr_llm[idx],\n",
    "            \"go\": descr_go[idx],\n",
    "            'ncurated': len(curated_genes),\n",
    "            'nllm': len(llm_genes),\n",
    "            'ninter': len(intersection),\n",
    "            'generatio': generatio,\n",
    "            'bgratio': bgratio,\n",
    "            'richFactor': richFactor,\n",
    "            'foldEnrich': foldEnrich,\n",
    "            'jaccard': float(len(intersection)) / len(set(curated_genes).union(set(llm_genes))),\n",
    "            'p_val': p_val\n",
    "        }\n",
    "        iou_output.append(x)"
   ]
  },
  {
   "cell_type": "code",
   "execution_count": 10,
   "metadata": {},
   "outputs": [
    {
     "name": "stdout",
     "output_type": "stream",
     "text": [
      "(1418, 13)\n",
      "0.5698166431593794\n",
      "0.20954245124679313\n",
      "0.1838016686768446\n",
      "0.09579101546853223\n"
     ]
    }
   ],
   "source": [
    "df = pd.DataFrame(iou_output)\n",
    "df.to_csv(\"outputs/human_agreement.csv\", index=False, sep=\"\\t\")"
   ]
  }
 ],
 "metadata": {
  "kernelspec": {
   "display_name": "Python 3 (ipykernel)",
   "language": "python",
   "name": "python3"
  },
  "language_info": {
   "codemirror_mode": {
    "name": "ipython",
    "version": 3
   },
   "file_extension": ".py",
   "mimetype": "text/x-python",
   "name": "python",
   "nbconvert_exporter": "python",
   "pygments_lexer": "ipython3",
   "version": "3.12.7"
  }
 },
 "nbformat": 4,
 "nbformat_minor": 2
}
