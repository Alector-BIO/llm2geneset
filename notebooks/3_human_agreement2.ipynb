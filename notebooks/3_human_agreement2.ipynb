{
 "cells": [
  {
   "cell_type": "code",
   "execution_count": 1,
   "metadata": {},
   "outputs": [],
   "source": [
    "import llm2geneset\n",
    "import openai\n",
    "import pandas as pd\n",
    "from scipy.stats import hypergeom\n",
    "from statsmodels.stats.multitest import multipletests\n",
    "import re\n",
    "import numpy as np\n",
    "client = openai.Client()"
   ]
  },
  {
   "cell_type": "code",
   "execution_count": 2,
   "metadata": {},
   "outputs": [],
   "source": [
    "def load(gmt_file):\n",
    "    gmt = llm2geneset.read_gmt(gmt_file)\n",
    "    def clean_elements(array):\n",
    "        \"\"\"Use regular expression to remove (GO:xxx) substring,  \n",
    "        R-HSA-xxx substrings, and WPxxx substrings\"\"\"\n",
    "        cleaned_array = []\n",
    "        for element in array:\n",
    "            cleaned_element = re.sub(r'\\s*\\(GO:\\d+\\)\\s*|\\s*R-HSA-\\d+\\s*|\\s*WP\\d+\\s*', '', element)\n",
    "            cleaned_array.append(cleaned_element)\n",
    "        return cleaned_array\n",
    "    gmt[\"descr_cleaned\"] = clean_elements(gmt[\"descr\"]) \n",
    "    gmtemb = llm2geneset.get_embeddings(client, gmt[\"descr_cleaned\"])\n",
    "    return (gmt, gmtemb)"
   ]
  },
  {
   "cell_type": "code",
   "execution_count": 3,
   "metadata": {},
   "outputs": [],
   "source": [
    "go, goemb = load(\"libs_human/gmt/GO_Biological_Process_2023.txt\")"
   ]
  },
  {
   "cell_type": "code",
   "execution_count": 4,
   "metadata": {},
   "outputs": [],
   "source": [
    "wiki, wikiemb = load(\"libs_human/gmt/Reactome_2022.txt\")\n",
    "kegg, keggemb = load(\"libs_human/gmt/KEGG_2021_Human.txt\")\n",
    "react, reactemb = load(\"libs_human/gmt/Reactome_2022.txt\")"
   ]
  },
  {
   "cell_type": "code",
   "execution_count": 5,
   "metadata": {},
   "outputs": [],
   "source": [
    "\n",
    "def eval_geneset(iou_output, query, queryemb):\n",
    "    # Convert lists to matrices\n",
    "    matrix1 = np.vstack(queryemb)  # Shape (m, d), where m is the number of vectors\n",
    "    matrix2 = np.vstack(goemb)  # Shape (n, d), where n is the number of vectors\n",
    "\n",
    "    # Compute pairwise dot products using matrix multiplication\n",
    "    A = matrix1 @ matrix2.T  # Shape (m, n)\n",
    "\n",
    "    # Which column has highest dot product. \n",
    "    max_cols = np.argmax(A, axis=1)\n",
    "    max_values = A[np.arange(A.shape[0]), max_cols]\n",
    "    mask = max_values > 0.7 \n",
    "\n",
    "    # Filter to rows where > 0.7\n",
    "    f_cols = max_cols[mask].tolist()   # column indices of max\n",
    "    f_vals = max_values[mask]     # corresponding max values\n",
    "    f_rows = np.where(mask)[0].tolist()   # (optional) which row indices\n",
    "\n",
    "    for row, col in zip(f_rows, f_cols):\n",
    "        #print(f\"Value {A[row, col]:.2f} at index ({row}, {col})\")\n",
    "        #print(query[\"descr_cleaned\"][row], go[\"descr_cleaned\"][col])\n",
    "        #print(wikipathway[\"genes\"][row])\n",
    "        #print(go[\"genes\"][col])\n",
    "        curated_genes = go[\"genes\"][col]\n",
    "        parsed_llm_genes = query[\"genes\"][row]\n",
    "        \n",
    "        descr_llm.append(query[\"descr_cleaned\"][row])\n",
    "        descr_go_genes.append(go[\"genes\"][col])\n",
    "\n",
    "        llm_genes = list(set(parsed_llm_genes)) # make sure unique genes are selected\n",
    "\n",
    "        intersection = set(llm_genes).intersection(set(curated_genes))\n",
    "        p_val = hypergeom.sf(len(intersection)-1,\n",
    "                                19846, \n",
    "                                len(curated_genes), \n",
    "                                len(llm_genes))\n",
    "        \n",
    "        # generatio == recall \n",
    "        generatio = float(len(intersection)) / len(set(curated_genes))                                                                                                 \n",
    "        bgratio = float(len(set(llm_genes))) / 19846                                                                                                    \n",
    "                                                                                                                                                            \n",
    "        richFactor = None                                                                                                                                      \n",
    "        foldEnrich = None                                                                                                                                      \n",
    "        if len(llm_genes) > 0:   \n",
    "            # richFactor == precision                                                                                                                              \n",
    "            richFactor = float(len(intersection)) / len(set(llm_genes))                                                                                        \n",
    "            foldEnrich = generatio / bgratio                                                                                                                   \n",
    "\n",
    "        \n",
    "        x = {\n",
    "            \"query\": query[\"descr_cleaned\"][row],\n",
    "            \"go\": go[\"descr_cleaned\"][col],\n",
    "            'ncurated': len(curated_genes),\n",
    "            'nllm': len(llm_genes),\n",
    "            'ninter': len(intersection),\n",
    "            'generatio': generatio,\n",
    "            'bgratio': bgratio,\n",
    "            'richFactor': richFactor,\n",
    "            'foldEnrich': foldEnrich,\n",
    "            'jaccard': float(len(intersection)) / len(set(curated_genes).union(set(llm_genes))),\n",
    "            'p_val': p_val\n",
    "        }\n",
    "        iou_output.append(x)\n",
    "\n",
    "iou_output = []\n",
    "descr_llm = []\n",
    "descr_go_genes = []\n",
    "test_llm = []\n",
    "\n",
    "eval_geneset(iou_output, descr_llm, descr_go_genes, kegg, keggemb)\n",
    "eval_geneset(iou_output, descr_llm, descr_go_genes, react, reactemb)\n",
    "eval_geneset(iou_output, descr_llm, descr_go_genes, react, reactemb)\n"
   ]
  },
  {
   "cell_type": "code",
   "execution_count": 81,
   "metadata": {},
   "outputs": [
    {
     "name": "stdout",
     "output_type": "stream",
     "text": [
      "(1418, 12)\n",
      "0.7031029619181947\n"
     ]
    }
   ],
   "source": [
    "df = pd.DataFrame(iou_output)\n",
    "_, pvals_corrected, _, _ = multipletests(df['p_val'], method='bonferroni')\n",
    "df['p_val_adj'] = pvals_corrected\n",
    "print(df.shape)\n",
    "print(df[(df['p_val_adj'] < 0.01) ].shape[0] / df.shape[0])"
   ]
  },
  {
   "cell_type": "code",
   "execution_count": 97,
   "metadata": {},
   "outputs": [
    {
     "data": {
      "text/plain": [
       "0.1462119980862434"
      ]
     },
     "execution_count": 97,
     "metadata": {},
     "output_type": "execute_result"
    }
   ],
   "source": [
    "df.jaccard.mean()"
   ]
  },
  {
   "cell_type": "code",
   "execution_count": 105,
   "metadata": {},
   "outputs": [
    {
     "data": {
      "text/plain": [
       "<bound method DataFrame.query of                                             query  \\\n",
       "0                               Adherens junction   \n",
       "1                 Adipocytokine signaling pathway   \n",
       "2     Amino sugar and nucleotide sugar metabolism   \n",
       "3                     Aminoacyl-tRNA biosynthesis   \n",
       "4             Antigen processing and presentation   \n",
       "...                                           ...   \n",
       "1413     tRNA Modification In Nucleus And Cytosol   \n",
       "1414                              tRNA Processing   \n",
       "1415             tRNA Processing In Mitochondrion   \n",
       "1416                   tRNA Processing In Nucleus   \n",
       "1417          trans-Golgi Network Vesicle Budding   \n",
       "\n",
       "                                                     go  ncurated  nllm  \\\n",
       "0                            Adherens Junction Assembly         9    71   \n",
       "1               Adiponectin-Activated Signaling Pathway         5    69   \n",
       "2                         Amino Sugar Metabolic Process         9    48   \n",
       "3                                   tRNA Aminoacylation        22    66   \n",
       "4     Antigen Processing And Presentation Of Endogen...        21    78   \n",
       "...                                                 ...       ...   ...   \n",
       "1413                                  tRNA Modification        67    42   \n",
       "1414                                    tRNA Processing        50   105   \n",
       "1415                      Mitochondrial tRNA Processing         6     5   \n",
       "1416                                    tRNA Processing        50    57   \n",
       "1417                      Vesicle Budding From Membrane        32    71   \n",
       "\n",
       "      ninter  generatio   bgratio  richFactor   foldEnrich   jaccard  \\\n",
       "0          2   0.222222  0.003578    0.028169    62.115806  0.025641   \n",
       "1          1   0.200000  0.003477    0.014493    57.524638  0.013699   \n",
       "2          3   0.333333  0.002419    0.062500   137.819444  0.055556   \n",
       "3         22   1.000000  0.003326    0.333333   300.696970  0.333333   \n",
       "4         10   0.476190  0.003930    0.128205   121.159951  0.112360   \n",
       "...      ...        ...       ...         ...          ...       ...   \n",
       "1413      33   0.492537  0.002116    0.785714   232.735608  0.434211   \n",
       "1414      28   0.560000  0.005291    0.266667   105.845333  0.220472   \n",
       "1415       4   0.666667  0.000252    0.800000  2646.133333  0.571429   \n",
       "1416      13   0.260000  0.002872    0.228070    90.525614  0.138298   \n",
       "1417       1   0.031250  0.003578    0.014085     8.735035  0.009804   \n",
       "\n",
       "             p_val     p_val_adj  \n",
       "0     4.469767e-04  6.338129e-01  \n",
       "1     1.726512e-02  1.000000e+00  \n",
       "2     1.104048e-06  1.565540e-03  \n",
       "3     5.854988e-57  8.302372e-54  \n",
       "4     1.645584e-19  2.333438e-16  \n",
       "...            ...           ...  \n",
       "1413  8.372384e-78  1.187204e-74  \n",
       "1414  2.869075e-52  4.068349e-49  \n",
       "1415  1.160585e-14  1.645709e-11  \n",
       "1416  6.792061e-23  9.631142e-20  \n",
       "1417  1.084347e-01  1.000000e+00  \n",
       "\n",
       "[1418 rows x 12 columns]>"
      ]
     },
     "execution_count": 105,
     "metadata": {},
     "output_type": "execute_result"
    }
   ],
   "source": [
    "models = [\"gpt-4o-mini-2024-07-18\", \"gpt-3.5-turbo-0125\", \"gpt-4o-2024-08-06\"]\n",
    "model = models[0]\n",
    "aclient = openai.AsyncClient()\n",
    "llm_genes = await llm2geneset.get_genes_bench(aclient,descr_llm,model=model,prompt_type='basic',use_sysmsg=True)"
   ]
  }
 ],
 "metadata": {
  "kernelspec": {
   "display_name": "Python 3 (ipykernel)",
   "language": "python",
   "name": "python3"
  },
  "language_info": {
   "codemirror_mode": {
    "name": "ipython",
    "version": 3
   },
   "file_extension": ".py",
   "mimetype": "text/x-python",
   "name": "python",
   "nbconvert_exporter": "python",
   "pygments_lexer": "ipython3",
   "version": "3.12.7"
  }
 },
 "nbformat": 4,
 "nbformat_minor": 2
}
