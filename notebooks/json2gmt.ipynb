{
 "cells": [
  {
   "cell_type": "code",
   "execution_count": 1,
   "id": "c42ab15e-2ad3-40d2-b00e-c9fa69240811",
   "metadata": {},
   "outputs": [],
   "source": [
    "import json"
   ]
  },
  {
   "cell_type": "code",
   "execution_count": 38,
   "id": "99db7799-7aca-4bf3-8d8f-e3e5fdad14e1",
   "metadata": {},
   "outputs": [],
   "source": [
    "def json_to_gmt(json_file, gmt_file):\n",
    "    with open(json_file, 'r') as jf:\n",
    "        file = json.load(jf)\n",
    "    descr = file['descr']\n",
    "    gene_sets = {}\n",
    "    for i in range(len(descr)):\n",
    "        gene_sets[descr[i]] = file['llm_ensembled'][i]['parsed_genes']\n",
    "    \n",
    "    with open(gmt_file, 'w') as gf:\n",
    "        for gene_set_name, genes in gene_sets.items():\n",
    "            # GMT format: gene_set_name\\tdescription\\tgene1\\tgene2\\tgene3...\n",
    "            if len(genes)>0:\n",
    "                line = f\"{gene_set_name}\\t\" + ''.join(f\"\\t{gene}\" for gene in genes)\n",
    "                gf.write(line + \"\\n\")    "
   ]
  },
  {
   "cell_type": "code",
   "execution_count": 43,
   "id": "09f57729-0e1d-433a-8263-72a03aa57491",
   "metadata": {},
   "outputs": [],
   "source": [
    "lib_names = [\"KEGG_2021_Human\", \n",
    "             \"Reactome_2022\", \n",
    "             \"WikiPathway_2023_Human\"]"
   ]
  },
  {
   "cell_type": "code",
   "execution_count": 44,
   "id": "ee49be76-c7bf-45b2-ad7a-e03ba129cff7",
   "metadata": {},
   "outputs": [],
   "source": [
    "for lib in lib_names:\n",
    "    json_file = \"libs_human/gpt-4o-2024-05-13/\" + lib + \".json\"\n",
    "    gmt_file = \"libs_human/gmt_llm_ensembled/\" + lib + \".txt\"\n",
    "    json_to_gmt(json_file, gmt_file)"
   ]
  },
  {
   "cell_type": "code",
   "execution_count": null,
   "id": "1e162541-9513-46d9-b97a-6d934eafc38c",
   "metadata": {},
   "outputs": [],
   "source": []
  }
 ],
 "metadata": {
  "kernelspec": {
   "display_name": "Python 3 (ipykernel)",
   "language": "python",
   "name": "python3"
  },
  "language_info": {
   "codemirror_mode": {
    "name": "ipython",
    "version": 3
   },
   "file_extension": ".py",
   "mimetype": "text/x-python",
   "name": "python",
   "nbconvert_exporter": "python",
   "pygments_lexer": "ipython3",
   "version": "3.12.3"
  }
 },
 "nbformat": 4,
 "nbformat_minor": 5
}
