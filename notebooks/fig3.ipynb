{
 "cells": [
  {
   "cell_type": "markdown",
   "id": "074dada5-2f98-405f-9535-17ed28b92a35",
   "metadata": {},
   "source": [
    "# Figure 3\n",
    "\n",
    "This notebook must be run within the `benchmark_env` environment."
   ]
  },
  {
   "cell_type": "code",
   "execution_count": 1,
   "id": "ffb5734d-da1f-4e11-8962-1b14447dc24a",
   "metadata": {},
   "outputs": [
    {
     "name": "stderr",
     "output_type": "stream",
     "text": [
      "── \u001b[1mAttaching core tidyverse packages\u001b[22m ─────────────────────────────────────────────────────────────────────────────────────────────────────────── tidyverse 2.0.0 ──\n",
      "\u001b[32m✔\u001b[39m \u001b[34mdplyr    \u001b[39m 1.1.4     \u001b[32m✔\u001b[39m \u001b[34mreadr    \u001b[39m 2.1.5\n",
      "\u001b[32m✔\u001b[39m \u001b[34mforcats  \u001b[39m 1.0.0     \u001b[32m✔\u001b[39m \u001b[34mstringr  \u001b[39m 1.5.1\n",
      "\u001b[32m✔\u001b[39m \u001b[34mggplot2  \u001b[39m 3.5.1     \u001b[32m✔\u001b[39m \u001b[34mtibble   \u001b[39m 3.2.1\n",
      "\u001b[32m✔\u001b[39m \u001b[34mlubridate\u001b[39m 1.9.3     \u001b[32m✔\u001b[39m \u001b[34mtidyr    \u001b[39m 1.3.1\n",
      "\u001b[32m✔\u001b[39m \u001b[34mpurrr    \u001b[39m 1.0.2     \n",
      "── \u001b[1mConflicts\u001b[22m ───────────────────────────────────────────────────────────────────────────────────────────────────────────────────────────── tidyverse_conflicts() ──\n",
      "\u001b[31m✖\u001b[39m \u001b[34mdplyr\u001b[39m::\u001b[32mfilter()\u001b[39m masks \u001b[34mstats\u001b[39m::filter()\n",
      "\u001b[31m✖\u001b[39m \u001b[34mdplyr\u001b[39m::\u001b[32mlag()\u001b[39m    masks \u001b[34mstats\u001b[39m::lag()\n",
      "\u001b[36mℹ\u001b[39m Use the conflicted package (\u001b[3m\u001b[34m<http://conflicted.r-lib.org/>\u001b[39m\u001b[23m) to force all conflicts to become errors\n"
     ]
    }
   ],
   "source": [
    "library(tidyverse)\n",
    "library(ggplot2)"
   ]
  },
  {
   "cell_type": "code",
   "execution_count": 2,
   "id": "0fd778bd-e1b9-4c01-b60c-86e751e31cc0",
   "metadata": {},
   "outputs": [
    {
     "name": "stderr",
     "output_type": "stream",
     "text": [
      "\u001b[1mRows: \u001b[22m\u001b[34m4806\u001b[39m \u001b[1mColumns: \u001b[22m\u001b[34m11\u001b[39m\n",
      "\u001b[36m──\u001b[39m \u001b[1mColumn specification\u001b[22m \u001b[36m───────────────────────────────────────────────────────────────────────────────────────────────────────────────────────────────────────────\u001b[39m\n",
      "\u001b[1mDelimiter:\u001b[22m \"\\t\"\n",
      "\u001b[31mchr\u001b[39m (6): model, library, gt_name, gt_name_clean, name, method\n",
      "\u001b[32mdbl\u001b[39m (5): ROUGE1, ROUGE2, csim, in_toks, out_toks\n",
      "\n",
      "\u001b[36mℹ\u001b[39m Use `spec()` to retrieve the full column specification for this data.\n",
      "\u001b[36mℹ\u001b[39m Specify the column types or set `show_col_types = FALSE` to quiet this message.\n"
     ]
    },
    {
     "data": {
      "text/html": [
       "<style>\n",
       ".list-inline {list-style: none; margin:0; padding: 0}\n",
       ".list-inline>li {display: inline-block}\n",
       ".list-inline>li:not(:last-child)::after {content: \"\\00b7\"; padding: 0 .5ex}\n",
       "</style>\n",
       "<ol class=list-inline><li>'model'</li><li>'library'</li><li>'gt_name'</li><li>'gt_name_clean'</li><li>'name'</li><li>'ROUGE1'</li><li>'ROUGE2'</li><li>'csim'</li><li>'method'</li><li>'in_toks'</li><li>'out_toks'</li></ol>\n"
      ],
      "text/latex": [
       "\\begin{enumerate*}\n",
       "\\item 'model'\n",
       "\\item 'library'\n",
       "\\item 'gt\\_name'\n",
       "\\item 'gt\\_name\\_clean'\n",
       "\\item 'name'\n",
       "\\item 'ROUGE1'\n",
       "\\item 'ROUGE2'\n",
       "\\item 'csim'\n",
       "\\item 'method'\n",
       "\\item 'in\\_toks'\n",
       "\\item 'out\\_toks'\n",
       "\\end{enumerate*}\n"
      ],
      "text/markdown": [
       "1. 'model'\n",
       "2. 'library'\n",
       "3. 'gt_name'\n",
       "4. 'gt_name_clean'\n",
       "5. 'name'\n",
       "6. 'ROUGE1'\n",
       "7. 'ROUGE2'\n",
       "8. 'csim'\n",
       "9. 'method'\n",
       "10. 'in_toks'\n",
       "11. 'out_toks'\n",
       "\n",
       "\n"
      ],
      "text/plain": [
       " [1] \"model\"         \"library\"       \"gt_name\"       \"gt_name_clean\"\n",
       " [5] \"name\"          \"ROUGE1\"        \"ROUGE2\"        \"csim\"         \n",
       " [9] \"method\"        \"in_toks\"       \"out_toks\"     "
      ]
     },
     "metadata": {},
     "output_type": "display_data"
    }
   ],
   "source": [
    "df<-readr::read_tsv(\"outputs/gsai_vs_llm2geneset_outputs.tsv\")\n",
    "colnames(df)"
   ]
  },
  {
   "cell_type": "code",
   "execution_count": 3,
   "id": "68980ac4-4c45-4dd5-b83a-58bf02063511",
   "metadata": {},
   "outputs": [
    {
     "data": {
      "text/html": [
       "<style>\n",
       ".list-inline {list-style: none; margin:0; padding: 0}\n",
       ".list-inline>li {display: inline-block}\n",
       ".list-inline>li:not(:last-child)::after {content: \"\\00b7\"; padding: 0 .5ex}\n",
       "</style>\n",
       "<ol class=list-inline><li>'model'</li><li>'library'</li><li>'gt_name'</li><li>'gt_name_clean'</li><li>'name'</li><li>'ROUGE1'</li><li>'ROUGE2'</li><li>'csim'</li><li>'method'</li><li>'in_toks'</li><li>'out_toks'</li></ol>\n"
      ],
      "text/latex": [
       "\\begin{enumerate*}\n",
       "\\item 'model'\n",
       "\\item 'library'\n",
       "\\item 'gt\\_name'\n",
       "\\item 'gt\\_name\\_clean'\n",
       "\\item 'name'\n",
       "\\item 'ROUGE1'\n",
       "\\item 'ROUGE2'\n",
       "\\item 'csim'\n",
       "\\item 'method'\n",
       "\\item 'in\\_toks'\n",
       "\\item 'out\\_toks'\n",
       "\\end{enumerate*}\n"
      ],
      "text/markdown": [
       "1. 'model'\n",
       "2. 'library'\n",
       "3. 'gt_name'\n",
       "4. 'gt_name_clean'\n",
       "5. 'name'\n",
       "6. 'ROUGE1'\n",
       "7. 'ROUGE2'\n",
       "8. 'csim'\n",
       "9. 'method'\n",
       "10. 'in_toks'\n",
       "11. 'out_toks'\n",
       "\n",
       "\n"
      ],
      "text/plain": [
       " [1] \"model\"         \"library\"       \"gt_name\"       \"gt_name_clean\"\n",
       " [5] \"name\"          \"ROUGE1\"        \"ROUGE2\"        \"csim\"         \n",
       " [9] \"method\"        \"in_toks\"       \"out_toks\"     "
      ]
     },
     "metadata": {},
     "output_type": "display_data"
    }
   ],
   "source": [
    "colnames(df)"
   ]
  },
  {
   "cell_type": "code",
   "execution_count": 9,
   "id": "8d035554-db50-4bf1-8076-ae3238ddac87",
   "metadata": {},
   "outputs": [
    {
     "name": "stderr",
     "output_type": "stream",
     "text": [
      "\u001b[1m\u001b[22m`summarise()` has grouped output by 'model', 'method'. You can override using the `.groups` argument.\n"
     ]
    },
    {
     "data": {
      "text/html": [
       "<table class=\"dataframe\">\n",
       "<caption>A tibble: 6 × 8</caption>\n",
       "<thead>\n",
       "\t<tr><th scope=col>model</th><th scope=col>method</th><th scope=col>library</th><th scope=col>mean_ROUGE1</th><th scope=col>mean_ROUGE2</th><th scope=col>mean_csim</th><th scope=col>in_toks</th><th scope=col>out_toks</th></tr>\n",
       "\t<tr><th scope=col>&lt;chr&gt;</th><th scope=col>&lt;chr&gt;</th><th scope=col>&lt;chr&gt;</th><th scope=col>&lt;dbl&gt;</th><th scope=col>&lt;dbl&gt;</th><th scope=col>&lt;dbl&gt;</th><th scope=col>&lt;dbl&gt;</th><th scope=col>&lt;dbl&gt;</th></tr>\n",
       "</thead>\n",
       "<tbody>\n",
       "\t<tr><td>gpt-3.5-turbo-0125    </td><td>GSAI       </td><td>WikiPathway_2023_Human</td><td>0.2427259</td><td>0.09314507</td><td>0.4939454</td><td>923864</td><td> 193665</td></tr>\n",
       "\t<tr><td>gpt-3.5-turbo-0125    </td><td>llm2geneset</td><td>WikiPathway_2023_Human</td><td>0.2669994</td><td>0.13107578</td><td>0.5332824</td><td>935913</td><td> 909211</td></tr>\n",
       "\t<tr><td>gpt-4o-2024-08-06     </td><td>GSAI       </td><td>WikiPathway_2023_Human</td><td>0.2735305</td><td>0.10560861</td><td>0.5079991</td><td>932769</td><td> 330696</td></tr>\n",
       "\t<tr><td>gpt-4o-2024-08-06     </td><td>llm2geneset</td><td>WikiPathway_2023_Human</td><td>0.2992668</td><td>0.13951144</td><td>0.5592225</td><td>934695</td><td>1318587</td></tr>\n",
       "\t<tr><td>gpt-4o-mini-2024-07-18</td><td>GSAI       </td><td>WikiPathway_2023_Human</td><td>0.2352489</td><td>0.07300362</td><td>0.4797363</td><td>919308</td><td> 390518</td></tr>\n",
       "\t<tr><td>gpt-4o-mini-2024-07-18</td><td>llm2geneset</td><td>WikiPathway_2023_Human</td><td>0.2754580</td><td>0.12933049</td><td>0.5375691</td><td>932522</td><td>1212903</td></tr>\n",
       "</tbody>\n",
       "</table>\n"
      ],
      "text/latex": [
       "A tibble: 6 × 8\n",
       "\\begin{tabular}{llllllll}\n",
       " model & method & library & mean\\_ROUGE1 & mean\\_ROUGE2 & mean\\_csim & in\\_toks & out\\_toks\\\\\n",
       " <chr> & <chr> & <chr> & <dbl> & <dbl> & <dbl> & <dbl> & <dbl>\\\\\n",
       "\\hline\n",
       "\t gpt-3.5-turbo-0125     & GSAI        & WikiPathway\\_2023\\_Human & 0.2427259 & 0.09314507 & 0.4939454 & 923864 &  193665\\\\\n",
       "\t gpt-3.5-turbo-0125     & llm2geneset & WikiPathway\\_2023\\_Human & 0.2669994 & 0.13107578 & 0.5332824 & 935913 &  909211\\\\\n",
       "\t gpt-4o-2024-08-06      & GSAI        & WikiPathway\\_2023\\_Human & 0.2735305 & 0.10560861 & 0.5079991 & 932769 &  330696\\\\\n",
       "\t gpt-4o-2024-08-06      & llm2geneset & WikiPathway\\_2023\\_Human & 0.2992668 & 0.13951144 & 0.5592225 & 934695 & 1318587\\\\\n",
       "\t gpt-4o-mini-2024-07-18 & GSAI        & WikiPathway\\_2023\\_Human & 0.2352489 & 0.07300362 & 0.4797363 & 919308 &  390518\\\\\n",
       "\t gpt-4o-mini-2024-07-18 & llm2geneset & WikiPathway\\_2023\\_Human & 0.2754580 & 0.12933049 & 0.5375691 & 932522 & 1212903\\\\\n",
       "\\end{tabular}\n"
      ],
      "text/markdown": [
       "\n",
       "A tibble: 6 × 8\n",
       "\n",
       "| model &lt;chr&gt; | method &lt;chr&gt; | library &lt;chr&gt; | mean_ROUGE1 &lt;dbl&gt; | mean_ROUGE2 &lt;dbl&gt; | mean_csim &lt;dbl&gt; | in_toks &lt;dbl&gt; | out_toks &lt;dbl&gt; |\n",
       "|---|---|---|---|---|---|---|---|\n",
       "| gpt-3.5-turbo-0125     | GSAI        | WikiPathway_2023_Human | 0.2427259 | 0.09314507 | 0.4939454 | 923864 |  193665 |\n",
       "| gpt-3.5-turbo-0125     | llm2geneset | WikiPathway_2023_Human | 0.2669994 | 0.13107578 | 0.5332824 | 935913 |  909211 |\n",
       "| gpt-4o-2024-08-06      | GSAI        | WikiPathway_2023_Human | 0.2735305 | 0.10560861 | 0.5079991 | 932769 |  330696 |\n",
       "| gpt-4o-2024-08-06      | llm2geneset | WikiPathway_2023_Human | 0.2992668 | 0.13951144 | 0.5592225 | 934695 | 1318587 |\n",
       "| gpt-4o-mini-2024-07-18 | GSAI        | WikiPathway_2023_Human | 0.2352489 | 0.07300362 | 0.4797363 | 919308 |  390518 |\n",
       "| gpt-4o-mini-2024-07-18 | llm2geneset | WikiPathway_2023_Human | 0.2754580 | 0.12933049 | 0.5375691 | 932522 | 1212903 |\n",
       "\n"
      ],
      "text/plain": [
       "  model                  method      library                mean_ROUGE1\n",
       "1 gpt-3.5-turbo-0125     GSAI        WikiPathway_2023_Human 0.2427259  \n",
       "2 gpt-3.5-turbo-0125     llm2geneset WikiPathway_2023_Human 0.2669994  \n",
       "3 gpt-4o-2024-08-06      GSAI        WikiPathway_2023_Human 0.2735305  \n",
       "4 gpt-4o-2024-08-06      llm2geneset WikiPathway_2023_Human 0.2992668  \n",
       "5 gpt-4o-mini-2024-07-18 GSAI        WikiPathway_2023_Human 0.2352489  \n",
       "6 gpt-4o-mini-2024-07-18 llm2geneset WikiPathway_2023_Human 0.2754580  \n",
       "  mean_ROUGE2 mean_csim in_toks out_toks\n",
       "1 0.09314507  0.4939454 923864   193665 \n",
       "2 0.13107578  0.5332824 935913   909211 \n",
       "3 0.10560861  0.5079991 932769   330696 \n",
       "4 0.13951144  0.5592225 934695  1318587 \n",
       "5 0.07300362  0.4797363 919308   390518 \n",
       "6 0.12933049  0.5375691 932522  1212903 "
      ]
     },
     "metadata": {},
     "output_type": "display_data"
    }
   ],
   "source": [
    "# Group by 'model' and 'method', and calculate the mean of 'ROUGE1', 'ROUGE2', and 'csim'\n",
    "df_summary <- df %>%\n",
    "  group_by(model, method, library) %>%\n",
    "  summarize(\n",
    "    mean_ROUGE1 = mean(ROUGE1, na.rm = TRUE),  # Compute mean of ROUGE1\n",
    "    mean_ROUGE2 = mean(ROUGE2, na.rm = TRUE),  # Compute mean of ROUGE2\n",
    "    mean_csim = mean(csim, na.rm = TRUE),       # Compute mean of csim\n",
    "    in_toks = sum(in_toks),\n",
    "    out_toks = sum(out_toks)\n",
    "  ) %>%\n",
    "  ungroup()  # Ungroup the data\n",
    "\n",
    "# View the summarized data frame\n",
    "df_summary\n",
    "df_summary$out_toks"
   ]
  },
  {
   "cell_type": "code",
   "execution_count": 10,
   "id": "3a92597a-c2a0-4f03-b1c9-4d62b7aca83b",
   "metadata": {},
   "outputs": [
    {
     "data": {
      "text/html": [
       "<table class=\"dataframe\">\n",
       "<caption>A tibble: 18 × 7</caption>\n",
       "<thead>\n",
       "\t<tr><th scope=col>model</th><th scope=col>method</th><th scope=col>library</th><th scope=col>in_toks</th><th scope=col>out_toks</th><th scope=col>metric</th><th scope=col>mean_value</th></tr>\n",
       "\t<tr><th scope=col>&lt;chr&gt;</th><th scope=col>&lt;chr&gt;</th><th scope=col>&lt;chr&gt;</th><th scope=col>&lt;dbl&gt;</th><th scope=col>&lt;dbl&gt;</th><th scope=col>&lt;chr&gt;</th><th scope=col>&lt;dbl&gt;</th></tr>\n",
       "</thead>\n",
       "<tbody>\n",
       "\t<tr><td>gpt-3.5-turbo-0125    </td><td>GSAI       </td><td>WikiPathway_2023_Human</td><td>923864</td><td> 193665</td><td>mean_ROUGE1</td><td>0.24272595</td></tr>\n",
       "\t<tr><td>gpt-3.5-turbo-0125    </td><td>GSAI       </td><td>WikiPathway_2023_Human</td><td>923864</td><td> 193665</td><td>mean_ROUGE2</td><td>0.09314507</td></tr>\n",
       "\t<tr><td>gpt-3.5-turbo-0125    </td><td>GSAI       </td><td>WikiPathway_2023_Human</td><td>923864</td><td> 193665</td><td>mean_csim  </td><td>0.49394540</td></tr>\n",
       "\t<tr><td>gpt-3.5-turbo-0125    </td><td>llm2geneset</td><td>WikiPathway_2023_Human</td><td>935913</td><td> 909211</td><td>mean_ROUGE1</td><td>0.26699940</td></tr>\n",
       "\t<tr><td>gpt-3.5-turbo-0125    </td><td>llm2geneset</td><td>WikiPathway_2023_Human</td><td>935913</td><td> 909211</td><td>mean_ROUGE2</td><td>0.13107578</td></tr>\n",
       "\t<tr><td>gpt-3.5-turbo-0125    </td><td>llm2geneset</td><td>WikiPathway_2023_Human</td><td>935913</td><td> 909211</td><td>mean_csim  </td><td>0.53328242</td></tr>\n",
       "\t<tr><td>gpt-4o-2024-08-06     </td><td>GSAI       </td><td>WikiPathway_2023_Human</td><td>932769</td><td> 330696</td><td>mean_ROUGE1</td><td>0.27353054</td></tr>\n",
       "\t<tr><td>gpt-4o-2024-08-06     </td><td>GSAI       </td><td>WikiPathway_2023_Human</td><td>932769</td><td> 330696</td><td>mean_ROUGE2</td><td>0.10560861</td></tr>\n",
       "\t<tr><td>gpt-4o-2024-08-06     </td><td>GSAI       </td><td>WikiPathway_2023_Human</td><td>932769</td><td> 330696</td><td>mean_csim  </td><td>0.50799911</td></tr>\n",
       "\t<tr><td>gpt-4o-2024-08-06     </td><td>llm2geneset</td><td>WikiPathway_2023_Human</td><td>934695</td><td>1318587</td><td>mean_ROUGE1</td><td>0.29926677</td></tr>\n",
       "\t<tr><td>gpt-4o-2024-08-06     </td><td>llm2geneset</td><td>WikiPathway_2023_Human</td><td>934695</td><td>1318587</td><td>mean_ROUGE2</td><td>0.13951144</td></tr>\n",
       "\t<tr><td>gpt-4o-2024-08-06     </td><td>llm2geneset</td><td>WikiPathway_2023_Human</td><td>934695</td><td>1318587</td><td>mean_csim  </td><td>0.55922253</td></tr>\n",
       "\t<tr><td>gpt-4o-mini-2024-07-18</td><td>GSAI       </td><td>WikiPathway_2023_Human</td><td>919308</td><td> 390518</td><td>mean_ROUGE1</td><td>0.23524894</td></tr>\n",
       "\t<tr><td>gpt-4o-mini-2024-07-18</td><td>GSAI       </td><td>WikiPathway_2023_Human</td><td>919308</td><td> 390518</td><td>mean_ROUGE2</td><td>0.07300362</td></tr>\n",
       "\t<tr><td>gpt-4o-mini-2024-07-18</td><td>GSAI       </td><td>WikiPathway_2023_Human</td><td>919308</td><td> 390518</td><td>mean_csim  </td><td>0.47973629</td></tr>\n",
       "\t<tr><td>gpt-4o-mini-2024-07-18</td><td>llm2geneset</td><td>WikiPathway_2023_Human</td><td>932522</td><td>1212903</td><td>mean_ROUGE1</td><td>0.27545803</td></tr>\n",
       "\t<tr><td>gpt-4o-mini-2024-07-18</td><td>llm2geneset</td><td>WikiPathway_2023_Human</td><td>932522</td><td>1212903</td><td>mean_ROUGE2</td><td>0.12933049</td></tr>\n",
       "\t<tr><td>gpt-4o-mini-2024-07-18</td><td>llm2geneset</td><td>WikiPathway_2023_Human</td><td>932522</td><td>1212903</td><td>mean_csim  </td><td>0.53756910</td></tr>\n",
       "</tbody>\n",
       "</table>\n"
      ],
      "text/latex": [
       "A tibble: 18 × 7\n",
       "\\begin{tabular}{lllllll}\n",
       " model & method & library & in\\_toks & out\\_toks & metric & mean\\_value\\\\\n",
       " <chr> & <chr> & <chr> & <dbl> & <dbl> & <chr> & <dbl>\\\\\n",
       "\\hline\n",
       "\t gpt-3.5-turbo-0125     & GSAI        & WikiPathway\\_2023\\_Human & 923864 &  193665 & mean\\_ROUGE1 & 0.24272595\\\\\n",
       "\t gpt-3.5-turbo-0125     & GSAI        & WikiPathway\\_2023\\_Human & 923864 &  193665 & mean\\_ROUGE2 & 0.09314507\\\\\n",
       "\t gpt-3.5-turbo-0125     & GSAI        & WikiPathway\\_2023\\_Human & 923864 &  193665 & mean\\_csim   & 0.49394540\\\\\n",
       "\t gpt-3.5-turbo-0125     & llm2geneset & WikiPathway\\_2023\\_Human & 935913 &  909211 & mean\\_ROUGE1 & 0.26699940\\\\\n",
       "\t gpt-3.5-turbo-0125     & llm2geneset & WikiPathway\\_2023\\_Human & 935913 &  909211 & mean\\_ROUGE2 & 0.13107578\\\\\n",
       "\t gpt-3.5-turbo-0125     & llm2geneset & WikiPathway\\_2023\\_Human & 935913 &  909211 & mean\\_csim   & 0.53328242\\\\\n",
       "\t gpt-4o-2024-08-06      & GSAI        & WikiPathway\\_2023\\_Human & 932769 &  330696 & mean\\_ROUGE1 & 0.27353054\\\\\n",
       "\t gpt-4o-2024-08-06      & GSAI        & WikiPathway\\_2023\\_Human & 932769 &  330696 & mean\\_ROUGE2 & 0.10560861\\\\\n",
       "\t gpt-4o-2024-08-06      & GSAI        & WikiPathway\\_2023\\_Human & 932769 &  330696 & mean\\_csim   & 0.50799911\\\\\n",
       "\t gpt-4o-2024-08-06      & llm2geneset & WikiPathway\\_2023\\_Human & 934695 & 1318587 & mean\\_ROUGE1 & 0.29926677\\\\\n",
       "\t gpt-4o-2024-08-06      & llm2geneset & WikiPathway\\_2023\\_Human & 934695 & 1318587 & mean\\_ROUGE2 & 0.13951144\\\\\n",
       "\t gpt-4o-2024-08-06      & llm2geneset & WikiPathway\\_2023\\_Human & 934695 & 1318587 & mean\\_csim   & 0.55922253\\\\\n",
       "\t gpt-4o-mini-2024-07-18 & GSAI        & WikiPathway\\_2023\\_Human & 919308 &  390518 & mean\\_ROUGE1 & 0.23524894\\\\\n",
       "\t gpt-4o-mini-2024-07-18 & GSAI        & WikiPathway\\_2023\\_Human & 919308 &  390518 & mean\\_ROUGE2 & 0.07300362\\\\\n",
       "\t gpt-4o-mini-2024-07-18 & GSAI        & WikiPathway\\_2023\\_Human & 919308 &  390518 & mean\\_csim   & 0.47973629\\\\\n",
       "\t gpt-4o-mini-2024-07-18 & llm2geneset & WikiPathway\\_2023\\_Human & 932522 & 1212903 & mean\\_ROUGE1 & 0.27545803\\\\\n",
       "\t gpt-4o-mini-2024-07-18 & llm2geneset & WikiPathway\\_2023\\_Human & 932522 & 1212903 & mean\\_ROUGE2 & 0.12933049\\\\\n",
       "\t gpt-4o-mini-2024-07-18 & llm2geneset & WikiPathway\\_2023\\_Human & 932522 & 1212903 & mean\\_csim   & 0.53756910\\\\\n",
       "\\end{tabular}\n"
      ],
      "text/markdown": [
       "\n",
       "A tibble: 18 × 7\n",
       "\n",
       "| model &lt;chr&gt; | method &lt;chr&gt; | library &lt;chr&gt; | in_toks &lt;dbl&gt; | out_toks &lt;dbl&gt; | metric &lt;chr&gt; | mean_value &lt;dbl&gt; |\n",
       "|---|---|---|---|---|---|---|\n",
       "| gpt-3.5-turbo-0125     | GSAI        | WikiPathway_2023_Human | 923864 |  193665 | mean_ROUGE1 | 0.24272595 |\n",
       "| gpt-3.5-turbo-0125     | GSAI        | WikiPathway_2023_Human | 923864 |  193665 | mean_ROUGE2 | 0.09314507 |\n",
       "| gpt-3.5-turbo-0125     | GSAI        | WikiPathway_2023_Human | 923864 |  193665 | mean_csim   | 0.49394540 |\n",
       "| gpt-3.5-turbo-0125     | llm2geneset | WikiPathway_2023_Human | 935913 |  909211 | mean_ROUGE1 | 0.26699940 |\n",
       "| gpt-3.5-turbo-0125     | llm2geneset | WikiPathway_2023_Human | 935913 |  909211 | mean_ROUGE2 | 0.13107578 |\n",
       "| gpt-3.5-turbo-0125     | llm2geneset | WikiPathway_2023_Human | 935913 |  909211 | mean_csim   | 0.53328242 |\n",
       "| gpt-4o-2024-08-06      | GSAI        | WikiPathway_2023_Human | 932769 |  330696 | mean_ROUGE1 | 0.27353054 |\n",
       "| gpt-4o-2024-08-06      | GSAI        | WikiPathway_2023_Human | 932769 |  330696 | mean_ROUGE2 | 0.10560861 |\n",
       "| gpt-4o-2024-08-06      | GSAI        | WikiPathway_2023_Human | 932769 |  330696 | mean_csim   | 0.50799911 |\n",
       "| gpt-4o-2024-08-06      | llm2geneset | WikiPathway_2023_Human | 934695 | 1318587 | mean_ROUGE1 | 0.29926677 |\n",
       "| gpt-4o-2024-08-06      | llm2geneset | WikiPathway_2023_Human | 934695 | 1318587 | mean_ROUGE2 | 0.13951144 |\n",
       "| gpt-4o-2024-08-06      | llm2geneset | WikiPathway_2023_Human | 934695 | 1318587 | mean_csim   | 0.55922253 |\n",
       "| gpt-4o-mini-2024-07-18 | GSAI        | WikiPathway_2023_Human | 919308 |  390518 | mean_ROUGE1 | 0.23524894 |\n",
       "| gpt-4o-mini-2024-07-18 | GSAI        | WikiPathway_2023_Human | 919308 |  390518 | mean_ROUGE2 | 0.07300362 |\n",
       "| gpt-4o-mini-2024-07-18 | GSAI        | WikiPathway_2023_Human | 919308 |  390518 | mean_csim   | 0.47973629 |\n",
       "| gpt-4o-mini-2024-07-18 | llm2geneset | WikiPathway_2023_Human | 932522 | 1212903 | mean_ROUGE1 | 0.27545803 |\n",
       "| gpt-4o-mini-2024-07-18 | llm2geneset | WikiPathway_2023_Human | 932522 | 1212903 | mean_ROUGE2 | 0.12933049 |\n",
       "| gpt-4o-mini-2024-07-18 | llm2geneset | WikiPathway_2023_Human | 932522 | 1212903 | mean_csim   | 0.53756910 |\n",
       "\n"
      ],
      "text/plain": [
       "   model                  method      library                in_toks out_toks\n",
       "1  gpt-3.5-turbo-0125     GSAI        WikiPathway_2023_Human 923864   193665 \n",
       "2  gpt-3.5-turbo-0125     GSAI        WikiPathway_2023_Human 923864   193665 \n",
       "3  gpt-3.5-turbo-0125     GSAI        WikiPathway_2023_Human 923864   193665 \n",
       "4  gpt-3.5-turbo-0125     llm2geneset WikiPathway_2023_Human 935913   909211 \n",
       "5  gpt-3.5-turbo-0125     llm2geneset WikiPathway_2023_Human 935913   909211 \n",
       "6  gpt-3.5-turbo-0125     llm2geneset WikiPathway_2023_Human 935913   909211 \n",
       "7  gpt-4o-2024-08-06      GSAI        WikiPathway_2023_Human 932769   330696 \n",
       "8  gpt-4o-2024-08-06      GSAI        WikiPathway_2023_Human 932769   330696 \n",
       "9  gpt-4o-2024-08-06      GSAI        WikiPathway_2023_Human 932769   330696 \n",
       "10 gpt-4o-2024-08-06      llm2geneset WikiPathway_2023_Human 934695  1318587 \n",
       "11 gpt-4o-2024-08-06      llm2geneset WikiPathway_2023_Human 934695  1318587 \n",
       "12 gpt-4o-2024-08-06      llm2geneset WikiPathway_2023_Human 934695  1318587 \n",
       "13 gpt-4o-mini-2024-07-18 GSAI        WikiPathway_2023_Human 919308   390518 \n",
       "14 gpt-4o-mini-2024-07-18 GSAI        WikiPathway_2023_Human 919308   390518 \n",
       "15 gpt-4o-mini-2024-07-18 GSAI        WikiPathway_2023_Human 919308   390518 \n",
       "16 gpt-4o-mini-2024-07-18 llm2geneset WikiPathway_2023_Human 932522  1212903 \n",
       "17 gpt-4o-mini-2024-07-18 llm2geneset WikiPathway_2023_Human 932522  1212903 \n",
       "18 gpt-4o-mini-2024-07-18 llm2geneset WikiPathway_2023_Human 932522  1212903 \n",
       "   metric      mean_value\n",
       "1  mean_ROUGE1 0.24272595\n",
       "2  mean_ROUGE2 0.09314507\n",
       "3  mean_csim   0.49394540\n",
       "4  mean_ROUGE1 0.26699940\n",
       "5  mean_ROUGE2 0.13107578\n",
       "6  mean_csim   0.53328242\n",
       "7  mean_ROUGE1 0.27353054\n",
       "8  mean_ROUGE2 0.10560861\n",
       "9  mean_csim   0.50799911\n",
       "10 mean_ROUGE1 0.29926677\n",
       "11 mean_ROUGE2 0.13951144\n",
       "12 mean_csim   0.55922253\n",
       "13 mean_ROUGE1 0.23524894\n",
       "14 mean_ROUGE2 0.07300362\n",
       "15 mean_csim   0.47973629\n",
       "16 mean_ROUGE1 0.27545803\n",
       "17 mean_ROUGE2 0.12933049\n",
       "18 mean_csim   0.53756910"
      ]
     },
     "metadata": {},
     "output_type": "display_data"
    }
   ],
   "source": [
    "df_long <- df_summary %>%\n",
    "  pivot_longer(cols = c(mean_ROUGE1, mean_ROUGE2, mean_csim),  # Columns to pivot\n",
    "               names_to = \"metric\",  # New column for the metric names (ROUGE1, ROUGE2, csim)\n",
    "               values_to = \"mean_value\")  # New column for the mean values\n",
    "\n",
    "# View the transformed data frame\n",
    "df_long"
   ]
  },
  {
   "cell_type": "code",
   "execution_count": 15,
   "id": "c22cd971-3928-4442-8851-d937e2885d14",
   "metadata": {},
   "outputs": [
    {
     "data": {
      "image/png": "[encoded data removed]",
      "text/plain": [
       "plot without title"
      ]
     },
     "metadata": {
      "image/png": {
       "height": 420,
       "width": 420
      }
     },
     "output_type": "display_data"
    }
   ],
   "source": [
    "\n",
    "\n",
    "# Create a bar plot of 'mean_value', grouped by 'metric' and filled by 'method', faceted by 'model'\n",
    "ggplot(df_long, aes(x = metric, y = mean_value, fill = method)) +\n",
    "  geom_bar(stat = \"identity\", position = \"dodge\") +  # Create a grouped bar plot with side-by-side bars\n",
    "  facet_wrap(~ model) +  # Facet the plot by 'model'\n",
    "  labs(x = \"Metric\", y = \"Mean Value\", fill = \"Method\") +  # Set axis and legend labels\n",
    "  theme_minimal() +  # Use a minimal theme\n",
    "  theme(axis.text.x = element_text(angle = 45, hjust = 1))  # Rotate x-axis labels for readability"
   ]
  }
 ],
 "metadata": {
  "kernelspec": {
   "display_name": "R",
   "language": "R",
   "name": "ir"
  },
  "language_info": {
   "codemirror_mode": "r",
   "file_extension": ".r",
   "mimetype": "text/x-r-source",
   "name": "R",
   "pygments_lexer": "r",
   "version": "4.3.3"
  }
 },
 "nbformat": 4,
 "nbformat_minor": 5
}
