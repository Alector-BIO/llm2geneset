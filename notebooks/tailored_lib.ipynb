{
 "cells": [
  {
   "cell_type": "code",
   "execution_count": 20,
   "id": "a5767333-d743-4b58-9b8d-c3b1e4c69559",
   "metadata": {},
   "outputs": [],
   "source": [
    "import llm2geneset\n",
    "import json\n",
    "import time\n",
    "import openai\n",
    "import numpy as np\n",
    "import pandas as pd\n",
    "from sklearn.metrics.pairwise import cosine_similarity\n",
    "aclient = openai.AsyncClient()\n",
    "client = openai.OpenAI()"
   ]
  },
  {
   "cell_type": "markdown",
   "id": "41146a26-a160-43e3-9d59-1b7925d5d6d3",
   "metadata": {},
   "source": [
    "# Generate pathways"
   ]
  },
  {
   "cell_type": "code",
   "execution_count": 3,
   "id": "da8cf2ed-12cc-4b8d-8e53-4ca540feb20a",
   "metadata": {
    "scrolled": true
   },
   "outputs": [
    {
     "name": "stderr",
     "output_type": "stream",
     "text": [
      "100%|█████████████████████████████████████████████| 1/1 [00:08<00:00,  8.33s/it]\n",
      "100%|█████████████████████████████████████████████| 1/1 [00:06<00:00,  6.44s/it]\n"
     ]
    }
   ],
   "source": [
    "cond1 = \"Brain\"\n",
    "cond2 = \"Liver\"\n",
    "\n",
    "pathways = await llm2geneset.get_pathways(aclient, cond1, cond2, n=50)"
   ]
  },
  {
   "cell_type": "code",
   "execution_count": 4,
   "id": "7fdebc2b-8891-4106-8416-4ca8b11a772b",
   "metadata": {},
   "outputs": [
    {
     "data": {
      "text/plain": [
       "100"
      ]
     },
     "execution_count": 4,
     "metadata": {},
     "output_type": "execute_result"
    }
   ],
   "source": [
    "len(pathways)"
   ]
  },
  {
   "cell_type": "markdown",
   "id": "1bd5e797-1c8d-4f03-840e-9619cb07a598",
   "metadata": {},
   "source": [
    "# Search PubMed to find supporting evidence for the pathways"
   ]
  },
  {
   "cell_type": "code",
   "execution_count": 5,
   "id": "690235d2-7b96-48a3-bddc-8b00a75f9dd4",
   "metadata": {},
   "outputs": [],
   "source": [
    "queries = [p+f\" in {cond1}\" for p in pathways]  "
   ]
  },
  {
   "cell_type": "code",
   "execution_count": 6,
   "id": "825f816a-9191-4ddf-8dc4-9c13a2616840",
   "metadata": {},
   "outputs": [
    {
     "name": "stderr",
     "output_type": "stream",
     "text": [
      "100%|█████████████████████████████████████████| 100/100 [00:49<00:00,  2.01it/s]\n"
     ]
    }
   ],
   "source": [
    "pmids = await llm2geneset.esearch_async(queries, \"pubmed\", 1)"
   ]
  },
  {
   "cell_type": "code",
   "execution_count": 13,
   "id": "5678c27d-c269-4758-8970-8b32d8403cba",
   "metadata": {},
   "outputs": [],
   "source": [
    "pmids_cleaned = []\n",
    "for i in pmids:\n",
    "    if len(i)>0:\n",
    "        pmids_cleaned.append(i[0])\n",
    "    else:\n",
    "        pmids_cleaned.append(float('nan'))"
   ]
  },
  {
   "cell_type": "code",
   "execution_count": 14,
   "id": "1e13396e-ca63-4a08-9d79-76d05128228d",
   "metadata": {},
   "outputs": [
    {
     "data": {
      "text/html": [
       "<div>\n",
       "<style scoped>\n",
       "    .dataframe tbody tr th:only-of-type {\n",
       "        vertical-align: middle;\n",
       "    }\n",
       "\n",
       "    .dataframe tbody tr th {\n",
       "        vertical-align: top;\n",
       "    }\n",
       "\n",
       "    .dataframe thead th {\n",
       "        text-align: right;\n",
       "    }\n",
       "</style>\n",
       "<table border=\"1\" class=\"dataframe\">\n",
       "  <thead>\n",
       "    <tr style=\"text-align: right;\">\n",
       "      <th></th>\n",
       "      <th>pathway</th>\n",
       "      <th>pmids</th>\n",
       "    </tr>\n",
       "  </thead>\n",
       "  <tbody>\n",
       "    <tr>\n",
       "      <th>0</th>\n",
       "      <td>Acetaldehyde metabolism</td>\n",
       "      <td>17590995</td>\n",
       "    </tr>\n",
       "    <tr>\n",
       "      <th>1</th>\n",
       "      <td>Acyl-CoA metabolic process</td>\n",
       "      <td>30903449</td>\n",
       "    </tr>\n",
       "    <tr>\n",
       "      <th>2</th>\n",
       "      <td>Adenosine Receptor Signaling Pathway</td>\n",
       "      <td>27225921</td>\n",
       "    </tr>\n",
       "    <tr>\n",
       "      <th>3</th>\n",
       "      <td>Aldosterone synthesis and secretion</td>\n",
       "      <td>19261742</td>\n",
       "    </tr>\n",
       "    <tr>\n",
       "      <th>4</th>\n",
       "      <td>Amino acid catabolism</td>\n",
       "      <td>28261376</td>\n",
       "    </tr>\n",
       "  </tbody>\n",
       "</table>\n",
       "</div>"
      ],
      "text/plain": [
       "                                pathway     pmids\n",
       "0               Acetaldehyde metabolism  17590995\n",
       "1            Acyl-CoA metabolic process  30903449\n",
       "2  Adenosine Receptor Signaling Pathway  27225921\n",
       "3   Aldosterone synthesis and secretion  19261742\n",
       "4                 Amino acid catabolism  28261376"
      ]
     },
     "execution_count": 14,
     "metadata": {},
     "output_type": "execute_result"
    }
   ],
   "source": [
    "pathway_df = pd.DataFrame({'pathway':pathways, 'pmids':pmids_cleaned})\n",
    "pathway_df.head()"
   ]
  },
  {
   "cell_type": "markdown",
   "id": "02d0a2a0-cd45-4a26-ae5c-2053fa9bc9d6",
   "metadata": {},
   "source": [
    "# Drop pathways if can't find supporting PubMed article"
   ]
  },
  {
   "cell_type": "code",
   "execution_count": 17,
   "id": "c86bf276-c2b2-4efe-b380-a2043c75d071",
   "metadata": {},
   "outputs": [],
   "source": [
    "pathway_df = pathway_df.dropna().reset_index(drop=True)"
   ]
  },
  {
   "cell_type": "code",
   "execution_count": 18,
   "id": "00b2ca46-5473-456c-a504-0c2bff4a22a4",
   "metadata": {},
   "outputs": [
    {
     "data": {
      "text/plain": [
       "99"
      ]
     },
     "execution_count": 18,
     "metadata": {},
     "output_type": "execute_result"
    }
   ],
   "source": [
    "len(pathway_df)"
   ]
  },
  {
   "cell_type": "markdown",
   "id": "20e34572-c86a-4a57-9d7e-9d707f5f4fb9",
   "metadata": {},
   "source": [
    "# Filter pathways that are too similar"
   ]
  },
  {
   "cell_type": "code",
   "execution_count": 21,
   "id": "d4341362-19b4-4539-a80e-3f6bdc7ae707",
   "metadata": {},
   "outputs": [
    {
     "data": {
      "text/plain": [
       "np.float64(0.5611436503102355)"
      ]
     },
     "execution_count": 21,
     "metadata": {},
     "output_type": "execute_result"
    }
   ],
   "source": [
    "emb_lst = llm2geneset.get_embeddings(client, pathways)\n",
    "similarity_matrix = cosine_similarity(emb_lst)\n",
    "np.percentile(similarity_matrix,97)"
   ]
  },
  {
   "cell_type": "code",
   "execution_count": 22,
   "id": "ff6b6aef-4b71-433a-89d8-3ca06e8515ea",
   "metadata": {},
   "outputs": [],
   "source": [
    "def filter_similar_items(text_list, similarity_matrix, threshold=0):\n",
    "    # filter items with similar meanings\n",
    "    # if 2 items are similar, keep the item with longer length\n",
    "    keep_indices = set(range(len(text_list)))  # Initialize with all indices\n",
    "\n",
    "    for i in range(len(text_list)):\n",
    "        for j in range(i + 1, len(text_list)):\n",
    "            if similarity_matrix[i][j] >= threshold:\n",
    "                if len(text_list[i]) >= len(text_list[j]):\n",
    "                    if j in keep_indices:\n",
    "                        keep_indices.remove(j)\n",
    "                else:\n",
    "                    if i in keep_indices:\n",
    "                        keep_indices.remove(i)\n",
    "    \n",
    "    return [text_list[i] for i in sorted(keep_indices)]\n"
   ]
  },
  {
   "cell_type": "code",
   "execution_count": 23,
   "id": "2f2277ab-98b8-40d9-b6a3-62ae927d73ad",
   "metadata": {},
   "outputs": [
    {
     "name": "stdout",
     "output_type": "stream",
     "text": [
      "Distinct items: [np.str_('Acetaldehyde metabolism'), np.str_('Acyl-CoA metabolic process'), np.str_('Adenosine Receptor Signaling Pathway'), np.str_('Aldosterone synthesis and secretion'), np.str_('Blood-brain Barrier Maintenance'), np.str_('Calcium Signaling in Neurons'), np.str_('Central Nervous System Development'), np.str_('Circadian Entrainment'), np.str_('Detoxification of drugs and alcohol'), np.str_('Fructose and mannose metabolism'), np.str_('Glucuronidation'), np.str_('Glutathione metabolism'), np.str_('Glycogen synthesis'), np.str_('Glyoxylate and dicarboxylate metabolism'), np.str_('Insulin-like growth factor signaling'), np.str_('Iron homeostasis'), np.str_('Kidney-bean lectin metabolic process'), np.str_('Linoleic acid metabolism'), np.str_('Lipid droplet organization'), np.str_('Lipoprotein particle clearance'), np.str_('Long-term Potentiation'), np.str_('Maintaining Neuronal Synaptic Structure'), np.str_('Memory Formation'), np.str_('Metabotropic Glutamate Receptor Group I Pathway'), np.str_('Microsomal ethanol oxidizing system'), np.str_('Mitochondrial fatty acid beta-oxidation'), np.str_('Mono-oxygenase activity'), np.str_('Myelination'), np.str_('Neurofibrillary Tangle Formation'), np.str_('Neuroinflammation'), np.str_('Neuronal Action Potential'), np.str_('Neuroplasticity'), np.str_('Neurotransmitter Release Cycle'), np.str_('Neurotrophin Signaling Pathway'), np.str_('Neurovascular Coupling'), np.str_('Nitrogen compound metabolic process'), np.str_('Oxidative deamination'), np.str_('P450 pathways'), np.str_('Pentose and glucuronate interconversions'), np.str_('Phosphatidylcholine biosynthesis'), np.str_('Pineal Gland Function'), np.str_('Primary bile acid biosynthesis'), np.str_('Programmed Cell Death in Neurons'), np.str_('Protein synthesis and degradation'), np.str_('Selenocompound metabolism'), np.str_('Serine family amino acid metabolic process'), np.str_('Urea cycle'), np.str_('Vitamin B12 metabolism')]\n"
     ]
    }
   ],
   "source": [
    "# Filter items\n",
    "threshold = np.percentile(similarity_matrix,97)\n",
    "distinct_items = filter_similar_items(pathways, similarity_matrix, threshold)\n",
    "\n",
    "print(\"Distinct items:\", distinct_items)"
   ]
  },
  {
   "cell_type": "code",
   "execution_count": 24,
   "id": "c6112e8f-f6dc-469c-9619-0288af46b262",
   "metadata": {},
   "outputs": [
    {
     "data": {
      "text/plain": [
       "48"
      ]
     },
     "execution_count": 24,
     "metadata": {},
     "output_type": "execute_result"
    }
   ],
   "source": [
    "len(distinct_items)"
   ]
  },
  {
   "cell_type": "code",
   "execution_count": 25,
   "id": "b007c8ad-d650-4fa4-aaeb-493dc6257ad7",
   "metadata": {},
   "outputs": [],
   "source": [
    "pathway_df = pathway_df[pathway_df.pathway.isin(distinct_items)].reset_index(drop=True)"
   ]
  },
  {
   "cell_type": "markdown",
   "id": "677960ec-6051-486b-b229-d4b62aea8b05",
   "metadata": {},
   "source": [
    "# Generate genes for the remaining pathways"
   ]
  },
  {
   "cell_type": "code",
   "execution_count": 28,
   "id": "f2e4c284-d1d6-4393-964f-4fd3b21fc40f",
   "metadata": {},
   "outputs": [],
   "source": [
    "model = \"gpt-3.5-turbo-0125\""
   ]
  },
  {
   "cell_type": "markdown",
   "id": "a789c934-cb64-469e-8163-c7a252daa0ca",
   "metadata": {},
   "source": [
    "## option1: using abstract to give context"
   ]
  },
  {
   "cell_type": "code",
   "execution_count": 27,
   "id": "338fbc42-40ea-4f2c-acbf-5a06429c728f",
   "metadata": {},
   "outputs": [
    {
     "name": "stderr",
     "output_type": "stream",
     "text": [
      "100%|███████████████████████████████████████████| 47/47 [00:23<00:00,  2.00it/s]\n"
     ]
    }
   ],
   "source": [
    "abstracts = await llm2geneset.efetch_pubmed_async([[i] for i in pathway_df.pmids.values])"
   ]
  },
  {
   "cell_type": "code",
   "execution_count": 29,
   "id": "3d8756c5-766e-4a4f-b9e5-d1dc965815e7",
   "metadata": {},
   "outputs": [
    {
     "name": "stderr",
     "output_type": "stream",
     "text": [
      "100%|███████████████████████████████████████████| 47/47 [00:04<00:00,  9.77it/s]\n"
     ]
    }
   ],
   "source": [
    "context = []\n",
    "for x in abstracts:\n",
    "    if len(x) > 0:\n",
    "        context.append(x[0]['abstract'])\n",
    "    else:\n",
    "        context.append(\"\")\n",
    "\n",
    "\n",
    "pathway_df[\"llm_single_relevant_abstract\"] = await llm2geneset.get_genes_context(aclient,\n",
    "                                                                              context,\n",
    "                                                                              pathway_df[\"pathway\"].values, \n",
    "                                                                              model = model)"
   ]
  },
  {
   "cell_type": "code",
   "execution_count": 31,
   "id": "b41e22e1-ec0e-4159-9879-67baf0d06099",
   "metadata": {},
   "outputs": [],
   "source": [
    "parsed_genes = [i['parsed_genes'] for i in pathway_df.llm_single_relevant_abstract.values]\n",
    "pathway_df['abstract_genes']=parsed_genes"
   ]
  },
  {
   "cell_type": "markdown",
   "id": "e0c95d92-39aa-4e8a-8536-bd181c973401",
   "metadata": {},
   "source": [
    "# option2: high confidence genes"
   ]
  },
  {
   "cell_type": "code",
   "execution_count": 30,
   "id": "fe779743-b6ae-4c41-bc11-d3f9e0a7e694",
   "metadata": {},
   "outputs": [
    {
     "name": "stderr",
     "output_type": "stream",
     "text": [
      "100%|███████████████████████████████████████████| 47/47 [00:06<00:00,  7.43it/s]\n"
     ]
    }
   ],
   "source": [
    "pathway_df[\"llm_conf\"] = await llm2geneset.get_genes(aclient,\n",
    "                                                     pathway_df[\"pathway\"].values,\n",
    "                                                     model=model, \n",
    "                                                     prompt_type='conf')"
   ]
  },
  {
   "cell_type": "code",
   "execution_count": 49,
   "id": "e5451dbf-1779-4696-9cdb-8a94487e6009",
   "metadata": {},
   "outputs": [],
   "source": [
    "genes = []\n",
    "for i in pathway_df.llm_conf.values:\n",
    "    high_conf_idx = np.where(np.array(i['conf']) == 'high')[0]\n",
    "    if len(high_conf_idx)>0:\n",
    "        high_conf_genes = np.array(i['parsed_genes'])[high_conf_idx]  \n",
    "        genes.append(list(high_conf_genes))\n",
    "    else:\n",
    "        genes.append([])\n"
   ]
  },
  {
   "cell_type": "code",
   "execution_count": 51,
   "id": "a7553389-4c42-4af0-9706-fa1c6f95f9ea",
   "metadata": {},
   "outputs": [],
   "source": [
    "pathway_df['conf_genes']=genes"
   ]
  },
  {
   "cell_type": "code",
   "execution_count": 53,
   "id": "1c89e1c6-e3a3-41ab-a92a-40da0c17b7ce",
   "metadata": {},
   "outputs": [
    {
     "data": {
      "text/html": [
       "<div>\n",
       "<style scoped>\n",
       "    .dataframe tbody tr th:only-of-type {\n",
       "        vertical-align: middle;\n",
       "    }\n",
       "\n",
       "    .dataframe tbody tr th {\n",
       "        vertical-align: top;\n",
       "    }\n",
       "\n",
       "    .dataframe thead th {\n",
       "        text-align: right;\n",
       "    }\n",
       "</style>\n",
       "<table border=\"1\" class=\"dataframe\">\n",
       "  <thead>\n",
       "    <tr style=\"text-align: right;\">\n",
       "      <th></th>\n",
       "      <th>pathway</th>\n",
       "      <th>pmids</th>\n",
       "      <th>llm_single_relevant_abstract</th>\n",
       "      <th>llm_conf</th>\n",
       "      <th>abstract_genes</th>\n",
       "      <th>conf_genes</th>\n",
       "    </tr>\n",
       "  </thead>\n",
       "  <tbody>\n",
       "    <tr>\n",
       "      <th>0</th>\n",
       "      <td>Acetaldehyde metabolism</td>\n",
       "      <td>17590995</td>\n",
       "      <td>{'parsed_genes': ['ALDH2', 'ADH1B', 'ADH1C', '...</td>\n",
       "      <td>{'parsed_genes': ['ALDH2', 'ADH1B', 'ADH1C', '...</td>\n",
       "      <td>[ALDH2, ADH1B, ADH1C, ADH4, ADH5, ADH7, CYP2E1]</td>\n",
       "      <td>[ALDH2, ADH1B, ADH1C]</td>\n",
       "    </tr>\n",
       "    <tr>\n",
       "      <th>1</th>\n",
       "      <td>Acyl-CoA metabolic process</td>\n",
       "      <td>30903449</td>\n",
       "      <td>{'parsed_genes': ['ACAA1', 'ACAA2', 'ACACB', '...</td>\n",
       "      <td>{'parsed_genes': ['ACAA1', 'ACAA2', 'ACADL', '...</td>\n",
       "      <td>[ACAA1, ACAA2, ACACB, ACADM, ACADS, ACADVL, AC...</td>\n",
       "      <td>[ACAA1, ACAA2, ACADL, ACADM, ACADS, ACADVL, AC...</td>\n",
       "    </tr>\n",
       "    <tr>\n",
       "      <th>2</th>\n",
       "      <td>Adenosine Receptor Signaling Pathway</td>\n",
       "      <td>27225921</td>\n",
       "      <td>{'parsed_genes': ['ADORA1', 'ADORA2A', 'ADORA2...</td>\n",
       "      <td>{'parsed_genes': ['ADORA1', 'ADORA2A', 'ADORA2...</td>\n",
       "      <td>[ADORA1, ADORA2A, ADORA2B, ADORA3, ADRA1A, ADR...</td>\n",
       "      <td>[ADORA1, ADORA2A, ADORA2B, ADORA3]</td>\n",
       "    </tr>\n",
       "    <tr>\n",
       "      <th>3</th>\n",
       "      <td>Aldosterone synthesis and secretion</td>\n",
       "      <td>19261742</td>\n",
       "      <td>{'parsed_genes': ['CYP11B1', 'CYP11B2', 'NR3C2...</td>\n",
       "      <td>{'parsed_genes': ['CYP11A1', 'CYP11B1', 'CYP11...</td>\n",
       "      <td>[CYP11B1, CYP11B2, NR3C2, HSD11B2]</td>\n",
       "      <td>[CYP11A1, CYP11B1, CYP11B2]</td>\n",
       "    </tr>\n",
       "    <tr>\n",
       "      <th>4</th>\n",
       "      <td>Blood-brain Barrier Maintenance</td>\n",
       "      <td>24309662</td>\n",
       "      <td>{'parsed_genes': ['ABCB1', 'ABCC1', 'ABCG2', '...</td>\n",
       "      <td>{'parsed_genes': ['CLDN5', 'OCLN', 'TJP1', 'JA...</td>\n",
       "      <td>[ABCB1, ABCC1, ABCG2, CLDN5, TJP1, SDC1, CDH5,...</td>\n",
       "      <td>[CLDN5, OCLN, TJP1]</td>\n",
       "    </tr>\n",
       "  </tbody>\n",
       "</table>\n",
       "</div>"
      ],
      "text/plain": [
       "                                pathway     pmids  \\\n",
       "0               Acetaldehyde metabolism  17590995   \n",
       "1            Acyl-CoA metabolic process  30903449   \n",
       "2  Adenosine Receptor Signaling Pathway  27225921   \n",
       "3   Aldosterone synthesis and secretion  19261742   \n",
       "4       Blood-brain Barrier Maintenance  24309662   \n",
       "\n",
       "                        llm_single_relevant_abstract  \\\n",
       "0  {'parsed_genes': ['ALDH2', 'ADH1B', 'ADH1C', '...   \n",
       "1  {'parsed_genes': ['ACAA1', 'ACAA2', 'ACACB', '...   \n",
       "2  {'parsed_genes': ['ADORA1', 'ADORA2A', 'ADORA2...   \n",
       "3  {'parsed_genes': ['CYP11B1', 'CYP11B2', 'NR3C2...   \n",
       "4  {'parsed_genes': ['ABCB1', 'ABCC1', 'ABCG2', '...   \n",
       "\n",
       "                                            llm_conf  \\\n",
       "0  {'parsed_genes': ['ALDH2', 'ADH1B', 'ADH1C', '...   \n",
       "1  {'parsed_genes': ['ACAA1', 'ACAA2', 'ACADL', '...   \n",
       "2  {'parsed_genes': ['ADORA1', 'ADORA2A', 'ADORA2...   \n",
       "3  {'parsed_genes': ['CYP11A1', 'CYP11B1', 'CYP11...   \n",
       "4  {'parsed_genes': ['CLDN5', 'OCLN', 'TJP1', 'JA...   \n",
       "\n",
       "                                      abstract_genes  \\\n",
       "0    [ALDH2, ADH1B, ADH1C, ADH4, ADH5, ADH7, CYP2E1]   \n",
       "1  [ACAA1, ACAA2, ACACB, ACADM, ACADS, ACADVL, AC...   \n",
       "2  [ADORA1, ADORA2A, ADORA2B, ADORA3, ADRA1A, ADR...   \n",
       "3                 [CYP11B1, CYP11B2, NR3C2, HSD11B2]   \n",
       "4  [ABCB1, ABCC1, ABCG2, CLDN5, TJP1, SDC1, CDH5,...   \n",
       "\n",
       "                                          conf_genes  \n",
       "0                              [ALDH2, ADH1B, ADH1C]  \n",
       "1  [ACAA1, ACAA2, ACADL, ACADM, ACADS, ACADVL, AC...  \n",
       "2                 [ADORA1, ADORA2A, ADORA2B, ADORA3]  \n",
       "3                        [CYP11A1, CYP11B1, CYP11B2]  \n",
       "4                                [CLDN5, OCLN, TJP1]  "
      ]
     },
     "execution_count": 53,
     "metadata": {},
     "output_type": "execute_result"
    }
   ],
   "source": [
    "pathway_df.head()"
   ]
  },
  {
   "cell_type": "markdown",
   "id": "4f1e7f63-8771-40d2-b163-b10c84719f60",
   "metadata": {},
   "source": [
    "# Save to GMT"
   ]
  },
  {
   "cell_type": "code",
   "execution_count": 59,
   "id": "abbc6070-8895-458d-ac69-9b089a3f32db",
   "metadata": {},
   "outputs": [],
   "source": [
    "def save_to_gmt(pathways,genes,gmt_file):\n",
    "    with open(gmt_file, 'w') as gf:\n",
    "        for gene_set_name, genes in zip(pathways,genes) :\n",
    "            # GMT format: gene_set_name\\tdescription\\tgene1\\tgene2\\tgene3...\n",
    "            if len(genes)>0:\n",
    "                genes = np.unique(genes)\n",
    "                line = f\"{gene_set_name}\\t\" + ''.join(f\"\\t{gene}\" for gene in genes)\n",
    "                gf.write(line + \"\\n\")    "
   ]
  },
  {
   "cell_type": "code",
   "execution_count": 60,
   "id": "ef0f7b90-3814-412a-8bb0-8b765ef2740b",
   "metadata": {},
   "outputs": [],
   "source": [
    "gmt_file = \"libs_human/gmt_tailored/\" + cond1+\"_\"+cond2+\"_abstract.txt\"\n",
    "save_to_gmt(pathway_df.pathway.values,pathway_df.abstract_genes.values,gmt_file)"
   ]
  },
  {
   "cell_type": "code",
   "execution_count": 61,
   "id": "e5919290-24fb-4d19-8fb7-ebcf1e48879d",
   "metadata": {},
   "outputs": [],
   "source": [
    "gmt_file = \"libs_human/gmt_tailored/\" + cond1+\"_\"+cond2+\"_highConf.txt\"\n",
    "save_to_gmt(pathway_df.pathway.values,pathway_df.conf_genes.values,gmt_file)"
   ]
  },
  {
   "cell_type": "code",
   "execution_count": null,
   "id": "4690d6de-276d-4d92-bbc6-48c7d7fe01e4",
   "metadata": {},
   "outputs": [],
   "source": []
  }
 ],
 "metadata": {
  "kernelspec": {
   "display_name": "Python 3 (ipykernel)",
   "language": "python",
   "name": "python3"
  },
  "language_info": {
   "codemirror_mode": {
    "name": "ipython",
    "version": 3
   },
   "file_extension": ".py",
   "mimetype": "text/x-python",
   "name": "python",
   "nbconvert_exporter": "python",
   "pygments_lexer": "ipython3",
   "version": "3.12.4"
  }
 },
 "nbformat": 4,
 "nbformat_minor": 5
}
