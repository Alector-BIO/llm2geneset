{
 "cells": [
  {
   "cell_type": "code",
   "execution_count": 18,
   "id": "a5767333-d743-4b58-9b8d-c3b1e4c69559",
   "metadata": {},
   "outputs": [],
   "source": [
    "import llm2geneset\n",
    "import json\n",
    "import time\n",
    "import openai\n",
    "import numpy as np\n",
    "import pandas as pd"
   ]
  },
  {
   "cell_type": "code",
   "execution_count": 2,
   "id": "2c78092a-1dd7-433f-bcb4-662c55b77a85",
   "metadata": {},
   "outputs": [],
   "source": [
    "aclient = openai.AsyncClient()"
   ]
  },
  {
   "cell_type": "code",
   "execution_count": 3,
   "id": "da8cf2ed-12cc-4b8d-8e53-4ca540feb20a",
   "metadata": {
    "scrolled": true
   },
   "outputs": [
    {
     "name": "stderr",
     "output_type": "stream",
     "text": [
      "100%|█████████████████████████████████████████████| 1/1 [00:05<00:00,  5.52s/it]\n",
      "100%|█████████████████████████████████████████████| 1/1 [00:06<00:00,  6.41s/it]\n"
     ]
    }
   ],
   "source": [
    "cond1 = \"parkinson's disease\"\n",
    "cond2 = \"matched controls\"\n",
    "\n",
    "pathways = await llm2geneset.get_pathways(aclient, cond1, cond2, n=50)"
   ]
  },
  {
   "cell_type": "code",
   "execution_count": 4,
   "id": "7fdebc2b-8891-4106-8416-4ca8b11a772b",
   "metadata": {},
   "outputs": [
    {
     "data": {
      "text/plain": [
       "95"
      ]
     },
     "execution_count": 4,
     "metadata": {},
     "output_type": "execute_result"
    }
   ],
   "source": [
    "len(pathways)"
   ]
  },
  {
   "cell_type": "code",
   "execution_count": 14,
   "id": "cbeac0c2-3a37-4bf4-9bae-98b074dce0a6",
   "metadata": {},
   "outputs": [
    {
     "data": {
      "text/plain": [
       "np.str_('Cell-cycle regulation')"
      ]
     },
     "execution_count": 14,
     "metadata": {},
     "output_type": "execute_result"
    }
   ],
   "source": [
    "pathways[12]"
   ]
  },
  {
   "cell_type": "code",
   "execution_count": 6,
   "id": "690235d2-7b96-48a3-bddc-8b00a75f9dd4",
   "metadata": {},
   "outputs": [],
   "source": [
    "queries = [p+f\" in {cond1}\" for p in pathways]  "
   ]
  },
  {
   "cell_type": "code",
   "execution_count": 7,
   "id": "825f816a-9191-4ddf-8dc4-9c13a2616840",
   "metadata": {},
   "outputs": [
    {
     "name": "stderr",
     "output_type": "stream",
     "text": [
      "100%|███████████████████████████████████████████| 95/95 [00:47<00:00,  2.01it/s]\n"
     ]
    }
   ],
   "source": [
    "pmids = await llm2geneset.esearch_async(queries, \"pubmed\", 1)"
   ]
  },
  {
   "cell_type": "code",
   "execution_count": 8,
   "id": "f35d3d3b-4e7b-4dda-9dc6-a0acf1c732f0",
   "metadata": {
    "scrolled": true
   },
   "outputs": [
    {
     "data": {
      "text/plain": [
       "[['34691027'],\n",
       " ['35447272'],\n",
       " ['35390677'],\n",
       " ['37892117'],\n",
       " ['30590010'],\n",
       " ['33589594'],\n",
       " ['31999942'],\n",
       " ['32726602'],\n",
       " ['36152810'],\n",
       " ['24252804'],\n",
       " ['34389279'],\n",
       " ['35435793'],\n",
       " ['35435793'],\n",
       " ['35260343'],\n",
       " ['31282427'],\n",
       " ['34729301'],\n",
       " ['36569603'],\n",
       " ['34784980'],\n",
       " ['33182554'],\n",
       " ['25553450'],\n",
       " ['37647388'],\n",
       " ['34389279'],\n",
       " ['34389279'],\n",
       " ['21303898'],\n",
       " ['37716354'],\n",
       " ['32048886'],\n",
       " ['26860955'],\n",
       " ['31583594'],\n",
       " ['22355802'],\n",
       " ['32854418'],\n",
       " ['32726602'],\n",
       " ['21303898'],\n",
       " ['37819757'],\n",
       " ['25124148'],\n",
       " ['25462288'],\n",
       " ['34695538'],\n",
       " ['34695538'],\n",
       " ['37351278'],\n",
       " ['32674367'],\n",
       " ['35848038'],\n",
       " ['32092326'],\n",
       " ['34739911'],\n",
       " ['35260343'],\n",
       " ['34739911'],\n",
       " ['35551349'],\n",
       " ['32576618'],\n",
       " ['37568205'],\n",
       " ['34691027'],\n",
       " ['27757833'],\n",
       " ['33321831'],\n",
       " ['23643800'],\n",
       " ['23643800'],\n",
       " ['23643800'],\n",
       " ['23643800'],\n",
       " ['34691027'],\n",
       " ['33894193'],\n",
       " ['31607362'],\n",
       " ['37048085'],\n",
       " ['33297340'],\n",
       " ['33182554'],\n",
       " ['31686637'],\n",
       " ['36839332'],\n",
       " ['34979259'],\n",
       " ['37210012'],\n",
       " ['31282427'],\n",
       " ['35910843'],\n",
       " ['36436571'],\n",
       " ['32150829'],\n",
       " ['37210012'],\n",
       " ['23643800'],\n",
       " ['32576618'],\n",
       " ['31593492'],\n",
       " ['32726602'],\n",
       " ['30853581'],\n",
       " ['34644545'],\n",
       " ['35688132'],\n",
       " ['23643800'],\n",
       " ['34221005'],\n",
       " ['35456966'],\n",
       " ['32726602'],\n",
       " ['32246801'],\n",
       " ['31460832'],\n",
       " ['31583594'],\n",
       " ['22761832'],\n",
       " ['35551349'],\n",
       " ['33053338'],\n",
       " ['35065714'],\n",
       " ['34733860'],\n",
       " ['17504139'],\n",
       " ['29471030'],\n",
       " ['34784980'],\n",
       " ['37201419'],\n",
       " ['30477246'],\n",
       " ['21303898'],\n",
       " ['37568205']]"
      ]
     },
     "execution_count": 8,
     "metadata": {},
     "output_type": "execute_result"
    }
   ],
   "source": [
    "pmids"
   ]
  },
  {
   "cell_type": "code",
   "execution_count": 17,
   "id": "6e6f8bbf-ff01-49f7-9944-df794bb5ddbe",
   "metadata": {},
   "outputs": [
    {
     "data": {
      "text/plain": [
       "69"
      ]
     },
     "execution_count": 17,
     "metadata": {},
     "output_type": "execute_result"
    }
   ],
   "source": [
    "# have repeated pmids\n",
    "# pathways that from the same pmid likely is the same pathway but with slight discription difference\n",
    "# need to delete the repeated pathways\n",
    "len(np.unique(pmids))"
   ]
  },
  {
   "cell_type": "code",
   "execution_count": 25,
   "id": "1e13396e-ca63-4a08-9d79-76d05128228d",
   "metadata": {},
   "outputs": [
    {
     "data": {
      "text/html": [
       "<div>\n",
       "<style scoped>\n",
       "    .dataframe tbody tr th:only-of-type {\n",
       "        vertical-align: middle;\n",
       "    }\n",
       "\n",
       "    .dataframe tbody tr th {\n",
       "        vertical-align: top;\n",
       "    }\n",
       "\n",
       "    .dataframe thead th {\n",
       "        text-align: right;\n",
       "    }\n",
       "</style>\n",
       "<table border=\"1\" class=\"dataframe\">\n",
       "  <thead>\n",
       "    <tr style=\"text-align: right;\">\n",
       "      <th></th>\n",
       "      <th>pathway</th>\n",
       "      <th>pmids</th>\n",
       "    </tr>\n",
       "  </thead>\n",
       "  <tbody>\n",
       "    <tr>\n",
       "      <th>0</th>\n",
       "      <td>Alpha-synuclein signaling</td>\n",
       "      <td>34691027</td>\n",
       "    </tr>\n",
       "    <tr>\n",
       "      <th>1</th>\n",
       "      <td>Amyloid precursor protein catabolic process</td>\n",
       "      <td>35447272</td>\n",
       "    </tr>\n",
       "    <tr>\n",
       "      <th>2</th>\n",
       "      <td>Apoptosis regulation</td>\n",
       "      <td>35390677</td>\n",
       "    </tr>\n",
       "    <tr>\n",
       "      <th>3</th>\n",
       "      <td>Autophagy</td>\n",
       "      <td>37892117</td>\n",
       "    </tr>\n",
       "    <tr>\n",
       "      <th>4</th>\n",
       "      <td>Autophagy-lysosome pathway</td>\n",
       "      <td>30590010</td>\n",
       "    </tr>\n",
       "  </tbody>\n",
       "</table>\n",
       "</div>"
      ],
      "text/plain": [
       "                                       pathway     pmids\n",
       "0                    Alpha-synuclein signaling  34691027\n",
       "1  Amyloid precursor protein catabolic process  35447272\n",
       "2                         Apoptosis regulation  35390677\n",
       "3                                    Autophagy  37892117\n",
       "4                   Autophagy-lysosome pathway  30590010"
      ]
     },
     "execution_count": 25,
     "metadata": {},
     "output_type": "execute_result"
    }
   ],
   "source": [
    "pathway_df = pd.DataFrame({'pathway':pathways, 'pmids':[i[0] for i in pmids]})\n",
    "pathway_df.head()"
   ]
  },
  {
   "cell_type": "code",
   "execution_count": 30,
   "id": "e6c4673b-b544-41e1-ace1-d16009b184f8",
   "metadata": {},
   "outputs": [
    {
     "data": {
      "text/html": [
       "<div>\n",
       "<style scoped>\n",
       "    .dataframe tbody tr th:only-of-type {\n",
       "        vertical-align: middle;\n",
       "    }\n",
       "\n",
       "    .dataframe tbody tr th {\n",
       "        vertical-align: top;\n",
       "    }\n",
       "\n",
       "    .dataframe thead th {\n",
       "        text-align: right;\n",
       "    }\n",
       "</style>\n",
       "<table border=\"1\" class=\"dataframe\">\n",
       "  <thead>\n",
       "    <tr style=\"text-align: right;\">\n",
       "      <th></th>\n",
       "      <th>pmids</th>\n",
       "      <th>pathway</th>\n",
       "    </tr>\n",
       "  </thead>\n",
       "  <tbody>\n",
       "    <tr>\n",
       "      <th>4</th>\n",
       "      <td>23643800</td>\n",
       "      <td>6</td>\n",
       "    </tr>\n",
       "    <tr>\n",
       "      <th>28</th>\n",
       "      <td>32726602</td>\n",
       "      <td>4</td>\n",
       "    </tr>\n",
       "    <tr>\n",
       "      <th>1</th>\n",
       "      <td>21303898</td>\n",
       "      <td>3</td>\n",
       "    </tr>\n",
       "    <tr>\n",
       "      <th>37</th>\n",
       "      <td>34389279</td>\n",
       "      <td>3</td>\n",
       "    </tr>\n",
       "    <tr>\n",
       "      <th>39</th>\n",
       "      <td>34691027</td>\n",
       "      <td>3</td>\n",
       "    </tr>\n",
       "    <tr>\n",
       "      <th>...</th>\n",
       "      <td>...</td>\n",
       "      <td>...</td>\n",
       "    </tr>\n",
       "    <tr>\n",
       "      <th>63</th>\n",
       "      <td>37351278</td>\n",
       "      <td>1</td>\n",
       "    </tr>\n",
       "    <tr>\n",
       "      <th>65</th>\n",
       "      <td>37647388</td>\n",
       "      <td>1</td>\n",
       "    </tr>\n",
       "    <tr>\n",
       "      <th>66</th>\n",
       "      <td>37716354</td>\n",
       "      <td>1</td>\n",
       "    </tr>\n",
       "    <tr>\n",
       "      <th>67</th>\n",
       "      <td>37819757</td>\n",
       "      <td>1</td>\n",
       "    </tr>\n",
       "    <tr>\n",
       "      <th>68</th>\n",
       "      <td>37892117</td>\n",
       "      <td>1</td>\n",
       "    </tr>\n",
       "  </tbody>\n",
       "</table>\n",
       "<p>69 rows × 2 columns</p>\n",
       "</div>"
      ],
      "text/plain": [
       "       pmids  pathway\n",
       "4   23643800        6\n",
       "28  32726602        4\n",
       "1   21303898        3\n",
       "37  34389279        3\n",
       "39  34691027        3\n",
       "..       ...      ...\n",
       "63  37351278        1\n",
       "65  37647388        1\n",
       "66  37716354        1\n",
       "67  37819757        1\n",
       "68  37892117        1\n",
       "\n",
       "[69 rows x 2 columns]"
      ]
     },
     "execution_count": 30,
     "metadata": {},
     "output_type": "execute_result"
    }
   ],
   "source": [
    "pathway_df.groupby('pmids').count().reset_index().sort_values('pathway', ascending=False)"
   ]
  },
  {
   "cell_type": "code",
   "execution_count": 32,
   "id": "b0566be1-0985-4de7-a027-c2d13a8a3d06",
   "metadata": {},
   "outputs": [
    {
     "data": {
      "text/html": [
       "<div>\n",
       "<style scoped>\n",
       "    .dataframe tbody tr th:only-of-type {\n",
       "        vertical-align: middle;\n",
       "    }\n",
       "\n",
       "    .dataframe tbody tr th {\n",
       "        vertical-align: top;\n",
       "    }\n",
       "\n",
       "    .dataframe thead th {\n",
       "        text-align: right;\n",
       "    }\n",
       "</style>\n",
       "<table border=\"1\" class=\"dataframe\">\n",
       "  <thead>\n",
       "    <tr style=\"text-align: right;\">\n",
       "      <th></th>\n",
       "      <th>pathway</th>\n",
       "      <th>pmids</th>\n",
       "    </tr>\n",
       "  </thead>\n",
       "  <tbody>\n",
       "    <tr>\n",
       "      <th>50</th>\n",
       "      <td>Mitochondrial dynamics</td>\n",
       "      <td>23643800</td>\n",
       "    </tr>\n",
       "    <tr>\n",
       "      <th>51</th>\n",
       "      <td>Mitochondrial dysfunction</td>\n",
       "      <td>23643800</td>\n",
       "    </tr>\n",
       "    <tr>\n",
       "      <th>52</th>\n",
       "      <td>Mitochondrial electron transport chain</td>\n",
       "      <td>23643800</td>\n",
       "    </tr>\n",
       "    <tr>\n",
       "      <th>53</th>\n",
       "      <td>Mitochondrial fission</td>\n",
       "      <td>23643800</td>\n",
       "    </tr>\n",
       "    <tr>\n",
       "      <th>69</th>\n",
       "      <td>Programmed cell death</td>\n",
       "      <td>23643800</td>\n",
       "    </tr>\n",
       "    <tr>\n",
       "      <th>76</th>\n",
       "      <td>Reactive oxygen species metabolic process</td>\n",
       "      <td>23643800</td>\n",
       "    </tr>\n",
       "  </tbody>\n",
       "</table>\n",
       "</div>"
      ],
      "text/plain": [
       "                                      pathway     pmids\n",
       "50                     Mitochondrial dynamics  23643800\n",
       "51                  Mitochondrial dysfunction  23643800\n",
       "52     Mitochondrial electron transport chain  23643800\n",
       "53                      Mitochondrial fission  23643800\n",
       "69                      Programmed cell death  23643800\n",
       "76  Reactive oxygen species metabolic process  23643800"
      ]
     },
     "execution_count": 32,
     "metadata": {},
     "output_type": "execute_result"
    }
   ],
   "source": [
    "pathway_df[pathway_df.pmids=='23643800']"
   ]
  },
  {
   "cell_type": "code",
   "execution_count": null,
   "id": "023e9097-670a-4a94-ad5c-e26821ea9ee7",
   "metadata": {},
   "outputs": [],
   "source": []
  },
  {
   "cell_type": "code",
   "execution_count": 9,
   "id": "338fbc42-40ea-4f2c-acbf-5a06429c728f",
   "metadata": {},
   "outputs": [
    {
     "name": "stderr",
     "output_type": "stream",
     "text": [
      "100%|███████████████████████████████████████████| 95/95 [00:47<00:00,  2.01it/s]\n"
     ]
    }
   ],
   "source": [
    "abstracts = await llm2geneset.efetch_pubmed_async(pmids)"
   ]
  },
  {
   "cell_type": "code",
   "execution_count": 10,
   "id": "7a62bd79-632e-4eb0-91a9-028078ebffd9",
   "metadata": {},
   "outputs": [
    {
     "data": {
      "text/plain": [
       "[[{'pmid': '34691027',\n",
       "   'title': \"Targeting Microglial α-Synuclein/TLRs/NF-kappaB/NLRP3 Inflammasome Axis in Parkinson's Disease.\",\n",
       "   'abstract': \" According to emerging studies, the excessive activation of microglia and the subsequent release of pro-inflammatory cytokines play important roles in the pathogenesis and progression of Parkinson's disease (PD). However, the exact mechanisms governing chronic neuroinflammation remain elusive. Findings demonstrate an elevated level of NLRP3 inflammasome in activated microglia in the substantia nigra of PD patients. Activated NLRP3 inflammasome aggravates the pathology and accelerates the progression of neurodegenerative diseases. Abnormal protein aggregation of α-synuclein (α-syn), a pathologically relevant protein of PD, were reported to activate the NLRP3 inflammasome of microglia through interaction with toll-like receptors (TLRs). This eventually releases pro-inflammatory cytokines through the translocation of nuclear factor kappa-B (NF-κB) and causes an impairment of mitochondria, thus damaging the dopaminergic neurons. Currently, therapeutic drugs for PD are primarily aimed at providing relief from its clinical symptoms, and there are no well-established strategies to halt or reverse this disease. In this review, we aimed to update existing knowledge on the role of the α-syn/TLRs/NF-κB/NLRP3 inflammasome axis and microglial activation in PD. In addition, this review summarizes recent progress on the α-syn/TLRs/NF-κB/NLRP3 inflammasome axis of microglia as a potential target for PD treatment by inhibiting microglial activation.\",\n",
       "   'doi': '10.3389/fimmu.2021.719807',\n",
       "   'pmc': 'PMC8531525'}],\n",
       " [{'pmid': '35447272',\n",
       "   'title': 'Amyloid β, Tau, and α-Synuclein aggregates in the pathogenesis, prognosis, and therapeutics for neurodegenerative diseases.',\n",
       "   'abstract': \" Aggregation of specific proteins are histopathological hallmarks of several neurodegenerative diseases, such as, Amyloid β (Aβ) plaques and tau neurofibrillary tangles in Alzheimer's disease (AD); morphologically different inclusions of ratiometric 3 repeat (3\\xa0R) and 4 repeat (4\\xa0R) tau isoforms in progressive supranuclear palsy (PSP), corticobasal degeneration (CBD), and Pick's disease (PiD); α-Synuclein (α-Syn) containing Lewy bodies (LBs) and dystrophic Lewy neurites (LNs) in Parkinson's disease (PD) and dementia with Lewy bodies (DLB). However, mixed brain protein pathologies have been frequently observed in many of these diseases and in normal aging brains, among which Aβ/tau and tau/α-Syn crosstalks have received increased attention. Interestingly, studies have also shown synergistic interplay among Aβ, tau, and α-Syn in several neurodegenerative diseases, suggesting a protein triumvirate. In this review, we summarize the emerging evidence of Aβ, tau, and α-Syn aggregation in pathophysiology, and their overlap in a spectrum of neurodegenerative diseases including AD, PSP, PiD, CBD, PD and DLB. We discuss the prognostic advancements made in biomarker and imaging techniques in the triumvirate proteinopathies. Finally, we discuss the combined therapeutic modality involving biomarkers and imaging techniques for future combinatorial immunotherapeutic targeting more than one protein aggregates. We hope that such a multitarget therapeutic approach will have synergistic or additive effects to manage neurodegenerative diseases with two or more protein pathologies that might uncover a promising strategy for personalized combination therapies. Managing neurodegenerative diseases by optimizing the diagnostic criteria and the correct combination of immunotherapies will be a key factor in the success of future treatment.\",\n",
       "   'doi': '10.1016/j.pneurobio.2022.102270',\n",
       "   'pmc': ''}],\n",
       " [{'pmid': '35390677',\n",
       "   'title': \"Neuronal SH2B1 attenuates apoptosis in an MPTP mouse model of Parkinson's disease via promoting PLIN4 degradation.\",\n",
       "   'abstract': \" The incidence of Parkinson's disease (PD) has increased tremendously, especially in the aged population and people with metabolic dysfunction; however, its underlying molecular mechanisms remain unclear. SH2B1, an intracellular adaptor protein, contributes to the signal transduction of several receptor tyrosine kinases and exerts beneficial metabolic effects for body weight regulation; however, whether SH2B1 plays a major role in pathological neurodegeneration in PD has not yet been investigated. This study aimed to investigate the effects of SH2B1 in 1-methyl-4-phenyl-1,2,3,6-tetrahydropyridine (MPTP)-induced PD mice with Sh2b1 deficiency or neuron-specific Sh2b1 overexpression. Cellular and molecular mechanisms were elucidated using human dopaminergic neuron SH-SY5Y cells analysed. We found that SH2B1 expression was confirmed to be downregulated in the blood samples of PD patients and in the brains of mice with MPTP-induced chronic PD. Sh2b1 deficiency caused marked exacerbation of behavioural defects and increased neuronal apoptosis in MPTP-treated mice, whereas restoration of neuron-specific Sh2b1 expression significantly reversed these effects. Similar results were observed in MPP\\xa0+\\xa0-treated SH-SY5Y cells. Mechanistically, upon binding to heat shock cognate 70 (HSC70), SH2B1 promotes HSC70-related recognition and PLIN4 lysosomal translocation and degradation, thus suppressing lipid peroxidation stress in the brains of PD mice. Adeno-associated virus-mediated rescue of neuronal HSC70 expression functionally alleviated the neuropathology of PD in wild-type but not in Sh2b1-deficient mice. This is the first study to examine the molecular underpinnings of SH2B1 against MPTP-induced neurodegeneration through cell autonomous promotion of neuronal survival in an in vivo PD model. Our findings reveal that SH2B1 antagonizes neurodegenerative pathology in PD via the SH2B1-HSC70-PLIN4 axis.\",\n",
       "   'doi': '10.1016/j.redox.2022.102308',\n",
       "   'pmc': 'PMC8987406'}]]"
      ]
     },
     "execution_count": 10,
     "metadata": {},
     "output_type": "execute_result"
    }
   ],
   "source": [
    "abstracts[0:3]"
   ]
  },
  {
   "cell_type": "code",
   "execution_count": 9,
   "id": "a7e72a93-7a7d-48f2-9ba1-af8818efda76",
   "metadata": {},
   "outputs": [
    {
     "data": {
      "text/plain": [
       "'Glycodelin and beta-lactoglobulin, lipocalins with a high structural similarity, differ in ligand binding properties.'"
      ]
     },
     "execution_count": 9,
     "metadata": {},
     "output_type": "execute_result"
    }
   ],
   "source": [
    "abstracts[0][0]['title']"
   ]
  },
  {
   "cell_type": "code",
   "execution_count": 10,
   "id": "d1959950-f92e-4f13-94bf-9d5e91380be2",
   "metadata": {},
   "outputs": [
    {
     "data": {
      "text/plain": [
       "' Human glycodelin, a lipocalin with a high amino acid similarity to beta-lactoglobulins, appears as various glycoforms with different biological activities in endometrium (glycodelin-A) and seminal plasma (glycodelin-S). We found that the structures of these glycodelins and beta-lactoglobulin are similar. Despite this structural similarity, unlike beta-lactoglobulin, glycodelin-A binds neither retinoic acid nor retinol. It was impossible to detect any endogenous retinoids or steroids in any of the two purified glycodelins. Both their glycoforms share similar thermodynamic parameters of reversible denaturation suggesting that native folding of glycodelin-A and glycodelin-S is not influenced by the differences in glycosylation or by ligand binding.'"
      ]
     },
     "execution_count": 10,
     "metadata": {},
     "output_type": "execute_result"
    }
   ],
   "source": [
    "abstracts[0][0]['abstract']"
   ]
  },
  {
   "cell_type": "code",
   "execution_count": null,
   "id": "b77f1594-65d2-4684-a25c-e84be6259d08",
   "metadata": {},
   "outputs": [],
   "source": [
    "\n",
    "        abstracts = await llm2geneset.efetch_pubmed_async(pmids)\n",
    "        end_time = time.time()\n",
    "        gen_res[\"single_relevant_abstract\"] = abstracts\n",
    "        gen_res[\"single_relevant_abstract_searchtime\"] = end_time - start_time\n",
    "        with open('libs_human/' + model + '/' + lib_name + '.json', 'w') as json_file:\n",
    "            json.dump(gen_res, json_file, indent=4)\n"
   ]
  },
  {
   "cell_type": "code",
   "execution_count": null,
   "id": "5f1e1667-1201-4a77-9820-3f537598b6f0",
   "metadata": {},
   "outputs": [],
   "source": []
  }
 ],
 "metadata": {
  "kernelspec": {
   "display_name": "Python 3 (ipykernel)",
   "language": "python",
   "name": "python3"
  },
  "language_info": {
   "codemirror_mode": {
    "name": "ipython",
    "version": 3
   },
   "file_extension": ".py",
   "mimetype": "text/x-python",
   "name": "python",
   "nbconvert_exporter": "python",
   "pygments_lexer": "ipython3",
   "version": "3.12.4"
  }
 },
 "nbformat": 4,
 "nbformat_minor": 5
}
