{
 "cells": [
  {
   "cell_type": "code",
   "execution_count": 1,
   "id": "a5767333-d743-4b58-9b8d-c3b1e4c69559",
   "metadata": {},
   "outputs": [],
   "source": [
    "import llm2geneset\n",
    "import json\n",
    "import time\n",
    "import openai\n",
    "import numpy as np\n",
    "import pandas as pd\n",
    "from sklearn.metrics.pairwise import cosine_similarity\n",
    "aclient = openai.AsyncClient()\n",
    "client = openai.OpenAI()"
   ]
  },
  {
   "cell_type": "markdown",
   "id": "41146a26-a160-43e3-9d59-1b7925d5d6d3",
   "metadata": {},
   "source": [
    "# Generate pathways"
   ]
  },
  {
   "cell_type": "code",
   "execution_count": 2,
   "id": "da8cf2ed-12cc-4b8d-8e53-4ca540feb20a",
   "metadata": {
    "scrolled": true
   },
   "outputs": [
    {
     "name": "stderr",
     "output_type": "stream",
     "text": [
      "100%|█████████████████████████████████████████████| 1/1 [00:10<00:00, 10.64s/it]\n",
      "100%|█████████████████████████████████████████████| 1/1 [00:09<00:00,  9.46s/it]\n"
     ]
    }
   ],
   "source": [
    "cond1 = \"Brain\"\n",
    "cond2 = \"Liver\"\n",
    "\n",
    "pathways = await llm2geneset.get_pathways(aclient, cond1, cond2, n=50)"
   ]
  },
  {
   "cell_type": "code",
   "execution_count": 3,
   "id": "7fdebc2b-8891-4106-8416-4ca8b11a772b",
   "metadata": {},
   "outputs": [
    {
     "data": {
      "text/plain": [
       "101"
      ]
     },
     "execution_count": 3,
     "metadata": {},
     "output_type": "execute_result"
    }
   ],
   "source": [
    "len(pathways)"
   ]
  },
  {
   "cell_type": "markdown",
   "id": "1bd5e797-1c8d-4f03-840e-9619cb07a598",
   "metadata": {},
   "source": [
    "# Search PubMed to find supporting evidence for the pathways"
   ]
  },
  {
   "cell_type": "code",
   "execution_count": 4,
   "id": "690235d2-7b96-48a3-bddc-8b00a75f9dd4",
   "metadata": {},
   "outputs": [],
   "source": [
    "queries1 = [p+f\" in {cond1}\" for p in pathways]\n",
    "queries2 = [p+f\" in {cond2}\" for p in pathways]  "
   ]
  },
  {
   "cell_type": "code",
   "execution_count": 5,
   "id": "825f816a-9191-4ddf-8dc4-9c13a2616840",
   "metadata": {},
   "outputs": [
    {
     "name": "stderr",
     "output_type": "stream",
     "text": [
      "100%|█████████████████████████████████████████| 101/101 [00:50<00:00,  2.00it/s]\n",
      "100%|█████████████████████████████████████████| 101/101 [00:50<00:00,  2.00it/s]\n"
     ]
    }
   ],
   "source": [
    "pmids1 = await llm2geneset.esearch_async(queries1, \"pubmed\", 1)\n",
    "pmids2 = await llm2geneset.esearch_async(queries2, \"pubmed\", 1)"
   ]
  },
  {
   "cell_type": "code",
   "execution_count": 6,
   "id": "5678c27d-c269-4758-8970-8b32d8403cba",
   "metadata": {},
   "outputs": [],
   "source": [
    "pmids_cleaned1 = []\n",
    "for i in pmids1:\n",
    "    if len(i)>0:\n",
    "        pmids_cleaned1.append(i[0])\n",
    "    else:\n",
    "        pmids_cleaned1.append(float('nan'))"
   ]
  },
  {
   "cell_type": "code",
   "execution_count": 7,
   "id": "1db33c11-098a-4bfe-9ee9-57bc825aa226",
   "metadata": {},
   "outputs": [],
   "source": [
    "pmids_cleaned2 = []\n",
    "for i in pmids2:\n",
    "    if len(i)>0:\n",
    "        pmids_cleaned2.append(i[0])\n",
    "    else:\n",
    "        pmids_cleaned2.append(float('nan'))"
   ]
  },
  {
   "cell_type": "code",
   "execution_count": 8,
   "id": "1e13396e-ca63-4a08-9d79-76d05128228d",
   "metadata": {},
   "outputs": [
    {
     "data": {
      "text/html": [
       "<div>\n",
       "<style scoped>\n",
       "    .dataframe tbody tr th:only-of-type {\n",
       "        vertical-align: middle;\n",
       "    }\n",
       "\n",
       "    .dataframe tbody tr th {\n",
       "        vertical-align: top;\n",
       "    }\n",
       "\n",
       "    .dataframe thead th {\n",
       "        text-align: right;\n",
       "    }\n",
       "</style>\n",
       "<table border=\"1\" class=\"dataframe\">\n",
       "  <thead>\n",
       "    <tr style=\"text-align: right;\">\n",
       "      <th></th>\n",
       "      <th>pathway</th>\n",
       "      <th>pmids_cond1</th>\n",
       "      <th>pmids_cond2</th>\n",
       "    </tr>\n",
       "  </thead>\n",
       "  <tbody>\n",
       "    <tr>\n",
       "      <th>0</th>\n",
       "      <td>Alcohol metabolism</td>\n",
       "      <td>34702580</td>\n",
       "      <td>32029510</td>\n",
       "    </tr>\n",
       "    <tr>\n",
       "      <th>1</th>\n",
       "      <td>Alpha Synuclein Pathway</td>\n",
       "      <td>32355963</td>\n",
       "      <td>37487948</td>\n",
       "    </tr>\n",
       "    <tr>\n",
       "      <th>2</th>\n",
       "      <td>Amino acid catabolism</td>\n",
       "      <td>28261376</td>\n",
       "      <td>35568239</td>\n",
       "    </tr>\n",
       "    <tr>\n",
       "      <th>3</th>\n",
       "      <td>Amygdala Development</td>\n",
       "      <td>32204831</td>\n",
       "      <td>35654975</td>\n",
       "    </tr>\n",
       "    <tr>\n",
       "      <th>4</th>\n",
       "      <td>Amyloid Precursor Protein Metabolism</td>\n",
       "      <td>21456963</td>\n",
       "      <td>37402372</td>\n",
       "    </tr>\n",
       "  </tbody>\n",
       "</table>\n",
       "</div>"
      ],
      "text/plain": [
       "                                pathway pmids_cond1 pmids_cond2\n",
       "0                    Alcohol metabolism    34702580    32029510\n",
       "1               Alpha Synuclein Pathway    32355963    37487948\n",
       "2                 Amino acid catabolism    28261376    35568239\n",
       "3                  Amygdala Development    32204831    35654975\n",
       "4  Amyloid Precursor Protein Metabolism    21456963    37402372"
      ]
     },
     "execution_count": 8,
     "metadata": {},
     "output_type": "execute_result"
    }
   ],
   "source": [
    "pathway_df = pd.DataFrame({'pathway':pathways, 'pmids_cond1':pmids_cleaned1,'pmids_cond2':pmids_cleaned2})\n",
    "pathway_df.head()"
   ]
  },
  {
   "cell_type": "code",
   "execution_count": 9,
   "id": "a2e12eb7-9c47-4ffe-8c18-8cc9fee9dfce",
   "metadata": {},
   "outputs": [
    {
     "data": {
      "text/plain": [
       "101"
      ]
     },
     "execution_count": 9,
     "metadata": {},
     "output_type": "execute_result"
    }
   ],
   "source": [
    "len(pathway_df)"
   ]
  },
  {
   "cell_type": "markdown",
   "id": "02d0a2a0-cd45-4a26-ae5c-2053fa9bc9d6",
   "metadata": {},
   "source": [
    "# Drop pathways if can't find supporting PubMed article"
   ]
  },
  {
   "cell_type": "code",
   "execution_count": 10,
   "id": "c86bf276-c2b2-4efe-b380-a2043c75d071",
   "metadata": {},
   "outputs": [],
   "source": [
    "pathway_df = pathway_df.dropna().reset_index(drop=True)"
   ]
  },
  {
   "cell_type": "code",
   "execution_count": 11,
   "id": "00b2ca46-5473-456c-a504-0c2bff4a22a4",
   "metadata": {},
   "outputs": [
    {
     "data": {
      "text/plain": [
       "101"
      ]
     },
     "execution_count": 11,
     "metadata": {},
     "output_type": "execute_result"
    }
   ],
   "source": [
    "len(pathway_df)"
   ]
  },
  {
   "cell_type": "markdown",
   "id": "20e34572-c86a-4a57-9d7e-9d707f5f4fb9",
   "metadata": {},
   "source": [
    "# Filter pathways that are too similar"
   ]
  },
  {
   "cell_type": "code",
   "execution_count": 12,
   "id": "d4341362-19b4-4539-a80e-3f6bdc7ae707",
   "metadata": {},
   "outputs": [
    {
     "data": {
      "text/plain": [
       "np.float64(0.5565708744653948)"
      ]
     },
     "execution_count": 12,
     "metadata": {},
     "output_type": "execute_result"
    }
   ],
   "source": [
    "emb_lst = llm2geneset.get_embeddings(client, pathways)\n",
    "similarity_matrix = cosine_similarity(emb_lst)\n",
    "np.percentile(similarity_matrix,97)"
   ]
  },
  {
   "cell_type": "code",
   "execution_count": 13,
   "id": "ff6b6aef-4b71-433a-89d8-3ca06e8515ea",
   "metadata": {},
   "outputs": [],
   "source": [
    "def filter_similar_items(text_list, similarity_matrix, threshold=0):\n",
    "    # filter items with similar meanings\n",
    "    # if 2 items are similar, keep the item with longer length\n",
    "    keep_indices = set(range(len(text_list)))  # Initialize with all indices\n",
    "\n",
    "    for i in range(len(text_list)):\n",
    "        for j in range(i + 1, len(text_list)):\n",
    "            if similarity_matrix[i][j] >= threshold:\n",
    "                if len(text_list[i]) >= len(text_list[j]):\n",
    "                    if j in keep_indices:\n",
    "                        keep_indices.remove(j)\n",
    "                else:\n",
    "                    if i in keep_indices:\n",
    "                        keep_indices.remove(i)\n",
    "    \n",
    "    return [text_list[i] for i in sorted(keep_indices)]\n"
   ]
  },
  {
   "cell_type": "code",
   "execution_count": 14,
   "id": "2f2277ab-98b8-40d9-b6a3-62ae927d73ad",
   "metadata": {},
   "outputs": [
    {
     "name": "stdout",
     "output_type": "stream",
     "text": [
      "Distinct items: [np.str_('Alpha Synuclein Pathway'), np.str_('Amino acid catabolism'), np.str_('Amyloid Precursor Protein Metabolism'), np.str_('Axon Regeneration'), np.str_('Behavioral Response to Stimulus'), np.str_('Bipolar Cell Differentiation'), np.str_('Blood-Brain Barrier Integrity'), np.str_('Calcium Signaling in Neurons'), np.str_('Carbohydrate metabolism'), np.str_('Circadian Rhythm'), np.str_('Coagulation cascade'), np.str_('Cognitive Processes'), np.str_('Complement activation'), np.str_('Copper homeostasis'), np.str_('Endobiotic metabolism'), np.str_('Endocytosis in Neuronal Cells'), np.str_('Fatty acid oxidation'), np.str_('GABAergic Synapse'), np.str_('Glycogen synthesis'), np.str_('Glycosylation'), np.str_('Hippocampus Development'), np.str_('Hormone biosynthetic process'), np.str_('Insulin receptor signaling pathway'), np.str_('Memory and Learning'), np.str_('Metabolism of xenobiotics'), np.str_('Microglial Cell Activation'), np.str_('Mitochondrial Function in Neurons'), np.str_('Myelination'), np.str_('Neural Stem Cell Maintenance'), np.str_('Neural Tube Closure'), np.str_('Neuronal Action Potential'), np.str_('Neurotransmitter Secretion'), np.str_('Notch Signaling in Neural Development'), np.str_('Olfactory Transduction'), np.str_('Oligodendrocyte Differentiation'), np.str_('Ornithine cycle'), np.str_('Pentose phosphate pathway'), np.str_('Peripheral Nervous System Development'), np.str_('Phase II reactions (conjugation)'), np.str_('Plasticity at Synapses'), np.str_('Pyrimidine metabolism'), np.str_('Reactive Oxygen Species Detoxification in Neurons'), np.str_('Retinoic acid metabolism'), np.str_('Sensory Perception of Light'), np.str_('Serotonin Metabolism'), np.str_('Sulfation pathway'), np.str_('Synapse Organization'), np.str_('Synaptic Vesicle Cycle'), np.str_('Synthesis of apolipoproteins'), np.str_('Synthesis of non-essential amino acids'), np.str_('Tau Protein Binding'), np.str_('Vitamin D metabolism')]\n"
     ]
    }
   ],
   "source": [
    "# Filter items\n",
    "threshold = np.percentile(similarity_matrix,97)\n",
    "distinct_items = filter_similar_items(pathways, similarity_matrix, threshold)\n",
    "\n",
    "print(\"Distinct items:\", distinct_items)"
   ]
  },
  {
   "cell_type": "code",
   "execution_count": 15,
   "id": "c6112e8f-f6dc-469c-9619-0288af46b262",
   "metadata": {},
   "outputs": [
    {
     "data": {
      "text/plain": [
       "52"
      ]
     },
     "execution_count": 15,
     "metadata": {},
     "output_type": "execute_result"
    }
   ],
   "source": [
    "len(distinct_items)"
   ]
  },
  {
   "cell_type": "code",
   "execution_count": 16,
   "id": "b007c8ad-d650-4fa4-aaeb-493dc6257ad7",
   "metadata": {},
   "outputs": [],
   "source": [
    "pathway_df = pathway_df[pathway_df.pathway.isin(distinct_items)].reset_index(drop=True)"
   ]
  },
  {
   "cell_type": "markdown",
   "id": "677960ec-6051-486b-b229-d4b62aea8b05",
   "metadata": {},
   "source": [
    "# Generate genes for the remaining pathways"
   ]
  },
  {
   "cell_type": "code",
   "execution_count": 17,
   "id": "f2e4c284-d1d6-4393-964f-4fd3b21fc40f",
   "metadata": {},
   "outputs": [],
   "source": [
    "model = \"gpt-3.5-turbo-0125\""
   ]
  },
  {
   "cell_type": "markdown",
   "id": "a789c934-cb64-469e-8163-c7a252daa0ca",
   "metadata": {},
   "source": [
    "## option1: using abstract to give context"
   ]
  },
  {
   "cell_type": "code",
   "execution_count": 18,
   "id": "338fbc42-40ea-4f2c-acbf-5a06429c728f",
   "metadata": {},
   "outputs": [
    {
     "name": "stderr",
     "output_type": "stream",
     "text": [
      "100%|███████████████████████████████████████████| 52/52 [00:25<00:00,  2.02it/s]\n"
     ]
    }
   ],
   "source": [
    "abstracts = await llm2geneset.efetch_pubmed_async([[i] for i in pathway_df.pmids_cond1.values])"
   ]
  },
  {
   "cell_type": "code",
   "execution_count": 19,
   "id": "3d8756c5-766e-4a4f-b9e5-d1dc965815e7",
   "metadata": {},
   "outputs": [
    {
     "name": "stderr",
     "output_type": "stream",
     "text": [
      "100%|███████████████████████████████████████████| 52/52 [00:09<00:00,  5.44it/s]\n"
     ]
    }
   ],
   "source": [
    "context = []\n",
    "for x in abstracts:\n",
    "    if len(x) > 0:\n",
    "        context.append(x[0]['abstract'])\n",
    "    else:\n",
    "        context.append(\"\")\n",
    "\n",
    "\n",
    "pathway_df[\"llm_single_relevant_abstract\"] = await llm2geneset.get_genes_context(aclient,\n",
    "                                                                              context,\n",
    "                                                                              pathway_df[\"pathway\"].values, \n",
    "                                                                              model = model)"
   ]
  },
  {
   "cell_type": "code",
   "execution_count": 20,
   "id": "b41e22e1-ec0e-4159-9879-67baf0d06099",
   "metadata": {},
   "outputs": [],
   "source": [
    "parsed_genes = [i['parsed_genes'] for i in pathway_df.llm_single_relevant_abstract.values]\n",
    "pathway_df['abstract_genes_cond1']=parsed_genes"
   ]
  },
  {
   "cell_type": "code",
   "execution_count": 21,
   "id": "7246cc6f-eb96-4cfb-a532-6031528ec78a",
   "metadata": {},
   "outputs": [
    {
     "data": {
      "text/html": [
       "<div>\n",
       "<style scoped>\n",
       "    .dataframe tbody tr th:only-of-type {\n",
       "        vertical-align: middle;\n",
       "    }\n",
       "\n",
       "    .dataframe tbody tr th {\n",
       "        vertical-align: top;\n",
       "    }\n",
       "\n",
       "    .dataframe thead th {\n",
       "        text-align: right;\n",
       "    }\n",
       "</style>\n",
       "<table border=\"1\" class=\"dataframe\">\n",
       "  <thead>\n",
       "    <tr style=\"text-align: right;\">\n",
       "      <th></th>\n",
       "      <th>pathway</th>\n",
       "      <th>pmids_cond1</th>\n",
       "      <th>pmids_cond2</th>\n",
       "      <th>llm_single_relevant_abstract</th>\n",
       "      <th>abstract_genes_cond1</th>\n",
       "    </tr>\n",
       "  </thead>\n",
       "  <tbody>\n",
       "    <tr>\n",
       "      <th>0</th>\n",
       "      <td>Alpha Synuclein Pathway</td>\n",
       "      <td>32355963</td>\n",
       "      <td>37487948</td>\n",
       "      <td>{'parsed_genes': ['SNCA', 'PELI1', 'LAMP2', 'C...</td>\n",
       "      <td>[SNCA, PELI1, LAMP2, CD11b]</td>\n",
       "    </tr>\n",
       "    <tr>\n",
       "      <th>1</th>\n",
       "      <td>Amino acid catabolism</td>\n",
       "      <td>28261376</td>\n",
       "      <td>35568239</td>\n",
       "      <td>{'parsed_genes': ['ACAT1', 'ACO1', 'ALDH2', 'A...</td>\n",
       "      <td>[ACAT1, ACO1, ALDH2, ALDH9A1, ASAH1, ASL, ASS1...</td>\n",
       "    </tr>\n",
       "    <tr>\n",
       "      <th>2</th>\n",
       "      <td>Amyloid Precursor Protein Metabolism</td>\n",
       "      <td>21456963</td>\n",
       "      <td>37402372</td>\n",
       "      <td>{'parsed_genes': ['APP', 'PSEN1', 'PSEN2', 'AD...</td>\n",
       "      <td>[APP, PSEN1, PSEN2, ADAM10, BACE1, BACE2]</td>\n",
       "    </tr>\n",
       "    <tr>\n",
       "      <th>3</th>\n",
       "      <td>Axon Regeneration</td>\n",
       "      <td>19822144</td>\n",
       "      <td>30509565</td>\n",
       "      <td>{'parsed_genes': ['MAG', 'GD1a', 'GT1b'], 'rea...</td>\n",
       "      <td>[MAG, GD1a, GT1b]</td>\n",
       "    </tr>\n",
       "    <tr>\n",
       "      <th>4</th>\n",
       "      <td>Behavioral Response to Stimulus</td>\n",
       "      <td>17956738</td>\n",
       "      <td>21868631</td>\n",
       "      <td>{'parsed_genes': ['Drd2', 'Th', 'Fos', 'Bdnf',...</td>\n",
       "      <td>[Drd2, Th, Fos, Bdnf, Creb1, Camk2a]</td>\n",
       "    </tr>\n",
       "  </tbody>\n",
       "</table>\n",
       "</div>"
      ],
      "text/plain": [
       "                                pathway pmids_cond1 pmids_cond2  \\\n",
       "0               Alpha Synuclein Pathway    32355963    37487948   \n",
       "1                 Amino acid catabolism    28261376    35568239   \n",
       "2  Amyloid Precursor Protein Metabolism    21456963    37402372   \n",
       "3                     Axon Regeneration    19822144    30509565   \n",
       "4       Behavioral Response to Stimulus    17956738    21868631   \n",
       "\n",
       "                        llm_single_relevant_abstract  \\\n",
       "0  {'parsed_genes': ['SNCA', 'PELI1', 'LAMP2', 'C...   \n",
       "1  {'parsed_genes': ['ACAT1', 'ACO1', 'ALDH2', 'A...   \n",
       "2  {'parsed_genes': ['APP', 'PSEN1', 'PSEN2', 'AD...   \n",
       "3  {'parsed_genes': ['MAG', 'GD1a', 'GT1b'], 'rea...   \n",
       "4  {'parsed_genes': ['Drd2', 'Th', 'Fos', 'Bdnf',...   \n",
       "\n",
       "                                abstract_genes_cond1  \n",
       "0                        [SNCA, PELI1, LAMP2, CD11b]  \n",
       "1  [ACAT1, ACO1, ALDH2, ALDH9A1, ASAH1, ASL, ASS1...  \n",
       "2          [APP, PSEN1, PSEN2, ADAM10, BACE1, BACE2]  \n",
       "3                                  [MAG, GD1a, GT1b]  \n",
       "4               [Drd2, Th, Fos, Bdnf, Creb1, Camk2a]  "
      ]
     },
     "execution_count": 21,
     "metadata": {},
     "output_type": "execute_result"
    }
   ],
   "source": [
    "pathway_df.head()"
   ]
  },
  {
   "cell_type": "code",
   "execution_count": 22,
   "id": "be2b8a36-b835-4972-8552-9afaa85cb2a2",
   "metadata": {},
   "outputs": [
    {
     "name": "stderr",
     "output_type": "stream",
     "text": [
      "100%|███████████████████████████████████████████| 52/52 [00:25<00:00,  2.02it/s]\n"
     ]
    }
   ],
   "source": [
    "abstracts = await llm2geneset.efetch_pubmed_async([[i] for i in pathway_df.pmids_cond2.values])"
   ]
  },
  {
   "cell_type": "code",
   "execution_count": 23,
   "id": "dc082c22-e8fe-4d02-a265-a6e8570538b3",
   "metadata": {},
   "outputs": [
    {
     "name": "stderr",
     "output_type": "stream",
     "text": [
      "100%|███████████████████████████████████████████| 52/52 [00:09<00:00,  5.65it/s]\n"
     ]
    }
   ],
   "source": [
    "context = []\n",
    "for x in abstracts:\n",
    "    if len(x) > 0:\n",
    "        context.append(x[0]['abstract'])\n",
    "    else:\n",
    "        context.append(\"\")\n",
    "\n",
    "\n",
    "pathway_df[\"llm_single_relevant_abstract2\"] = await llm2geneset.get_genes_context(aclient,\n",
    "                                                                              context,\n",
    "                                                                              pathway_df[\"pathway\"].values, \n",
    "                                                                              model = model)"
   ]
  },
  {
   "cell_type": "code",
   "execution_count": 24,
   "id": "62d37a4d-7b2b-4e26-b2d3-4e10d0b0b64f",
   "metadata": {},
   "outputs": [],
   "source": [
    "parsed_genes = [i['parsed_genes'] for i in pathway_df.llm_single_relevant_abstract2.values]\n",
    "pathway_df['abstract_genes_cond2']=parsed_genes"
   ]
  },
  {
   "cell_type": "code",
   "execution_count": 25,
   "id": "e47c937d-1766-401c-ac8f-e5bdded11098",
   "metadata": {
    "scrolled": true
   },
   "outputs": [
    {
     "data": {
      "text/html": [
       "<div>\n",
       "<style scoped>\n",
       "    .dataframe tbody tr th:only-of-type {\n",
       "        vertical-align: middle;\n",
       "    }\n",
       "\n",
       "    .dataframe tbody tr th {\n",
       "        vertical-align: top;\n",
       "    }\n",
       "\n",
       "    .dataframe thead th {\n",
       "        text-align: right;\n",
       "    }\n",
       "</style>\n",
       "<table border=\"1\" class=\"dataframe\">\n",
       "  <thead>\n",
       "    <tr style=\"text-align: right;\">\n",
       "      <th></th>\n",
       "      <th>pathway</th>\n",
       "      <th>pmids_cond1</th>\n",
       "      <th>pmids_cond2</th>\n",
       "      <th>llm_single_relevant_abstract</th>\n",
       "      <th>abstract_genes_cond1</th>\n",
       "      <th>llm_single_relevant_abstract2</th>\n",
       "      <th>abstract_genes_cond2</th>\n",
       "    </tr>\n",
       "  </thead>\n",
       "  <tbody>\n",
       "    <tr>\n",
       "      <th>0</th>\n",
       "      <td>Alpha Synuclein Pathway</td>\n",
       "      <td>32355963</td>\n",
       "      <td>37487948</td>\n",
       "      <td>{'parsed_genes': ['SNCA', 'PELI1', 'LAMP2', 'C...</td>\n",
       "      <td>[SNCA, PELI1, LAMP2, CD11b]</td>\n",
       "      <td>{'parsed_genes': ['SNCA', 'GRM5', 'SNCG'], 're...</td>\n",
       "      <td>[SNCA, GRM5, SNCG]</td>\n",
       "    </tr>\n",
       "    <tr>\n",
       "      <th>1</th>\n",
       "      <td>Amino acid catabolism</td>\n",
       "      <td>28261376</td>\n",
       "      <td>35568239</td>\n",
       "      <td>{'parsed_genes': ['ACAT1', 'ACO1', 'ALDH2', 'A...</td>\n",
       "      <td>[ACAT1, ACO1, ALDH2, ALDH9A1, ASAH1, ASL, ASS1...</td>\n",
       "      <td>{'parsed_genes': ['BCAT1', 'BCAT2', 'GOT1', 'G...</td>\n",
       "      <td>[BCAT1, BCAT2, GOT1, GOT2, GLUD1, GPT, GLS, AS...</td>\n",
       "    </tr>\n",
       "    <tr>\n",
       "      <th>2</th>\n",
       "      <td>Amyloid Precursor Protein Metabolism</td>\n",
       "      <td>21456963</td>\n",
       "      <td>37402372</td>\n",
       "      <td>{'parsed_genes': ['APP', 'PSEN1', 'PSEN2', 'AD...</td>\n",
       "      <td>[APP, PSEN1, PSEN2, ADAM10, BACE1, BACE2]</td>\n",
       "      <td>{'parsed_genes': ['APP', 'BACE1', 'PSEN1', 'PS...</td>\n",
       "      <td>[APP, BACE1, PSEN1, PSEN2]</td>\n",
       "    </tr>\n",
       "    <tr>\n",
       "      <th>3</th>\n",
       "      <td>Axon Regeneration</td>\n",
       "      <td>19822144</td>\n",
       "      <td>30509565</td>\n",
       "      <td>{'parsed_genes': ['MAG', 'GD1a', 'GT1b'], 'rea...</td>\n",
       "      <td>[MAG, GD1a, GT1b]</td>\n",
       "      <td>{'parsed_genes': ['LKB1', 'AMPK', 'NUAK1', 'ER...</td>\n",
       "      <td>[LKB1, AMPK, NUAK1, ERK]</td>\n",
       "    </tr>\n",
       "    <tr>\n",
       "      <th>4</th>\n",
       "      <td>Behavioral Response to Stimulus</td>\n",
       "      <td>17956738</td>\n",
       "      <td>21868631</td>\n",
       "      <td>{'parsed_genes': ['Drd2', 'Th', 'Fos', 'Bdnf',...</td>\n",
       "      <td>[Drd2, Th, Fos, Bdnf, Creb1, Camk2a]</td>\n",
       "      <td>{'parsed_genes': ['TNF', 'IL1B', 'IL6', 'CRH',...</td>\n",
       "      <td>[TNF, IL1B, IL6, CRH, HTR2A, HTR2C]</td>\n",
       "    </tr>\n",
       "  </tbody>\n",
       "</table>\n",
       "</div>"
      ],
      "text/plain": [
       "                                pathway pmids_cond1 pmids_cond2  \\\n",
       "0               Alpha Synuclein Pathway    32355963    37487948   \n",
       "1                 Amino acid catabolism    28261376    35568239   \n",
       "2  Amyloid Precursor Protein Metabolism    21456963    37402372   \n",
       "3                     Axon Regeneration    19822144    30509565   \n",
       "4       Behavioral Response to Stimulus    17956738    21868631   \n",
       "\n",
       "                        llm_single_relevant_abstract  \\\n",
       "0  {'parsed_genes': ['SNCA', 'PELI1', 'LAMP2', 'C...   \n",
       "1  {'parsed_genes': ['ACAT1', 'ACO1', 'ALDH2', 'A...   \n",
       "2  {'parsed_genes': ['APP', 'PSEN1', 'PSEN2', 'AD...   \n",
       "3  {'parsed_genes': ['MAG', 'GD1a', 'GT1b'], 'rea...   \n",
       "4  {'parsed_genes': ['Drd2', 'Th', 'Fos', 'Bdnf',...   \n",
       "\n",
       "                                abstract_genes_cond1  \\\n",
       "0                        [SNCA, PELI1, LAMP2, CD11b]   \n",
       "1  [ACAT1, ACO1, ALDH2, ALDH9A1, ASAH1, ASL, ASS1...   \n",
       "2          [APP, PSEN1, PSEN2, ADAM10, BACE1, BACE2]   \n",
       "3                                  [MAG, GD1a, GT1b]   \n",
       "4               [Drd2, Th, Fos, Bdnf, Creb1, Camk2a]   \n",
       "\n",
       "                       llm_single_relevant_abstract2  \\\n",
       "0  {'parsed_genes': ['SNCA', 'GRM5', 'SNCG'], 're...   \n",
       "1  {'parsed_genes': ['BCAT1', 'BCAT2', 'GOT1', 'G...   \n",
       "2  {'parsed_genes': ['APP', 'BACE1', 'PSEN1', 'PS...   \n",
       "3  {'parsed_genes': ['LKB1', 'AMPK', 'NUAK1', 'ER...   \n",
       "4  {'parsed_genes': ['TNF', 'IL1B', 'IL6', 'CRH',...   \n",
       "\n",
       "                                abstract_genes_cond2  \n",
       "0                                 [SNCA, GRM5, SNCG]  \n",
       "1  [BCAT1, BCAT2, GOT1, GOT2, GLUD1, GPT, GLS, AS...  \n",
       "2                         [APP, BACE1, PSEN1, PSEN2]  \n",
       "3                           [LKB1, AMPK, NUAK1, ERK]  \n",
       "4                [TNF, IL1B, IL6, CRH, HTR2A, HTR2C]  "
      ]
     },
     "execution_count": 25,
     "metadata": {},
     "output_type": "execute_result"
    }
   ],
   "source": [
    "pathway_df.head()"
   ]
  },
  {
   "cell_type": "code",
   "execution_count": 26,
   "id": "6844281c-3bae-4f26-af49-e43a1277aca6",
   "metadata": {
    "scrolled": true
   },
   "outputs": [],
   "source": [
    "abstract_genes = []\n",
    "for i, row in pathway_df.iterrows():\n",
    "    combine_set = set(row['abstract_genes_cond1']).union(set(row['abstract_genes_cond2']))\n",
    "    abstract_genes.append(list(combine_set))"
   ]
  },
  {
   "cell_type": "code",
   "execution_count": 29,
   "id": "43e0a6e1-8320-4864-a101-57318bb5cfe8",
   "metadata": {
    "scrolled": true
   },
   "outputs": [],
   "source": [
    "pathway_df[\"abstract_genes\"] = abstract_genes"
   ]
  },
  {
   "cell_type": "markdown",
   "id": "e0c95d92-39aa-4e8a-8536-bd181c973401",
   "metadata": {},
   "source": [
    "# option2: high confidence genes"
   ]
  },
  {
   "cell_type": "code",
   "execution_count": 30,
   "id": "fe779743-b6ae-4c41-bc11-d3f9e0a7e694",
   "metadata": {},
   "outputs": [
    {
     "name": "stderr",
     "output_type": "stream",
     "text": [
      "100%|███████████████████████████████████████████| 52/52 [00:08<00:00,  6.16it/s]\n"
     ]
    }
   ],
   "source": [
    "pathway_df[\"llm_conf\"] = await llm2geneset.get_genes(aclient,\n",
    "                                                     pathway_df[\"pathway\"].values,\n",
    "                                                     model=model, \n",
    "                                                     prompt_type='conf')"
   ]
  },
  {
   "cell_type": "code",
   "execution_count": 31,
   "id": "e5451dbf-1779-4696-9cdb-8a94487e6009",
   "metadata": {},
   "outputs": [],
   "source": [
    "genes = []\n",
    "for i in pathway_df.llm_conf.values:\n",
    "    high_conf_idx = np.where(np.array(i['conf']) == 'high')[0]\n",
    "    if len(high_conf_idx)>0:\n",
    "        high_conf_genes = np.array(i['parsed_genes'])[high_conf_idx]  \n",
    "        genes.append(list(high_conf_genes))\n",
    "    else:\n",
    "        genes.append([])\n"
   ]
  },
  {
   "cell_type": "code",
   "execution_count": 32,
   "id": "a7553389-4c42-4af0-9706-fa1c6f95f9ea",
   "metadata": {},
   "outputs": [],
   "source": [
    "pathway_df['conf_genes']=genes"
   ]
  },
  {
   "cell_type": "code",
   "execution_count": 33,
   "id": "1c89e1c6-e3a3-41ab-a92a-40da0c17b7ce",
   "metadata": {},
   "outputs": [
    {
     "data": {
      "text/html": [
       "<div>\n",
       "<style scoped>\n",
       "    .dataframe tbody tr th:only-of-type {\n",
       "        vertical-align: middle;\n",
       "    }\n",
       "\n",
       "    .dataframe tbody tr th {\n",
       "        vertical-align: top;\n",
       "    }\n",
       "\n",
       "    .dataframe thead th {\n",
       "        text-align: right;\n",
       "    }\n",
       "</style>\n",
       "<table border=\"1\" class=\"dataframe\">\n",
       "  <thead>\n",
       "    <tr style=\"text-align: right;\">\n",
       "      <th></th>\n",
       "      <th>pathway</th>\n",
       "      <th>pmids_cond1</th>\n",
       "      <th>pmids_cond2</th>\n",
       "      <th>llm_single_relevant_abstract</th>\n",
       "      <th>abstract_genes_cond1</th>\n",
       "      <th>llm_single_relevant_abstract2</th>\n",
       "      <th>abstract_genes_cond2</th>\n",
       "      <th>abstract_genes</th>\n",
       "      <th>llm_conf</th>\n",
       "      <th>conf_genes</th>\n",
       "    </tr>\n",
       "  </thead>\n",
       "  <tbody>\n",
       "    <tr>\n",
       "      <th>0</th>\n",
       "      <td>Alpha Synuclein Pathway</td>\n",
       "      <td>32355963</td>\n",
       "      <td>37487948</td>\n",
       "      <td>{'parsed_genes': ['SNCA', 'PELI1', 'LAMP2', 'C...</td>\n",
       "      <td>[SNCA, PELI1, LAMP2, CD11b]</td>\n",
       "      <td>{'parsed_genes': ['SNCA', 'GRM5', 'SNCG'], 're...</td>\n",
       "      <td>[SNCA, GRM5, SNCG]</td>\n",
       "      <td>[SNCA, LAMP2, PELI1, GRM5, SNCG, CD11b]</td>\n",
       "      <td>{'parsed_genes': ['SNCA', 'PARK2', 'PINK1', 'D...</td>\n",
       "      <td>[SNCA]</td>\n",
       "    </tr>\n",
       "    <tr>\n",
       "      <th>1</th>\n",
       "      <td>Amino acid catabolism</td>\n",
       "      <td>28261376</td>\n",
       "      <td>35568239</td>\n",
       "      <td>{'parsed_genes': ['ACAT1', 'ACO1', 'ALDH2', 'A...</td>\n",
       "      <td>[ACAT1, ACO1, ALDH2, ALDH9A1, ASAH1, ASL, ASS1...</td>\n",
       "      <td>{'parsed_genes': ['BCAT1', 'BCAT2', 'GOT1', 'G...</td>\n",
       "      <td>[BCAT1, BCAT2, GOT1, GOT2, GLUD1, GPT, GLS, AS...</td>\n",
       "      <td>[BCAT1, GOT1, ALDH2, ASS1, MAOA, GLUD2, MAOB, ...</td>\n",
       "      <td>{'parsed_genes': ['BCAT1', 'BCAT2', 'GOT1', 'G...</td>\n",
       "      <td>[BCAT1, BCAT2]</td>\n",
       "    </tr>\n",
       "    <tr>\n",
       "      <th>2</th>\n",
       "      <td>Amyloid Precursor Protein Metabolism</td>\n",
       "      <td>21456963</td>\n",
       "      <td>37402372</td>\n",
       "      <td>{'parsed_genes': ['APP', 'PSEN1', 'PSEN2', 'AD...</td>\n",
       "      <td>[APP, PSEN1, PSEN2, ADAM10, BACE1, BACE2]</td>\n",
       "      <td>{'parsed_genes': ['APP', 'BACE1', 'PSEN1', 'PS...</td>\n",
       "      <td>[APP, BACE1, PSEN1, PSEN2]</td>\n",
       "      <td>[BACE1, PSEN2, BACE2, PSEN1, ADAM10, APP]</td>\n",
       "      <td>{'parsed_genes': ['APP', 'PSEN1', 'PSEN2', 'BA...</td>\n",
       "      <td>[APP]</td>\n",
       "    </tr>\n",
       "    <tr>\n",
       "      <th>3</th>\n",
       "      <td>Axon Regeneration</td>\n",
       "      <td>19822144</td>\n",
       "      <td>30509565</td>\n",
       "      <td>{'parsed_genes': ['MAG', 'GD1a', 'GT1b'], 'rea...</td>\n",
       "      <td>[MAG, GD1a, GT1b]</td>\n",
       "      <td>{'parsed_genes': ['LKB1', 'AMPK', 'NUAK1', 'ER...</td>\n",
       "      <td>[LKB1, AMPK, NUAK1, ERK]</td>\n",
       "      <td>[AMPK, NUAK1, ERK, GD1a, MAG, GT1b, LKB1]</td>\n",
       "      <td>{'parsed_genes': ['PTEN', 'SOCS3', 'GSK3B', 'P...</td>\n",
       "      <td>[PTEN]</td>\n",
       "    </tr>\n",
       "    <tr>\n",
       "      <th>4</th>\n",
       "      <td>Behavioral Response to Stimulus</td>\n",
       "      <td>17956738</td>\n",
       "      <td>21868631</td>\n",
       "      <td>{'parsed_genes': ['Drd2', 'Th', 'Fos', 'Bdnf',...</td>\n",
       "      <td>[Drd2, Th, Fos, Bdnf, Creb1, Camk2a]</td>\n",
       "      <td>{'parsed_genes': ['TNF', 'IL1B', 'IL6', 'CRH',...</td>\n",
       "      <td>[TNF, IL1B, IL6, CRH, HTR2A, HTR2C]</td>\n",
       "      <td>[CRH, Camk2a, Drd2, Creb1, IL6, Bdnf, Fos, IL1...</td>\n",
       "      <td>{'parsed_genes': ['DRD2', 'COMT', 'BDNF', 'KCN...</td>\n",
       "      <td>[]</td>\n",
       "    </tr>\n",
       "  </tbody>\n",
       "</table>\n",
       "</div>"
      ],
      "text/plain": [
       "                                pathway pmids_cond1 pmids_cond2  \\\n",
       "0               Alpha Synuclein Pathway    32355963    37487948   \n",
       "1                 Amino acid catabolism    28261376    35568239   \n",
       "2  Amyloid Precursor Protein Metabolism    21456963    37402372   \n",
       "3                     Axon Regeneration    19822144    30509565   \n",
       "4       Behavioral Response to Stimulus    17956738    21868631   \n",
       "\n",
       "                        llm_single_relevant_abstract  \\\n",
       "0  {'parsed_genes': ['SNCA', 'PELI1', 'LAMP2', 'C...   \n",
       "1  {'parsed_genes': ['ACAT1', 'ACO1', 'ALDH2', 'A...   \n",
       "2  {'parsed_genes': ['APP', 'PSEN1', 'PSEN2', 'AD...   \n",
       "3  {'parsed_genes': ['MAG', 'GD1a', 'GT1b'], 'rea...   \n",
       "4  {'parsed_genes': ['Drd2', 'Th', 'Fos', 'Bdnf',...   \n",
       "\n",
       "                                abstract_genes_cond1  \\\n",
       "0                        [SNCA, PELI1, LAMP2, CD11b]   \n",
       "1  [ACAT1, ACO1, ALDH2, ALDH9A1, ASAH1, ASL, ASS1...   \n",
       "2          [APP, PSEN1, PSEN2, ADAM10, BACE1, BACE2]   \n",
       "3                                  [MAG, GD1a, GT1b]   \n",
       "4               [Drd2, Th, Fos, Bdnf, Creb1, Camk2a]   \n",
       "\n",
       "                       llm_single_relevant_abstract2  \\\n",
       "0  {'parsed_genes': ['SNCA', 'GRM5', 'SNCG'], 're...   \n",
       "1  {'parsed_genes': ['BCAT1', 'BCAT2', 'GOT1', 'G...   \n",
       "2  {'parsed_genes': ['APP', 'BACE1', 'PSEN1', 'PS...   \n",
       "3  {'parsed_genes': ['LKB1', 'AMPK', 'NUAK1', 'ER...   \n",
       "4  {'parsed_genes': ['TNF', 'IL1B', 'IL6', 'CRH',...   \n",
       "\n",
       "                                abstract_genes_cond2  \\\n",
       "0                                 [SNCA, GRM5, SNCG]   \n",
       "1  [BCAT1, BCAT2, GOT1, GOT2, GLUD1, GPT, GLS, AS...   \n",
       "2                         [APP, BACE1, PSEN1, PSEN2]   \n",
       "3                           [LKB1, AMPK, NUAK1, ERK]   \n",
       "4                [TNF, IL1B, IL6, CRH, HTR2A, HTR2C]   \n",
       "\n",
       "                                      abstract_genes  \\\n",
       "0            [SNCA, LAMP2, PELI1, GRM5, SNCG, CD11b]   \n",
       "1  [BCAT1, GOT1, ALDH2, ASS1, MAOA, GLUD2, MAOB, ...   \n",
       "2          [BACE1, PSEN2, BACE2, PSEN1, ADAM10, APP]   \n",
       "3          [AMPK, NUAK1, ERK, GD1a, MAG, GT1b, LKB1]   \n",
       "4  [CRH, Camk2a, Drd2, Creb1, IL6, Bdnf, Fos, IL1...   \n",
       "\n",
       "                                            llm_conf      conf_genes  \n",
       "0  {'parsed_genes': ['SNCA', 'PARK2', 'PINK1', 'D...          [SNCA]  \n",
       "1  {'parsed_genes': ['BCAT1', 'BCAT2', 'GOT1', 'G...  [BCAT1, BCAT2]  \n",
       "2  {'parsed_genes': ['APP', 'PSEN1', 'PSEN2', 'BA...           [APP]  \n",
       "3  {'parsed_genes': ['PTEN', 'SOCS3', 'GSK3B', 'P...          [PTEN]  \n",
       "4  {'parsed_genes': ['DRD2', 'COMT', 'BDNF', 'KCN...              []  "
      ]
     },
     "execution_count": 33,
     "metadata": {},
     "output_type": "execute_result"
    }
   ],
   "source": [
    "pathway_df.head()"
   ]
  },
  {
   "cell_type": "markdown",
   "id": "4f1e7f63-8771-40d2-b163-b10c84719f60",
   "metadata": {},
   "source": [
    "# Save to GMT"
   ]
  },
  {
   "cell_type": "code",
   "execution_count": 34,
   "id": "abbc6070-8895-458d-ac69-9b089a3f32db",
   "metadata": {},
   "outputs": [],
   "source": [
    "def save_to_gmt(pathways,genes,gmt_file):\n",
    "    with open(gmt_file, 'w') as gf:\n",
    "        for gene_set_name, genes in zip(pathways,genes) :\n",
    "            # GMT format: gene_set_name\\tdescription\\tgene1\\tgene2\\tgene3...\n",
    "            if len(genes)>0:\n",
    "                genes = np.unique(genes)\n",
    "                line = f\"{gene_set_name}\\t\" + ''.join(f\"\\t{gene}\" for gene in genes)\n",
    "                gf.write(line + \"\\n\")    "
   ]
  },
  {
   "cell_type": "code",
   "execution_count": 35,
   "id": "ef0f7b90-3814-412a-8bb0-8b765ef2740b",
   "metadata": {},
   "outputs": [],
   "source": [
    "gmt_file = \"libs_human/gmt_tailored/\" + cond1+\"_\"+cond2+\"_abstract.txt\"\n",
    "save_to_gmt(pathway_df.pathway.values,pathway_df.abstract_genes.values,gmt_file)"
   ]
  },
  {
   "cell_type": "code",
   "execution_count": 36,
   "id": "e5919290-24fb-4d19-8fb7-ebcf1e48879d",
   "metadata": {},
   "outputs": [],
   "source": [
    "gmt_file = \"libs_human/gmt_tailored/\" + cond1+\"_\"+cond2+\"_highConf.txt\"\n",
    "save_to_gmt(pathway_df.pathway.values,pathway_df.conf_genes.values,gmt_file)"
   ]
  },
  {
   "cell_type": "code",
   "execution_count": null,
   "id": "4690d6de-276d-4d92-bbc6-48c7d7fe01e4",
   "metadata": {},
   "outputs": [],
   "source": []
  }
 ],
 "metadata": {
  "kernelspec": {
   "display_name": "Python 3 (ipykernel)",
   "language": "python",
   "name": "python3"
  },
  "language_info": {
   "codemirror_mode": {
    "name": "ipython",
    "version": 3
   },
   "file_extension": ".py",
   "mimetype": "text/x-python",
   "name": "python",
   "nbconvert_exporter": "python",
   "pygments_lexer": "ipython3",
   "version": "3.12.4"
  }
 },
 "nbformat": 4,
 "nbformat_minor": 5
}
