{
 "cells": [
  {
   "cell_type": "code",
   "execution_count": 1,
   "id": "b07067db-e045-4fac-8778-7c19a7122f8b",
   "metadata": {},
   "outputs": [],
   "source": [
    "import openai\n",
    "from pathlib import Path\n",
    "import json\n",
    "import llm2geneset\n",
    "import time\n",
    "import pandas as pd\n",
    "import numpy as np\n",
    "from rouge_score import rouge_scorer\n",
    "\n",
    "aclient = openai.AsyncClient()\n",
    "client = openai.Client()"
   ]
  },
  {
   "cell_type": "code",
   "execution_count": 2,
   "id": "9fafb923-b560-44de-94ee-b2cf6f9b737d",
   "metadata": {},
   "outputs": [],
   "source": [
    "scorer = rouge_scorer.RougeScorer(['rouge1','rouge2','rougeL'], use_stemmer=True)"
   ]
  },
  {
   "cell_type": "code",
   "execution_count": 7,
   "id": "b60b4006-c31c-47d1-a58f-3803760437aa",
   "metadata": {},
   "outputs": [
    {
     "name": "stdout",
     "output_type": "stream",
     "text": [
      "gpt-3.5-turbo-0125\n",
      "WikiPathway_2023_Human\n"
     ]
    },
    {
     "name": "stderr",
     "output_type": "stream",
     "text": [
      "  0%|                                                                                                                              | 0/801 [00:00<?, ?it/s]"
     ]
    },
    {
     "name": "stdout",
     "output_type": "stream",
     "text": [
      "retrying\n",
      "List about 5 biological pathways, biological processes, or cellular components that contain the following genes \"\"\"ABCC4,NCOA2,NCOA3,ABCC2,ABCC3,HSP90AA1,NCOA1,UGT1A1,CYP4F12,CYP2C9,CYP2A6,DNAJC7,PSMC5,GSTA2,ABCB1,SRC,NR1I2,CYP3A4,CYP3A5,CYP2C19,CYP3A7,FOXO1,SLCO1B1,SULT2A1,RXRA,SRPX2,CYP2B6,NRIP1,UGT1A6,UGT1A4,PPARGC1A,UGT1A9\"\"\" with high confidence. Be as specific as possible. Use the following JSON schema:\n",
      "```json\n",
      "{\n",
      "    \"type\": \"array\",\n",
      "    \"items\": {\n",
      "        \"type\": \"object\",\n",
      "        \"properties\": {\n",
      "            \"p\": {\n",
      "                \"type\": \"string\",\n",
      "            },\n",
      "        },\n",
      "        \"required\": [\"p\"]\n",
      "    }\n",
      "}\n",
      "```\n",
      "Example output will look like the following:\n",
      "```json\n",
      "[{\"p\":\"bp_or_pathway1\"},\n",
      " {\"p\":\"bp_or_pathway2\"},\n",
      " {\"p\":\"bp_or_pathway3\"},\n",
      " {\"p\":\"bp_or_pathway4\"},\n",
      "```\n",
      "The element `p` designates a pathway, biological process or cellular component. Place the output in a JSON code block. Do not add any comments in the JSON code block.\n",
      "\n",
      "'p'\n",
      "```json\n",
      "[{\"bp_or_pathway1\":\"Drug metabolism - cytochrome P450\"},\n",
      " {\"bp_or_pathway2\":\"Steroid hormone biosynthesis\"},\n",
      " {\"bp_or_pathway3\":\"Glucuronidation\"},\n",
      " {\"bp_or_pathway4\":\"Cholesterol metabolism\"},\n",
      " {\"bp_or_pathway5\":\"HSP90 chaperone cycle\"}]\n",
      "```\n"
     ]
    },
    {
     "name": "stderr",
     "output_type": "stream",
     "text": [
      "100%|████████████████████████████████████████████████████████████████████████████████████████████████████████████████████| 801/801 [05:59<00:00,  2.23it/s]\n",
      "100%|████████████████████████████████████████████████████████████████████████████████████████████████████████████████████| 801/801 [00:39<00:00, 20.32it/s]\n"
     ]
    }
   ],
   "source": [
    "models = [\"gpt-3.5-turbo-0125\",\"gpt-4o-2024-05-13\"]\n",
    "lib_names = [\"KEGG_2021_Human\",\n",
    "             \"Reactome_2022\", \n",
    "             \"WikiPathway_2023_Human\"]\n",
    "models = [\"gpt-3.5-turbo-0125\"]\n",
    "lib_names = [\"WikiPathway_2023_Human\"]\n",
    "\n",
    "output = []\n",
    "for model in models:\n",
    "    print(model)\n",
    "    for lib_name in lib_names:\n",
    "        print(lib_name)\n",
    "        with open(\"libs_human/\" + model + \"/\" + lib_name + \".json\") as f:\n",
    "            gen_res = json.load(f)\n",
    "        \n",
    "        test_sets = gen_res[\"curated_genesets\"]\n",
    "        test_descr = gen_res[\"descr\"]\n",
    "        test_descr_cleaned = gen_res[\"descr_cleaned\"]\n",
    "        \n",
    "        gt_embs = llm2geneset.get_embeddings(client, test_descr_cleaned)\n",
    "\n",
    "        for method in [\"llm2geneset\", \"GSAI\"]:\n",
    "            if method == \"GSAI\":\n",
    "                # use GSAI to generate geneset name\n",
    "                gsai_res = await llm2geneset.gsai(aclient, test_sets, model=model, n_retry=3)\n",
    "                names = [i['name'] for i in gsai_res]\n",
    "                in_toks = [i[\"in_toks\"] for i in gsai_res]\n",
    "                out_toks = [i[\"out_toks\"] for i in gsai_res]\n",
    "            elif method == \"llm2geneset\":\n",
    "                llm2geneset_res = await llm2geneset.gs_proposal(aclient, test_sets, model=model)\n",
    "                def res2name(res):\n",
    "                    df = res[\"ora_results\"]\n",
    "                    min_p_val_row = df.loc[df['p_val'].idxmin()]\n",
    "                    return min_p_val_row['bio_process']\n",
    "                \n",
    "                names = list(map(res2name, llm2geneset_res))\n",
    "                in_toks = [i[\"tot_in_toks\"] for i in llm2geneset_res]\n",
    "                out_toks = [i[\"tot_out_toks\"] for i in llm2geneset_res]\n",
    "                #most_overrepresented = [min(gene_set, key=lambda x: x[1]) for gene_set in res]\n",
    "                #names = [i[0] for i in most_overrepresented]\n",
    "    \n",
    "            name_embs = llm2geneset.get_embeddings(client, names)\n",
    "            \n",
    "            for i, ref in enumerate(test_descr_cleaned):\n",
    "                scores = scorer.score(ref, names[i])\n",
    "                rouge1 = scores['rouge1'].recall\n",
    "                rouge2 = scores['rouge2'].recall\n",
    "                rougeL = scores['rougeL'].recall      \n",
    "                csim = np.dot(gt_embs[i], name_embs[i])\n",
    "                    \n",
    "                x={\"model\":model,\n",
    "                   \"library\":lib_name,\n",
    "                   \"gt_name\":test_descr[i],\n",
    "                   \"gt_name_clean\":ref,\n",
    "                   \"name\":names[i],\n",
    "                   \"ROUGE1\":rouge1,\n",
    "                   \"ROUGE2\":rouge2,   \n",
    "                   \"ROUGEL\":rougeL,                  \n",
    "                   \"csim\":csim,\n",
    "                   \"method\": method,\n",
    "                   \"in_toks\":in_toks[i],\n",
    "                   \"out_toks\": out_toks[i]                   \n",
    "                  }    \n",
    "            \n",
    "                output.append(x)"
   ]
  },
  {
   "cell_type": "code",
   "execution_count": 8,
   "id": "80a59f36-45c5-47e9-88a1-249795c63d7d",
   "metadata": {},
   "outputs": [],
   "source": [
    "df = pd.DataFrame(output)\n",
    "df.to_csv(\"gsai_vs_llm2geneset_outputs.tsv\", sep=\"\\t\", index=False)"
   ]
  },
  {
   "cell_type": "code",
   "execution_count": 9,
   "id": "f5862c71-fd83-45aa-8ebb-d4fa76c611c6",
   "metadata": {},
   "outputs": [
    {
     "data": {
      "text/plain": [
       "3.7615735000000003"
      ]
     },
     "execution_count": 9,
     "metadata": {},
     "output_type": "execute_result"
    }
   ],
   "source": [
    "df[\"out_toks\"].sum()/1e6 * 1.5 + df[\"in_toks\"].sum()/1e6 * 0.5"
   ]
  }
 ],
 "metadata": {
  "kernelspec": {
   "display_name": "Python 3 (ipykernel)",
   "language": "python",
   "name": "python3"
  },
  "language_info": {
   "codemirror_mode": {
    "name": "ipython",
    "version": 3
   },
   "file_extension": ".py",
   "mimetype": "text/x-python",
   "name": "python",
   "nbconvert_exporter": "python",
   "pygments_lexer": "ipython3",
   "version": "3.12.3"
  }
 },
 "nbformat": 4,
 "nbformat_minor": 5
}
