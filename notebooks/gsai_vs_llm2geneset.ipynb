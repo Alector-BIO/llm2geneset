{
 "cells": [
  {
   "cell_type": "code",
   "execution_count": 1,
   "id": "b07067db-e045-4fac-8778-7c19a7122f8b",
   "metadata": {},
   "outputs": [],
   "source": [
    "import openai\n",
    "from pathlib import Path\n",
    "import json\n",
    "import llm2geneset\n",
    "import time\n",
    "import pandas as pd\n",
    "import numpy as np\n",
    "from rouge_score import rouge_scorer\n",
    "from sklearn.metrics.pairwise import cosine_similarity\n",
    "aclient = openai.AsyncClient()\n",
    "client = openai.Client()"
   ]
  },
  {
   "cell_type": "code",
   "execution_count": 2,
   "id": "9fafb923-b560-44de-94ee-b2cf6f9b737d",
   "metadata": {},
   "outputs": [],
   "source": [
    "scorer = rouge_scorer.RougeScorer(['rouge1','rouge2','rougeL'], use_stemmer=True)"
   ]
  },
  {
   "cell_type": "code",
   "execution_count": 3,
   "id": "b60b4006-c31c-47d1-a58f-3803760437aa",
   "metadata": {},
   "outputs": [
    {
     "name": "stdout",
     "output_type": "stream",
     "text": [
      "KEGG_2021_Human\n"
     ]
    },
    {
     "name": "stderr",
     "output_type": "stream",
     "text": [
      "100%|██████████████████████████████████████████████████████████████████████████████████████████████████████████████████████████| 320/320 [00:10<00:00, 31.59it/s]\n",
      "100%|██████████████████████████████████████████████████████████████████████████████████████████████████████████████████████████| 320/320 [00:31<00:00, 10.03it/s]\n"
     ]
    }
   ],
   "source": [
    "models = [\"gpt-3.5-turbo-0125\",\"gpt-4o-2024-05-13\"]\n",
    "lib_names = [\"KEGG_2021_Human\",\n",
    "             \"Reactome_2022\", \n",
    "             \"WikiPathway_2023_Human\"]\n",
    "lib_names = [\"KEGG_2021_Human\"]\n",
    "models = [\"gpt-3.5-turbo-0125\"]\n",
    "\n",
    "output = []\n",
    "for model in models:    \n",
    "    for lib_name in lib_names:\n",
    "        print(lib_name)\n",
    "        with open(\"libs_human/\" + model + \"/\" + lib_name + \".json\") as f:\n",
    "            gen_res = json.load(f)\n",
    "        \n",
    "        test_sets = gen_res[\"curated_genesets\"]\n",
    "        test_descr = gen_res[\"descr\"]\n",
    "        test_descr_cleaned = gen_res[\"descr_cleaned\"]\n",
    "        \n",
    "        gt_embs = llm2geneset.get_embeddings(client, test_descr_cleaned)\n",
    "\n",
    "        for method in [\"GSAI\", \"llm2geneset\"]:\n",
    "            if method == \"GSAI\":\n",
    "                # use GSAI to generate geneset name\n",
    "                gsai_res = await llm2geneset.gsai(aclient, test_sets, model=model, n_retry=3)\n",
    "                names = [i['name'] for i in gsai_res]\n",
    "            elif method == \"llm2geneset\":\n",
    "                res = await llm2geneset.gs_proposal(aclient, test_sets, model=model)\n",
    "                most_overrepresented = [min(gene_set, key=lambda x: x[1]) for gene_set in res]\n",
    "                names = [i[0] for i in most_overrepresented]\n",
    "    \n",
    "            name_embs = llm2geneset.get_embeddings(client, names)\n",
    "            \n",
    "            for i, ref in enumerate(test_descr_cleaned):\n",
    "                scores = scorer.score(ref, names[i])\n",
    "                rouge1 = scores['rouge1'].recall\n",
    "                rouge2 = scores['rouge2'].recall\n",
    "                rougeL = scores['rougeL'].recall      \n",
    "                csim = np.dot(gt_embs[i], name_embs[i])\n",
    "                    \n",
    "                x={\"model\":model,\n",
    "                   \"library\":lib_name,\n",
    "                   \"gt_name\":test_descr[i],\n",
    "                   \"gt_name_clean\":ref,\n",
    "                   \"name\":names[i],\n",
    "                   \"ROUGE1\":rouge1,\n",
    "                   \"ROUGE2\":rouge2,   \n",
    "                   \"ROUGEL\":rougeL,                  \n",
    "                   \"csim\":csim,\n",
    "                   \"method\": method}    \n",
    "            \n",
    "                output.append(x)"
   ]
  },
  {
   "cell_type": "code",
   "execution_count": 6,
   "id": "80a59f36-45c5-47e9-88a1-249795c63d7d",
   "metadata": {},
   "outputs": [],
   "source": [
    "df = pd.DataFrame(ouput)\n",
    "df.to_csv(\"gsai_vs_llm2geneset_outputs.tsv\", sep=\"\\t\", index=False)"
   ]
  }
 ],
 "metadata": {
  "kernelspec": {
   "display_name": "Python 3 (ipykernel)",
   "language": "python",
   "name": "python3"
  },
  "language_info": {
   "codemirror_mode": {
    "name": "ipython",
    "version": 3
   },
   "file_extension": ".py",
   "mimetype": "text/x-python",
   "name": "python",
   "nbconvert_exporter": "python",
   "pygments_lexer": "ipython3",
   "version": "3.12.3"
  }
 },
 "nbformat": 4,
 "nbformat_minor": 5
}
