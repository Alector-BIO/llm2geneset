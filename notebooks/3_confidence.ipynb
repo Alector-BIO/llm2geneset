{
 "cells": [
  {
   "cell_type": "code",
   "execution_count": 1,
   "id": "09f4d409-3472-46fa-ba7c-679d3b23c3a1",
   "metadata": {
    "scrolled": true
   },
   "outputs": [],
   "source": [
    "import openai\n",
    "import numpy as np\n",
    "from openai import OpenAI\n",
    "client = OpenAI()\n",
    "\n",
    "def make_yes_no_prompt(context: str, question: str, response: str) -> str:\n",
    "    return f\"\"\"Context: {context}\n",
    "\n",
    "Question: {question}\n",
    "\n",
    "Response: {response}\n",
    "\n",
    "Based on the given Context and Question, answer this question:\n",
    "\n",
    "Is the provided Response correct? Answer only Yes or No.\n",
    "\n",
    "Answer:\n",
    "    \"\"\"\n",
    "\n",
    "def softmax(x):\n",
    "    e_x = np.exp(x - np.max(x))\n",
    "    return e_x / e_x.sum()\n",
    "\n",
    "def yes_score_calculation(logits):\n",
    "    tokens = [logprob.token for logprob in logits]\n",
    "    logprobs = [logprob.logprob for logprob in logits]\n",
    "    # Calculate softmax probabilities\n",
    "    probs = softmax(np.array(logprobs))\n",
    "    \n",
    "    # Pre-select tokens with probabilities greater than 0.001\n",
    "    next_token_dict = {token: prob for token, prob in zip(tokens, probs) if prob > 0.001}\n",
    "    \n",
    "    # Get probabilities for 'Yes' and 'No'\n",
    "    yes_prob = next_token_dict.get(\"Yes\", 0.0)\n",
    "    no_prob = next_token_dict.get(\"No\", 0.0)\n",
    "    \n",
    "    # Calculate and return yes/no confidence score\n",
    "    yes_score = yes_prob / (yes_prob + no_prob) if yes_prob != 0 or no_prob != 0 else 0.5\n",
    "    return yes_score\n",
    "\n",
    "\n",
    "def get_logits_from_openai(prompt):\n",
    "    response = client.chat.completions.create(\n",
    "        model=\"gpt-4o\",\n",
    "        messages=[\n",
    "            {\"role\": \"system\", \"content\": \"You are a helpful assistant.\"},\n",
    "            {\"role\": \"user\", \"content\": prompt}\n",
    "        ],\n",
    "        max_tokens=1,  # Get logits for the next token\n",
    "        logprobs=True,    \n",
    "        top_logprobs = 5,\n",
    "        temperature=0  # Set temperature to 0 for deterministic output\n",
    "    )\n",
    "    \n",
    "    logits = response.choices[0].logprobs.content[0].top_logprobs\n",
    "    return logits\n",
    "\n"
   ]
  },
  {
   "cell_type": "markdown",
   "id": "2af99f87-0158-4b0b-95df-4ca86d89841d",
   "metadata": {},
   "source": [
    "# Example of a correct answer "
   ]
  },
  {
   "cell_type": "code",
   "execution_count": 2,
   "id": "12d0964f-fd03-437c-a754-9d004ea0cf73",
   "metadata": {},
   "outputs": [
    {
     "name": "stdout",
     "output_type": "stream",
     "text": [
      "Yes Score: 1.0\n"
     ]
    }
   ],
   "source": [
    "\n",
    "context = \"You are a skilled assistant to a molecular biologist with expertise in functional genetics.\"\n",
    "question = \"Is ACTC1 involved in cardiomyocyte function?\"\n",
    "response = \"Yes, ACTC1 is involved in cardiomyocyte function.\"\n",
    "\n",
    "prompt = make_yes_no_prompt(context, question, response)\n",
    "\n",
    "logits = get_logits_from_openai(prompt)\n",
    "yes_score = yes_score_calculation(logits)\n",
    "print(f\"Yes Score: {yes_score}\")\n"
   ]
  },
  {
   "cell_type": "markdown",
   "id": "06d671fc-e438-4904-8ae7-7ae407a62e70",
   "metadata": {},
   "source": [
    "# Example of a wrong answer\n"
   ]
  },
  {
   "cell_type": "code",
   "execution_count": 3,
   "id": "a0b16d7a-eaa1-4abb-9cca-1532d50d3564",
   "metadata": {},
   "outputs": [
    {
     "name": "stdout",
     "output_type": "stream",
     "text": [
      "Yes Score: 0.0\n"
     ]
    }
   ],
   "source": [
    "context = \"You are a skilled assistant to a molecular biologist with expertise in functional genetics.\"\n",
    "question = \"Is MC1R involved in cardiomyocyte function?\"\n",
    "response = \"Yes, MC1R is involved in cardiomyocyte function.\"\n",
    "\n",
    "prompt = make_yes_no_prompt(context, question, response)\n",
    "\n",
    "# Replace with your OpenAI API key\n",
    "\n",
    "logits = get_logits_from_openai(prompt)\n",
    "yes_score = yes_score_calculation(logits)\n",
    "print(f\"Yes Score: {yes_score}\")"
   ]
  },
  {
   "cell_type": "code",
   "execution_count": null,
   "id": "c0257f90-abfe-433f-8fd6-40f982521c0a",
   "metadata": {},
   "outputs": [],
   "source": []
  }
 ],
 "metadata": {
  "kernelspec": {
   "display_name": "Python 3 (ipykernel)",
   "language": "python",
   "name": "python3"
  },
  "language_info": {
   "codemirror_mode": {
    "name": "ipython",
    "version": 3
   },
   "file_extension": ".py",
   "mimetype": "text/x-python",
   "name": "python",
   "nbconvert_exporter": "python",
   "pygments_lexer": "ipython3",
   "version": "3.12.3"
  }
 },
 "nbformat": 4,
 "nbformat_minor": 5
}
