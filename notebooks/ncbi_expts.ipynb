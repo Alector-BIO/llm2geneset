{
 "cells": [
  {
   "cell_type": "code",
   "execution_count": 1,
   "id": "8859db1d-047b-4ff6-bbfe-f4e5a473c1fd",
   "metadata": {},
   "outputs": [],
   "source": [
    "import llm2geneset\n",
    "import json"
   ]
  },
  {
   "cell_type": "code",
   "execution_count": 2,
   "id": "f26e0d4a-f211-4315-808f-266ad105e84f",
   "metadata": {},
   "outputs": [
    {
     "name": "stderr",
     "output_type": "stream",
     "text": [
      "100%|████████████████████████████████████████████████████████████████████████████████████████████████████████████████████████████████████| 1/1 [00:00<00:00,  1.92it/s]\n"
     ]
    },
    {
     "data": {
      "text/plain": [
       "[['35107212', '30891497']]"
      ]
     },
     "execution_count": 2,
     "metadata": {},
     "output_type": "execute_result"
    }
   ],
   "source": [
    "pmids = llm2geneset.esearch_sync(\"Regulation Of BACH1 Activity\", \"pubmed\", 2)\n",
    "await llm2geneset.esearch_async([\"Regulation Of BACH1 Activity\"], \"pubmed\", 2)\n"
   ]
  },
  {
   "cell_type": "code",
   "execution_count": 3,
   "id": "02859bb0-5fd7-4b0b-9c36-df142599792b",
   "metadata": {},
   "outputs": [
    {
     "data": {
      "text/plain": [
       "['35107212', '30891497']"
      ]
     },
     "execution_count": 3,
     "metadata": {},
     "output_type": "execute_result"
    }
   ],
   "source": [
    "pmids"
   ]
  },
  {
   "cell_type": "code",
   "execution_count": 4,
   "id": "ef4b5dc5-2a65-491c-8672-68fd4b4995bd",
   "metadata": {},
   "outputs": [
    {
     "data": {
      "text/plain": [
       "{'pmid': '35107212',\n",
       " 'title': 'Ferroptosis: regulation by competition between NRF2 and BACH1 and propagation of the death signal.',\n",
       " 'abstract': ' Ferroptosis is triggered by a chain of intracellular labile iron-dependent peroxidation of cell membrane phospholipids. Ferroptosis is important not only as a cause of ischaemic and neurodegenerative diseases but also as a mechanism of cancer suppression, and a better understanding of its regulatory mechanism is required. It has become clear that ferroptosis is finely controlled by two oxidative stress-responsive transcription factors, NRF2 (NF-E2-related factor 2) and BACH1 (BTB and CNC homology 1). NRF2 and BACH1 inhibit and promote ferroptosis, respectively, by activating or suppressing the expression of genes in the major regulatory pathways of ferroptosis: intracellular labile iron metabolism, the GSH (glutathione) -GPX4 (glutathione peroxidase 4) pathway and the FSP1 (ferroptosis suppressor protein 1)-CoQ (coenzyme Q) pathway. In addition to this, NRF2 and BACH1 control ferroptosis through the regulation of lipid metabolism and cell differentiation. This multifaceted regulation of ferroptosis by NRF2 and BACH1 is considered to have been acquired during the evolution of multicellular organisms, allowing the utilization of ferroptosis for maintaining homeostasis, including cancer suppression. In terms of cell-cell interaction, it has been revealed that ferroptosis has the property of propagating to surrounding cells along with lipid peroxidation. The regulation of ferroptosis by NRF2 and BACH1 and the propagation phenomenon could be used to realize anticancer cell therapy in the future. In this review, these points will be summarized and discussed.',\n",
       " 'doi': '10.1111/febs.16382',\n",
       " 'pmc': ''}"
      ]
     },
     "execution_count": 4,
     "metadata": {},
     "output_type": "execute_result"
    }
   ],
   "source": [
    "res = llm2geneset.efetch_pubmed_sync(pmids)\n",
    "res[0]"
   ]
  },
  {
   "cell_type": "code",
   "execution_count": 5,
   "id": "e979d53e-706c-4d84-a9a9-b9469cdf433d",
   "metadata": {},
   "outputs": [
    {
     "name": "stderr",
     "output_type": "stream",
     "text": [
      "100%|████████████████████████████████████████████████████████████████████████████████████████████████████████████████████████████████████| 1/1 [00:00<00:00,  1.67it/s]\n"
     ]
    },
    {
     "data": {
      "text/plain": [
       "[[{'pmid': '35107212',\n",
       "   'title': 'Ferroptosis: regulation by competition between NRF2 and BACH1 and propagation of the death signal.',\n",
       "   'abstract': ' Ferroptosis is triggered by a chain of intracellular labile iron-dependent peroxidation of cell membrane phospholipids. Ferroptosis is important not only as a cause of ischaemic and neurodegenerative diseases but also as a mechanism of cancer suppression, and a better understanding of its regulatory mechanism is required. It has become clear that ferroptosis is finely controlled by two oxidative stress-responsive transcription factors, NRF2 (NF-E2-related factor 2) and BACH1 (BTB and CNC homology 1). NRF2 and BACH1 inhibit and promote ferroptosis, respectively, by activating or suppressing the expression of genes in the major regulatory pathways of ferroptosis: intracellular labile iron metabolism, the GSH (glutathione) -GPX4 (glutathione peroxidase 4) pathway and the FSP1 (ferroptosis suppressor protein 1)-CoQ (coenzyme Q) pathway. In addition to this, NRF2 and BACH1 control ferroptosis through the regulation of lipid metabolism and cell differentiation. This multifaceted regulation of ferroptosis by NRF2 and BACH1 is considered to have been acquired during the evolution of multicellular organisms, allowing the utilization of ferroptosis for maintaining homeostasis, including cancer suppression. In terms of cell-cell interaction, it has been revealed that ferroptosis has the property of propagating to surrounding cells along with lipid peroxidation. The regulation of ferroptosis by NRF2 and BACH1 and the propagation phenomenon could be used to realize anticancer cell therapy in the future. In this review, these points will be summarized and discussed.',\n",
       "   'doi': '10.1111/febs.16382',\n",
       "   'pmc': ''},\n",
       "  {'pmid': '30891497',\n",
       "   'title': 'Bach1 regulates self-renewal and impedes mesendodermal differentiation of human embryonic stem cells.',\n",
       "   'abstract': \" The transcription factor BTB and CNC homology 1 (Bach1) is expressed in the embryos of mice, but whether Bach1 regulates the self-renewal and early differentiation of human embryonic stem cells (hESCs) is unknown. We report that the deubiquitinase ubiquitin-specific processing protease 7 (Usp7) is a direct target of Bach1, that Bach1 interacts with Nanog, Sox2, and Oct4, and that Bach1 facilitates their deubiquitination and stabilization via the recruitment of Usp7, thereby maintaining stem cell identity and self-renewal. Bach1 also interacts with polycomb repressive complex 2 (PRC2) and represses mesendodermal gene expression by recruiting PRC2 to the genes' promoters. The loss of Bach1 in hESCs promotes differentiation toward the mesendodermal germ layers by reducing the occupancy of EZH2 and H3K27me3 in mesendodermal gene promoters and by activating the Wnt/β-catenin and Nodal/Smad2/3 signaling pathways. Our study shows that Bach1 is a key determinant of pluripotency, self-renewal, and lineage specification in hESCs.\",\n",
       "   'doi': '10.1126/sciadv.aau7887',\n",
       "   'pmc': 'PMC6415956'}]]"
      ]
     },
     "execution_count": 5,
     "metadata": {},
     "output_type": "execute_result"
    }
   ],
   "source": [
    "await llm2geneset.efetch_pubmed_async([pmids])"
   ]
  },
  {
   "cell_type": "code",
   "execution_count": 3,
   "id": "c9cabe61-2c98-4f90-a303-388724af5cfa",
   "metadata": {},
   "outputs": [],
   "source": [
    "models = [\"gpt-3.5-turbo-0125\", \"gpt-4o-2024-05-13\"]\n",
    "lib_names = [\"KEGG_2021_Human\", \n",
    "             \"Reactome_2022\", \n",
    "             \"WikiPathway_2023_Human\"]\n",
    "for model in models:\n",
    "    for lib_name in lib_names:\n",
    "        with open(\"libs_human/\" + model + \"/\" + lib_name + \".json\") as f:\n",
    "            gen_res = json.load(f)"
   ]
  },
  {
   "cell_type": "code",
   "execution_count": 4,
   "id": "685feb48-7c94-4bc4-9946-2ec99b4d86d1",
   "metadata": {},
   "outputs": [
    {
     "name": "stderr",
     "output_type": "stream",
     "text": [
      "100%|████████████████████████████████████████████████████████████████████████████████████████████████████████████████████████████████| 125/125 [00:18<00:00,  6.91it/s]\n"
     ]
    }
   ],
   "source": [
    "pmids = await llm2geneset.esearch_async(gen_res[\"descr_cleaned\"][:125], \"pubmed\", 1)"
   ]
  },
  {
   "cell_type": "code",
   "execution_count": 5,
   "id": "60334533-78d9-49a2-8ef6-35990562c66d",
   "metadata": {},
   "outputs": [
    {
     "name": "stderr",
     "output_type": "stream",
     "text": [
      "100%|████████████████████████████████████████████████████████████████████████████████████████████████████████████████████████████████| 125/125 [00:18<00:00,  6.94it/s]\n"
     ]
    }
   ],
   "source": [
    "abstracts = await llm2geneset.efetch_pubmed_async(pmids)"
   ]
  },
  {
   "cell_type": "code",
   "execution_count": 21,
   "id": "5b463227-6321-458a-85f4-d6d74a44cad9",
   "metadata": {},
   "outputs": [
    {
     "data": {
      "text/plain": [
       "'Type II Diabetes Mellitus'"
      ]
     },
     "execution_count": 21,
     "metadata": {},
     "output_type": "execute_result"
    }
   ],
   "source": [
    "gen_res[\"descr_cleaned\"][40]"
   ]
  },
  {
   "cell_type": "code",
   "execution_count": 23,
   "id": "cfaaec98-3746-4a77-89aa-2ffe503de490",
   "metadata": {},
   "outputs": [
    {
     "data": {
      "text/plain": [
       "{'pmid': '4560052',\n",
       " 'title': 'Folate metabolism.',\n",
       " 'abstract': '',\n",
       " 'doi': '',\n",
       " 'pmc': ''}"
      ]
     },
     "execution_count": 23,
     "metadata": {},
     "output_type": "execute_result"
    }
   ],
   "source": [
    "abstracts[40][0]"
   ]
  }
 ],
 "metadata": {
  "kernelspec": {
   "display_name": "Python 3 (ipykernel)",
   "language": "python",
   "name": "python3"
  },
  "language_info": {
   "codemirror_mode": {
    "name": "ipython",
    "version": 3
   },
   "file_extension": ".py",
   "mimetype": "text/x-python",
   "name": "python",
   "nbconvert_exporter": "python",
   "pygments_lexer": "ipython3",
   "version": "3.12.3"
  }
 },
 "nbformat": 4,
 "nbformat_minor": 5
}
