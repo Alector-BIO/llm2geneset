{
 "cells": [
  {
   "cell_type": "code",
   "execution_count": 1,
   "id": "8859db1d-047b-4ff6-bbfe-f4e5a473c1fd",
   "metadata": {},
   "outputs": [],
   "source": [
    "import llm2geneset\n",
    "import json\n",
    "import time\n",
    "import openai"
   ]
  },
  {
   "cell_type": "markdown",
   "id": "cf3485c5-2999-4825-b2bb-b280bac3ea3c",
   "metadata": {},
   "source": [
    "Look at https://news.ycombinator.com/item?id=40162210 more carefully."
   ]
  },
  {
   "cell_type": "code",
   "execution_count": 2,
   "id": "a4417a3f-d460-4266-9cdd-bae0ee0c6be3",
   "metadata": {},
   "outputs": [],
   "source": [
    "models = [\"gpt-3.5-turbo-0125\", \"gpt-4o-2024-05-13\"]\n",
    "models = [\"gpt-3.5-turbo-0125\"]\n",
    "lib_names = [\"KEGG_2021_Human\", \n",
    "             \"Reactome_2022\", \n",
    "             \"WikiPathway_2023_Human\"]\n",
    "lib_names = [\"WikiPathway_2023_Human\"]"
   ]
  },
  {
   "cell_type": "code",
   "execution_count": 31,
   "id": "c9cabe61-2c98-4f90-a303-388724af5cfa",
   "metadata": {},
   "outputs": [
    {
     "name": "stderr",
     "output_type": "stream",
     "text": [
      "100%|██████████████████████████████████████████████████████████████████████████████████████████████████████████████████████████████| 801/801 [01:55<00:00,  6.93it/s]\n",
      "100%|██████████████████████████████████████████████████████████████████████████████████████████████████████████████████████████████| 801/801 [01:47<00:00,  7.42it/s]\n"
     ]
    }
   ],
   "source": [
    "\n",
    "for model in models:\n",
    "    for lib_name in lib_names:\n",
    "        with open(\"libs_human/\" + model + \"/\" + lib_name + \".json\") as f:\n",
    "            gen_res = json.load(f)\n",
    "        start_time = time.time()\n",
    "        pmids = await llm2geneset.esearch_async(gen_res[\"descr_cleaned\"], \"pubmed\", 1)\n",
    "        abstracts = await llm2geneset.efetch_pubmed_async(pmids)\n",
    "        end_time = time.time()\n",
    "        gen_res[\"single_relevant_abstract\"] = abstracts\n",
    "        gen_res[\"single_relevant_abstract_searchtime\"] = end_time - start_time\n",
    "        with open('libs_human/' + model + '/' + lib_name + '.json', 'w') as json_file:\n",
    "            json.dump(gen_res, json_file, indent=4)\n"
   ]
  },
  {
   "cell_type": "code",
   "execution_count": 32,
   "id": "eeaca21c-48e0-4e9b-89f2-9209372eed78",
   "metadata": {},
   "outputs": [
    {
     "name": "stderr",
     "output_type": "stream",
     "text": [
      "  4%|████▉                                                                                                                          | 31/801 [00:03<00:39, 19.66it/s]"
     ]
    },
    {
     "name": "stdout",
     "output_type": "stream",
     "text": [
      "retrying\n",
      "No code blocks found\n",
      "List all the known genes directly and indirectly involved in the following biological process or cellular component \"\"\"Soluble ACE2 Mediated Cell Entry Of SARS CoV 2\"\"\". Use the following JSON schema:\n",
      "```json\n",
      "{\n",
      "    \"type\": \"array\",\n",
      "    \"items\": {\n",
      "        \"type\": \"object\",\n",
      "        \"properties\": {\n",
      "            \"gene\": {\n",
      "                \"type\": \"string\",\n",
      "            }\n",
      "        },\n",
      "        \"required\": [\"gene\"]\n",
      "    }\n",
      "}\n",
      "```\n",
      "The field `gene` is a gene involved in the following biological process or cellular component: \"\"\"Soluble ACE2 Mediated Cell Entry Of SARS CoV 2\"\"\". Use the HUGO Gene Nomenclature Committee (HGNC) gene abbreviations. Place the output in a JSON code block. Do not add any comments in the JSON code block.\n",
      "\n",
      "```json\n",
      "[\n",
      "    {\n",
      "        \"gene\": \"ACE2\"\n",
      "    },\n",
      "    {\n",
      "        \"gene\": \"TMPRSS2\"\n",
      "    },\n",
      "    {\n",
      "        \"gene\": \"DPP4\"\n",
      "    },\n",
      "    {\n",
      "        \"gene\": \"FURIN\"\n",
      "    },\n",
      "    {\n",
      "        \"gene\": \"ADAM17\"\n",
      "    },\n",
      "    {\n",
      "        \"gene\": \"B2M\"\n",
      "    },\n",
      "    {\n",
      "        \"gene\": \"CTS\n"
     ]
    },
    {
     "name": "stderr",
     "output_type": "stream",
     "text": [
      "100%|██████████████████████████████████████████████████████████████████████████████████████████████████████████████████████████████| 801/801 [00:46<00:00, 17.18it/s]\n"
     ]
    }
   ],
   "source": [
    "# Generate gene sets for ensembling.\n",
    "aclient = openai.AsyncClient()\n",
    "for model in models:\n",
    "    for lib_name in lib_names:\n",
    "        with open(\"libs_human/\" + model + \"/\" + lib_name + \".json\") as f:\n",
    "            gen_res = json.load(f)\n",
    "            \n",
    "        context = []\n",
    "        for x in gen_res['single_relevant_abstract']:\n",
    "            if len(x) > 0:\n",
    "                context.append(x[0]['abstract'])\n",
    "            else:\n",
    "                context.append(\"\")\n",
    "\n",
    "        \n",
    "        gen_res[\"llm_single_relevant_abstract\"] = await llm2geneset.get_genes_context(aclient,\n",
    "                                                                                      context,\n",
    "                                                                                      gen_res[\"descr_cleaned\"], \n",
    "                                                                                      model=model)\n",
    "        \n",
    "        with open('libs_human/' + model + '/' + lib_name + '.json', 'w') as json_file:\n",
    "            json.dump(gen_res, json_file, indent=4)"
   ]
  }
 ],
 "metadata": {
  "kernelspec": {
   "display_name": "Python 3 (ipykernel)",
   "language": "python",
   "name": "python3"
  },
  "language_info": {
   "codemirror_mode": {
    "name": "ipython",
    "version": 3
   },
   "file_extension": ".py",
   "mimetype": "text/x-python",
   "name": "python",
   "nbconvert_exporter": "python",
   "pygments_lexer": "ipython3",
   "version": "3.12.3"
  }
 },
 "nbformat": 4,
 "nbformat_minor": 5
}
